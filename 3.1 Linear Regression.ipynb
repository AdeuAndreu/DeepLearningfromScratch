{
 "cells": [
  {
   "cell_type": "markdown",
   "metadata": {
    "collapsed": true
   },
   "source": [
    "# A linear regression learning algorithm example using TensorFlow library."
   ]
  },
  {
   "cell_type": "markdown",
   "metadata": {},
   "source": [
    "Linear regression model is one of the simplest regression models. It assumes linear relationship between X and Y. The output equation is defined as follows:\n",
    "$$\\hat{y} = WX + b$$\n"
   ]
  },
  {
   "cell_type": "code",
   "execution_count": 1,
   "metadata": {
    "collapsed": true
   },
   "outputs": [],
   "source": [
    "import numpy as np\n",
    "import matplotlib.pyplot as plt\n",
    "import pandas as pd\n",
    "%matplotlib inline"
   ]
  },
  {
   "cell_type": "code",
   "execution_count": 2,
   "metadata": {
    "collapsed": true
   },
   "outputs": [],
   "source": [
    "#  Training Parameters\n",
    "learning_rate = 1e-1\n",
    "training_epochs = 2000\n",
    "display_step = 200"
   ]
  },
  {
   "cell_type": "code",
   "execution_count": 3,
   "metadata": {
    "collapsed": false
   },
   "outputs": [
    {
     "name": "stdout",
     "output_type": "stream",
     "text": [
      "200\n",
      "(200, 1) (200, 1)\n"
     ]
    },
    {
     "data": {
      "image/png": "[encoded data removed]",
      "text/plain": [
       "<matplotlib.figure.Figure at 0x7f52008a9d90>"
      ]
     },
     "metadata": {},
     "output_type": "display_data"
    }
   ],
   "source": [
    "# Load data. Advertising dataset from \"An Introduction to Statistical Learning\",\n",
    "# textbook by Gareth James, Robert Tibshirani, and Trevor Hastie \n",
    "import numpy as np\n",
    "data = pd.read_csv('dataset/Advertising.csv',index_col=0)\n",
    "train_X = data[['TV']].values \n",
    "\n",
    "train_Y = data.Sales.values \n",
    "train_Y = train_Y[:,np.newaxis]\n",
    "\n",
    "n_samples = train_X.shape[0]\n",
    "print n_samples\n",
    "print train_X.shape, train_Y.shape\n",
    "plt.plot(train_X, train_Y, 'ro', label='Original data')\n",
    "plt.show()"
   ]
  },
  {
   "cell_type": "code",
   "execution_count": 4,
   "metadata": {
    "collapsed": false
   },
   "outputs": [],
   "source": [
    "import tensorflow as tf\n",
    "# Define tf Graph Inputs\n",
    "X = tf.placeholder(\"float\",[None,1])\n",
    "y = tf.placeholder(\"float\",[None,1])\n",
    "\n",
    "# Create Model variables \n",
    "# Set model weights\n",
    "W = tf.Variable(np.random.randn(), name=\"weight\")\n",
    "b = tf.Variable(np.random.randn(), name=\"bias\")\n",
    "\n",
    "# Construct a linear model\n",
    "y_pred = tf.add(tf.mul(X, W), b)"
   ]
  },
  {
   "cell_type": "code",
   "execution_count": 5,
   "metadata": {
    "collapsed": false
   },
   "outputs": [],
   "source": [
    "# Minimize the squared errors\n",
    "cost = tf.reduce_sum(tf.pow(y_pred-y,2))/(2*n_samples) #L2 loss\n",
    "\n",
    "# Define the optimizer\n",
    "optimizer = tf.train.AdamOptimizer(learning_rate).minimize(cost) #Gradient descent"
   ]
  },
  {
   "cell_type": "code",
   "execution_count": 6,
   "metadata": {
    "collapsed": false,
    "scrolled": false
   },
   "outputs": [
    {
     "name": "stdout",
     "output_type": "stream",
     "text": [
      "Epoch: 0001 cost= 11.784294128 W= 0.085883 b= -0.113122\n",
      "Epoch: 0201 cost= 5.516845703 W= 0.0548285 b= 5.59834\n",
      "Epoch: 0401 cost= 5.256753445 W= 0.0478319 b= 6.97454\n",
      "Epoch: 0601 cost= 5.256326675 W= 0.0475391 b= 7.03211\n",
      "Epoch: 0801 cost= 5.256326675 W= 0.0475367 b= 7.03259\n",
      "Epoch: 1001 cost= 5.256326675 W= 0.0475367 b= 7.03259\n",
      "Epoch: 1201 cost= 5.256326675 W= 0.0475367 b= 7.03259\n",
      "Epoch: 1401 cost= 5.256327629 W= 0.0475367 b= 7.03259\n",
      "Epoch: 1601 cost= 5.256326675 W= 0.0475367 b= 7.03259\n",
      "Epoch: 1801 cost= 5.256326675 W= 0.0475367 b= 7.03259\n",
      "Optimization Finished!\n",
      "cost= 5.25679 W= 0.047714 b= 7.03275\n"
     ]
    },
    {
     "data": {
      "image/png": "[encoded data removed]",
      "text/plain": [
       "<matplotlib.figure.Figure at 0x7f51fe3660d0>"
      ]
     },
     "metadata": {},
     "output_type": "display_data"
    }
   ],
   "source": [
    "# Initializing the variables\n",
    "init = tf.initialize_all_variables()\n",
    "# Launch the graph\n",
    "with tf.Session() as sess:\n",
    "    sess.run(init)\n",
    "\n",
    "    # Fit all training data\n",
    "    for epoch in range(training_epochs):\n",
    "        sess.run(optimizer, feed_dict={X: train_X, y: train_Y})       \n",
    "\n",
    "        #Display logs per epoch step\n",
    "        if epoch % display_step == 0:\n",
    "            print \"Epoch:\", '%04d' % (epoch+1), \"cost=\", \\\n",
    "                \"{:.9f}\".format(sess.run(cost, feed_dict={X: train_X, y:train_Y})), \\\n",
    "                \"W=\", sess.run(W), \"b=\", sess.run(b)\n",
    "\n",
    "    print \"Optimization Finished!\"\n",
    "    print \"cost=\", sess.run(cost, feed_dict={X: train_X, y: train_Y}), \\\n",
    "          \"W=\", sess.run(W), \"b=\", sess.run(b)\n",
    "\n",
    "    #Graphic display\n",
    "    plt.plot(train_X, train_Y, 'ro', label='Original data')\n",
    "    plt.plot(train_X, sess.run(W) * train_X + sess.run(b), label='Fitted line')\n",
    "    plt.legend()\n",
    "    plt.show()"
   ]
  },
  {
   "cell_type": "markdown",
   "metadata": {
    "collapsed": true
   },
   "source": [
    "### Multiple Linear Regression\n",
    "Let's use three features as input vector : TV,Radio,Newspaper"
   ]
  },
  {
   "cell_type": "code",
   "execution_count": 7,
   "metadata": {
    "collapsed": true
   },
   "outputs": [],
   "source": [
    "# Parameters\n",
    "learning_rate = 1e-2\n",
    "training_epochs = 2000\n",
    "display_step = 200"
   ]
  },
  {
   "cell_type": "code",
   "execution_count": 8,
   "metadata": {
    "collapsed": false
   },
   "outputs": [
    {
     "name": "stdout",
     "output_type": "stream",
     "text": [
      "200\n",
      "(200, 3) (200, 1)\n"
     ]
    }
   ],
   "source": [
    "import numpy as np\n",
    "data = pd.read_csv('dataset/Advertising.csv',index_col=0)\n",
    "train_X = data[['TV','Radio','Newspaper']].values\n",
    "train_Y = data.Sales.values \n",
    "train_Y = train_Y[:,np.newaxis]\n",
    "n_samples = train_X.shape[0]\n",
    "print n_samples\n",
    "print train_X.shape, train_Y.shape\n"
   ]
  },
  {
   "cell_type": "code",
   "execution_count": 9,
   "metadata": {
    "collapsed": false
   },
   "outputs": [],
   "source": [
    "# Define tf Graph Inputs\n",
    "X = tf.placeholder(\"float\",[None,3])\n",
    "y = tf.placeholder(\"float\",[None,1])\n",
    "\n",
    "# Create Model variables \n",
    "# Set model weights\n",
    "W = tf.Variable(tf.zeros([3, 1]),name=\"bias\")\n",
    "b = tf.Variable(np.random.randn(), name=\"bias\")\n",
    "\n",
    "# Construct a linear model\n",
    "y_pred = tf.matmul(X, W) + b"
   ]
  },
  {
   "cell_type": "code",
   "execution_count": 10,
   "metadata": {
    "collapsed": true
   },
   "outputs": [],
   "source": [
    "# Minimize the squared errors\n",
    "cost = tf.reduce_sum(tf.pow(y_pred-y,2))/(2*n_samples) #L2 loss\n",
    "\n",
    "# Define the optimizer\n",
    "optimizer = tf.train.AdamOptimizer(learning_rate).minimize(cost) #Gradient descent"
   ]
  },
  {
   "cell_type": "code",
   "execution_count": 11,
   "metadata": {
    "collapsed": false
   },
   "outputs": [
    {
     "name": "stdout",
     "output_type": "stream",
     "text": [
      "Epoch: 0001 cost= 82.582122803 W= [[ 0.01]\n",
      " [ 0.01]\n",
      " [ 0.01]] b= -0.0523979\n",
      "Epoch: 0201 cost= 1.893708944 W= [[ 0.05290034]\n",
      " [ 0.21892916]\n",
      " [ 0.01481084]] b= 0.317586\n",
      "Epoch: 0401 cost= 1.733524442 W= [[ 0.05165334]\n",
      " [ 0.21358487]\n",
      " [ 0.01205258]] b= 0.776219\n",
      "Epoch: 0601 cost= 1.595638394 W= [[ 0.05031172]\n",
      " [ 0.20787258]\n",
      " [ 0.00907042]] b= 1.26902\n",
      "Epoch: 0801 cost= 1.499344826 W= [[ 0.04906565]\n",
      " [ 0.20257007]\n",
      " [ 0.00630054]] b= 1.72667\n",
      "Epoch: 1001 cost= 1.441991091 W= [[ 0.04801662]\n",
      " [ 0.1981075 ]\n",
      " [ 0.0039686 ]] b= 2.11191\n",
      "Epoch: 1201 cost= 1.412463188 W= [[ 0.04720414]\n",
      " [ 0.19465184]\n",
      " [ 0.00216249]] b= 2.41028\n",
      "Epoch: 1401 cost= 1.399316430 W= [[ 0.046623  ]\n",
      " [ 0.19218031]\n",
      " [ 0.00087063]] b= 2.62369\n",
      "Epoch: 1601 cost= 1.394282937 W= [[  4.62394804e-02]\n",
      " [  1.90549284e-01]\n",
      " [  1.80471652e-05]] b= 2.76452\n",
      "Epoch: 1801 cost= 1.392640352 W= [[ 0.04600676]\n",
      " [ 0.18955962]\n",
      " [-0.00049928]] b= 2.84998\n",
      "Optimization Finished!\n",
      "cost= 1.39219 W= [[ 0.04587805]\n",
      " [ 0.18901226]\n",
      " [-0.0007854 ]] b= 2.89725\n"
     ]
    }
   ],
   "source": [
    "# Initializing the variables\n",
    "init = tf.initialize_all_variables()\n",
    "# Launch the graph\n",
    "with tf.Session() as sess:\n",
    "    sess.run(init)\n",
    "\n",
    "    # Fit all training data\n",
    "    for epoch in range(training_epochs):\n",
    "        sess.run(optimizer, feed_dict={X: train_X, y: train_Y})\n",
    "        \n",
    "        #Display logs per epoch step\n",
    "        if epoch % display_step == 0:\n",
    "            print \"Epoch:\", '%04d' % (epoch+1), \"cost=\", \\\n",
    "                \"{:.9f}\".format(sess.run(cost, feed_dict={X: train_X, y:train_Y})), \\\n",
    "                \"W=\", sess.run(W), \"b=\", sess.run(b)\n",
    "\n",
    "    print \"Optimization Finished!\"\n",
    "    print \"cost=\", sess.run(cost, feed_dict={X: train_X, y: train_Y}), \\\n",
    "          \"W=\", sess.run(W), \"b=\", sess.run(b)\n",
    "    "
   ]
  },
  {
   "cell_type": "code",
   "execution_count": null,
   "metadata": {
    "collapsed": true
   },
   "outputs": [],
   "source": []
  }
 ],
 "metadata": {
  "kernelspec": {
   "display_name": "Python 2",
   "language": "python",
   "name": "python2"
  },
  "language_info": {
   "codemirror_mode": {
    "name": "ipython",
    "version": 2
   },
   "file_extension": ".py",
   "mimetype": "text/x-python",
   "name": "python",
   "nbconvert_exporter": "python",
   "pygments_lexer": "ipython2",
   "version": "2.7.11"
  }
 },
 "nbformat": 4,
 "nbformat_minor": 0
}
