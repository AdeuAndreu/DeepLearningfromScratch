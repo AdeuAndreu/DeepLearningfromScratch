{
 "cells": [
  {
   "cell_type": "code",
   "execution_count": 2,
   "metadata": {
    "collapsed": false
   },
   "outputs": [],
   "source": [
    "import warnings\n",
    "warnings.filterwarnings('ignore')\n",
    "\n",
    "import numpy as np\n",
    "import seaborn as sns\n",
    "import bokeh.plotting as bp\n",
    "import matplotlib.pyplot as plt\n",
    "from sklearn.datasets.samples_generator import make_regression \n",
    "from scipy import stats \n",
    "from bokeh.models import  WheelZoomTool, ResetTool, PanTool\n",
    "%matplotlib inline"
   ]
  },
  {
   "cell_type": "markdown",
   "metadata": {},
   "source": [
    "# Basic Concepts I\n",
    "\n",
    "## What is \"learning from data\"?\n",
    "\n",
    "> In general **Learning from Data** is a scientific discipline that is concerned with the design and development of algorithms that allow computers to infer (from data) a  model that allows *compact representation* (unsupervised learning) and/or *good generalization* (supervised learning).\n",
    "\n",
    "This is an important technology because it enables computational systems to adaptively improve their performance with experience accumulated from the observed data. \n",
    "\n",
    "Most of these algorithms are based on the *iterative solution* of a mathematical problem that involves data and model. If there was an analytical solution to the problem, this should be the adopted one, but this is not the case for most of the cases.\n",
    "\n",
    "So, the most common strategy for **learning from data** is based on solving a system of equations as a way to find a series of parameters of the model that minimizes a mathematical problem. This is called **optimization**.\n",
    "\n",
    "The most important technique for solving optimization problems is **gradient descend**."
   ]
  },
  {
   "cell_type": "markdown",
   "metadata": {},
   "source": [
    "## Gradient descend (for *hackers*) for function minimization: 1-D\n",
    "\n",
    "Let's suppose that we have a function $f: \\Re \\rightarrow \\Re$. For example: \n",
    "\n",
    "$$f(x) = x^2$$\n",
    "\n",
    "Our objective is to find the argument  $x$ that minimizes this function (for maximization, consider $-f(x)$). To this end, the critical concept is the **derivative**.\n",
    "\n",
    "The derivative of $f$ of a variable $x$, $f'(x)$ or $\\frac{\\mathrm{d}f}{\\mathrm{d}x}$,  is a measure of the rate at which the value of the function changes with respect to the change of the variable. It is defined as the following limit:\n",
    "\n",
    "\n",
    "$$ f'(x) = \\lim_{h \\rightarrow 0} \\frac{f(x + h) - f(x)}{h} $$\n",
    "\n",
    "The derivative specifies how to scale a small change in the input in order to obtain the corresponding change in the output: \n",
    "\n",
    "$$ f(x + h) \\approx f(x) + h f'(x)$$"
   ]
  },
  {
   "cell_type": "code",
   "execution_count": 3,
   "metadata": {
    "collapsed": false
   },
   "outputs": [
    {
     "name": "stdout",
     "output_type": "stream",
     "text": [
      "4.0000\n"
     ]
    }
   ],
   "source": [
    "# numerical derivative at a point x\n",
    "\n",
    "def f(x):\n",
    "    return x**2\n",
    "\n",
    "def fin_dif(x, f, h = 0.00001):\n",
    "    return (f(x+h) - f(x))/h\n",
    "\n",
    "x = 2.0\n",
    "print \"{:3.4f}\".format(fin_dif(x,f))"
   ]
  },
  {
   "cell_type": "markdown",
   "metadata": {},
   "source": [
    "The limit as $h$ approaches zero, if it exists, should represent the **slope of the tangent line** to $(x, f(x))$. \n",
    "\n",
    "For values that are not zero it is only an approximation."
   ]
  },
  {
   "cell_type": "code",
   "execution_count": 4,
   "metadata": {
    "collapsed": false
   },
   "outputs": [
    {
     "name": "stdout",
     "output_type": "stream",
     "text": [
      "25.000000 25.000000\n",
      "27.562500 27.500002\n",
      "30.250000 30.000005\n",
      "33.062500 32.500007\n",
      "36.000000 35.000010\n"
     ]
    }
   ],
   "source": [
    "for h in np.linspace(0.0, 1.0 , 5):\n",
    "    print \"{:3.6f}\".format(f(5+h)), \"{:3.6f}\".format(f(5)+h*fin_dif(5,f))"
   ]
  },
  {
   "cell_type": "code",
   "execution_count": 5,
   "metadata": {
    "collapsed": false
   },
   "outputs": [
    {
     "data": {
      "text/plain": [
       "<function matplotlib.pyplot.show>"
      ]
     },
     "execution_count": 5,
     "metadata": {},
     "output_type": "execute_result"
    },
    {
     "data": {
      "image/png": "[encoded data removed]",
      "text/plain": [
       "<matplotlib.figure.Figure at 0x10351e150>"
      ]
     },
     "metadata": {},
     "output_type": "display_data"
    }
   ],
   "source": [
    "x = np.linspace(-1.5,-0.5, 100)\n",
    "f = [i**2 for i in x]\n",
    "plt.plot(x,f, 'r-')\n",
    "plt.plot([-1.5, -0.5], [2, 0.0], 'k-', lw=2)\n",
    "plt.plot([-1.4, -1.0], [1.96, 1.0], 'b-', lw=2)\n",
    "plt.plot([-1],[1],'o')\n",
    "plt.plot([-1.4],[1.96],'o')\n",
    "plt.text(-1.0, 1.2, r'$x,f(x)$')\n",
    "plt.text(-1.4, 2.2, r'$(x-h),f(x-h)$')\n",
    "plt.gcf().set_size_inches((12,6))\n",
    "plt.grid()\n",
    "plt.show"
   ]
  },
  {
   "cell_type": "markdown",
   "metadata": {},
   "source": [
    "It can be shown that the “centered difference formula\" is better when computing numerical derivatives:\n",
    "\n",
    "$$ \\lim_{h \\rightarrow 0} \\frac{f(x + h) - f(x - h)}{2h} $$\n",
    "\n",
    "The error in the \"finite difference\" approximation can be derived from Taylor's theorem and, assuming that $f$ is differentiable, is $O(h)$. In the case of “centered difference\" the error is $O(h^2)$."
   ]
  },
  {
   "cell_type": "markdown",
   "metadata": {},
   "source": [
    "The derivative tells how to chage $x$ in order to make a small improvement in $f$. \n",
    "\n",
    "Then, we can follow these steps to decrease the value of the function:\n",
    "\n",
    "+ Start from a random $x$ value.\n",
    "+ Compute the derivative $f'(x) = \\lim_{h \\rightarrow 0} \\frac{f(x + h) - f(x - h)}{2h}$.\n",
    "+ Walk a small step in the **opposite** direction of the derivative, because we know that $f(x - h \\mbox{ sign}(f'(x))$ is less than $f(x)$ for  small enough $h$. \n",
    "\n",
    "The search for the minima ends when the derivative is zero because we have no more information about which direction to move. $x$ is a critical o stationary point if $f'(x)=0$. \n",
    "\n",
    " + A **minimum (maximum)** is a critical point where $f(x)$ is lower (higher) than at all neighboring points. \n",
    " + There is a third class of critical points: **saddle points**.\n",
    "\n",
    "If $f$ is a **convex function**, this should be the minimum (maximum) of our functions. In other cases it could be a local minimum (maximum) or a saddle point."
   ]
  },
  {
   "cell_type": "code",
   "execution_count": 6,
   "metadata": {
    "collapsed": false
   },
   "outputs": [
    {
     "data": {
      "text/html": [
       "\n",
       "    <div class=\"bk-banner\">\n",
       "        <a href=\"http://bokeh.pydata.org\" target=\"_blank\" class=\"bk-logo bk-logo-small bk-logo-notebook\"></a>\n",
       "        <span id=\"5dbf6879-e45e-4076-942e-268994076309\">Loading BokehJS ...</span>\n",
       "    </div>"
      ]
     },
     "metadata": {},
     "output_type": "display_data"
    },
    {
     "data": {
      "application/javascript": [
       "\n",
       "(function(global) {\n",
       "  function now() {\n",
       "    return new Date();\n",
       "  }\n",
       "\n",
       "  if (typeof (window._bokeh_onload_callbacks) === \"undefined\") {\n",
       "    window._bokeh_onload_callbacks = [];\n",
       "  }\n",
       "\n",
       "  function run_callbacks() {\n",
       "    window._bokeh_onload_callbacks.forEach(function(callback) { callback() });\n",
       "    delete window._bokeh_onload_callbacks\n",
       "    console.info(\"Bokeh: all callbacks have finished\");\n",
       "  }\n",
       "\n",
       "  function load_libs(js_urls, callback) {\n",
       "    window._bokeh_onload_callbacks.push(callback);\n",
       "    if (window._bokeh_is_loading > 0) {\n",
       "      console.log(\"Bokeh: BokehJS is being loaded, scheduling callback at\", now());\n",
       "      return null;\n",
       "    }\n",
       "    if (js_urls == null || js_urls.length === 0) {\n",
       "      run_callbacks();\n",
       "      return null;\n",
       "    }\n",
       "    console.log(\"Bokeh: BokehJS not loaded, scheduling load and callback at\", now());\n",
       "    window._bokeh_is_loading = js_urls.length;\n",
       "    for (var i = 0; i < js_urls.length; i++) {\n",
       "      var url = js_urls[i];\n",
       "      var s = document.createElement('script');\n",
       "      s.src = url;\n",
       "      s.async = false;\n",
       "      s.onreadystatechange = s.onload = function() {\n",
       "        window._bokeh_is_loading--;\n",
       "        if (window._bokeh_is_loading === 0) {\n",
       "          console.log(\"Bokeh: all BokehJS libraries loaded\");\n",
       "          run_callbacks()\n",
       "        }\n",
       "      };\n",
       "      s.onerror = function() {\n",
       "        console.warn(\"failed to load library \" + url);\n",
       "      };\n",
       "      console.log(\"Bokeh: injecting script tag for BokehJS library: \", url);\n",
       "      document.getElementsByTagName(\"head\")[0].appendChild(s);\n",
       "    }\n",
       "  };\n",
       "\n",
       "  var js_urls = ['https://cdn.pydata.org/bokeh/release/bokeh-0.11.1.min.js', 'https://cdn.pydata.org/bokeh/release/bokeh-widgets-0.11.1.min.js', 'https://cdn.pydata.org/bokeh/release/bokeh-compiler-0.11.1.min.js'];\n",
       "\n",
       "  var inline_js = [\n",
       "    function(Bokeh) {\n",
       "      Bokeh.set_log_level(\"info\");\n",
       "    },\n",
       "    \n",
       "    function(Bokeh) {\n",
       "      Bokeh.$(\"#5dbf6879-e45e-4076-942e-268994076309\").text(\"BokehJS successfully loaded\");\n",
       "    },\n",
       "    function(Bokeh) {\n",
       "      console.log(\"Bokeh: injecting CSS: https://cdn.pydata.org/bokeh/release/bokeh-0.11.1.min.css\");\n",
       "      Bokeh.embed.inject_css(\"https://cdn.pydata.org/bokeh/release/bokeh-0.11.1.min.css\");\n",
       "      console.log(\"Bokeh: injecting CSS: https://cdn.pydata.org/bokeh/release/bokeh-widgets-0.11.1.min.css\");\n",
       "      Bokeh.embed.inject_css(\"https://cdn.pydata.org/bokeh/release/bokeh-widgets-0.11.1.min.css\");\n",
       "    }\n",
       "  ];\n",
       "\n",
       "  function run_inline_js() {\n",
       "    for (var i = 0; i < inline_js.length; i++) {\n",
       "      inline_js[i](window.Bokeh);\n",
       "    }\n",
       "  }\n",
       "\n",
       "  if (window._bokeh_is_loading === 0) {\n",
       "    console.log(\"Bokeh: BokehJS loaded, going straight to plotting\");\n",
       "    run_inline_js();\n",
       "  } else {\n",
       "    load_libs(js_urls, function() {\n",
       "      console.log(\"Bokeh: BokehJS plotting callback run at\", now());\n",
       "      run_inline_js();\n",
       "    });\n",
       "  }\n",
       "}(this));"
      ]
     },
     "metadata": {},
     "output_type": "display_data"
    }
   ],
   "source": [
    "W = 400\n",
    "H = 250\n",
    "bp.output_notebook()"
   ]
  },
  {
   "cell_type": "code",
   "execution_count": 7,
   "metadata": {
    "collapsed": false
   },
   "outputs": [
    {
     "data": {
      "text/html": [
       "\n",
       "\n",
       "    <div class=\"plotdiv\" id=\"dd803193-83cf-45d5-9942-aa01496d4a3b\"></div>\n",
       "<script type=\"text/javascript\">\n",
       "  \n",
       "  (function(global) {\n",
       "    function now() {\n",
       "      return new Date();\n",
       "    }\n",
       "  \n",
       "    if (typeof (window._bokeh_onload_callbacks) === \"undefined\") {\n",
       "      window._bokeh_onload_callbacks = [];\n",
       "    }\n",
       "  \n",
       "    function run_callbacks() {\n",
       "      window._bokeh_onload_callbacks.forEach(function(callback) { callback() });\n",
       "      delete window._bokeh_onload_callbacks\n",
       "      console.info(\"Bokeh: all callbacks have finished\");\n",
       "    }\n",
       "  \n",
       "    function load_libs(js_urls, callback) {\n",
       "      window._bokeh_onload_callbacks.push(callback);\n",
       "      if (window._bokeh_is_loading > 0) {\n",
       "        console.log(\"Bokeh: BokehJS is being loaded, scheduling callback at\", now());\n",
       "        return null;\n",
       "      }\n",
       "      if (js_urls == null || js_urls.length === 0) {\n",
       "        run_callbacks();\n",
       "        return null;\n",
       "      }\n",
       "      console.log(\"Bokeh: BokehJS not loaded, scheduling load and callback at\", now());\n",
       "      window._bokeh_is_loading = js_urls.length;\n",
       "      for (var i = 0; i < js_urls.length; i++) {\n",
       "        var url = js_urls[i];\n",
       "        var s = document.createElement('script');\n",
       "        s.src = url;\n",
       "        s.async = false;\n",
       "        s.onreadystatechange = s.onload = function() {\n",
       "          window._bokeh_is_loading--;\n",
       "          if (window._bokeh_is_loading === 0) {\n",
       "            console.log(\"Bokeh: all BokehJS libraries loaded\");\n",
       "            run_callbacks()\n",
       "          }\n",
       "        };\n",
       "        s.onerror = function() {\n",
       "          console.warn(\"failed to load library \" + url);\n",
       "        };\n",
       "        console.log(\"Bokeh: injecting script tag for BokehJS library: \", url);\n",
       "        document.getElementsByTagName(\"head\")[0].appendChild(s);\n",
       "      }\n",
       "    };var element = document.getElementById(\"dd803193-83cf-45d5-9942-aa01496d4a3b\");\n",
       "    if (element == null) {\n",
       "      console.log(\"Bokeh: ERROR: autoload.js configured with elementid 'dd803193-83cf-45d5-9942-aa01496d4a3b' but no matching script tag was found. \")\n",
       "      return false;\n",
       "    }\n",
       "  \n",
       "    var js_urls = [];\n",
       "  \n",
       "    var inline_js = [\n",
       "      function(Bokeh) {\n",
       "        Bokeh.$(function() {\n",
       "            var docs_json = {\"55ab2302-41e7-490e-add3-7ac5d3de1fa1\":{\"roots\":{\"references\":[{\"attributes\":{\"axis_label_text_font_size\":{\"value\":\"14pt\"},\"formatter\":{\"id\":\"27f677ce-32ea-461f-bcdc-a1554e622fb0\",\"type\":\"BasicTickFormatter\"},\"plot\":{\"id\":\"8264275a-b390-4442-bb4c-bf5c2d7d4544\",\"subtype\":\"Figure\",\"type\":\"Plot\"},\"ticker\":{\"id\":\"e9afce5c-172d-4cdf-985b-ea065451086d\",\"type\":\"BasicTicker\"}},\"id\":\"06060d9e-da3e-4422-bc77-c3f307c39ff4\",\"type\":\"LinearAxis\"},{\"attributes\":{},\"id\":\"8f588507-12b8-420c-bdc3-0d0be698afd8\",\"type\":\"ToolEvents\"},{\"attributes\":{\"plot\":{\"id\":\"8264275a-b390-4442-bb4c-bf5c2d7d4544\",\"subtype\":\"Figure\",\"type\":\"Plot\"}},\"id\":\"d3a8b4d6-7ba5-4b51-939a-480d4e921890\",\"type\":\"WheelZoomTool\"},{\"attributes\":{\"line_alpha\":{\"value\":0.1},\"line_color\":{\"value\":\"#1f77b4\"},\"line_width\":{\"value\":3},\"x\":{\"field\":\"x\"},\"y\":{\"field\":\"y\"}},\"id\":\"8ab6ad89-d817-4399-81b6-833bf615de5e\",\"type\":\"Line\"},{\"attributes\":{\"plot\":{\"id\":\"8264275a-b390-4442-bb4c-bf5c2d7d4544\",\"subtype\":\"Figure\",\"type\":\"Plot\"}},\"id\":\"332d3a32-5e88-4047-bd55-e93e64423f64\",\"type\":\"ResetTool\"},{\"attributes\":{\"plot\":{\"id\":\"8264275a-b390-4442-bb4c-bf5c2d7d4544\",\"subtype\":\"Figure\",\"type\":\"Plot\"},\"ticker\":{\"id\":\"1bf7ba6b-5466-499e-adf4-7cf6ac70e6c9\",\"type\":\"BasicTicker\"}},\"id\":\"c0713088-150e-4574-8e73-eacd2eb24f6b\",\"type\":\"Grid\"},{\"attributes\":{\"below\":[{\"id\":\"bdca23c1-f57b-422a-b916-a1c931c61a4a\",\"type\":\"LinearAxis\"}],\"left\":[{\"id\":\"06060d9e-da3e-4422-bc77-c3f307c39ff4\",\"type\":\"LinearAxis\"}],\"plot_height\":250,\"plot_width\":400,\"renderers\":[{\"id\":\"bdca23c1-f57b-422a-b916-a1c931c61a4a\",\"type\":\"LinearAxis\"},{\"id\":\"c0713088-150e-4574-8e73-eacd2eb24f6b\",\"type\":\"Grid\"},{\"id\":\"06060d9e-da3e-4422-bc77-c3f307c39ff4\",\"type\":\"LinearAxis\"},{\"id\":\"732b2540-ad09-4864-8b05-3b1650d9d094\",\"type\":\"Grid\"},{\"id\":\"495828d9-feb6-470e-b771-63933a422f20\",\"type\":\"GlyphRenderer\"},{\"id\":\"af573154-9bb6-4ee7-a3e4-4ba25e86364b\",\"type\":\"GlyphRenderer\"}],\"title\":\"Local minimum of function\",\"title_text_font_size\":{\"value\":\"12pt\"},\"tool_events\":{\"id\":\"8f588507-12b8-420c-bdc3-0d0be698afd8\",\"type\":\"ToolEvents\"},\"tools\":[{\"id\":\"d3a8b4d6-7ba5-4b51-939a-480d4e921890\",\"type\":\"WheelZoomTool\"},{\"id\":\"332d3a32-5e88-4047-bd55-e93e64423f64\",\"type\":\"ResetTool\"},{\"id\":\"dd7ad3e5-cb8c-448a-9aa0-354377f4285d\",\"type\":\"PanTool\"}],\"x_range\":{\"id\":\"1ae1bbec-15ea-480d-9f66-648aa4fee149\",\"type\":\"DataRange1d\"},\"y_range\":{\"id\":\"cfb57749-8962-401e-8655-4cadd7b4e8cc\",\"type\":\"DataRange1d\"}},\"id\":\"8264275a-b390-4442-bb4c-bf5c2d7d4544\",\"subtype\":\"Figure\",\"type\":\"Plot\"},{\"attributes\":{\"callback\":null},\"id\":\"b3225a98-728b-42ac-9de2-f929e7fb7f31\",\"type\":\"ColumnDataSource\"},{\"attributes\":{},\"id\":\"1bf7ba6b-5466-499e-adf4-7cf6ac70e6c9\",\"type\":\"BasicTicker\"},{\"attributes\":{\"plot\":{\"id\":\"8264275a-b390-4442-bb4c-bf5c2d7d4544\",\"subtype\":\"Figure\",\"type\":\"Plot\"}},\"id\":\"dd7ad3e5-cb8c-448a-9aa0-354377f4285d\",\"type\":\"PanTool\"},{\"attributes\":{\"dimension\":1,\"plot\":{\"id\":\"8264275a-b390-4442-bb4c-bf5c2d7d4544\",\"subtype\":\"Figure\",\"type\":\"Plot\"},\"ticker\":{\"id\":\"e9afce5c-172d-4cdf-985b-ea065451086d\",\"type\":\"BasicTicker\"}},\"id\":\"732b2540-ad09-4864-8b05-3b1650d9d094\",\"type\":\"Grid\"},{\"attributes\":{\"axis_label_text_font_size\":{\"value\":\"14pt\"},\"formatter\":{\"id\":\"e0bc0d96-87d1-42c3-9ae3-3e9981b1aaee\",\"type\":\"BasicTickFormatter\"},\"plot\":{\"id\":\"8264275a-b390-4442-bb4c-bf5c2d7d4544\",\"subtype\":\"Figure\",\"type\":\"Plot\"},\"ticker\":{\"id\":\"1bf7ba6b-5466-499e-adf4-7cf6ac70e6c9\",\"type\":\"BasicTicker\"}},\"id\":\"bdca23c1-f57b-422a-b916-a1c931c61a4a\",\"type\":\"LinearAxis\"},{\"attributes\":{\"callback\":null,\"column_names\":[\"x\",\"y\"],\"data\":{\"x\":[-15.0,-14.696969696969697,-14.393939393939394,-14.09090909090909,-13.787878787878787,-13.484848484848484,-13.181818181818182,-12.878787878787879,-12.575757575757576,-12.272727272727273,-11.969696969696969,-11.666666666666666,-11.363636363636363,-11.06060606060606,-10.757575757575758,-10.454545454545453,-10.151515151515152,-9.848484848484848,-9.545454545454545,-9.242424242424242,-8.93939393939394,-8.636363636363637,-8.333333333333332,-8.030303030303031,-7.727272727272727,-7.424242424242424,-7.121212121212121,-6.818181818181818,-6.515151515151516,-6.212121212121211,-5.909090909090908,-5.6060606060606055,-5.303030303030303,-5.0,-4.696969696969697,-4.3939393939393945,-4.09090909090909,-3.787878787878787,-3.4848484848484844,-3.1818181818181817,-2.878787878787879,-2.575757575757576,-2.2727272727272716,-1.9696969696969688,-1.666666666666666,-1.3636363636363633,-1.0606060606060606,-0.7575757575757578,-0.45454545454545325,-0.1515151515151505,0.15151515151515227,0.45454545454545503,0.7575757575757578,1.0606060606060623,1.3636363636363633,1.6666666666666679,1.9696969696969688,2.2727272727272734,2.575757575757578,2.878787878787879,3.1818181818181834,3.4848484848484844,3.787878787878789,4.09090909090909,4.3939393939393945,4.696969696969699,5.0,5.3030303030303045,5.6060606060606055,5.90909090909091,6.212121212121211,6.515151515151516,6.81818181818182,7.121212121212121,7.424242424242426,7.727272727272727,8.030303030303031,8.333333333333336,8.636363636363637,8.939393939393941,9.242424242424242,9.545454545454547,9.848484848484848,10.151515151515152,10.454545454545457,10.757575757575758,11.060606060606062,11.363636363636363,11.666666666666668,11.969696969696969,12.272727272727273,12.575757575757578,12.878787878787879,13.181818181818183,13.484848484848484,13.787878787878789,14.090909090909093,14.393939393939394,14.696969696969699,15.0],\"y\":[225.0,216.00091827364557,207.18549127640037,198.55371900826444,190.10560146923783,181.84113865932048,173.7603305785124,165.8631772268136,158.14967860422408,150.61983471074382,143.2736455463728,136.1111111111111,129.13223140495867,122.33700642791551,115.72543617998164,109.297520661157,103.05325987144171,96.99265381083562,91.11570247933884,85.42240587695133,79.91276400367309,74.58677685950414,69.44444444444443,64.48576675849405,59.71074380165288,55.119375573921026,50.711662075298435,46.48760330578513,42.44719926538109,38.5904499540863,34.91735537190082,31.427915518824605,28.122130394857663,25.0,22.061524334251608,19.306703397612495,16.73553719008264,14.34802571166207,12.144168962350777,10.12396694214876,8.287419651056016,6.634527089072545,5.165289256198342,3.879706152433422,2.777777777777776,1.859504132231404,1.1248852157943066,0.5739210284664833,0.2066115702479327,0.02295684113865901,0.022956841138659548,0.20661157024793433,0.5739210284664833,1.1248852157943103,1.859504132231404,2.7777777777777817,3.879706152433422,5.16528925619835,6.634527089072555,8.287419651056016,10.12396694214877,12.144168962350777,14.348025711662084,16.73553719008264,19.306703397612495,22.061524334251626,25.0,28.122130394857685,31.427915518824605,34.91735537190084,38.5904499540863,42.44719926538109,46.48760330578515,50.711662075298435,55.11937557392105,59.71074380165288,64.48576675849405,69.44444444444449,74.58677685950414,79.91276400367313,85.42240587695133,91.11570247933886,96.99265381083562,103.05325987144171,109.29752066115707,115.72543617998164,122.33700642791555,129.13223140495867,136.11111111111114,143.2736455463728,150.61983471074382,158.1496786042241,165.8631772268136,173.76033057851245,181.84113865932048,190.10560146923785,198.55371900826452,207.18549127640037,216.0009182736456,225.0]}},\"id\":\"0038b08c-2b20-49be-ba1f-5a678e37eba4\",\"type\":\"ColumnDataSource\"},{\"attributes\":{},\"id\":\"e0bc0d96-87d1-42c3-9ae3-3e9981b1aaee\",\"type\":\"BasicTickFormatter\"},{\"attributes\":{\"fill_color\":{\"value\":\"orange\"},\"line_color\":{\"value\":\"orange\"},\"size\":{\"units\":\"screen\",\"value\":10},\"x\":{\"value\":0},\"y\":{\"value\":0}},\"id\":\"19fc54c0-0997-4b20-aaee-6def83d35156\",\"type\":\"Circle\"},{\"attributes\":{},\"id\":\"e9afce5c-172d-4cdf-985b-ea065451086d\",\"type\":\"BasicTicker\"},{\"attributes\":{\"callback\":null},\"id\":\"cfb57749-8962-401e-8655-4cadd7b4e8cc\",\"type\":\"DataRange1d\"},{\"attributes\":{\"data_source\":{\"id\":\"b3225a98-728b-42ac-9de2-f929e7fb7f31\",\"type\":\"ColumnDataSource\"},\"glyph\":{\"id\":\"19fc54c0-0997-4b20-aaee-6def83d35156\",\"type\":\"Circle\"},\"hover_glyph\":null,\"nonselection_glyph\":{\"id\":\"cb24636e-47f3-4dbf-ad89-8f8a0f00b081\",\"type\":\"Circle\"},\"selection_glyph\":null},\"id\":\"af573154-9bb6-4ee7-a3e4-4ba25e86364b\",\"type\":\"GlyphRenderer\"},{\"attributes\":{},\"id\":\"27f677ce-32ea-461f-bcdc-a1554e622fb0\",\"type\":\"BasicTickFormatter\"},{\"attributes\":{\"line_alpha\":{\"value\":0.5},\"line_color\":{\"value\":\"navy\"},\"line_width\":{\"value\":3},\"x\":{\"field\":\"x\"},\"y\":{\"field\":\"y\"}},\"id\":\"a7708b2d-b899-460b-9b6e-abeee1d1f166\",\"type\":\"Line\"},{\"attributes\":{\"fill_alpha\":{\"value\":0.1},\"fill_color\":{\"value\":\"#1f77b4\"},\"line_alpha\":{\"value\":0.1},\"line_color\":{\"value\":\"#1f77b4\"},\"size\":{\"units\":\"screen\",\"value\":10},\"x\":{\"value\":0},\"y\":{\"value\":0}},\"id\":\"cb24636e-47f3-4dbf-ad89-8f8a0f00b081\",\"type\":\"Circle\"},{\"attributes\":{\"data_source\":{\"id\":\"0038b08c-2b20-49be-ba1f-5a678e37eba4\",\"type\":\"ColumnDataSource\"},\"glyph\":{\"id\":\"a7708b2d-b899-460b-9b6e-abeee1d1f166\",\"type\":\"Line\"},\"hover_glyph\":null,\"nonselection_glyph\":{\"id\":\"8ab6ad89-d817-4399-81b6-833bf615de5e\",\"type\":\"Line\"},\"selection_glyph\":null},\"id\":\"495828d9-feb6-470e-b771-63933a422f20\",\"type\":\"GlyphRenderer\"},{\"attributes\":{\"callback\":null},\"id\":\"1ae1bbec-15ea-480d-9f66-648aa4fee149\",\"type\":\"DataRange1d\"}],\"root_ids\":[\"8264275a-b390-4442-bb4c-bf5c2d7d4544\"]},\"title\":\"Bokeh Application\",\"version\":\"0.11.1\"}};\n",
       "            var render_items = [{\"docid\":\"55ab2302-41e7-490e-add3-7ac5d3de1fa1\",\"elementid\":\"dd803193-83cf-45d5-9942-aa01496d4a3b\",\"modelid\":\"8264275a-b390-4442-bb4c-bf5c2d7d4544\",\"notebook_comms_target\":\"ce91e556-e5e9-4a38-98ee-a6e63cc64da0\"}];\n",
       "            \n",
       "            Bokeh.embed.embed_items(docs_json, render_items);\n",
       "        });\n",
       "      },\n",
       "      function(Bokeh) {\n",
       "      }\n",
       "    ];\n",
       "  \n",
       "    function run_inline_js() {\n",
       "      for (var i = 0; i < inline_js.length; i++) {\n",
       "        inline_js[i](window.Bokeh);\n",
       "      }\n",
       "    }\n",
       "  \n",
       "    if (window._bokeh_is_loading === 0) {\n",
       "      console.log(\"Bokeh: BokehJS loaded, going straight to plotting\");\n",
       "      run_inline_js();\n",
       "    } else {\n",
       "      load_libs(js_urls, function() {\n",
       "        console.log(\"Bokeh: BokehJS plotting callback run at\", now());\n",
       "        run_inline_js();\n",
       "      });\n",
       "    }\n",
       "  }(this));\n",
       "</script>"
      ]
     },
     "metadata": {},
     "output_type": "display_data"
    },
    {
     "data": {
      "text/html": [
       "<p><code>&lt;Bokeh Notebook handle for <strong>In[7]</strong>&gt;</code></p>"
      ],
      "text/plain": [
       "<bokeh.io._CommsHandle at 0x117c6cb50>"
      ]
     },
     "execution_count": 7,
     "metadata": {},
     "output_type": "execute_result"
    }
   ],
   "source": [
    "x = np.linspace(-15,15,100)\n",
    "y = x**2\n",
    "\n",
    "TOOLS = [WheelZoomTool(), ResetTool(), PanTool()]\n",
    "\n",
    "s1 = bp.figure(width=W, plot_height=H, \n",
    "               title='Local minimum of function',  \n",
    "               tools=TOOLS)\n",
    "s1.line(x, y, color=\"navy\", alpha=0.5, line_width=3)\n",
    "s1.circle(0, 0, size =10, color=\"orange\")\n",
    "s1.title_text_font_size = '12pt'\n",
    "s1.yaxis.axis_label_text_font_size = \"14pt\"\n",
    "s1.xaxis.axis_label_text_font_size = \"14pt\"\n",
    "\n",
    "bp.show(s1)"
   ]
  },
  {
   "cell_type": "code",
   "execution_count": 8,
   "metadata": {
    "collapsed": false
   },
   "outputs": [
    {
     "data": {
      "text/html": [
       "\n",
       "\n",
       "    <div class=\"plotdiv\" id=\"3fce55b8-6a2f-4a2a-8c4d-15f4e3af191c\"></div>\n",
       "<script type=\"text/javascript\">\n",
       "  \n",
       "  (function(global) {\n",
       "    function now() {\n",
       "      return new Date();\n",
       "    }\n",
       "  \n",
       "    if (typeof (window._bokeh_onload_callbacks) === \"undefined\") {\n",
       "      window._bokeh_onload_callbacks = [];\n",
       "    }\n",
       "  \n",
       "    function run_callbacks() {\n",
       "      window._bokeh_onload_callbacks.forEach(function(callback) { callback() });\n",
       "      delete window._bokeh_onload_callbacks\n",
       "      console.info(\"Bokeh: all callbacks have finished\");\n",
       "    }\n",
       "  \n",
       "    function load_libs(js_urls, callback) {\n",
       "      window._bokeh_onload_callbacks.push(callback);\n",
       "      if (window._bokeh_is_loading > 0) {\n",
       "        console.log(\"Bokeh: BokehJS is being loaded, scheduling callback at\", now());\n",
       "        return null;\n",
       "      }\n",
       "      if (js_urls == null || js_urls.length === 0) {\n",
       "        run_callbacks();\n",
       "        return null;\n",
       "      }\n",
       "      console.log(\"Bokeh: BokehJS not loaded, scheduling load and callback at\", now());\n",
       "      window._bokeh_is_loading = js_urls.length;\n",
       "      for (var i = 0; i < js_urls.length; i++) {\n",
       "        var url = js_urls[i];\n",
       "        var s = document.createElement('script');\n",
       "        s.src = url;\n",
       "        s.async = false;\n",
       "        s.onreadystatechange = s.onload = function() {\n",
       "          window._bokeh_is_loading--;\n",
       "          if (window._bokeh_is_loading === 0) {\n",
       "            console.log(\"Bokeh: all BokehJS libraries loaded\");\n",
       "            run_callbacks()\n",
       "          }\n",
       "        };\n",
       "        s.onerror = function() {\n",
       "          console.warn(\"failed to load library \" + url);\n",
       "        };\n",
       "        console.log(\"Bokeh: injecting script tag for BokehJS library: \", url);\n",
       "        document.getElementsByTagName(\"head\")[0].appendChild(s);\n",
       "      }\n",
       "    };var element = document.getElementById(\"3fce55b8-6a2f-4a2a-8c4d-15f4e3af191c\");\n",
       "    if (element == null) {\n",
       "      console.log(\"Bokeh: ERROR: autoload.js configured with elementid '3fce55b8-6a2f-4a2a-8c4d-15f4e3af191c' but no matching script tag was found. \")\n",
       "      return false;\n",
       "    }\n",
       "  \n",
       "    var js_urls = [];\n",
       "  \n",
       "    var inline_js = [\n",
       "      function(Bokeh) {\n",
       "        Bokeh.$(function() {\n",
       "            var docs_json = {\"7a0622c6-90e6-4f8a-bfde-173c20280a26\":{\"roots\":{\"references\":[{\"attributes\":{\"line_alpha\":{\"value\":0.5},\"line_color\":{\"value\":\"navy\"},\"line_width\":{\"value\":3},\"x\":{\"field\":\"x\"},\"y\":{\"field\":\"y\"}},\"id\":\"547c4976-d370-48eb-84b9-1fcce6965517\",\"type\":\"Line\"},{\"attributes\":{\"axis_label_text_font_size\":{\"value\":\"14pt\"},\"formatter\":{\"id\":\"27f677ce-32ea-461f-bcdc-a1554e622fb0\",\"type\":\"BasicTickFormatter\"},\"plot\":{\"id\":\"8264275a-b390-4442-bb4c-bf5c2d7d4544\",\"subtype\":\"Figure\",\"type\":\"Plot\"},\"ticker\":{\"id\":\"e9afce5c-172d-4cdf-985b-ea065451086d\",\"type\":\"BasicTicker\"}},\"id\":\"06060d9e-da3e-4422-bc77-c3f307c39ff4\",\"type\":\"LinearAxis\"},{\"attributes\":{},\"id\":\"8f588507-12b8-420c-bdc3-0d0be698afd8\",\"type\":\"ToolEvents\"},{\"attributes\":{\"plot\":{\"id\":\"8264275a-b390-4442-bb4c-bf5c2d7d4544\",\"subtype\":\"Figure\",\"type\":\"Plot\"}},\"id\":\"d3a8b4d6-7ba5-4b51-939a-480d4e921890\",\"type\":\"WheelZoomTool\"},{\"attributes\":{},\"id\":\"e2c4cbfc-a1e0-4819-a82d-66885021f7aa\",\"type\":\"BasicTickFormatter\"},{\"attributes\":{\"line_alpha\":{\"value\":0.1},\"line_color\":{\"value\":\"#1f77b4\"},\"line_width\":{\"value\":3},\"x\":{\"field\":\"x\"},\"y\":{\"field\":\"y\"}},\"id\":\"8ab6ad89-d817-4399-81b6-833bf615de5e\",\"type\":\"Line\"},{\"attributes\":{\"data_source\":{\"id\":\"81595931-53c6-408d-93fd-ff11292f1a40\",\"type\":\"ColumnDataSource\"},\"glyph\":{\"id\":\"7555d007-1fe6-49be-bc57-5297f324e7d5\",\"type\":\"Circle\"},\"hover_glyph\":null,\"nonselection_glyph\":{\"id\":\"54f52dad-3213-4383-a27b-11bec3384dca\",\"type\":\"Circle\"},\"selection_glyph\":null},\"id\":\"a3c34fdb-07c0-4e35-96ec-edb93b089dea\",\"type\":\"GlyphRenderer\"},{\"attributes\":{\"plot\":{\"id\":\"dcd1d8b5-e0aa-4a1f-ae91-0c8a50fabb01\",\"subtype\":\"Figure\",\"type\":\"Plot\"},\"ticker\":{\"id\":\"af22d204-a11c-4a24-b7a3-b7dec41ce7e6\",\"type\":\"BasicTicker\"}},\"id\":\"5967a76c-b680-41df-868f-ab6e379ece96\",\"type\":\"Grid\"},{\"attributes\":{\"plot\":{\"id\":\"8264275a-b390-4442-bb4c-bf5c2d7d4544\",\"subtype\":\"Figure\",\"type\":\"Plot\"}},\"id\":\"332d3a32-5e88-4047-bd55-e93e64423f64\",\"type\":\"ResetTool\"},{\"attributes\":{\"callback\":null},\"id\":\"4d599ee9-4953-485f-9d52-d284898423e1\",\"type\":\"DataRange1d\"},{\"attributes\":{\"axis_label_text_font_size\":{\"value\":\"14pt\"},\"formatter\":{\"id\":\"e2c4cbfc-a1e0-4819-a82d-66885021f7aa\",\"type\":\"BasicTickFormatter\"},\"plot\":{\"id\":\"dcd1d8b5-e0aa-4a1f-ae91-0c8a50fabb01\",\"subtype\":\"Figure\",\"type\":\"Plot\"},\"ticker\":{\"id\":\"af22d204-a11c-4a24-b7a3-b7dec41ce7e6\",\"type\":\"BasicTicker\"}},\"id\":\"d879ab90-609f-44e0-bd0a-5bd039e6f5b2\",\"type\":\"LinearAxis\"},{\"attributes\":{\"below\":[{\"id\":\"d879ab90-609f-44e0-bd0a-5bd039e6f5b2\",\"type\":\"LinearAxis\"}],\"left\":[{\"id\":\"a62f2b63-6350-4b54-b59f-49f44baba190\",\"type\":\"LinearAxis\"}],\"plot_height\":250,\"plot_width\":400,\"renderers\":[{\"id\":\"d879ab90-609f-44e0-bd0a-5bd039e6f5b2\",\"type\":\"LinearAxis\"},{\"id\":\"5967a76c-b680-41df-868f-ab6e379ece96\",\"type\":\"Grid\"},{\"id\":\"a62f2b63-6350-4b54-b59f-49f44baba190\",\"type\":\"LinearAxis\"},{\"id\":\"03520f6f-e102-4d29-8f75-f6e854ce89cc\",\"type\":\"Grid\"},{\"id\":\"cd407637-0bf6-4627-9c15-aa955d4bbd7b\",\"type\":\"GlyphRenderer\"},{\"id\":\"a3c34fdb-07c0-4e35-96ec-edb93b089dea\",\"type\":\"GlyphRenderer\"}],\"title\":\"Local maximum of function\",\"title_text_font_size\":{\"value\":\"12pt\"},\"tool_events\":{\"id\":\"f44f05eb-2261-41cf-ba1e-d3d35f0402e9\",\"type\":\"ToolEvents\"},\"tools\":[{\"id\":\"708baf6d-5c48-4121-a0b2-9d477dbea908\",\"type\":\"WheelZoomTool\"},{\"id\":\"78299cde-ba74-4fa0-afc1-ec3aa8732940\",\"type\":\"ResetTool\"},{\"id\":\"569b8fe6-3f0a-4cbc-941d-ce8d7c72bca0\",\"type\":\"PanTool\"}],\"x_range\":{\"id\":\"d9e41e06-ed9b-4cdc-94e7-8f22c31cac56\",\"type\":\"DataRange1d\"},\"y_range\":{\"id\":\"4d599ee9-4953-485f-9d52-d284898423e1\",\"type\":\"DataRange1d\"}},\"id\":\"dcd1d8b5-e0aa-4a1f-ae91-0c8a50fabb01\",\"subtype\":\"Figure\",\"type\":\"Plot\"},{\"attributes\":{\"plot\":{\"id\":\"8264275a-b390-4442-bb4c-bf5c2d7d4544\",\"subtype\":\"Figure\",\"type\":\"Plot\"},\"ticker\":{\"id\":\"1bf7ba6b-5466-499e-adf4-7cf6ac70e6c9\",\"type\":\"BasicTicker\"}},\"id\":\"c0713088-150e-4574-8e73-eacd2eb24f6b\",\"type\":\"Grid\"},{\"attributes\":{},\"id\":\"f44f05eb-2261-41cf-ba1e-d3d35f0402e9\",\"type\":\"ToolEvents\"},{\"attributes\":{\"line_alpha\":{\"value\":0.1},\"line_color\":{\"value\":\"#1f77b4\"},\"line_width\":{\"value\":3},\"x\":{\"field\":\"x\"},\"y\":{\"field\":\"y\"}},\"id\":\"1c40b622-a919-4f3e-b7ed-960da1ca927d\",\"type\":\"Line\"},{\"attributes\":{\"below\":[{\"id\":\"bdca23c1-f57b-422a-b916-a1c931c61a4a\",\"type\":\"LinearAxis\"}],\"left\":[{\"id\":\"06060d9e-da3e-4422-bc77-c3f307c39ff4\",\"type\":\"LinearAxis\"}],\"plot_height\":250,\"plot_width\":400,\"renderers\":[{\"id\":\"bdca23c1-f57b-422a-b916-a1c931c61a4a\",\"type\":\"LinearAxis\"},{\"id\":\"c0713088-150e-4574-8e73-eacd2eb24f6b\",\"type\":\"Grid\"},{\"id\":\"06060d9e-da3e-4422-bc77-c3f307c39ff4\",\"type\":\"LinearAxis\"},{\"id\":\"732b2540-ad09-4864-8b05-3b1650d9d094\",\"type\":\"Grid\"},{\"id\":\"495828d9-feb6-470e-b771-63933a422f20\",\"type\":\"GlyphRenderer\"},{\"id\":\"af573154-9bb6-4ee7-a3e4-4ba25e86364b\",\"type\":\"GlyphRenderer\"}],\"title\":\"Local minimum of function\",\"title_text_font_size\":{\"value\":\"12pt\"},\"tool_events\":{\"id\":\"8f588507-12b8-420c-bdc3-0d0be698afd8\",\"type\":\"ToolEvents\"},\"tools\":[{\"id\":\"d3a8b4d6-7ba5-4b51-939a-480d4e921890\",\"type\":\"WheelZoomTool\"},{\"id\":\"332d3a32-5e88-4047-bd55-e93e64423f64\",\"type\":\"ResetTool\"},{\"id\":\"dd7ad3e5-cb8c-448a-9aa0-354377f4285d\",\"type\":\"PanTool\"}],\"x_range\":{\"id\":\"1ae1bbec-15ea-480d-9f66-648aa4fee149\",\"type\":\"DataRange1d\"},\"y_range\":{\"id\":\"cfb57749-8962-401e-8655-4cadd7b4e8cc\",\"type\":\"DataRange1d\"}},\"id\":\"8264275a-b390-4442-bb4c-bf5c2d7d4544\",\"subtype\":\"Figure\",\"type\":\"Plot\"},{\"attributes\":{\"callback\":null},\"id\":\"b3225a98-728b-42ac-9de2-f929e7fb7f31\",\"type\":\"ColumnDataSource\"},{\"attributes\":{},\"id\":\"1bf7ba6b-5466-499e-adf4-7cf6ac70e6c9\",\"type\":\"BasicTicker\"},{\"attributes\":{\"plot\":{\"id\":\"8264275a-b390-4442-bb4c-bf5c2d7d4544\",\"subtype\":\"Figure\",\"type\":\"Plot\"}},\"id\":\"dd7ad3e5-cb8c-448a-9aa0-354377f4285d\",\"type\":\"PanTool\"},{\"attributes\":{\"dimension\":1,\"plot\":{\"id\":\"8264275a-b390-4442-bb4c-bf5c2d7d4544\",\"subtype\":\"Figure\",\"type\":\"Plot\"},\"ticker\":{\"id\":\"e9afce5c-172d-4cdf-985b-ea065451086d\",\"type\":\"BasicTicker\"}},\"id\":\"732b2540-ad09-4864-8b05-3b1650d9d094\",\"type\":\"Grid\"},{\"attributes\":{},\"id\":\"af20d824-9b30-4ae7-ba6f-52a6d7fddc07\",\"type\":\"BasicTicker\"},{\"attributes\":{\"callback\":null},\"id\":\"81595931-53c6-408d-93fd-ff11292f1a40\",\"type\":\"ColumnDataSource\"},{\"attributes\":{},\"id\":\"27f677ce-32ea-461f-bcdc-a1554e622fb0\",\"type\":\"BasicTickFormatter\"},{\"attributes\":{\"data_source\":{\"id\":\"e33d1db5-278e-480e-aaad-6d89f0c8ec12\",\"type\":\"ColumnDataSource\"},\"glyph\":{\"id\":\"547c4976-d370-48eb-84b9-1fcce6965517\",\"type\":\"Line\"},\"hover_glyph\":null,\"nonselection_glyph\":{\"id\":\"1c40b622-a919-4f3e-b7ed-960da1ca927d\",\"type\":\"Line\"},\"selection_glyph\":null},\"id\":\"cd407637-0bf6-4627-9c15-aa955d4bbd7b\",\"type\":\"GlyphRenderer\"},{\"attributes\":{\"axis_label_text_font_size\":{\"value\":\"14pt\"},\"formatter\":{\"id\":\"478aeb47-9bde-434c-81ac-feb078642e9a\",\"type\":\"BasicTickFormatter\"},\"plot\":{\"id\":\"dcd1d8b5-e0aa-4a1f-ae91-0c8a50fabb01\",\"subtype\":\"Figure\",\"type\":\"Plot\"},\"ticker\":{\"id\":\"af20d824-9b30-4ae7-ba6f-52a6d7fddc07\",\"type\":\"BasicTicker\"}},\"id\":\"a62f2b63-6350-4b54-b59f-49f44baba190\",\"type\":\"LinearAxis\"},{\"attributes\":{\"axis_label_text_font_size\":{\"value\":\"14pt\"},\"formatter\":{\"id\":\"e0bc0d96-87d1-42c3-9ae3-3e9981b1aaee\",\"type\":\"BasicTickFormatter\"},\"plot\":{\"id\":\"8264275a-b390-4442-bb4c-bf5c2d7d4544\",\"subtype\":\"Figure\",\"type\":\"Plot\"},\"ticker\":{\"id\":\"1bf7ba6b-5466-499e-adf4-7cf6ac70e6c9\",\"type\":\"BasicTicker\"}},\"id\":\"bdca23c1-f57b-422a-b916-a1c931c61a4a\",\"type\":\"LinearAxis\"},{\"attributes\":{\"plot\":{\"id\":\"dcd1d8b5-e0aa-4a1f-ae91-0c8a50fabb01\",\"subtype\":\"Figure\",\"type\":\"Plot\"}},\"id\":\"569b8fe6-3f0a-4cbc-941d-ce8d7c72bca0\",\"type\":\"PanTool\"},{\"attributes\":{\"callback\":null,\"column_names\":[\"x\",\"y\"],\"data\":{\"x\":[-15.0,-14.696969696969697,-14.393939393939394,-14.09090909090909,-13.787878787878787,-13.484848484848484,-13.181818181818182,-12.878787878787879,-12.575757575757576,-12.272727272727273,-11.969696969696969,-11.666666666666666,-11.363636363636363,-11.06060606060606,-10.757575757575758,-10.454545454545453,-10.151515151515152,-9.848484848484848,-9.545454545454545,-9.242424242424242,-8.93939393939394,-8.636363636363637,-8.333333333333332,-8.030303030303031,-7.727272727272727,-7.424242424242424,-7.121212121212121,-6.818181818181818,-6.515151515151516,-6.212121212121211,-5.909090909090908,-5.6060606060606055,-5.303030303030303,-5.0,-4.696969696969697,-4.3939393939393945,-4.09090909090909,-3.787878787878787,-3.4848484848484844,-3.1818181818181817,-2.878787878787879,-2.575757575757576,-2.2727272727272716,-1.9696969696969688,-1.666666666666666,-1.3636363636363633,-1.0606060606060606,-0.7575757575757578,-0.45454545454545325,-0.1515151515151505,0.15151515151515227,0.45454545454545503,0.7575757575757578,1.0606060606060623,1.3636363636363633,1.6666666666666679,1.9696969696969688,2.2727272727272734,2.575757575757578,2.878787878787879,3.1818181818181834,3.4848484848484844,3.787878787878789,4.09090909090909,4.3939393939393945,4.696969696969699,5.0,5.3030303030303045,5.6060606060606055,5.90909090909091,6.212121212121211,6.515151515151516,6.81818181818182,7.121212121212121,7.424242424242426,7.727272727272727,8.030303030303031,8.333333333333336,8.636363636363637,8.939393939393941,9.242424242424242,9.545454545454547,9.848484848484848,10.151515151515152,10.454545454545457,10.757575757575758,11.060606060606062,11.363636363636363,11.666666666666668,11.969696969696969,12.272727272727273,12.575757575757578,12.878787878787879,13.181818181818183,13.484848484848484,13.787878787878789,14.090909090909093,14.393939393939394,14.696969696969699,15.0],\"y\":[225.0,216.00091827364557,207.18549127640037,198.55371900826444,190.10560146923783,181.84113865932048,173.7603305785124,165.8631772268136,158.14967860422408,150.61983471074382,143.2736455463728,136.1111111111111,129.13223140495867,122.33700642791551,115.72543617998164,109.297520661157,103.05325987144171,96.99265381083562,91.11570247933884,85.42240587695133,79.91276400367309,74.58677685950414,69.44444444444443,64.48576675849405,59.71074380165288,55.119375573921026,50.711662075298435,46.48760330578513,42.44719926538109,38.5904499540863,34.91735537190082,31.427915518824605,28.122130394857663,25.0,22.061524334251608,19.306703397612495,16.73553719008264,14.34802571166207,12.144168962350777,10.12396694214876,8.287419651056016,6.634527089072545,5.165289256198342,3.879706152433422,2.777777777777776,1.859504132231404,1.1248852157943066,0.5739210284664833,0.2066115702479327,0.02295684113865901,0.022956841138659548,0.20661157024793433,0.5739210284664833,1.1248852157943103,1.859504132231404,2.7777777777777817,3.879706152433422,5.16528925619835,6.634527089072555,8.287419651056016,10.12396694214877,12.144168962350777,14.348025711662084,16.73553719008264,19.306703397612495,22.061524334251626,25.0,28.122130394857685,31.427915518824605,34.91735537190084,38.5904499540863,42.44719926538109,46.48760330578515,50.711662075298435,55.11937557392105,59.71074380165288,64.48576675849405,69.44444444444449,74.58677685950414,79.91276400367313,85.42240587695133,91.11570247933886,96.99265381083562,103.05325987144171,109.29752066115707,115.72543617998164,122.33700642791555,129.13223140495867,136.11111111111114,143.2736455463728,150.61983471074382,158.1496786042241,165.8631772268136,173.76033057851245,181.84113865932048,190.10560146923785,198.55371900826452,207.18549127640037,216.0009182736456,225.0]}},\"id\":\"0038b08c-2b20-49be-ba1f-5a678e37eba4\",\"type\":\"ColumnDataSource\"},{\"attributes\":{\"plot\":{\"id\":\"dcd1d8b5-e0aa-4a1f-ae91-0c8a50fabb01\",\"subtype\":\"Figure\",\"type\":\"Plot\"}},\"id\":\"78299cde-ba74-4fa0-afc1-ec3aa8732940\",\"type\":\"ResetTool\"},{\"attributes\":{},\"id\":\"e0bc0d96-87d1-42c3-9ae3-3e9981b1aaee\",\"type\":\"BasicTickFormatter\"},{\"attributes\":{\"fill_color\":{\"value\":\"orange\"},\"line_color\":{\"value\":\"orange\"},\"size\":{\"units\":\"screen\",\"value\":10},\"x\":{\"value\":0},\"y\":{\"value\":0}},\"id\":\"19fc54c0-0997-4b20-aaee-6def83d35156\",\"type\":\"Circle\"},{\"attributes\":{\"fill_color\":{\"value\":\"orange\"},\"line_color\":{\"value\":\"orange\"},\"size\":{\"units\":\"screen\",\"value\":10},\"x\":{\"value\":0},\"y\":{\"value\":0}},\"id\":\"7555d007-1fe6-49be-bc57-5297f324e7d5\",\"type\":\"Circle\"},{\"attributes\":{\"callback\":null},\"id\":\"d9e41e06-ed9b-4cdc-94e7-8f22c31cac56\",\"type\":\"DataRange1d\"},{\"attributes\":{},\"id\":\"478aeb47-9bde-434c-81ac-feb078642e9a\",\"type\":\"BasicTickFormatter\"},{\"attributes\":{\"callback\":null},\"id\":\"cfb57749-8962-401e-8655-4cadd7b4e8cc\",\"type\":\"DataRange1d\"},{\"attributes\":{\"data_source\":{\"id\":\"b3225a98-728b-42ac-9de2-f929e7fb7f31\",\"type\":\"ColumnDataSource\"},\"glyph\":{\"id\":\"19fc54c0-0997-4b20-aaee-6def83d35156\",\"type\":\"Circle\"},\"hover_glyph\":null,\"nonselection_glyph\":{\"id\":\"cb24636e-47f3-4dbf-ad89-8f8a0f00b081\",\"type\":\"Circle\"},\"selection_glyph\":null},\"id\":\"af573154-9bb6-4ee7-a3e4-4ba25e86364b\",\"type\":\"GlyphRenderer\"},{\"attributes\":{\"fill_alpha\":{\"value\":0.1},\"fill_color\":{\"value\":\"#1f77b4\"},\"line_alpha\":{\"value\":0.1},\"line_color\":{\"value\":\"#1f77b4\"},\"size\":{\"units\":\"screen\",\"value\":10},\"x\":{\"value\":0},\"y\":{\"value\":0}},\"id\":\"54f52dad-3213-4383-a27b-11bec3384dca\",\"type\":\"Circle\"},{\"attributes\":{\"dimension\":1,\"plot\":{\"id\":\"dcd1d8b5-e0aa-4a1f-ae91-0c8a50fabb01\",\"subtype\":\"Figure\",\"type\":\"Plot\"},\"ticker\":{\"id\":\"af20d824-9b30-4ae7-ba6f-52a6d7fddc07\",\"type\":\"BasicTicker\"}},\"id\":\"03520f6f-e102-4d29-8f75-f6e854ce89cc\",\"type\":\"Grid\"},{\"attributes\":{\"line_alpha\":{\"value\":0.5},\"line_color\":{\"value\":\"navy\"},\"line_width\":{\"value\":3},\"x\":{\"field\":\"x\"},\"y\":{\"field\":\"y\"}},\"id\":\"a7708b2d-b899-460b-9b6e-abeee1d1f166\",\"type\":\"Line\"},{\"attributes\":{\"fill_alpha\":{\"value\":0.1},\"fill_color\":{\"value\":\"#1f77b4\"},\"line_alpha\":{\"value\":0.1},\"line_color\":{\"value\":\"#1f77b4\"},\"size\":{\"units\":\"screen\",\"value\":10},\"x\":{\"value\":0},\"y\":{\"value\":0}},\"id\":\"cb24636e-47f3-4dbf-ad89-8f8a0f00b081\",\"type\":\"Circle\"},{\"attributes\":{},\"id\":\"e9afce5c-172d-4cdf-985b-ea065451086d\",\"type\":\"BasicTicker\"},{\"attributes\":{},\"id\":\"af22d204-a11c-4a24-b7a3-b7dec41ce7e6\",\"type\":\"BasicTicker\"},{\"attributes\":{\"data_source\":{\"id\":\"0038b08c-2b20-49be-ba1f-5a678e37eba4\",\"type\":\"ColumnDataSource\"},\"glyph\":{\"id\":\"a7708b2d-b899-460b-9b6e-abeee1d1f166\",\"type\":\"Line\"},\"hover_glyph\":null,\"nonselection_glyph\":{\"id\":\"8ab6ad89-d817-4399-81b6-833bf615de5e\",\"type\":\"Line\"},\"selection_glyph\":null},\"id\":\"495828d9-feb6-470e-b771-63933a422f20\",\"type\":\"GlyphRenderer\"},{\"attributes\":{\"plot\":{\"id\":\"dcd1d8b5-e0aa-4a1f-ae91-0c8a50fabb01\",\"subtype\":\"Figure\",\"type\":\"Plot\"}},\"id\":\"708baf6d-5c48-4121-a0b2-9d477dbea908\",\"type\":\"WheelZoomTool\"},{\"attributes\":{\"callback\":null},\"id\":\"1ae1bbec-15ea-480d-9f66-648aa4fee149\",\"type\":\"DataRange1d\"},{\"attributes\":{\"callback\":null,\"column_names\":[\"x\",\"y\"],\"data\":{\"x\":[-15.0,-14.696969696969697,-14.393939393939394,-14.09090909090909,-13.787878787878787,-13.484848484848484,-13.181818181818182,-12.878787878787879,-12.575757575757576,-12.272727272727273,-11.969696969696969,-11.666666666666666,-11.363636363636363,-11.06060606060606,-10.757575757575758,-10.454545454545453,-10.151515151515152,-9.848484848484848,-9.545454545454545,-9.242424242424242,-8.93939393939394,-8.636363636363637,-8.333333333333332,-8.030303030303031,-7.727272727272727,-7.424242424242424,-7.121212121212121,-6.818181818181818,-6.515151515151516,-6.212121212121211,-5.909090909090908,-5.6060606060606055,-5.303030303030303,-5.0,-4.696969696969697,-4.3939393939393945,-4.09090909090909,-3.787878787878787,-3.4848484848484844,-3.1818181818181817,-2.878787878787879,-2.575757575757576,-2.2727272727272716,-1.9696969696969688,-1.666666666666666,-1.3636363636363633,-1.0606060606060606,-0.7575757575757578,-0.45454545454545325,-0.1515151515151505,0.15151515151515227,0.45454545454545503,0.7575757575757578,1.0606060606060623,1.3636363636363633,1.6666666666666679,1.9696969696969688,2.2727272727272734,2.575757575757578,2.878787878787879,3.1818181818181834,3.4848484848484844,3.787878787878789,4.09090909090909,4.3939393939393945,4.696969696969699,5.0,5.3030303030303045,5.6060606060606055,5.90909090909091,6.212121212121211,6.515151515151516,6.81818181818182,7.121212121212121,7.424242424242426,7.727272727272727,8.030303030303031,8.333333333333336,8.636363636363637,8.939393939393941,9.242424242424242,9.545454545454547,9.848484848484848,10.151515151515152,10.454545454545457,10.757575757575758,11.060606060606062,11.363636363636363,11.666666666666668,11.969696969696969,12.272727272727273,12.575757575757578,12.878787878787879,13.181818181818183,13.484848484848484,13.787878787878789,14.090909090909093,14.393939393939394,14.696969696969699,15.0],\"y\":[-225.0,-216.00091827364557,-207.18549127640037,-198.55371900826444,-190.10560146923783,-181.84113865932048,-173.7603305785124,-165.8631772268136,-158.14967860422408,-150.61983471074382,-143.2736455463728,-136.1111111111111,-129.13223140495867,-122.33700642791551,-115.72543617998164,-109.297520661157,-103.05325987144171,-96.99265381083562,-91.11570247933884,-85.42240587695133,-79.91276400367309,-74.58677685950414,-69.44444444444443,-64.48576675849405,-59.71074380165288,-55.119375573921026,-50.711662075298435,-46.48760330578513,-42.44719926538109,-38.5904499540863,-34.91735537190082,-31.427915518824605,-28.122130394857663,-25.0,-22.061524334251608,-19.306703397612495,-16.73553719008264,-14.34802571166207,-12.144168962350777,-10.12396694214876,-8.287419651056016,-6.634527089072545,-5.165289256198342,-3.879706152433422,-2.777777777777776,-1.859504132231404,-1.1248852157943066,-0.5739210284664833,-0.2066115702479327,-0.02295684113865901,-0.022956841138659548,-0.20661157024793433,-0.5739210284664833,-1.1248852157943103,-1.859504132231404,-2.7777777777777817,-3.879706152433422,-5.16528925619835,-6.634527089072555,-8.287419651056016,-10.12396694214877,-12.144168962350777,-14.348025711662084,-16.73553719008264,-19.306703397612495,-22.061524334251626,-25.0,-28.122130394857685,-31.427915518824605,-34.91735537190084,-38.5904499540863,-42.44719926538109,-46.48760330578515,-50.711662075298435,-55.11937557392105,-59.71074380165288,-64.48576675849405,-69.44444444444449,-74.58677685950414,-79.91276400367313,-85.42240587695133,-91.11570247933886,-96.99265381083562,-103.05325987144171,-109.29752066115707,-115.72543617998164,-122.33700642791555,-129.13223140495867,-136.11111111111114,-143.2736455463728,-150.61983471074382,-158.1496786042241,-165.8631772268136,-173.76033057851245,-181.84113865932048,-190.10560146923785,-198.55371900826452,-207.18549127640037,-216.0009182736456,-225.0]}},\"id\":\"e33d1db5-278e-480e-aaad-6d89f0c8ec12\",\"type\":\"ColumnDataSource\"}],\"root_ids\":[\"8264275a-b390-4442-bb4c-bf5c2d7d4544\",\"dcd1d8b5-e0aa-4a1f-ae91-0c8a50fabb01\"]},\"title\":\"Bokeh Application\",\"version\":\"0.11.1\"}};\n",
       "            var render_items = [{\"docid\":\"7a0622c6-90e6-4f8a-bfde-173c20280a26\",\"elementid\":\"3fce55b8-6a2f-4a2a-8c4d-15f4e3af191c\",\"modelid\":\"dcd1d8b5-e0aa-4a1f-ae91-0c8a50fabb01\",\"notebook_comms_target\":\"1aaaee47-a411-4a53-9af5-8471b1d506a5\"}];\n",
       "            \n",
       "            Bokeh.embed.embed_items(docs_json, render_items);\n",
       "        });\n",
       "      },\n",
       "      function(Bokeh) {\n",
       "      }\n",
       "    ];\n",
       "  \n",
       "    function run_inline_js() {\n",
       "      for (var i = 0; i < inline_js.length; i++) {\n",
       "        inline_js[i](window.Bokeh);\n",
       "      }\n",
       "    }\n",
       "  \n",
       "    if (window._bokeh_is_loading === 0) {\n",
       "      console.log(\"Bokeh: BokehJS loaded, going straight to plotting\");\n",
       "      run_inline_js();\n",
       "    } else {\n",
       "      load_libs(js_urls, function() {\n",
       "        console.log(\"Bokeh: BokehJS plotting callback run at\", now());\n",
       "        run_inline_js();\n",
       "      });\n",
       "    }\n",
       "  }(this));\n",
       "</script>"
      ]
     },
     "metadata": {},
     "output_type": "display_data"
    },
    {
     "data": {
      "text/html": [
       "<p><code>&lt;Bokeh Notebook handle for <strong>In[8]</strong>&gt;</code></p>"
      ],
      "text/plain": [
       "<bokeh.io._CommsHandle at 0x117c842d0>"
      ]
     },
     "execution_count": 8,
     "metadata": {},
     "output_type": "execute_result"
    }
   ],
   "source": [
    "x = np.linspace(-15,15,100)\n",
    "y = -x**2\n",
    "\n",
    "TOOLS = [WheelZoomTool(), ResetTool(), PanTool()]\n",
    "\n",
    "\n",
    "s1 = bp.figure(width=W, plot_height=H, \n",
    "               title='Local maximum of function',  \n",
    "               tools=TOOLS)\n",
    "s1.line(x, y, color=\"navy\", alpha=0.5, line_width=3)\n",
    "s1.circle(0, 0, size =10, color=\"orange\")\n",
    "s1.title_text_font_size = '12pt'\n",
    "s1.yaxis.axis_label_text_font_size = \"14pt\"\n",
    "s1.xaxis.axis_label_text_font_size = \"14pt\"\n",
    "\n",
    "bp.show(s1)"
   ]
  },
  {
   "cell_type": "code",
   "execution_count": 9,
   "metadata": {
    "collapsed": false
   },
   "outputs": [
    {
     "data": {
      "text/html": [
       "\n",
       "\n",
       "    <div class=\"plotdiv\" id=\"d1c992f5-7beb-476e-be18-c6d7fdf8153c\"></div>\n",
       "<script type=\"text/javascript\">\n",
       "  \n",
       "  (function(global) {\n",
       "    function now() {\n",
       "      return new Date();\n",
       "    }\n",
       "  \n",
       "    if (typeof (window._bokeh_onload_callbacks) === \"undefined\") {\n",
       "      window._bokeh_onload_callbacks = [];\n",
       "    }\n",
       "  \n",
       "    function run_callbacks() {\n",
       "      window._bokeh_onload_callbacks.forEach(function(callback) { callback() });\n",
       "      delete window._bokeh_onload_callbacks\n",
       "      console.info(\"Bokeh: all callbacks have finished\");\n",
       "    }\n",
       "  \n",
       "    function load_libs(js_urls, callback) {\n",
       "      window._bokeh_onload_callbacks.push(callback);\n",
       "      if (window._bokeh_is_loading > 0) {\n",
       "        console.log(\"Bokeh: BokehJS is being loaded, scheduling callback at\", now());\n",
       "        return null;\n",
       "      }\n",
       "      if (js_urls == null || js_urls.length === 0) {\n",
       "        run_callbacks();\n",
       "        return null;\n",
       "      }\n",
       "      console.log(\"Bokeh: BokehJS not loaded, scheduling load and callback at\", now());\n",
       "      window._bokeh_is_loading = js_urls.length;\n",
       "      for (var i = 0; i < js_urls.length; i++) {\n",
       "        var url = js_urls[i];\n",
       "        var s = document.createElement('script');\n",
       "        s.src = url;\n",
       "        s.async = false;\n",
       "        s.onreadystatechange = s.onload = function() {\n",
       "          window._bokeh_is_loading--;\n",
       "          if (window._bokeh_is_loading === 0) {\n",
       "            console.log(\"Bokeh: all BokehJS libraries loaded\");\n",
       "            run_callbacks()\n",
       "          }\n",
       "        };\n",
       "        s.onerror = function() {\n",
       "          console.warn(\"failed to load library \" + url);\n",
       "        };\n",
       "        console.log(\"Bokeh: injecting script tag for BokehJS library: \", url);\n",
       "        document.getElementsByTagName(\"head\")[0].appendChild(s);\n",
       "      }\n",
       "    };var element = document.getElementById(\"d1c992f5-7beb-476e-be18-c6d7fdf8153c\");\n",
       "    if (element == null) {\n",
       "      console.log(\"Bokeh: ERROR: autoload.js configured with elementid 'd1c992f5-7beb-476e-be18-c6d7fdf8153c' but no matching script tag was found. \")\n",
       "      return false;\n",
       "    }\n",
       "  \n",
       "    var js_urls = [];\n",
       "  \n",
       "    var inline_js = [\n",
       "      function(Bokeh) {\n",
       "        Bokeh.$(function() {\n",
       "            var docs_json = {\"95851106-50ed-4f14-ab6c-f66db4c26d41\":{\"roots\":{\"references\":[{\"attributes\":{\"line_alpha\":{\"value\":0.5},\"line_color\":{\"value\":\"navy\"},\"line_width\":{\"value\":3},\"x\":{\"field\":\"x\"},\"y\":{\"field\":\"y\"}},\"id\":\"547c4976-d370-48eb-84b9-1fcce6965517\",\"type\":\"Line\"},{\"attributes\":{\"axis_label_text_font_size\":{\"value\":\"14pt\"},\"formatter\":{\"id\":\"27f677ce-32ea-461f-bcdc-a1554e622fb0\",\"type\":\"BasicTickFormatter\"},\"plot\":{\"id\":\"8264275a-b390-4442-bb4c-bf5c2d7d4544\",\"subtype\":\"Figure\",\"type\":\"Plot\"},\"ticker\":{\"id\":\"e9afce5c-172d-4cdf-985b-ea065451086d\",\"type\":\"BasicTicker\"}},\"id\":\"06060d9e-da3e-4422-bc77-c3f307c39ff4\",\"type\":\"LinearAxis\"},{\"attributes\":{},\"id\":\"8f588507-12b8-420c-bdc3-0d0be698afd8\",\"type\":\"ToolEvents\"},{\"attributes\":{\"line_alpha\":{\"value\":0.5},\"line_color\":{\"value\":\"navy\"},\"line_width\":{\"value\":3},\"x\":{\"field\":\"x\"},\"y\":{\"field\":\"y\"}},\"id\":\"eb37e89b-6099-4d07-8b69-934158b2d1ae\",\"type\":\"Line\"},{\"attributes\":{\"plot\":{\"id\":\"8264275a-b390-4442-bb4c-bf5c2d7d4544\",\"subtype\":\"Figure\",\"type\":\"Plot\"}},\"id\":\"d3a8b4d6-7ba5-4b51-939a-480d4e921890\",\"type\":\"WheelZoomTool\"},{\"attributes\":{\"callback\":null},\"id\":\"2891479f-b0c3-4e2e-b665-4f8d95fb75e0\",\"type\":\"DataRange1d\"},{\"attributes\":{},\"id\":\"e2c4cbfc-a1e0-4819-a82d-66885021f7aa\",\"type\":\"BasicTickFormatter\"},{\"attributes\":{\"line_alpha\":{\"value\":0.1},\"line_color\":{\"value\":\"#1f77b4\"},\"line_width\":{\"value\":3},\"x\":{\"field\":\"x\"},\"y\":{\"field\":\"y\"}},\"id\":\"8ab6ad89-d817-4399-81b6-833bf615de5e\",\"type\":\"Line\"},{\"attributes\":{\"data_source\":{\"id\":\"81595931-53c6-408d-93fd-ff11292f1a40\",\"type\":\"ColumnDataSource\"},\"glyph\":{\"id\":\"7555d007-1fe6-49be-bc57-5297f324e7d5\",\"type\":\"Circle\"},\"hover_glyph\":null,\"nonselection_glyph\":{\"id\":\"54f52dad-3213-4383-a27b-11bec3384dca\",\"type\":\"Circle\"},\"selection_glyph\":null},\"id\":\"a3c34fdb-07c0-4e35-96ec-edb93b089dea\",\"type\":\"GlyphRenderer\"},{\"attributes\":{\"plot\":{\"id\":\"dcd1d8b5-e0aa-4a1f-ae91-0c8a50fabb01\",\"subtype\":\"Figure\",\"type\":\"Plot\"},\"ticker\":{\"id\":\"af22d204-a11c-4a24-b7a3-b7dec41ce7e6\",\"type\":\"BasicTicker\"}},\"id\":\"5967a76c-b680-41df-868f-ab6e379ece96\",\"type\":\"Grid\"},{\"attributes\":{\"axis_label_text_font_size\":{\"value\":\"14pt\"},\"formatter\":{\"id\":\"ef680ef2-7026-40bf-8d7d-0280b5c9140b\",\"type\":\"BasicTickFormatter\"},\"plot\":{\"id\":\"b3c7f24f-7e8a-449b-abf0-1d7b1fbe6005\",\"subtype\":\"Figure\",\"type\":\"Plot\"},\"ticker\":{\"id\":\"ace60afd-ae8d-45b3-8231-38d76aa7c863\",\"type\":\"BasicTicker\"}},\"id\":\"53d62889-30d7-46d3-97ab-74f1342c1d09\",\"type\":\"LinearAxis\"},{\"attributes\":{\"callback\":null},\"id\":\"4d599ee9-4953-485f-9d52-d284898423e1\",\"type\":\"DataRange1d\"},{\"attributes\":{\"line_alpha\":{\"value\":0.1},\"line_color\":{\"value\":\"#1f77b4\"},\"line_width\":{\"value\":3},\"x\":{\"field\":\"x\"},\"y\":{\"field\":\"y\"}},\"id\":\"359fcdd8-76ff-40a3-95b0-482c565f816d\",\"type\":\"Line\"},{\"attributes\":{\"plot\":{\"id\":\"b3c7f24f-7e8a-449b-abf0-1d7b1fbe6005\",\"subtype\":\"Figure\",\"type\":\"Plot\"}},\"id\":\"67b1fc25-47fe-4525-b093-683bbbf72bf3\",\"type\":\"WheelZoomTool\"},{\"attributes\":{},\"id\":\"c569ddf3-75bc-4cb8-9d19-c0131038d05f\",\"type\":\"ToolEvents\"},{\"attributes\":{\"callback\":null,\"column_names\":[\"x\",\"y\"],\"data\":{\"x\":[-15.0,-14.696969696969697,-14.393939393939394,-14.09090909090909,-13.787878787878787,-13.484848484848484,-13.181818181818182,-12.878787878787879,-12.575757575757576,-12.272727272727273,-11.969696969696969,-11.666666666666666,-11.363636363636363,-11.06060606060606,-10.757575757575758,-10.454545454545453,-10.151515151515152,-9.848484848484848,-9.545454545454545,-9.242424242424242,-8.93939393939394,-8.636363636363637,-8.333333333333332,-8.030303030303031,-7.727272727272727,-7.424242424242424,-7.121212121212121,-6.818181818181818,-6.515151515151516,-6.212121212121211,-5.909090909090908,-5.6060606060606055,-5.303030303030303,-5.0,-4.696969696969697,-4.3939393939393945,-4.09090909090909,-3.787878787878787,-3.4848484848484844,-3.1818181818181817,-2.878787878787879,-2.575757575757576,-2.2727272727272716,-1.9696969696969688,-1.666666666666666,-1.3636363636363633,-1.0606060606060606,-0.7575757575757578,-0.45454545454545325,-0.1515151515151505,0.15151515151515227,0.45454545454545503,0.7575757575757578,1.0606060606060623,1.3636363636363633,1.6666666666666679,1.9696969696969688,2.2727272727272734,2.575757575757578,2.878787878787879,3.1818181818181834,3.4848484848484844,3.787878787878789,4.09090909090909,4.3939393939393945,4.696969696969699,5.0,5.3030303030303045,5.6060606060606055,5.90909090909091,6.212121212121211,6.515151515151516,6.81818181818182,7.121212121212121,7.424242424242426,7.727272727272727,8.030303030303031,8.333333333333336,8.636363636363637,8.939393939393941,9.242424242424242,9.545454545454547,9.848484848484848,10.151515151515152,10.454545454545457,10.757575757575758,11.060606060606062,11.363636363636363,11.666666666666668,11.969696969696969,12.272727272727273,12.575757575757578,12.878787878787879,13.181818181818183,13.484848484848484,13.787878787878789,14.090909090909093,14.393939393939394,14.696969696969699,15.0],\"y\":[225.0,216.00091827364557,207.18549127640037,198.55371900826444,190.10560146923783,181.84113865932048,173.7603305785124,165.8631772268136,158.14967860422408,150.61983471074382,143.2736455463728,136.1111111111111,129.13223140495867,122.33700642791551,115.72543617998164,109.297520661157,103.05325987144171,96.99265381083562,91.11570247933884,85.42240587695133,79.91276400367309,74.58677685950414,69.44444444444443,64.48576675849405,59.71074380165288,55.119375573921026,50.711662075298435,46.48760330578513,42.44719926538109,38.5904499540863,34.91735537190082,31.427915518824605,28.122130394857663,25.0,22.061524334251608,19.306703397612495,16.73553719008264,14.34802571166207,12.144168962350777,10.12396694214876,8.287419651056016,6.634527089072545,5.165289256198342,3.879706152433422,2.777777777777776,1.859504132231404,1.1248852157943066,0.5739210284664833,0.2066115702479327,0.02295684113865901,0.022956841138659548,0.20661157024793433,0.5739210284664833,1.1248852157943103,1.859504132231404,2.7777777777777817,3.879706152433422,5.16528925619835,6.634527089072555,8.287419651056016,10.12396694214877,12.144168962350777,14.348025711662084,16.73553719008264,19.306703397612495,22.061524334251626,25.0,28.122130394857685,31.427915518824605,34.91735537190084,38.5904499540863,42.44719926538109,46.48760330578515,50.711662075298435,55.11937557392105,59.71074380165288,64.48576675849405,69.44444444444449,74.58677685950414,79.91276400367313,85.42240587695133,91.11570247933886,96.99265381083562,103.05325987144171,109.29752066115707,115.72543617998164,122.33700642791555,129.13223140495867,136.11111111111114,143.2736455463728,150.61983471074382,158.1496786042241,165.8631772268136,173.76033057851245,181.84113865932048,190.10560146923785,198.55371900826452,207.18549127640037,216.0009182736456,225.0]}},\"id\":\"0038b08c-2b20-49be-ba1f-5a678e37eba4\",\"type\":\"ColumnDataSource\"},{\"attributes\":{\"plot\":{\"id\":\"8264275a-b390-4442-bb4c-bf5c2d7d4544\",\"subtype\":\"Figure\",\"type\":\"Plot\"},\"ticker\":{\"id\":\"1bf7ba6b-5466-499e-adf4-7cf6ac70e6c9\",\"type\":\"BasicTicker\"}},\"id\":\"c0713088-150e-4574-8e73-eacd2eb24f6b\",\"type\":\"Grid\"},{\"attributes\":{\"axis_label_text_font_size\":{\"value\":\"14pt\"},\"formatter\":{\"id\":\"e2c4cbfc-a1e0-4819-a82d-66885021f7aa\",\"type\":\"BasicTickFormatter\"},\"plot\":{\"id\":\"dcd1d8b5-e0aa-4a1f-ae91-0c8a50fabb01\",\"subtype\":\"Figure\",\"type\":\"Plot\"},\"ticker\":{\"id\":\"af22d204-a11c-4a24-b7a3-b7dec41ce7e6\",\"type\":\"BasicTicker\"}},\"id\":\"d879ab90-609f-44e0-bd0a-5bd039e6f5b2\",\"type\":\"LinearAxis\"},{\"attributes\":{},\"id\":\"f44f05eb-2261-41cf-ba1e-d3d35f0402e9\",\"type\":\"ToolEvents\"},{\"attributes\":{\"line_alpha\":{\"value\":0.1},\"line_color\":{\"value\":\"#1f77b4\"},\"line_width\":{\"value\":3},\"x\":{\"field\":\"x\"},\"y\":{\"field\":\"y\"}},\"id\":\"1c40b622-a919-4f3e-b7ed-960da1ca927d\",\"type\":\"Line\"},{\"attributes\":{\"below\":[{\"id\":\"bdca23c1-f57b-422a-b916-a1c931c61a4a\",\"type\":\"LinearAxis\"}],\"left\":[{\"id\":\"06060d9e-da3e-4422-bc77-c3f307c39ff4\",\"type\":\"LinearAxis\"}],\"plot_height\":250,\"plot_width\":400,\"renderers\":[{\"id\":\"bdca23c1-f57b-422a-b916-a1c931c61a4a\",\"type\":\"LinearAxis\"},{\"id\":\"c0713088-150e-4574-8e73-eacd2eb24f6b\",\"type\":\"Grid\"},{\"id\":\"06060d9e-da3e-4422-bc77-c3f307c39ff4\",\"type\":\"LinearAxis\"},{\"id\":\"732b2540-ad09-4864-8b05-3b1650d9d094\",\"type\":\"Grid\"},{\"id\":\"495828d9-feb6-470e-b771-63933a422f20\",\"type\":\"GlyphRenderer\"},{\"id\":\"af573154-9bb6-4ee7-a3e4-4ba25e86364b\",\"type\":\"GlyphRenderer\"}],\"title\":\"Local minimum of function\",\"title_text_font_size\":{\"value\":\"12pt\"},\"tool_events\":{\"id\":\"8f588507-12b8-420c-bdc3-0d0be698afd8\",\"type\":\"ToolEvents\"},\"tools\":[{\"id\":\"d3a8b4d6-7ba5-4b51-939a-480d4e921890\",\"type\":\"WheelZoomTool\"},{\"id\":\"332d3a32-5e88-4047-bd55-e93e64423f64\",\"type\":\"ResetTool\"},{\"id\":\"dd7ad3e5-cb8c-448a-9aa0-354377f4285d\",\"type\":\"PanTool\"}],\"x_range\":{\"id\":\"1ae1bbec-15ea-480d-9f66-648aa4fee149\",\"type\":\"DataRange1d\"},\"y_range\":{\"id\":\"cfb57749-8962-401e-8655-4cadd7b4e8cc\",\"type\":\"DataRange1d\"}},\"id\":\"8264275a-b390-4442-bb4c-bf5c2d7d4544\",\"subtype\":\"Figure\",\"type\":\"Plot\"},{\"attributes\":{\"callback\":null,\"column_names\":[\"x\",\"y\"],\"data\":{\"x\":[-15.0,-14.696969696969697,-14.393939393939394,-14.09090909090909,-13.787878787878787,-13.484848484848484,-13.181818181818182,-12.878787878787879,-12.575757575757576,-12.272727272727273,-11.969696969696969,-11.666666666666666,-11.363636363636363,-11.06060606060606,-10.757575757575758,-10.454545454545453,-10.151515151515152,-9.848484848484848,-9.545454545454545,-9.242424242424242,-8.93939393939394,-8.636363636363637,-8.333333333333332,-8.030303030303031,-7.727272727272727,-7.424242424242424,-7.121212121212121,-6.818181818181818,-6.515151515151516,-6.212121212121211,-5.909090909090908,-5.6060606060606055,-5.303030303030303,-5.0,-4.696969696969697,-4.3939393939393945,-4.09090909090909,-3.787878787878787,-3.4848484848484844,-3.1818181818181817,-2.878787878787879,-2.575757575757576,-2.2727272727272716,-1.9696969696969688,-1.666666666666666,-1.3636363636363633,-1.0606060606060606,-0.7575757575757578,-0.45454545454545325,-0.1515151515151505,0.15151515151515227,0.45454545454545503,0.7575757575757578,1.0606060606060623,1.3636363636363633,1.6666666666666679,1.9696969696969688,2.2727272727272734,2.575757575757578,2.878787878787879,3.1818181818181834,3.4848484848484844,3.787878787878789,4.09090909090909,4.3939393939393945,4.696969696969699,5.0,5.3030303030303045,5.6060606060606055,5.90909090909091,6.212121212121211,6.515151515151516,6.81818181818182,7.121212121212121,7.424242424242426,7.727272727272727,8.030303030303031,8.333333333333336,8.636363636363637,8.939393939393941,9.242424242424242,9.545454545454547,9.848484848484848,10.151515151515152,10.454545454545457,10.757575757575758,11.060606060606062,11.363636363636363,11.666666666666668,11.969696969696969,12.272727272727273,12.575757575757578,12.878787878787879,13.181818181818183,13.484848484848484,13.787878787878789,14.090909090909093,14.393939393939394,14.696969696969699,15.0],\"y\":[-3375.0,-3174.5589503853967,-2982.2154047360664,-2797.802404207362,-2621.1529899546426,-2452.100203133261,-2290.4770848985722,-2136.1166764059326,-1988.8520188106966,-1848.5161532682196,-1714.9421209338561,-1587.9629629629628,-1467.411720510894,-1353.121434733005,-1244.925146784651,-1142.6558978211867,-1046.146728997969,-955.2306814703506,-869.7407963936888,-789.510114923338,-714.3716782146535,-644.1585274229903,-578.7037037037035,-517.8402482121492,-461.4012021036813,-409.2196065336561,-361.12850265742827,-316.9609316303531,-276.54993460778593,-239.72855274508154,-206.3298271975957,-176.18679912068336,-149.13250966969974,-125.0,-103.62231126693938,-84.8324846258731,-68.46356123215622,-54.34858224114419,-42.3205888081921,-32.212622088655145,-23.85772323788853,-17.088933411247467,-11.739293764087135,-7.641845451762797,-4.629629629629624,-2.535687453042823,-1.193060077357598,-0.43478865792915417,-0.09391435011269642,-0.00347830926343316,0.0034783092634332823,0.09391435011269753,0.43478865792915417,1.1930600773576039,2.535687453042823,4.6296296296296395,7.641845451762797,11.739293764087163,17.088933411247503,23.85772323788853,32.212622088655195,42.3205888081921,54.34858224114427,68.46356123215622,84.8324846258731,103.6223112669395,125.0,149.13250966969989,176.18679912068336,206.3298271975959,239.72855274508154,276.54993460778593,316.9609316303534,361.12850265742827,409.21960653365636,461.4012021036813,517.8402482121492,578.7037037037042,644.1585274229903,714.3716782146539,789.510114923338,869.7407963936893,955.2306814703506,1046.146728997969,1142.6558978211879,1244.925146784651,1353.1214347330056,1467.411720510894,1587.9629629629635,1714.9421209338561,1848.5161532682196,1988.8520188106975,2136.1166764059326,2290.477084898573,2452.100203133261,2621.1529899546435,2797.8024042073644,2982.2154047360664,3174.558950385398,3375.0]}},\"id\":\"75e9a280-bac1-487b-bd8d-79e69b84819b\",\"type\":\"ColumnDataSource\"},{\"attributes\":{\"callback\":null},\"id\":\"b3225a98-728b-42ac-9de2-f929e7fb7f31\",\"type\":\"ColumnDataSource\"},{\"attributes\":{},\"id\":\"1bf7ba6b-5466-499e-adf4-7cf6ac70e6c9\",\"type\":\"BasicTicker\"},{\"attributes\":{\"plot\":{\"id\":\"8264275a-b390-4442-bb4c-bf5c2d7d4544\",\"subtype\":\"Figure\",\"type\":\"Plot\"}},\"id\":\"dd7ad3e5-cb8c-448a-9aa0-354377f4285d\",\"type\":\"PanTool\"},{\"attributes\":{\"dimension\":1,\"plot\":{\"id\":\"8264275a-b390-4442-bb4c-bf5c2d7d4544\",\"subtype\":\"Figure\",\"type\":\"Plot\"},\"ticker\":{\"id\":\"e9afce5c-172d-4cdf-985b-ea065451086d\",\"type\":\"BasicTicker\"}},\"id\":\"732b2540-ad09-4864-8b05-3b1650d9d094\",\"type\":\"Grid\"},{\"attributes\":{},\"id\":\"af20d824-9b30-4ae7-ba6f-52a6d7fddc07\",\"type\":\"BasicTicker\"},{\"attributes\":{\"callback\":null},\"id\":\"81595931-53c6-408d-93fd-ff11292f1a40\",\"type\":\"ColumnDataSource\"},{\"attributes\":{\"plot\":{\"id\":\"b3c7f24f-7e8a-449b-abf0-1d7b1fbe6005\",\"subtype\":\"Figure\",\"type\":\"Plot\"}},\"id\":\"44030659-e662-4f39-ac3c-268c874576ff\",\"type\":\"ResetTool\"},{\"attributes\":{\"below\":[{\"id\":\"53d62889-30d7-46d3-97ab-74f1342c1d09\",\"type\":\"LinearAxis\"}],\"left\":[{\"id\":\"75eb2202-ddcb-4e3f-a85e-1729f9a4c1c2\",\"type\":\"LinearAxis\"}],\"plot_height\":250,\"plot_width\":400,\"renderers\":[{\"id\":\"53d62889-30d7-46d3-97ab-74f1342c1d09\",\"type\":\"LinearAxis\"},{\"id\":\"8e731374-c300-4952-b4f5-00998ec2f3ee\",\"type\":\"Grid\"},{\"id\":\"75eb2202-ddcb-4e3f-a85e-1729f9a4c1c2\",\"type\":\"LinearAxis\"},{\"id\":\"0cf1090c-d2c8-4b6c-ab1d-2b3eff60e8dc\",\"type\":\"Grid\"},{\"id\":\"7832a325-af8d-453e-894d-d896e6f54760\",\"type\":\"GlyphRenderer\"},{\"id\":\"786a9e1a-a062-4101-998a-3d35f3968082\",\"type\":\"GlyphRenderer\"}],\"title\":\"Saddle point of function\",\"title_text_font_size\":{\"value\":\"12pt\"},\"tool_events\":{\"id\":\"c569ddf3-75bc-4cb8-9d19-c0131038d05f\",\"type\":\"ToolEvents\"},\"tools\":[{\"id\":\"67b1fc25-47fe-4525-b093-683bbbf72bf3\",\"type\":\"WheelZoomTool\"},{\"id\":\"44030659-e662-4f39-ac3c-268c874576ff\",\"type\":\"ResetTool\"},{\"id\":\"db0a73f5-2461-4442-a9ab-e1627ce01992\",\"type\":\"PanTool\"}],\"x_range\":{\"id\":\"2891479f-b0c3-4e2e-b665-4f8d95fb75e0\",\"type\":\"DataRange1d\"},\"y_range\":{\"id\":\"cb4389c1-ac10-4e61-814f-563f498aba4a\",\"type\":\"DataRange1d\"}},\"id\":\"b3c7f24f-7e8a-449b-abf0-1d7b1fbe6005\",\"subtype\":\"Figure\",\"type\":\"Plot\"},{\"attributes\":{\"data_source\":{\"id\":\"75e9a280-bac1-487b-bd8d-79e69b84819b\",\"type\":\"ColumnDataSource\"},\"glyph\":{\"id\":\"eb37e89b-6099-4d07-8b69-934158b2d1ae\",\"type\":\"Line\"},\"hover_glyph\":null,\"nonselection_glyph\":{\"id\":\"359fcdd8-76ff-40a3-95b0-482c565f816d\",\"type\":\"Line\"},\"selection_glyph\":null},\"id\":\"7832a325-af8d-453e-894d-d896e6f54760\",\"type\":\"GlyphRenderer\"},{\"attributes\":{\"data_source\":{\"id\":\"e33d1db5-278e-480e-aaad-6d89f0c8ec12\",\"type\":\"ColumnDataSource\"},\"glyph\":{\"id\":\"547c4976-d370-48eb-84b9-1fcce6965517\",\"type\":\"Line\"},\"hover_glyph\":null,\"nonselection_glyph\":{\"id\":\"1c40b622-a919-4f3e-b7ed-960da1ca927d\",\"type\":\"Line\"},\"selection_glyph\":null},\"id\":\"cd407637-0bf6-4627-9c15-aa955d4bbd7b\",\"type\":\"GlyphRenderer\"},{\"attributes\":{\"axis_label_text_font_size\":{\"value\":\"14pt\"},\"formatter\":{\"id\":\"478aeb47-9bde-434c-81ac-feb078642e9a\",\"type\":\"BasicTickFormatter\"},\"plot\":{\"id\":\"dcd1d8b5-e0aa-4a1f-ae91-0c8a50fabb01\",\"subtype\":\"Figure\",\"type\":\"Plot\"},\"ticker\":{\"id\":\"af20d824-9b30-4ae7-ba6f-52a6d7fddc07\",\"type\":\"BasicTicker\"}},\"id\":\"a62f2b63-6350-4b54-b59f-49f44baba190\",\"type\":\"LinearAxis\"},{\"attributes\":{\"axis_label_text_font_size\":{\"value\":\"14pt\"},\"formatter\":{\"id\":\"e0bc0d96-87d1-42c3-9ae3-3e9981b1aaee\",\"type\":\"BasicTickFormatter\"},\"plot\":{\"id\":\"8264275a-b390-4442-bb4c-bf5c2d7d4544\",\"subtype\":\"Figure\",\"type\":\"Plot\"},\"ticker\":{\"id\":\"1bf7ba6b-5466-499e-adf4-7cf6ac70e6c9\",\"type\":\"BasicTicker\"}},\"id\":\"bdca23c1-f57b-422a-b916-a1c931c61a4a\",\"type\":\"LinearAxis\"},{\"attributes\":{\"fill_alpha\":{\"value\":0.1},\"fill_color\":{\"value\":\"#1f77b4\"},\"line_alpha\":{\"value\":0.1},\"line_color\":{\"value\":\"#1f77b4\"},\"size\":{\"units\":\"screen\",\"value\":10},\"x\":{\"value\":0},\"y\":{\"value\":0}},\"id\":\"eeb52ec0-81a8-4236-90c0-087cb9f4faa8\",\"type\":\"Circle\"},{\"attributes\":{\"plot\":{\"id\":\"dcd1d8b5-e0aa-4a1f-ae91-0c8a50fabb01\",\"subtype\":\"Figure\",\"type\":\"Plot\"}},\"id\":\"569b8fe6-3f0a-4cbc-941d-ce8d7c72bca0\",\"type\":\"PanTool\"},{\"attributes\":{\"line_alpha\":{\"value\":0.5},\"line_color\":{\"value\":\"navy\"},\"line_width\":{\"value\":3},\"x\":{\"field\":\"x\"},\"y\":{\"field\":\"y\"}},\"id\":\"a7708b2d-b899-460b-9b6e-abeee1d1f166\",\"type\":\"Line\"},{\"attributes\":{},\"id\":\"e0bc0d96-87d1-42c3-9ae3-3e9981b1aaee\",\"type\":\"BasicTickFormatter\"},{\"attributes\":{\"dimension\":1,\"plot\":{\"id\":\"b3c7f24f-7e8a-449b-abf0-1d7b1fbe6005\",\"subtype\":\"Figure\",\"type\":\"Plot\"},\"ticker\":{\"id\":\"d5133bfd-6ac8-48b5-9bff-88acd2fbe7f0\",\"type\":\"BasicTicker\"}},\"id\":\"0cf1090c-d2c8-4b6c-ab1d-2b3eff60e8dc\",\"type\":\"Grid\"},{\"attributes\":{\"fill_alpha\":{\"value\":0.1},\"fill_color\":{\"value\":\"#1f77b4\"},\"line_alpha\":{\"value\":0.1},\"line_color\":{\"value\":\"#1f77b4\"},\"size\":{\"units\":\"screen\",\"value\":10},\"x\":{\"value\":0},\"y\":{\"value\":0}},\"id\":\"cb24636e-47f3-4dbf-ad89-8f8a0f00b081\",\"type\":\"Circle\"},{\"attributes\":{\"fill_color\":{\"value\":\"orange\"},\"line_color\":{\"value\":\"orange\"},\"size\":{\"units\":\"screen\",\"value\":10},\"x\":{\"value\":0},\"y\":{\"value\":0}},\"id\":\"898f9660-6cd1-4624-9411-49f13e84e764\",\"type\":\"Circle\"},{\"attributes\":{\"data_source\":{\"id\":\"e18e25bc-5abc-4460-a480-794d742dd65c\",\"type\":\"ColumnDataSource\"},\"glyph\":{\"id\":\"898f9660-6cd1-4624-9411-49f13e84e764\",\"type\":\"Circle\"},\"hover_glyph\":null,\"nonselection_glyph\":{\"id\":\"eeb52ec0-81a8-4236-90c0-087cb9f4faa8\",\"type\":\"Circle\"},\"selection_glyph\":null},\"id\":\"786a9e1a-a062-4101-998a-3d35f3968082\",\"type\":\"GlyphRenderer\"},{\"attributes\":{},\"id\":\"ef680ef2-7026-40bf-8d7d-0280b5c9140b\",\"type\":\"BasicTickFormatter\"},{\"attributes\":{\"fill_color\":{\"value\":\"orange\"},\"line_color\":{\"value\":\"orange\"},\"size\":{\"units\":\"screen\",\"value\":10},\"x\":{\"value\":0},\"y\":{\"value\":0}},\"id\":\"19fc54c0-0997-4b20-aaee-6def83d35156\",\"type\":\"Circle\"},{\"attributes\":{\"fill_color\":{\"value\":\"orange\"},\"line_color\":{\"value\":\"orange\"},\"size\":{\"units\":\"screen\",\"value\":10},\"x\":{\"value\":0},\"y\":{\"value\":0}},\"id\":\"7555d007-1fe6-49be-bc57-5297f324e7d5\",\"type\":\"Circle\"},{\"attributes\":{\"callback\":null},\"id\":\"d9e41e06-ed9b-4cdc-94e7-8f22c31cac56\",\"type\":\"DataRange1d\"},{\"attributes\":{},\"id\":\"e9afce5c-172d-4cdf-985b-ea065451086d\",\"type\":\"BasicTicker\"},{\"attributes\":{},\"id\":\"d5133bfd-6ac8-48b5-9bff-88acd2fbe7f0\",\"type\":\"BasicTicker\"},{\"attributes\":{\"data_source\":{\"id\":\"b3225a98-728b-42ac-9de2-f929e7fb7f31\",\"type\":\"ColumnDataSource\"},\"glyph\":{\"id\":\"19fc54c0-0997-4b20-aaee-6def83d35156\",\"type\":\"Circle\"},\"hover_glyph\":null,\"nonselection_glyph\":{\"id\":\"cb24636e-47f3-4dbf-ad89-8f8a0f00b081\",\"type\":\"Circle\"},\"selection_glyph\":null},\"id\":\"af573154-9bb6-4ee7-a3e4-4ba25e86364b\",\"type\":\"GlyphRenderer\"},{\"attributes\":{\"dimension\":1,\"plot\":{\"id\":\"dcd1d8b5-e0aa-4a1f-ae91-0c8a50fabb01\",\"subtype\":\"Figure\",\"type\":\"Plot\"},\"ticker\":{\"id\":\"af20d824-9b30-4ae7-ba6f-52a6d7fddc07\",\"type\":\"BasicTicker\"}},\"id\":\"03520f6f-e102-4d29-8f75-f6e854ce89cc\",\"type\":\"Grid\"},{\"attributes\":{\"fill_alpha\":{\"value\":0.1},\"fill_color\":{\"value\":\"#1f77b4\"},\"line_alpha\":{\"value\":0.1},\"line_color\":{\"value\":\"#1f77b4\"},\"size\":{\"units\":\"screen\",\"value\":10},\"x\":{\"value\":0},\"y\":{\"value\":0}},\"id\":\"54f52dad-3213-4383-a27b-11bec3384dca\",\"type\":\"Circle\"},{\"attributes\":{\"callback\":null},\"id\":\"cb4389c1-ac10-4e61-814f-563f498aba4a\",\"type\":\"DataRange1d\"},{\"attributes\":{},\"id\":\"27f677ce-32ea-461f-bcdc-a1554e622fb0\",\"type\":\"BasicTickFormatter\"},{\"attributes\":{},\"id\":\"ace60afd-ae8d-45b3-8231-38d76aa7c863\",\"type\":\"BasicTicker\"},{\"attributes\":{\"plot\":{\"id\":\"b3c7f24f-7e8a-449b-abf0-1d7b1fbe6005\",\"subtype\":\"Figure\",\"type\":\"Plot\"},\"ticker\":{\"id\":\"ace60afd-ae8d-45b3-8231-38d76aa7c863\",\"type\":\"BasicTicker\"}},\"id\":\"8e731374-c300-4952-b4f5-00998ec2f3ee\",\"type\":\"Grid\"},{\"attributes\":{\"plot\":{\"id\":\"dcd1d8b5-e0aa-4a1f-ae91-0c8a50fabb01\",\"subtype\":\"Figure\",\"type\":\"Plot\"}},\"id\":\"78299cde-ba74-4fa0-afc1-ec3aa8732940\",\"type\":\"ResetTool\"},{\"attributes\":{\"plot\":{\"id\":\"b3c7f24f-7e8a-449b-abf0-1d7b1fbe6005\",\"subtype\":\"Figure\",\"type\":\"Plot\"}},\"id\":\"db0a73f5-2461-4442-a9ab-e1627ce01992\",\"type\":\"PanTool\"},{\"attributes\":{},\"id\":\"aa4f017f-fec0-4acc-9fab-1898b36165fa\",\"type\":\"BasicTickFormatter\"},{\"attributes\":{\"axis_label_text_font_size\":{\"value\":\"14pt\"},\"formatter\":{\"id\":\"aa4f017f-fec0-4acc-9fab-1898b36165fa\",\"type\":\"BasicTickFormatter\"},\"plot\":{\"id\":\"b3c7f24f-7e8a-449b-abf0-1d7b1fbe6005\",\"subtype\":\"Figure\",\"type\":\"Plot\"},\"ticker\":{\"id\":\"d5133bfd-6ac8-48b5-9bff-88acd2fbe7f0\",\"type\":\"BasicTicker\"}},\"id\":\"75eb2202-ddcb-4e3f-a85e-1729f9a4c1c2\",\"type\":\"LinearAxis\"},{\"attributes\":{},\"id\":\"af22d204-a11c-4a24-b7a3-b7dec41ce7e6\",\"type\":\"BasicTicker\"},{\"attributes\":{\"callback\":null},\"id\":\"cfb57749-8962-401e-8655-4cadd7b4e8cc\",\"type\":\"DataRange1d\"},{\"attributes\":{\"data_source\":{\"id\":\"0038b08c-2b20-49be-ba1f-5a678e37eba4\",\"type\":\"ColumnDataSource\"},\"glyph\":{\"id\":\"a7708b2d-b899-460b-9b6e-abeee1d1f166\",\"type\":\"Line\"},\"hover_glyph\":null,\"nonselection_glyph\":{\"id\":\"8ab6ad89-d817-4399-81b6-833bf615de5e\",\"type\":\"Line\"},\"selection_glyph\":null},\"id\":\"495828d9-feb6-470e-b771-63933a422f20\",\"type\":\"GlyphRenderer\"},{\"attributes\":{\"plot\":{\"id\":\"dcd1d8b5-e0aa-4a1f-ae91-0c8a50fabb01\",\"subtype\":\"Figure\",\"type\":\"Plot\"}},\"id\":\"708baf6d-5c48-4121-a0b2-9d477dbea908\",\"type\":\"WheelZoomTool\"},{\"attributes\":{\"callback\":null},\"id\":\"1ae1bbec-15ea-480d-9f66-648aa4fee149\",\"type\":\"DataRange1d\"},{\"attributes\":{\"callback\":null},\"id\":\"e18e25bc-5abc-4460-a480-794d742dd65c\",\"type\":\"ColumnDataSource\"},{\"attributes\":{},\"id\":\"478aeb47-9bde-434c-81ac-feb078642e9a\",\"type\":\"BasicTickFormatter\"},{\"attributes\":{\"plot\":{\"id\":\"8264275a-b390-4442-bb4c-bf5c2d7d4544\",\"subtype\":\"Figure\",\"type\":\"Plot\"}},\"id\":\"332d3a32-5e88-4047-bd55-e93e64423f64\",\"type\":\"ResetTool\"},{\"attributes\":{\"callback\":null,\"column_names\":[\"x\",\"y\"],\"data\":{\"x\":[-15.0,-14.696969696969697,-14.393939393939394,-14.09090909090909,-13.787878787878787,-13.484848484848484,-13.181818181818182,-12.878787878787879,-12.575757575757576,-12.272727272727273,-11.969696969696969,-11.666666666666666,-11.363636363636363,-11.06060606060606,-10.757575757575758,-10.454545454545453,-10.151515151515152,-9.848484848484848,-9.545454545454545,-9.242424242424242,-8.93939393939394,-8.636363636363637,-8.333333333333332,-8.030303030303031,-7.727272727272727,-7.424242424242424,-7.121212121212121,-6.818181818181818,-6.515151515151516,-6.212121212121211,-5.909090909090908,-5.6060606060606055,-5.303030303030303,-5.0,-4.696969696969697,-4.3939393939393945,-4.09090909090909,-3.787878787878787,-3.4848484848484844,-3.1818181818181817,-2.878787878787879,-2.575757575757576,-2.2727272727272716,-1.9696969696969688,-1.666666666666666,-1.3636363636363633,-1.0606060606060606,-0.7575757575757578,-0.45454545454545325,-0.1515151515151505,0.15151515151515227,0.45454545454545503,0.7575757575757578,1.0606060606060623,1.3636363636363633,1.6666666666666679,1.9696969696969688,2.2727272727272734,2.575757575757578,2.878787878787879,3.1818181818181834,3.4848484848484844,3.787878787878789,4.09090909090909,4.3939393939393945,4.696969696969699,5.0,5.3030303030303045,5.6060606060606055,5.90909090909091,6.212121212121211,6.515151515151516,6.81818181818182,7.121212121212121,7.424242424242426,7.727272727272727,8.030303030303031,8.333333333333336,8.636363636363637,8.939393939393941,9.242424242424242,9.545454545454547,9.848484848484848,10.151515151515152,10.454545454545457,10.757575757575758,11.060606060606062,11.363636363636363,11.666666666666668,11.969696969696969,12.272727272727273,12.575757575757578,12.878787878787879,13.181818181818183,13.484848484848484,13.787878787878789,14.090909090909093,14.393939393939394,14.696969696969699,15.0],\"y\":[-225.0,-216.00091827364557,-207.18549127640037,-198.55371900826444,-190.10560146923783,-181.84113865932048,-173.7603305785124,-165.8631772268136,-158.14967860422408,-150.61983471074382,-143.2736455463728,-136.1111111111111,-129.13223140495867,-122.33700642791551,-115.72543617998164,-109.297520661157,-103.05325987144171,-96.99265381083562,-91.11570247933884,-85.42240587695133,-79.91276400367309,-74.58677685950414,-69.44444444444443,-64.48576675849405,-59.71074380165288,-55.119375573921026,-50.711662075298435,-46.48760330578513,-42.44719926538109,-38.5904499540863,-34.91735537190082,-31.427915518824605,-28.122130394857663,-25.0,-22.061524334251608,-19.306703397612495,-16.73553719008264,-14.34802571166207,-12.144168962350777,-10.12396694214876,-8.287419651056016,-6.634527089072545,-5.165289256198342,-3.879706152433422,-2.777777777777776,-1.859504132231404,-1.1248852157943066,-0.5739210284664833,-0.2066115702479327,-0.02295684113865901,-0.022956841138659548,-0.20661157024793433,-0.5739210284664833,-1.1248852157943103,-1.859504132231404,-2.7777777777777817,-3.879706152433422,-5.16528925619835,-6.634527089072555,-8.287419651056016,-10.12396694214877,-12.144168962350777,-14.348025711662084,-16.73553719008264,-19.306703397612495,-22.061524334251626,-25.0,-28.122130394857685,-31.427915518824605,-34.91735537190084,-38.5904499540863,-42.44719926538109,-46.48760330578515,-50.711662075298435,-55.11937557392105,-59.71074380165288,-64.48576675849405,-69.44444444444449,-74.58677685950414,-79.91276400367313,-85.42240587695133,-91.11570247933886,-96.99265381083562,-103.05325987144171,-109.29752066115707,-115.72543617998164,-122.33700642791555,-129.13223140495867,-136.11111111111114,-143.2736455463728,-150.61983471074382,-158.1496786042241,-165.8631772268136,-173.76033057851245,-181.84113865932048,-190.10560146923785,-198.55371900826452,-207.18549127640037,-216.0009182736456,-225.0]}},\"id\":\"e33d1db5-278e-480e-aaad-6d89f0c8ec12\",\"type\":\"ColumnDataSource\"},{\"attributes\":{\"below\":[{\"id\":\"d879ab90-609f-44e0-bd0a-5bd039e6f5b2\",\"type\":\"LinearAxis\"}],\"left\":[{\"id\":\"a62f2b63-6350-4b54-b59f-49f44baba190\",\"type\":\"LinearAxis\"}],\"plot_height\":250,\"plot_width\":400,\"renderers\":[{\"id\":\"d879ab90-609f-44e0-bd0a-5bd039e6f5b2\",\"type\":\"LinearAxis\"},{\"id\":\"5967a76c-b680-41df-868f-ab6e379ece96\",\"type\":\"Grid\"},{\"id\":\"a62f2b63-6350-4b54-b59f-49f44baba190\",\"type\":\"LinearAxis\"},{\"id\":\"03520f6f-e102-4d29-8f75-f6e854ce89cc\",\"type\":\"Grid\"},{\"id\":\"cd407637-0bf6-4627-9c15-aa955d4bbd7b\",\"type\":\"GlyphRenderer\"},{\"id\":\"a3c34fdb-07c0-4e35-96ec-edb93b089dea\",\"type\":\"GlyphRenderer\"}],\"title\":\"Local maximum of function\",\"title_text_font_size\":{\"value\":\"12pt\"},\"tool_events\":{\"id\":\"f44f05eb-2261-41cf-ba1e-d3d35f0402e9\",\"type\":\"ToolEvents\"},\"tools\":[{\"id\":\"708baf6d-5c48-4121-a0b2-9d477dbea908\",\"type\":\"WheelZoomTool\"},{\"id\":\"78299cde-ba74-4fa0-afc1-ec3aa8732940\",\"type\":\"ResetTool\"},{\"id\":\"569b8fe6-3f0a-4cbc-941d-ce8d7c72bca0\",\"type\":\"PanTool\"}],\"x_range\":{\"id\":\"d9e41e06-ed9b-4cdc-94e7-8f22c31cac56\",\"type\":\"DataRange1d\"},\"y_range\":{\"id\":\"4d599ee9-4953-485f-9d52-d284898423e1\",\"type\":\"DataRange1d\"}},\"id\":\"dcd1d8b5-e0aa-4a1f-ae91-0c8a50fabb01\",\"subtype\":\"Figure\",\"type\":\"Plot\"}],\"root_ids\":[\"8264275a-b390-4442-bb4c-bf5c2d7d4544\",\"dcd1d8b5-e0aa-4a1f-ae91-0c8a50fabb01\",\"b3c7f24f-7e8a-449b-abf0-1d7b1fbe6005\"]},\"title\":\"Bokeh Application\",\"version\":\"0.11.1\"}};\n",
       "            var render_items = [{\"docid\":\"95851106-50ed-4f14-ab6c-f66db4c26d41\",\"elementid\":\"d1c992f5-7beb-476e-be18-c6d7fdf8153c\",\"modelid\":\"b3c7f24f-7e8a-449b-abf0-1d7b1fbe6005\",\"notebook_comms_target\":\"d2e8cab8-da0d-49dd-bd3c-da817e43c251\"}];\n",
       "            \n",
       "            Bokeh.embed.embed_items(docs_json, render_items);\n",
       "        });\n",
       "      },\n",
       "      function(Bokeh) {\n",
       "      }\n",
       "    ];\n",
       "  \n",
       "    function run_inline_js() {\n",
       "      for (var i = 0; i < inline_js.length; i++) {\n",
       "        inline_js[i](window.Bokeh);\n",
       "      }\n",
       "    }\n",
       "  \n",
       "    if (window._bokeh_is_loading === 0) {\n",
       "      console.log(\"Bokeh: BokehJS loaded, going straight to plotting\");\n",
       "      run_inline_js();\n",
       "    } else {\n",
       "      load_libs(js_urls, function() {\n",
       "        console.log(\"Bokeh: BokehJS plotting callback run at\", now());\n",
       "        run_inline_js();\n",
       "      });\n",
       "    }\n",
       "  }(this));\n",
       "</script>"
      ]
     },
     "metadata": {},
     "output_type": "display_data"
    },
    {
     "data": {
      "text/html": [
       "<p><code>&lt;Bokeh Notebook handle for <strong>In[9]</strong>&gt;</code></p>"
      ],
      "text/plain": [
       "<bokeh.io._CommsHandle at 0x1180cb8d0>"
      ]
     },
     "execution_count": 9,
     "metadata": {},
     "output_type": "execute_result"
    }
   ],
   "source": [
    "x = np.linspace(-15,15,100)\n",
    "y = x**3\n",
    "\n",
    "TOOLS = [WheelZoomTool(), ResetTool(), PanTool()]\n",
    "\n",
    "\n",
    "s1 = bp.figure(width=W, plot_height=H, \n",
    "               title='Saddle point of function',  \n",
    "               tools=TOOLS)\n",
    "s1.line(x, y, color=\"navy\", alpha=0.5, line_width=3)\n",
    "s1.circle(0, 0, size =10, color=\"orange\")\n",
    "s1.title_text_font_size = '12pt'\n",
    "s1.yaxis.axis_label_text_font_size = \"14pt\"\n",
    "s1.xaxis.axis_label_text_font_size = \"14pt\"\n",
    "\n",
    "bp.show(s1)"
   ]
  },
  {
   "cell_type": "markdown",
   "metadata": {},
   "source": [
    "There are two problems with numerical derivatives:\n",
    "+ It is approximate.\n",
    "+ It is very slow to evaluate (two function evaluations: $f(x + h) , f(x - h)$ ).\n",
    "\n",
    "Our knowledge from Calculus could help!"
   ]
  },
  {
   "cell_type": "markdown",
   "metadata": {},
   "source": [
    "We know that we can get an **analytical expression** of the derivative for **some** functions. \n",
    "\n",
    "For example, let's suppose we have a simple quadratic function, $f(x)=x^2−6x+5$, and we want to find the minimum of this function. \n",
    "\n",
    "#### First approach\n",
    "\n",
    "We can solve this analytically using Calculus, by finding the derivate $f'(x)  =  2x-6$ and setting it to zero:\n",
    "\n",
    "\\begin{equation}\n",
    "\\begin{split}\n",
    "2x-6  & = & 0 \\\\\n",
    "2x  & = & 6 \\\\\n",
    "x & = & 3 \\\\\n",
    "\\end{split}\n",
    "\\end{equation} "
   ]
  },
  {
   "cell_type": "code",
   "execution_count": 10,
   "metadata": {
    "collapsed": false
   },
   "outputs": [
    {
     "data": {
      "text/html": [
       "\n",
       "\n",
       "    <div class=\"plotdiv\" id=\"a4c4176d-7946-49e4-bf3c-f0a55585e1b8\"></div>\n",
       "<script type=\"text/javascript\">\n",
       "  \n",
       "  (function(global) {\n",
       "    function now() {\n",
       "      return new Date();\n",
       "    }\n",
       "  \n",
       "    if (typeof (window._bokeh_onload_callbacks) === \"undefined\") {\n",
       "      window._bokeh_onload_callbacks = [];\n",
       "    }\n",
       "  \n",
       "    function run_callbacks() {\n",
       "      window._bokeh_onload_callbacks.forEach(function(callback) { callback() });\n",
       "      delete window._bokeh_onload_callbacks\n",
       "      console.info(\"Bokeh: all callbacks have finished\");\n",
       "    }\n",
       "  \n",
       "    function load_libs(js_urls, callback) {\n",
       "      window._bokeh_onload_callbacks.push(callback);\n",
       "      if (window._bokeh_is_loading > 0) {\n",
       "        console.log(\"Bokeh: BokehJS is being loaded, scheduling callback at\", now());\n",
       "        return null;\n",
       "      }\n",
       "      if (js_urls == null || js_urls.length === 0) {\n",
       "        run_callbacks();\n",
       "        return null;\n",
       "      }\n",
       "      console.log(\"Bokeh: BokehJS not loaded, scheduling load and callback at\", now());\n",
       "      window._bokeh_is_loading = js_urls.length;\n",
       "      for (var i = 0; i < js_urls.length; i++) {\n",
       "        var url = js_urls[i];\n",
       "        var s = document.createElement('script');\n",
       "        s.src = url;\n",
       "        s.async = false;\n",
       "        s.onreadystatechange = s.onload = function() {\n",
       "          window._bokeh_is_loading--;\n",
       "          if (window._bokeh_is_loading === 0) {\n",
       "            console.log(\"Bokeh: all BokehJS libraries loaded\");\n",
       "            run_callbacks()\n",
       "          }\n",
       "        };\n",
       "        s.onerror = function() {\n",
       "          console.warn(\"failed to load library \" + url);\n",
       "        };\n",
       "        console.log(\"Bokeh: injecting script tag for BokehJS library: \", url);\n",
       "        document.getElementsByTagName(\"head\")[0].appendChild(s);\n",
       "      }\n",
       "    };var element = document.getElementById(\"a4c4176d-7946-49e4-bf3c-f0a55585e1b8\");\n",
       "    if (element == null) {\n",
       "      console.log(\"Bokeh: ERROR: autoload.js configured with elementid 'a4c4176d-7946-49e4-bf3c-f0a55585e1b8' but no matching script tag was found. \")\n",
       "      return false;\n",
       "    }\n",
       "  \n",
       "    var js_urls = [];\n",
       "  \n",
       "    var inline_js = [\n",
       "      function(Bokeh) {\n",
       "        Bokeh.$(function() {\n",
       "            var docs_json = {\"1e3bebbc-914b-423a-9003-e800ea814953\":{\"roots\":{\"references\":[{\"attributes\":{\"data_source\":{\"id\":\"e18e25bc-5abc-4460-a480-794d742dd65c\",\"type\":\"ColumnDataSource\"},\"glyph\":{\"id\":\"898f9660-6cd1-4624-9411-49f13e84e764\",\"type\":\"Circle\"},\"hover_glyph\":null,\"nonselection_glyph\":{\"id\":\"eeb52ec0-81a8-4236-90c0-087cb9f4faa8\",\"type\":\"Circle\"},\"selection_glyph\":null},\"id\":\"786a9e1a-a062-4101-998a-3d35f3968082\",\"type\":\"GlyphRenderer\"},{\"attributes\":{\"data_source\":{\"id\":\"754c47bf-25bc-4834-bc5f-99ac5483cbc7\",\"type\":\"ColumnDataSource\"},\"glyph\":{\"id\":\"e1150ed1-7006-4343-88b9-9c2b6ad8cb84\",\"type\":\"Circle\"},\"hover_glyph\":null,\"nonselection_glyph\":{\"id\":\"7e80fd73-a864-4fc8-9e99-d2f7a43caef7\",\"type\":\"Circle\"},\"selection_glyph\":null},\"id\":\"10b6c7bd-fd85-4659-b9c4-b7757fca6422\",\"type\":\"GlyphRenderer\"},{\"attributes\":{\"plot\":{\"id\":\"dcd1d8b5-e0aa-4a1f-ae91-0c8a50fabb01\",\"subtype\":\"Figure\",\"type\":\"Plot\"},\"ticker\":{\"id\":\"af22d204-a11c-4a24-b7a3-b7dec41ce7e6\",\"type\":\"BasicTicker\"}},\"id\":\"5967a76c-b680-41df-868f-ab6e379ece96\",\"type\":\"Grid\"},{\"attributes\":{\"plot\":{\"id\":\"b3c7f24f-7e8a-449b-abf0-1d7b1fbe6005\",\"subtype\":\"Figure\",\"type\":\"Plot\"}},\"id\":\"44030659-e662-4f39-ac3c-268c874576ff\",\"type\":\"ResetTool\"},{\"attributes\":{},\"id\":\"f44f05eb-2261-41cf-ba1e-d3d35f0402e9\",\"type\":\"ToolEvents\"},{\"attributes\":{},\"id\":\"af20d824-9b30-4ae7-ba6f-52a6d7fddc07\",\"type\":\"BasicTicker\"},{\"attributes\":{\"callback\":null},\"id\":\"81595931-53c6-408d-93fd-ff11292f1a40\",\"type\":\"ColumnDataSource\"},{\"attributes\":{\"data_source\":{\"id\":\"cc586fdc-0923-4f88-b6f6-a4cbe4048b4d\",\"type\":\"ColumnDataSource\"},\"glyph\":{\"id\":\"f6cb77e6-cfc7-46ab-8b6c-60eb758b46c2\",\"type\":\"Line\"},\"hover_glyph\":null,\"nonselection_glyph\":{\"id\":\"40587fa5-5b53-4cee-b673-0ca0fe1a5bad\",\"type\":\"Line\"},\"selection_glyph\":null},\"id\":\"14725d95-4e2c-4f49-90f6-64de769dd496\",\"type\":\"GlyphRenderer\"},{\"attributes\":{},\"id\":\"63853867-9aae-4928-84f6-1052887e5c21\",\"type\":\"BasicTicker\"},{\"attributes\":{\"fill_color\":{\"value\":\"orange\"},\"line_color\":{\"value\":\"orange\"},\"size\":{\"units\":\"screen\",\"value\":10},\"x\":{\"value\":0},\"y\":{\"value\":0}},\"id\":\"19fc54c0-0997-4b20-aaee-6def83d35156\",\"type\":\"Circle\"},{\"attributes\":{\"callback\":null},\"id\":\"d9e41e06-ed9b-4cdc-94e7-8f22c31cac56\",\"type\":\"DataRange1d\"},{\"attributes\":{\"callback\":null},\"id\":\"cb4389c1-ac10-4e61-814f-563f498aba4a\",\"type\":\"DataRange1d\"},{\"attributes\":{\"plot\":{\"id\":\"b3c7f24f-7e8a-449b-abf0-1d7b1fbe6005\",\"subtype\":\"Figure\",\"type\":\"Plot\"},\"ticker\":{\"id\":\"ace60afd-ae8d-45b3-8231-38d76aa7c863\",\"type\":\"BasicTicker\"}},\"id\":\"8e731374-c300-4952-b4f5-00998ec2f3ee\",\"type\":\"Grid\"},{\"attributes\":{\"plot\":{\"id\":\"69ad5276-f29a-4e15-b279-3cc96ae12623\",\"subtype\":\"Figure\",\"type\":\"Plot\"},\"ticker\":{\"id\":\"63853867-9aae-4928-84f6-1052887e5c21\",\"type\":\"BasicTicker\"}},\"id\":\"12da5cc1-d6fb-4315-9589-8fc3314ee3c5\",\"type\":\"Grid\"},{\"attributes\":{\"line_alpha\":{\"value\":0.5},\"line_color\":{\"value\":\"navy\"},\"line_width\":{\"value\":3},\"x\":{\"field\":\"x\"},\"y\":{\"field\":\"y\"}},\"id\":\"eb37e89b-6099-4d07-8b69-934158b2d1ae\",\"type\":\"Line\"},{\"attributes\":{\"plot\":{\"id\":\"8264275a-b390-4442-bb4c-bf5c2d7d4544\",\"subtype\":\"Figure\",\"type\":\"Plot\"}},\"id\":\"d3a8b4d6-7ba5-4b51-939a-480d4e921890\",\"type\":\"WheelZoomTool\"},{\"attributes\":{\"callback\":null},\"id\":\"2891479f-b0c3-4e2e-b665-4f8d95fb75e0\",\"type\":\"DataRange1d\"},{\"attributes\":{},\"id\":\"7d70e9fb-42ab-4858-9a04-2a1a70fa7b7e\",\"type\":\"ToolEvents\"},{\"attributes\":{\"callback\":null},\"id\":\"4d599ee9-4953-485f-9d52-d284898423e1\",\"type\":\"DataRange1d\"},{\"attributes\":{},\"id\":\"c569ddf3-75bc-4cb8-9d19-c0131038d05f\",\"type\":\"ToolEvents\"},{\"attributes\":{\"line_alpha\":{\"value\":0.1},\"line_color\":{\"value\":\"#1f77b4\"},\"line_width\":{\"value\":3},\"x\":{\"field\":\"x\"},\"y\":{\"field\":\"y\"}},\"id\":\"1c40b622-a919-4f3e-b7ed-960da1ca927d\",\"type\":\"Line\"},{\"attributes\":{\"callback\":null},\"id\":\"b3225a98-728b-42ac-9de2-f929e7fb7f31\",\"type\":\"ColumnDataSource\"},{\"attributes\":{\"plot\":{\"id\":\"8264275a-b390-4442-bb4c-bf5c2d7d4544\",\"subtype\":\"Figure\",\"type\":\"Plot\"}},\"id\":\"dd7ad3e5-cb8c-448a-9aa0-354377f4285d\",\"type\":\"PanTool\"},{\"attributes\":{},\"id\":\"478aeb47-9bde-434c-81ac-feb078642e9a\",\"type\":\"BasicTickFormatter\"},{\"attributes\":{\"line_alpha\":{\"value\":0.5},\"line_color\":{\"value\":\"navy\"},\"line_width\":{\"value\":3},\"x\":{\"field\":\"x\"},\"y\":{\"field\":\"y\"}},\"id\":\"f6cb77e6-cfc7-46ab-8b6c-60eb758b46c2\",\"type\":\"Line\"},{\"attributes\":{\"fill_color\":{\"value\":\"orange\"},\"line_color\":{\"value\":\"orange\"},\"size\":{\"units\":\"screen\",\"value\":10},\"x\":{\"value\":0},\"y\":{\"value\":0}},\"id\":\"898f9660-6cd1-4624-9411-49f13e84e764\",\"type\":\"Circle\"},{\"attributes\":{},\"id\":\"e9afce5c-172d-4cdf-985b-ea065451086d\",\"type\":\"BasicTicker\"},{\"attributes\":{\"axis_label_text_font_size\":{\"value\":\"14pt\"},\"formatter\":{\"id\":\"45b3a37e-5549-4a4f-becf-2ada5016b8bd\",\"type\":\"BasicTickFormatter\"},\"plot\":{\"id\":\"69ad5276-f29a-4e15-b279-3cc96ae12623\",\"subtype\":\"Figure\",\"type\":\"Plot\"},\"ticker\":{\"id\":\"63853867-9aae-4928-84f6-1052887e5c21\",\"type\":\"BasicTicker\"}},\"id\":\"e508f65d-021f-4d67-88da-91ddbd1df5b9\",\"type\":\"LinearAxis\"},{\"attributes\":{\"plot\":{\"id\":\"69ad5276-f29a-4e15-b279-3cc96ae12623\",\"subtype\":\"Figure\",\"type\":\"Plot\"}},\"id\":\"93ed511d-344f-4e3d-a79a-853a20bf1b72\",\"type\":\"ResetTool\"},{\"attributes\":{\"callback\":null,\"column_names\":[\"x\",\"y\"],\"data\":{\"x\":[-15.0,-14.696969696969697,-14.393939393939394,-14.09090909090909,-13.787878787878787,-13.484848484848484,-13.181818181818182,-12.878787878787879,-12.575757575757576,-12.272727272727273,-11.969696969696969,-11.666666666666666,-11.363636363636363,-11.06060606060606,-10.757575757575758,-10.454545454545453,-10.151515151515152,-9.848484848484848,-9.545454545454545,-9.242424242424242,-8.93939393939394,-8.636363636363637,-8.333333333333332,-8.030303030303031,-7.727272727272727,-7.424242424242424,-7.121212121212121,-6.818181818181818,-6.515151515151516,-6.212121212121211,-5.909090909090908,-5.6060606060606055,-5.303030303030303,-5.0,-4.696969696969697,-4.3939393939393945,-4.09090909090909,-3.787878787878787,-3.4848484848484844,-3.1818181818181817,-2.878787878787879,-2.575757575757576,-2.2727272727272716,-1.9696969696969688,-1.666666666666666,-1.3636363636363633,-1.0606060606060606,-0.7575757575757578,-0.45454545454545325,-0.1515151515151505,0.15151515151515227,0.45454545454545503,0.7575757575757578,1.0606060606060623,1.3636363636363633,1.6666666666666679,1.9696969696969688,2.2727272727272734,2.575757575757578,2.878787878787879,3.1818181818181834,3.4848484848484844,3.787878787878789,4.09090909090909,4.3939393939393945,4.696969696969699,5.0,5.3030303030303045,5.6060606060606055,5.90909090909091,6.212121212121211,6.515151515151516,6.81818181818182,7.121212121212121,7.424242424242426,7.727272727272727,8.030303030303031,8.333333333333336,8.636363636363637,8.939393939393941,9.242424242424242,9.545454545454547,9.848484848484848,10.151515151515152,10.454545454545457,10.757575757575758,11.060606060606062,11.363636363636363,11.666666666666668,11.969696969696969,12.272727272727273,12.575757575757578,12.878787878787879,13.181818181818183,13.484848484848484,13.787878787878789,14.090909090909093,14.393939393939394,14.696969696969699,15.0],\"y\":[-3375.0,-3174.5589503853967,-2982.2154047360664,-2797.802404207362,-2621.1529899546426,-2452.100203133261,-2290.4770848985722,-2136.1166764059326,-1988.8520188106966,-1848.5161532682196,-1714.9421209338561,-1587.9629629629628,-1467.411720510894,-1353.121434733005,-1244.925146784651,-1142.6558978211867,-1046.146728997969,-955.2306814703506,-869.7407963936888,-789.510114923338,-714.3716782146535,-644.1585274229903,-578.7037037037035,-517.8402482121492,-461.4012021036813,-409.2196065336561,-361.12850265742827,-316.9609316303531,-276.54993460778593,-239.72855274508154,-206.3298271975957,-176.18679912068336,-149.13250966969974,-125.0,-103.62231126693938,-84.8324846258731,-68.46356123215622,-54.34858224114419,-42.3205888081921,-32.212622088655145,-23.85772323788853,-17.088933411247467,-11.739293764087135,-7.641845451762797,-4.629629629629624,-2.535687453042823,-1.193060077357598,-0.43478865792915417,-0.09391435011269642,-0.00347830926343316,0.0034783092634332823,0.09391435011269753,0.43478865792915417,1.1930600773576039,2.535687453042823,4.6296296296296395,7.641845451762797,11.739293764087163,17.088933411247503,23.85772323788853,32.212622088655195,42.3205888081921,54.34858224114427,68.46356123215622,84.8324846258731,103.6223112669395,125.0,149.13250966969989,176.18679912068336,206.3298271975959,239.72855274508154,276.54993460778593,316.9609316303534,361.12850265742827,409.21960653365636,461.4012021036813,517.8402482121492,578.7037037037042,644.1585274229903,714.3716782146539,789.510114923338,869.7407963936893,955.2306814703506,1046.146728997969,1142.6558978211879,1244.925146784651,1353.1214347330056,1467.411720510894,1587.9629629629635,1714.9421209338561,1848.5161532682196,1988.8520188106975,2136.1166764059326,2290.477084898573,2452.100203133261,2621.1529899546435,2797.8024042073644,2982.2154047360664,3174.558950385398,3375.0]}},\"id\":\"75e9a280-bac1-487b-bd8d-79e69b84819b\",\"type\":\"ColumnDataSource\"},{\"attributes\":{\"line_alpha\":{\"value\":0.5},\"line_color\":{\"value\":\"navy\"},\"line_width\":{\"value\":3},\"x\":{\"field\":\"x\"},\"y\":{\"field\":\"y\"}},\"id\":\"a7708b2d-b899-460b-9b6e-abeee1d1f166\",\"type\":\"Line\"},{\"attributes\":{\"fill_alpha\":{\"value\":0.1},\"fill_color\":{\"value\":\"#1f77b4\"},\"line_alpha\":{\"value\":0.1},\"line_color\":{\"value\":\"#1f77b4\"},\"size\":{\"units\":\"screen\",\"value\":10},\"x\":{\"value\":0},\"y\":{\"value\":0}},\"id\":\"cb24636e-47f3-4dbf-ad89-8f8a0f00b081\",\"type\":\"Circle\"},{\"attributes\":{},\"id\":\"ef680ef2-7026-40bf-8d7d-0280b5c9140b\",\"type\":\"BasicTickFormatter\"},{\"attributes\":{\"callback\":null},\"id\":\"cfb57749-8962-401e-8655-4cadd7b4e8cc\",\"type\":\"DataRange1d\"},{\"attributes\":{\"data_source\":{\"id\":\"0038b08c-2b20-49be-ba1f-5a678e37eba4\",\"type\":\"ColumnDataSource\"},\"glyph\":{\"id\":\"a7708b2d-b899-460b-9b6e-abeee1d1f166\",\"type\":\"Line\"},\"hover_glyph\":null,\"nonselection_glyph\":{\"id\":\"8ab6ad89-d817-4399-81b6-833bf615de5e\",\"type\":\"Line\"},\"selection_glyph\":null},\"id\":\"495828d9-feb6-470e-b771-63933a422f20\",\"type\":\"GlyphRenderer\"},{\"attributes\":{\"callback\":null},\"id\":\"e18e25bc-5abc-4460-a480-794d742dd65c\",\"type\":\"ColumnDataSource\"},{\"attributes\":{\"line_alpha\":{\"value\":0.5},\"line_color\":{\"value\":\"navy\"},\"line_width\":{\"value\":3},\"x\":{\"field\":\"x\"},\"y\":{\"field\":\"y\"}},\"id\":\"547c4976-d370-48eb-84b9-1fcce6965517\",\"type\":\"Line\"},{\"attributes\":{\"axis_label_text_font_size\":{\"value\":\"14pt\"},\"formatter\":{\"id\":\"27f677ce-32ea-461f-bcdc-a1554e622fb0\",\"type\":\"BasicTickFormatter\"},\"plot\":{\"id\":\"8264275a-b390-4442-bb4c-bf5c2d7d4544\",\"subtype\":\"Figure\",\"type\":\"Plot\"},\"ticker\":{\"id\":\"e9afce5c-172d-4cdf-985b-ea065451086d\",\"type\":\"BasicTicker\"}},\"id\":\"06060d9e-da3e-4422-bc77-c3f307c39ff4\",\"type\":\"LinearAxis\"},{\"attributes\":{},\"id\":\"8f588507-12b8-420c-bdc3-0d0be698afd8\",\"type\":\"ToolEvents\"},{\"attributes\":{\"plot\":{\"id\":\"b3c7f24f-7e8a-449b-abf0-1d7b1fbe6005\",\"subtype\":\"Figure\",\"type\":\"Plot\"}},\"id\":\"67b1fc25-47fe-4525-b093-683bbbf72bf3\",\"type\":\"WheelZoomTool\"},{\"attributes\":{},\"id\":\"e2c4cbfc-a1e0-4819-a82d-66885021f7aa\",\"type\":\"BasicTickFormatter\"},{\"attributes\":{\"line_alpha\":{\"value\":0.1},\"line_color\":{\"value\":\"#1f77b4\"},\"line_width\":{\"value\":3},\"x\":{\"field\":\"x\"},\"y\":{\"field\":\"y\"}},\"id\":\"8ab6ad89-d817-4399-81b6-833bf615de5e\",\"type\":\"Line\"},{\"attributes\":{\"data_source\":{\"id\":\"81595931-53c6-408d-93fd-ff11292f1a40\",\"type\":\"ColumnDataSource\"},\"glyph\":{\"id\":\"7555d007-1fe6-49be-bc57-5297f324e7d5\",\"type\":\"Circle\"},\"hover_glyph\":null,\"nonselection_glyph\":{\"id\":\"54f52dad-3213-4383-a27b-11bec3384dca\",\"type\":\"Circle\"},\"selection_glyph\":null},\"id\":\"a3c34fdb-07c0-4e35-96ec-edb93b089dea\",\"type\":\"GlyphRenderer\"},{\"attributes\":{\"plot\":{\"id\":\"8264275a-b390-4442-bb4c-bf5c2d7d4544\",\"subtype\":\"Figure\",\"type\":\"Plot\"}},\"id\":\"332d3a32-5e88-4047-bd55-e93e64423f64\",\"type\":\"ResetTool\"},{\"attributes\":{\"axis_label_text_font_size\":{\"value\":\"14pt\"},\"formatter\":{\"id\":\"e2c4cbfc-a1e0-4819-a82d-66885021f7aa\",\"type\":\"BasicTickFormatter\"},\"plot\":{\"id\":\"dcd1d8b5-e0aa-4a1f-ae91-0c8a50fabb01\",\"subtype\":\"Figure\",\"type\":\"Plot\"},\"ticker\":{\"id\":\"af22d204-a11c-4a24-b7a3-b7dec41ce7e6\",\"type\":\"BasicTicker\"}},\"id\":\"d879ab90-609f-44e0-bd0a-5bd039e6f5b2\",\"type\":\"LinearAxis\"},{\"attributes\":{\"callback\":null,\"column_names\":[\"x\",\"y\"],\"data\":{\"x\":[-10.0,-9.696969696969697,-9.393939393939394,-9.09090909090909,-8.787878787878787,-8.484848484848484,-8.181818181818182,-7.878787878787879,-7.575757575757576,-7.2727272727272725,-6.96969696969697,-6.666666666666666,-6.363636363636363,-6.0606060606060606,-5.757575757575758,-5.454545454545454,-5.151515151515151,-4.848484848484849,-4.545454545454545,-4.242424242424242,-3.9393939393939394,-3.636363636363636,-3.333333333333333,-3.0303030303030303,-2.7272727272727266,-2.424242424242424,-2.121212121212121,-1.8181818181818183,-1.5151515151515156,-1.212121212121211,-0.9090909090909083,-0.6060606060606055,-0.30303030303030276,0.0,0.30303030303030276,0.6060606060606055,0.9090909090909101,1.2121212121212128,1.5151515151515156,1.8181818181818183,2.121212121212121,2.424242424242424,2.7272727272727284,3.030303030303031,3.333333333333334,3.6363636363636367,3.9393939393939394,4.242424242424242,4.545454545454547,4.8484848484848495,5.151515151515152,5.454545454545455,5.757575757575758,6.060606060606062,6.363636363636363,6.666666666666668,6.969696969696969,7.272727272727273,7.575757575757578,7.878787878787879,8.181818181818183,8.484848484848484,8.787878787878789,9.09090909090909,9.393939393939394,9.696969696969699,10.0,10.303030303030305,10.606060606060606,10.90909090909091,11.212121212121211,11.515151515151516,11.81818181818182,12.121212121212121,12.424242424242426,12.727272727272727,13.030303030303031,13.333333333333336,13.636363636363637,13.939393939393941,14.242424242424242,14.545454545454547,14.848484848484848,15.151515151515152,15.454545454545457,15.757575757575758,16.060606060606062,16.363636363636363,16.666666666666668,16.96969696969697,17.272727272727273,17.575757575757578,17.87878787878788,18.181818181818183,18.484848484848484,18.78787878787879,19.090909090909093,19.393939393939394,19.6969696969697,20.0],\"y\":[165.0,157.21303948576679,149.6097337006428,142.19008264462806,134.95408631772267,127.90174471992653,121.03305785123968,114.34802571166207,107.84664830119377,101.5289256198347,95.39485766758494,89.44444444444443,83.67768595041322,78.09458218549128,72.69513314967861,67.47933884297521,62.44719926538108,57.59871441689624,52.93388429752065,48.45270890725436,44.15518824609734,40.04132231404958,36.11111111111111,32.364554637281906,28.801652892561975,25.422405876951327,22.226813590449954,19.214876033057852,16.386593204775025,13.74196510560146,11.280991735537183,9.003673094582181,6.910009182736454,5.0,3.2736455463728205,1.7309458218549154,0.37190082644627687,-0.8034894398530792,-1.7952249770431603,-2.6033057851239674,-3.2277318640954995,-3.6685032139577594,-3.9256198347107443,-3.9990817263544542,-3.8888888888888893,-3.5950413223140494,-3.1175390266299363,-2.4563820018365483,-1.61157024793388,-0.5831037649219439,0.6290174471992671,2.0247933884297495,3.6042240587695176,5.367309458218557,7.314049586776861,9.44444444444445,11.758494031221296,14.256198347107443,16.937557392102867,19.802571166207528,22.85123966942151,26.083562901744713,29.499540863177245,33.09917355371899,36.882460973370065,40.84940312213042,45.0,49.334251606978896,53.85215794306702,58.553719008264466,63.438934802571154,68.50780532598716,73.76033057851244,79.19651056014692,84.81634527089074,90.6198347107438,96.60697887970616,102.77777777777781,109.1322314049587,115.6703397612489,122.39210284664829,129.29752066115705,136.386593204775,143.65932047750232,151.1157024793389,158.75573921028467,166.57943067033983,174.58677685950414,182.77777777777783,191.15243342516067,199.71074380165294,208.45270890725445,217.37832874196508,226.4876033057852,235.78053259871442,245.25711662075298,254.9173553719009,264.76124885215796,274.7887970615244,285.0]}},\"id\":\"cc586fdc-0923-4f88-b6f6-a4cbe4048b4d\",\"type\":\"ColumnDataSource\"},{\"attributes\":{\"dimension\":1,\"plot\":{\"id\":\"69ad5276-f29a-4e15-b279-3cc96ae12623\",\"subtype\":\"Figure\",\"type\":\"Plot\"},\"ticker\":{\"id\":\"3733e797-8980-4006-a1ef-f18e979bf3da\",\"type\":\"BasicTicker\"}},\"id\":\"1bdd881f-dc26-4d4e-b1bd-73b2cb946798\",\"type\":\"Grid\"},{\"attributes\":{},\"id\":\"1bf7ba6b-5466-499e-adf4-7cf6ac70e6c9\",\"type\":\"BasicTicker\"},{\"attributes\":{\"plot\":{\"id\":\"69ad5276-f29a-4e15-b279-3cc96ae12623\",\"subtype\":\"Figure\",\"type\":\"Plot\"}},\"id\":\"da6da0e5-2e7a-493a-ac44-98bce3779e0e\",\"type\":\"PanTool\"},{\"attributes\":{\"below\":[{\"id\":\"53d62889-30d7-46d3-97ab-74f1342c1d09\",\"type\":\"LinearAxis\"}],\"left\":[{\"id\":\"75eb2202-ddcb-4e3f-a85e-1729f9a4c1c2\",\"type\":\"LinearAxis\"}],\"plot_height\":250,\"plot_width\":400,\"renderers\":[{\"id\":\"53d62889-30d7-46d3-97ab-74f1342c1d09\",\"type\":\"LinearAxis\"},{\"id\":\"8e731374-c300-4952-b4f5-00998ec2f3ee\",\"type\":\"Grid\"},{\"id\":\"75eb2202-ddcb-4e3f-a85e-1729f9a4c1c2\",\"type\":\"LinearAxis\"},{\"id\":\"0cf1090c-d2c8-4b6c-ab1d-2b3eff60e8dc\",\"type\":\"Grid\"},{\"id\":\"7832a325-af8d-453e-894d-d896e6f54760\",\"type\":\"GlyphRenderer\"},{\"id\":\"786a9e1a-a062-4101-998a-3d35f3968082\",\"type\":\"GlyphRenderer\"}],\"title\":\"Saddle point of function\",\"title_text_font_size\":{\"value\":\"12pt\"},\"tool_events\":{\"id\":\"c569ddf3-75bc-4cb8-9d19-c0131038d05f\",\"type\":\"ToolEvents\"},\"tools\":[{\"id\":\"67b1fc25-47fe-4525-b093-683bbbf72bf3\",\"type\":\"WheelZoomTool\"},{\"id\":\"44030659-e662-4f39-ac3c-268c874576ff\",\"type\":\"ResetTool\"},{\"id\":\"db0a73f5-2461-4442-a9ab-e1627ce01992\",\"type\":\"PanTool\"}],\"x_range\":{\"id\":\"2891479f-b0c3-4e2e-b665-4f8d95fb75e0\",\"type\":\"DataRange1d\"},\"y_range\":{\"id\":\"cb4389c1-ac10-4e61-814f-563f498aba4a\",\"type\":\"DataRange1d\"}},\"id\":\"b3c7f24f-7e8a-449b-abf0-1d7b1fbe6005\",\"subtype\":\"Figure\",\"type\":\"Plot\"},{\"attributes\":{\"data_source\":{\"id\":\"75e9a280-bac1-487b-bd8d-79e69b84819b\",\"type\":\"ColumnDataSource\"},\"glyph\":{\"id\":\"eb37e89b-6099-4d07-8b69-934158b2d1ae\",\"type\":\"Line\"},\"hover_glyph\":null,\"nonselection_glyph\":{\"id\":\"359fcdd8-76ff-40a3-95b0-482c565f816d\",\"type\":\"Line\"},\"selection_glyph\":null},\"id\":\"7832a325-af8d-453e-894d-d896e6f54760\",\"type\":\"GlyphRenderer\"},{\"attributes\":{\"data_source\":{\"id\":\"e33d1db5-278e-480e-aaad-6d89f0c8ec12\",\"type\":\"ColumnDataSource\"},\"glyph\":{\"id\":\"547c4976-d370-48eb-84b9-1fcce6965517\",\"type\":\"Line\"},\"hover_glyph\":null,\"nonselection_glyph\":{\"id\":\"1c40b622-a919-4f3e-b7ed-960da1ca927d\",\"type\":\"Line\"},\"selection_glyph\":null},\"id\":\"cd407637-0bf6-4627-9c15-aa955d4bbd7b\",\"type\":\"GlyphRenderer\"},{\"attributes\":{\"axis_label_text_font_size\":{\"value\":\"14pt\"},\"formatter\":{\"id\":\"478aeb47-9bde-434c-81ac-feb078642e9a\",\"type\":\"BasicTickFormatter\"},\"plot\":{\"id\":\"dcd1d8b5-e0aa-4a1f-ae91-0c8a50fabb01\",\"subtype\":\"Figure\",\"type\":\"Plot\"},\"ticker\":{\"id\":\"af20d824-9b30-4ae7-ba6f-52a6d7fddc07\",\"type\":\"BasicTicker\"}},\"id\":\"a62f2b63-6350-4b54-b59f-49f44baba190\",\"type\":\"LinearAxis\"},{\"attributes\":{\"line_alpha\":{\"value\":0.1},\"line_color\":{\"value\":\"#1f77b4\"},\"line_width\":{\"value\":3},\"x\":{\"field\":\"x\"},\"y\":{\"field\":\"y\"}},\"id\":\"359fcdd8-76ff-40a3-95b0-482c565f816d\",\"type\":\"Line\"},{\"attributes\":{\"callback\":null,\"column_names\":[\"x\",\"y\"],\"data\":{\"x\":[-15.0,-14.696969696969697,-14.393939393939394,-14.09090909090909,-13.787878787878787,-13.484848484848484,-13.181818181818182,-12.878787878787879,-12.575757575757576,-12.272727272727273,-11.969696969696969,-11.666666666666666,-11.363636363636363,-11.06060606060606,-10.757575757575758,-10.454545454545453,-10.151515151515152,-9.848484848484848,-9.545454545454545,-9.242424242424242,-8.93939393939394,-8.636363636363637,-8.333333333333332,-8.030303030303031,-7.727272727272727,-7.424242424242424,-7.121212121212121,-6.818181818181818,-6.515151515151516,-6.212121212121211,-5.909090909090908,-5.6060606060606055,-5.303030303030303,-5.0,-4.696969696969697,-4.3939393939393945,-4.09090909090909,-3.787878787878787,-3.4848484848484844,-3.1818181818181817,-2.878787878787879,-2.575757575757576,-2.2727272727272716,-1.9696969696969688,-1.666666666666666,-1.3636363636363633,-1.0606060606060606,-0.7575757575757578,-0.45454545454545325,-0.1515151515151505,0.15151515151515227,0.45454545454545503,0.7575757575757578,1.0606060606060623,1.3636363636363633,1.6666666666666679,1.9696969696969688,2.2727272727272734,2.575757575757578,2.878787878787879,3.1818181818181834,3.4848484848484844,3.787878787878789,4.09090909090909,4.3939393939393945,4.696969696969699,5.0,5.3030303030303045,5.6060606060606055,5.90909090909091,6.212121212121211,6.515151515151516,6.81818181818182,7.121212121212121,7.424242424242426,7.727272727272727,8.030303030303031,8.333333333333336,8.636363636363637,8.939393939393941,9.242424242424242,9.545454545454547,9.848484848484848,10.151515151515152,10.454545454545457,10.757575757575758,11.060606060606062,11.363636363636363,11.666666666666668,11.969696969696969,12.272727272727273,12.575757575757578,12.878787878787879,13.181818181818183,13.484848484848484,13.787878787878789,14.090909090909093,14.393939393939394,14.696969696969699,15.0],\"y\":[225.0,216.00091827364557,207.18549127640037,198.55371900826444,190.10560146923783,181.84113865932048,173.7603305785124,165.8631772268136,158.14967860422408,150.61983471074382,143.2736455463728,136.1111111111111,129.13223140495867,122.33700642791551,115.72543617998164,109.297520661157,103.05325987144171,96.99265381083562,91.11570247933884,85.42240587695133,79.91276400367309,74.58677685950414,69.44444444444443,64.48576675849405,59.71074380165288,55.119375573921026,50.711662075298435,46.48760330578513,42.44719926538109,38.5904499540863,34.91735537190082,31.427915518824605,28.122130394857663,25.0,22.061524334251608,19.306703397612495,16.73553719008264,14.34802571166207,12.144168962350777,10.12396694214876,8.287419651056016,6.634527089072545,5.165289256198342,3.879706152433422,2.777777777777776,1.859504132231404,1.1248852157943066,0.5739210284664833,0.2066115702479327,0.02295684113865901,0.022956841138659548,0.20661157024793433,0.5739210284664833,1.1248852157943103,1.859504132231404,2.7777777777777817,3.879706152433422,5.16528925619835,6.634527089072555,8.287419651056016,10.12396694214877,12.144168962350777,14.348025711662084,16.73553719008264,19.306703397612495,22.061524334251626,25.0,28.122130394857685,31.427915518824605,34.91735537190084,38.5904499540863,42.44719926538109,46.48760330578515,50.711662075298435,55.11937557392105,59.71074380165288,64.48576675849405,69.44444444444449,74.58677685950414,79.91276400367313,85.42240587695133,91.11570247933886,96.99265381083562,103.05325987144171,109.29752066115707,115.72543617998164,122.33700642791555,129.13223140495867,136.11111111111114,143.2736455463728,150.61983471074382,158.1496786042241,165.8631772268136,173.76033057851245,181.84113865932048,190.10560146923785,198.55371900826452,207.18549127640037,216.0009182736456,225.0]}},\"id\":\"0038b08c-2b20-49be-ba1f-5a678e37eba4\",\"type\":\"ColumnDataSource\"},{\"attributes\":{\"axis_label_text_font_size\":{\"value\":\"14pt\"},\"formatter\":{\"id\":\"aa4f017f-fec0-4acc-9fab-1898b36165fa\",\"type\":\"BasicTickFormatter\"},\"plot\":{\"id\":\"b3c7f24f-7e8a-449b-abf0-1d7b1fbe6005\",\"subtype\":\"Figure\",\"type\":\"Plot\"},\"ticker\":{\"id\":\"d5133bfd-6ac8-48b5-9bff-88acd2fbe7f0\",\"type\":\"BasicTicker\"}},\"id\":\"75eb2202-ddcb-4e3f-a85e-1729f9a4c1c2\",\"type\":\"LinearAxis\"},{\"attributes\":{\"fill_color\":{\"value\":\"orange\"},\"line_color\":{\"value\":\"orange\"},\"size\":{\"units\":\"screen\",\"value\":10},\"x\":{\"value\":3},\"y\":{\"value\":-4}},\"id\":\"e1150ed1-7006-4343-88b9-9c2b6ad8cb84\",\"type\":\"Circle\"},{\"attributes\":{\"callback\":null},\"id\":\"da1e756c-ce30-41fb-b8df-16a4e1f0e02b\",\"type\":\"DataRange1d\"},{\"attributes\":{},\"id\":\"e0bc0d96-87d1-42c3-9ae3-3e9981b1aaee\",\"type\":\"BasicTickFormatter\"},{\"attributes\":{\"axis_label_text_font_size\":{\"value\":\"14pt\"},\"formatter\":{\"id\":\"8997dfd5-e9ab-458f-b58a-0c0080e3d151\",\"type\":\"BasicTickFormatter\"},\"plot\":{\"id\":\"69ad5276-f29a-4e15-b279-3cc96ae12623\",\"subtype\":\"Figure\",\"type\":\"Plot\"},\"ticker\":{\"id\":\"3733e797-8980-4006-a1ef-f18e979bf3da\",\"type\":\"BasicTicker\"}},\"id\":\"fdf28e9e-c390-4606-9010-cfc7f7ed6caa\",\"type\":\"LinearAxis\"},{\"attributes\":{\"plot\":{\"id\":\"dcd1d8b5-e0aa-4a1f-ae91-0c8a50fabb01\",\"subtype\":\"Figure\",\"type\":\"Plot\"}},\"id\":\"78299cde-ba74-4fa0-afc1-ec3aa8732940\",\"type\":\"ResetTool\"},{\"attributes\":{},\"id\":\"27f677ce-32ea-461f-bcdc-a1554e622fb0\",\"type\":\"BasicTickFormatter\"},{\"attributes\":{},\"id\":\"3733e797-8980-4006-a1ef-f18e979bf3da\",\"type\":\"BasicTicker\"},{\"attributes\":{\"plot\":{\"id\":\"b3c7f24f-7e8a-449b-abf0-1d7b1fbe6005\",\"subtype\":\"Figure\",\"type\":\"Plot\"}},\"id\":\"db0a73f5-2461-4442-a9ab-e1627ce01992\",\"type\":\"PanTool\"},{\"attributes\":{\"below\":[{\"id\":\"e508f65d-021f-4d67-88da-91ddbd1df5b9\",\"type\":\"LinearAxis\"}],\"left\":[{\"id\":\"fdf28e9e-c390-4606-9010-cfc7f7ed6caa\",\"type\":\"LinearAxis\"}],\"plot_height\":250,\"plot_width\":400,\"renderers\":[{\"id\":\"e508f65d-021f-4d67-88da-91ddbd1df5b9\",\"type\":\"LinearAxis\"},{\"id\":\"12da5cc1-d6fb-4315-9589-8fc3314ee3c5\",\"type\":\"Grid\"},{\"id\":\"fdf28e9e-c390-4606-9010-cfc7f7ed6caa\",\"type\":\"LinearAxis\"},{\"id\":\"1bdd881f-dc26-4d4e-b1bd-73b2cb946798\",\"type\":\"Grid\"},{\"id\":\"14725d95-4e2c-4f49-90f6-64de769dd496\",\"type\":\"GlyphRenderer\"},{\"id\":\"10b6c7bd-fd85-4659-b9c4-b7757fca6422\",\"type\":\"GlyphRenderer\"}],\"title_text_font_size\":{\"value\":\"12pt\"},\"tool_events\":{\"id\":\"7d70e9fb-42ab-4858-9a04-2a1a70fa7b7e\",\"type\":\"ToolEvents\"},\"tools\":[{\"id\":\"a3162cce-d0ab-44e2-b0cb-4b7b4ee36b5a\",\"type\":\"WheelZoomTool\"},{\"id\":\"93ed511d-344f-4e3d-a79a-853a20bf1b72\",\"type\":\"ResetTool\"},{\"id\":\"da6da0e5-2e7a-493a-ac44-98bce3779e0e\",\"type\":\"PanTool\"}],\"x_range\":{\"id\":\"8125705b-e710-4af1-a96c-030e88f30a09\",\"type\":\"DataRange1d\"},\"y_range\":{\"id\":\"da1e756c-ce30-41fb-b8df-16a4e1f0e02b\",\"type\":\"DataRange1d\"}},\"id\":\"69ad5276-f29a-4e15-b279-3cc96ae12623\",\"subtype\":\"Figure\",\"type\":\"Plot\"},{\"attributes\":{\"plot\":{\"id\":\"dcd1d8b5-e0aa-4a1f-ae91-0c8a50fabb01\",\"subtype\":\"Figure\",\"type\":\"Plot\"}},\"id\":\"708baf6d-5c48-4121-a0b2-9d477dbea908\",\"type\":\"WheelZoomTool\"},{\"attributes\":{\"callback\":null},\"id\":\"1ae1bbec-15ea-480d-9f66-648aa4fee149\",\"type\":\"DataRange1d\"},{\"attributes\":{\"fill_alpha\":{\"value\":0.1},\"fill_color\":{\"value\":\"#1f77b4\"},\"line_alpha\":{\"value\":0.1},\"line_color\":{\"value\":\"#1f77b4\"},\"size\":{\"units\":\"screen\",\"value\":10},\"x\":{\"value\":3},\"y\":{\"value\":-4}},\"id\":\"7e80fd73-a864-4fc8-9e99-d2f7a43caef7\",\"type\":\"Circle\"},{\"attributes\":{\"axis_label_text_font_size\":{\"value\":\"14pt\"},\"formatter\":{\"id\":\"ef680ef2-7026-40bf-8d7d-0280b5c9140b\",\"type\":\"BasicTickFormatter\"},\"plot\":{\"id\":\"b3c7f24f-7e8a-449b-abf0-1d7b1fbe6005\",\"subtype\":\"Figure\",\"type\":\"Plot\"},\"ticker\":{\"id\":\"ace60afd-ae8d-45b3-8231-38d76aa7c863\",\"type\":\"BasicTicker\"}},\"id\":\"53d62889-30d7-46d3-97ab-74f1342c1d09\",\"type\":\"LinearAxis\"},{\"attributes\":{\"below\":[{\"id\":\"d879ab90-609f-44e0-bd0a-5bd039e6f5b2\",\"type\":\"LinearAxis\"}],\"left\":[{\"id\":\"a62f2b63-6350-4b54-b59f-49f44baba190\",\"type\":\"LinearAxis\"}],\"plot_height\":250,\"plot_width\":400,\"renderers\":[{\"id\":\"d879ab90-609f-44e0-bd0a-5bd039e6f5b2\",\"type\":\"LinearAxis\"},{\"id\":\"5967a76c-b680-41df-868f-ab6e379ece96\",\"type\":\"Grid\"},{\"id\":\"a62f2b63-6350-4b54-b59f-49f44baba190\",\"type\":\"LinearAxis\"},{\"id\":\"03520f6f-e102-4d29-8f75-f6e854ce89cc\",\"type\":\"Grid\"},{\"id\":\"cd407637-0bf6-4627-9c15-aa955d4bbd7b\",\"type\":\"GlyphRenderer\"},{\"id\":\"a3c34fdb-07c0-4e35-96ec-edb93b089dea\",\"type\":\"GlyphRenderer\"}],\"title\":\"Local maximum of function\",\"title_text_font_size\":{\"value\":\"12pt\"},\"tool_events\":{\"id\":\"f44f05eb-2261-41cf-ba1e-d3d35f0402e9\",\"type\":\"ToolEvents\"},\"tools\":[{\"id\":\"708baf6d-5c48-4121-a0b2-9d477dbea908\",\"type\":\"WheelZoomTool\"},{\"id\":\"78299cde-ba74-4fa0-afc1-ec3aa8732940\",\"type\":\"ResetTool\"},{\"id\":\"569b8fe6-3f0a-4cbc-941d-ce8d7c72bca0\",\"type\":\"PanTool\"}],\"x_range\":{\"id\":\"d9e41e06-ed9b-4cdc-94e7-8f22c31cac56\",\"type\":\"DataRange1d\"},\"y_range\":{\"id\":\"4d599ee9-4953-485f-9d52-d284898423e1\",\"type\":\"DataRange1d\"}},\"id\":\"dcd1d8b5-e0aa-4a1f-ae91-0c8a50fabb01\",\"subtype\":\"Figure\",\"type\":\"Plot\"},{\"attributes\":{\"plot\":{\"id\":\"8264275a-b390-4442-bb4c-bf5c2d7d4544\",\"subtype\":\"Figure\",\"type\":\"Plot\"},\"ticker\":{\"id\":\"1bf7ba6b-5466-499e-adf4-7cf6ac70e6c9\",\"type\":\"BasicTicker\"}},\"id\":\"c0713088-150e-4574-8e73-eacd2eb24f6b\",\"type\":\"Grid\"},{\"attributes\":{\"dimension\":1,\"plot\":{\"id\":\"dcd1d8b5-e0aa-4a1f-ae91-0c8a50fabb01\",\"subtype\":\"Figure\",\"type\":\"Plot\"},\"ticker\":{\"id\":\"af20d824-9b30-4ae7-ba6f-52a6d7fddc07\",\"type\":\"BasicTicker\"}},\"id\":\"03520f6f-e102-4d29-8f75-f6e854ce89cc\",\"type\":\"Grid\"},{\"attributes\":{\"dimension\":1,\"plot\":{\"id\":\"8264275a-b390-4442-bb4c-bf5c2d7d4544\",\"subtype\":\"Figure\",\"type\":\"Plot\"},\"ticker\":{\"id\":\"e9afce5c-172d-4cdf-985b-ea065451086d\",\"type\":\"BasicTicker\"}},\"id\":\"732b2540-ad09-4864-8b05-3b1650d9d094\",\"type\":\"Grid\"},{\"attributes\":{},\"id\":\"45b3a37e-5549-4a4f-becf-2ada5016b8bd\",\"type\":\"BasicTickFormatter\"},{\"attributes\":{\"callback\":null},\"id\":\"754c47bf-25bc-4834-bc5f-99ac5483cbc7\",\"type\":\"ColumnDataSource\"},{\"attributes\":{\"plot\":{\"id\":\"69ad5276-f29a-4e15-b279-3cc96ae12623\",\"subtype\":\"Figure\",\"type\":\"Plot\"}},\"id\":\"a3162cce-d0ab-44e2-b0cb-4b7b4ee36b5a\",\"type\":\"WheelZoomTool\"},{\"attributes\":{\"axis_label_text_font_size\":{\"value\":\"14pt\"},\"formatter\":{\"id\":\"e0bc0d96-87d1-42c3-9ae3-3e9981b1aaee\",\"type\":\"BasicTickFormatter\"},\"plot\":{\"id\":\"8264275a-b390-4442-bb4c-bf5c2d7d4544\",\"subtype\":\"Figure\",\"type\":\"Plot\"},\"ticker\":{\"id\":\"1bf7ba6b-5466-499e-adf4-7cf6ac70e6c9\",\"type\":\"BasicTicker\"}},\"id\":\"bdca23c1-f57b-422a-b916-a1c931c61a4a\",\"type\":\"LinearAxis\"},{\"attributes\":{\"fill_alpha\":{\"value\":0.1},\"fill_color\":{\"value\":\"#1f77b4\"},\"line_alpha\":{\"value\":0.1},\"line_color\":{\"value\":\"#1f77b4\"},\"size\":{\"units\":\"screen\",\"value\":10},\"x\":{\"value\":0},\"y\":{\"value\":0}},\"id\":\"eeb52ec0-81a8-4236-90c0-087cb9f4faa8\",\"type\":\"Circle\"},{\"attributes\":{\"plot\":{\"id\":\"dcd1d8b5-e0aa-4a1f-ae91-0c8a50fabb01\",\"subtype\":\"Figure\",\"type\":\"Plot\"}},\"id\":\"569b8fe6-3f0a-4cbc-941d-ce8d7c72bca0\",\"type\":\"PanTool\"},{\"attributes\":{\"callback\":null},\"id\":\"8125705b-e710-4af1-a96c-030e88f30a09\",\"type\":\"DataRange1d\"},{\"attributes\":{\"dimension\":1,\"plot\":{\"id\":\"b3c7f24f-7e8a-449b-abf0-1d7b1fbe6005\",\"subtype\":\"Figure\",\"type\":\"Plot\"},\"ticker\":{\"id\":\"d5133bfd-6ac8-48b5-9bff-88acd2fbe7f0\",\"type\":\"BasicTicker\"}},\"id\":\"0cf1090c-d2c8-4b6c-ab1d-2b3eff60e8dc\",\"type\":\"Grid\"},{\"attributes\":{\"fill_color\":{\"value\":\"orange\"},\"line_color\":{\"value\":\"orange\"},\"size\":{\"units\":\"screen\",\"value\":10},\"x\":{\"value\":0},\"y\":{\"value\":0}},\"id\":\"7555d007-1fe6-49be-bc57-5297f324e7d5\",\"type\":\"Circle\"},{\"attributes\":{},\"id\":\"d5133bfd-6ac8-48b5-9bff-88acd2fbe7f0\",\"type\":\"BasicTicker\"},{\"attributes\":{\"data_source\":{\"id\":\"b3225a98-728b-42ac-9de2-f929e7fb7f31\",\"type\":\"ColumnDataSource\"},\"glyph\":{\"id\":\"19fc54c0-0997-4b20-aaee-6def83d35156\",\"type\":\"Circle\"},\"hover_glyph\":null,\"nonselection_glyph\":{\"id\":\"cb24636e-47f3-4dbf-ad89-8f8a0f00b081\",\"type\":\"Circle\"},\"selection_glyph\":null},\"id\":\"af573154-9bb6-4ee7-a3e4-4ba25e86364b\",\"type\":\"GlyphRenderer\"},{\"attributes\":{},\"id\":\"8997dfd5-e9ab-458f-b58a-0c0080e3d151\",\"type\":\"BasicTickFormatter\"},{\"attributes\":{\"fill_alpha\":{\"value\":0.1},\"fill_color\":{\"value\":\"#1f77b4\"},\"line_alpha\":{\"value\":0.1},\"line_color\":{\"value\":\"#1f77b4\"},\"size\":{\"units\":\"screen\",\"value\":10},\"x\":{\"value\":0},\"y\":{\"value\":0}},\"id\":\"54f52dad-3213-4383-a27b-11bec3384dca\",\"type\":\"Circle\"},{\"attributes\":{\"line_alpha\":{\"value\":0.1},\"line_color\":{\"value\":\"#1f77b4\"},\"line_width\":{\"value\":3},\"x\":{\"field\":\"x\"},\"y\":{\"field\":\"y\"}},\"id\":\"40587fa5-5b53-4cee-b673-0ca0fe1a5bad\",\"type\":\"Line\"},{\"attributes\":{},\"id\":\"ace60afd-ae8d-45b3-8231-38d76aa7c863\",\"type\":\"BasicTicker\"},{\"attributes\":{},\"id\":\"aa4f017f-fec0-4acc-9fab-1898b36165fa\",\"type\":\"BasicTickFormatter\"},{\"attributes\":{},\"id\":\"af22d204-a11c-4a24-b7a3-b7dec41ce7e6\",\"type\":\"BasicTicker\"},{\"attributes\":{\"below\":[{\"id\":\"bdca23c1-f57b-422a-b916-a1c931c61a4a\",\"type\":\"LinearAxis\"}],\"left\":[{\"id\":\"06060d9e-da3e-4422-bc77-c3f307c39ff4\",\"type\":\"LinearAxis\"}],\"plot_height\":250,\"plot_width\":400,\"renderers\":[{\"id\":\"bdca23c1-f57b-422a-b916-a1c931c61a4a\",\"type\":\"LinearAxis\"},{\"id\":\"c0713088-150e-4574-8e73-eacd2eb24f6b\",\"type\":\"Grid\"},{\"id\":\"06060d9e-da3e-4422-bc77-c3f307c39ff4\",\"type\":\"LinearAxis\"},{\"id\":\"732b2540-ad09-4864-8b05-3b1650d9d094\",\"type\":\"Grid\"},{\"id\":\"495828d9-feb6-470e-b771-63933a422f20\",\"type\":\"GlyphRenderer\"},{\"id\":\"af573154-9bb6-4ee7-a3e4-4ba25e86364b\",\"type\":\"GlyphRenderer\"}],\"title\":\"Local minimum of function\",\"title_text_font_size\":{\"value\":\"12pt\"},\"tool_events\":{\"id\":\"8f588507-12b8-420c-bdc3-0d0be698afd8\",\"type\":\"ToolEvents\"},\"tools\":[{\"id\":\"d3a8b4d6-7ba5-4b51-939a-480d4e921890\",\"type\":\"WheelZoomTool\"},{\"id\":\"332d3a32-5e88-4047-bd55-e93e64423f64\",\"type\":\"ResetTool\"},{\"id\":\"dd7ad3e5-cb8c-448a-9aa0-354377f4285d\",\"type\":\"PanTool\"}],\"x_range\":{\"id\":\"1ae1bbec-15ea-480d-9f66-648aa4fee149\",\"type\":\"DataRange1d\"},\"y_range\":{\"id\":\"cfb57749-8962-401e-8655-4cadd7b4e8cc\",\"type\":\"DataRange1d\"}},\"id\":\"8264275a-b390-4442-bb4c-bf5c2d7d4544\",\"subtype\":\"Figure\",\"type\":\"Plot\"},{\"attributes\":{\"callback\":null,\"column_names\":[\"x\",\"y\"],\"data\":{\"x\":[-15.0,-14.696969696969697,-14.393939393939394,-14.09090909090909,-13.787878787878787,-13.484848484848484,-13.181818181818182,-12.878787878787879,-12.575757575757576,-12.272727272727273,-11.969696969696969,-11.666666666666666,-11.363636363636363,-11.06060606060606,-10.757575757575758,-10.454545454545453,-10.151515151515152,-9.848484848484848,-9.545454545454545,-9.242424242424242,-8.93939393939394,-8.636363636363637,-8.333333333333332,-8.030303030303031,-7.727272727272727,-7.424242424242424,-7.121212121212121,-6.818181818181818,-6.515151515151516,-6.212121212121211,-5.909090909090908,-5.6060606060606055,-5.303030303030303,-5.0,-4.696969696969697,-4.3939393939393945,-4.09090909090909,-3.787878787878787,-3.4848484848484844,-3.1818181818181817,-2.878787878787879,-2.575757575757576,-2.2727272727272716,-1.9696969696969688,-1.666666666666666,-1.3636363636363633,-1.0606060606060606,-0.7575757575757578,-0.45454545454545325,-0.1515151515151505,0.15151515151515227,0.45454545454545503,0.7575757575757578,1.0606060606060623,1.3636363636363633,1.6666666666666679,1.9696969696969688,2.2727272727272734,2.575757575757578,2.878787878787879,3.1818181818181834,3.4848484848484844,3.787878787878789,4.09090909090909,4.3939393939393945,4.696969696969699,5.0,5.3030303030303045,5.6060606060606055,5.90909090909091,6.212121212121211,6.515151515151516,6.81818181818182,7.121212121212121,7.424242424242426,7.727272727272727,8.030303030303031,8.333333333333336,8.636363636363637,8.939393939393941,9.242424242424242,9.545454545454547,9.848484848484848,10.151515151515152,10.454545454545457,10.757575757575758,11.060606060606062,11.363636363636363,11.666666666666668,11.969696969696969,12.272727272727273,12.575757575757578,12.878787878787879,13.181818181818183,13.484848484848484,13.787878787878789,14.090909090909093,14.393939393939394,14.696969696969699,15.0],\"y\":[-225.0,-216.00091827364557,-207.18549127640037,-198.55371900826444,-190.10560146923783,-181.84113865932048,-173.7603305785124,-165.8631772268136,-158.14967860422408,-150.61983471074382,-143.2736455463728,-136.1111111111111,-129.13223140495867,-122.33700642791551,-115.72543617998164,-109.297520661157,-103.05325987144171,-96.99265381083562,-91.11570247933884,-85.42240587695133,-79.91276400367309,-74.58677685950414,-69.44444444444443,-64.48576675849405,-59.71074380165288,-55.119375573921026,-50.711662075298435,-46.48760330578513,-42.44719926538109,-38.5904499540863,-34.91735537190082,-31.427915518824605,-28.122130394857663,-25.0,-22.061524334251608,-19.306703397612495,-16.73553719008264,-14.34802571166207,-12.144168962350777,-10.12396694214876,-8.287419651056016,-6.634527089072545,-5.165289256198342,-3.879706152433422,-2.777777777777776,-1.859504132231404,-1.1248852157943066,-0.5739210284664833,-0.2066115702479327,-0.02295684113865901,-0.022956841138659548,-0.20661157024793433,-0.5739210284664833,-1.1248852157943103,-1.859504132231404,-2.7777777777777817,-3.879706152433422,-5.16528925619835,-6.634527089072555,-8.287419651056016,-10.12396694214877,-12.144168962350777,-14.348025711662084,-16.73553719008264,-19.306703397612495,-22.061524334251626,-25.0,-28.122130394857685,-31.427915518824605,-34.91735537190084,-38.5904499540863,-42.44719926538109,-46.48760330578515,-50.711662075298435,-55.11937557392105,-59.71074380165288,-64.48576675849405,-69.44444444444449,-74.58677685950414,-79.91276400367313,-85.42240587695133,-91.11570247933886,-96.99265381083562,-103.05325987144171,-109.29752066115707,-115.72543617998164,-122.33700642791555,-129.13223140495867,-136.11111111111114,-143.2736455463728,-150.61983471074382,-158.1496786042241,-165.8631772268136,-173.76033057851245,-181.84113865932048,-190.10560146923785,-198.55371900826452,-207.18549127640037,-216.0009182736456,-225.0]}},\"id\":\"e33d1db5-278e-480e-aaad-6d89f0c8ec12\",\"type\":\"ColumnDataSource\"}],\"root_ids\":[\"8264275a-b390-4442-bb4c-bf5c2d7d4544\",\"dcd1d8b5-e0aa-4a1f-ae91-0c8a50fabb01\",\"b3c7f24f-7e8a-449b-abf0-1d7b1fbe6005\",\"69ad5276-f29a-4e15-b279-3cc96ae12623\"]},\"title\":\"Bokeh Application\",\"version\":\"0.11.1\"}};\n",
       "            var render_items = [{\"docid\":\"1e3bebbc-914b-423a-9003-e800ea814953\",\"elementid\":\"a4c4176d-7946-49e4-bf3c-f0a55585e1b8\",\"modelid\":\"69ad5276-f29a-4e15-b279-3cc96ae12623\",\"notebook_comms_target\":\"a402899e-1ba0-4d7a-b20f-64e965b3e043\"}];\n",
       "            \n",
       "            Bokeh.embed.embed_items(docs_json, render_items);\n",
       "        });\n",
       "      },\n",
       "      function(Bokeh) {\n",
       "      }\n",
       "    ];\n",
       "  \n",
       "    function run_inline_js() {\n",
       "      for (var i = 0; i < inline_js.length; i++) {\n",
       "        inline_js[i](window.Bokeh);\n",
       "      }\n",
       "    }\n",
       "  \n",
       "    if (window._bokeh_is_loading === 0) {\n",
       "      console.log(\"Bokeh: BokehJS loaded, going straight to plotting\");\n",
       "      run_inline_js();\n",
       "    } else {\n",
       "      load_libs(js_urls, function() {\n",
       "        console.log(\"Bokeh: BokehJS plotting callback run at\", now());\n",
       "        run_inline_js();\n",
       "      });\n",
       "    }\n",
       "  }(this));\n",
       "</script>"
      ]
     },
     "metadata": {},
     "output_type": "display_data"
    },
    {
     "data": {
      "text/html": [
       "<p><code>&lt;Bokeh Notebook handle for <strong>In[10]</strong>&gt;</code></p>"
      ],
      "text/plain": [
       "<bokeh.io._CommsHandle at 0x1180cb510>"
      ]
     },
     "execution_count": 10,
     "metadata": {},
     "output_type": "execute_result"
    }
   ],
   "source": [
    "x = np.linspace(-10,20,100)\n",
    "y = x**2 - 6*x + 5\n",
    " \n",
    "TOOLS = [WheelZoomTool(), ResetTool(), PanTool()]\n",
    "\n",
    "\n",
    "s1 = bp.figure(width=W, plot_height=H, \n",
    "               tools=TOOLS)\n",
    "s1.line(x, y, color=\"navy\", alpha=0.5, line_width=3)\n",
    "s1.circle(3, 3**2 - 6*3 + 5, size =10, color=\"orange\")\n",
    "s1.title_text_font_size = '12pt'\n",
    "s1.yaxis.axis_label_text_font_size = \"14pt\"\n",
    "s1.xaxis.axis_label_text_font_size = \"14pt\"\n",
    "\n",
    "bp.show(s1)"
   ]
  },
  {
   "cell_type": "markdown",
   "metadata": {},
   "source": [
    "#### Second approach\n",
    "\n",
    "To find the local minimum using **gradient descend**: you start at a random point, and move into the direction of steepest **descent** relative to the derivative:\n",
    "\n",
    "+ Start from a random $x$ value.\n",
    "+ Compute the derivative $f'(x)$ analitically.\n",
    "+ Walk a small step in the **opposite** direction of the derivative. \n",
    "\n",
    "In this example, let's suppose we start at $x=15$. The derivative at this point is $2×15−6=24$. \n",
    "\n",
    "Because we're using gradient descent, we need to subtract the gradient from our $x$-coordinate: $f(x - f'(x))$. However, notice that $15−24$ gives us $−9$, clearly overshooting over target of $3$. "
   ]
  },
  {
   "cell_type": "code",
   "execution_count": 11,
   "metadata": {
    "collapsed": false
   },
   "outputs": [
    {
     "data": {
      "text/html": [
       "\n",
       "\n",
       "    <div class=\"plotdiv\" id=\"8e52bacd-c9b2-4bcc-9025-8a1b2fab4500\"></div>\n",
       "<script type=\"text/javascript\">\n",
       "  \n",
       "  (function(global) {\n",
       "    function now() {\n",
       "      return new Date();\n",
       "    }\n",
       "  \n",
       "    if (typeof (window._bokeh_onload_callbacks) === \"undefined\") {\n",
       "      window._bokeh_onload_callbacks = [];\n",
       "    }\n",
       "  \n",
       "    function run_callbacks() {\n",
       "      window._bokeh_onload_callbacks.forEach(function(callback) { callback() });\n",
       "      delete window._bokeh_onload_callbacks\n",
       "      console.info(\"Bokeh: all callbacks have finished\");\n",
       "    }\n",
       "  \n",
       "    function load_libs(js_urls, callback) {\n",
       "      window._bokeh_onload_callbacks.push(callback);\n",
       "      if (window._bokeh_is_loading > 0) {\n",
       "        console.log(\"Bokeh: BokehJS is being loaded, scheduling callback at\", now());\n",
       "        return null;\n",
       "      }\n",
       "      if (js_urls == null || js_urls.length === 0) {\n",
       "        run_callbacks();\n",
       "        return null;\n",
       "      }\n",
       "      console.log(\"Bokeh: BokehJS not loaded, scheduling load and callback at\", now());\n",
       "      window._bokeh_is_loading = js_urls.length;\n",
       "      for (var i = 0; i < js_urls.length; i++) {\n",
       "        var url = js_urls[i];\n",
       "        var s = document.createElement('script');\n",
       "        s.src = url;\n",
       "        s.async = false;\n",
       "        s.onreadystatechange = s.onload = function() {\n",
       "          window._bokeh_is_loading--;\n",
       "          if (window._bokeh_is_loading === 0) {\n",
       "            console.log(\"Bokeh: all BokehJS libraries loaded\");\n",
       "            run_callbacks()\n",
       "          }\n",
       "        };\n",
       "        s.onerror = function() {\n",
       "          console.warn(\"failed to load library \" + url);\n",
       "        };\n",
       "        console.log(\"Bokeh: injecting script tag for BokehJS library: \", url);\n",
       "        document.getElementsByTagName(\"head\")[0].appendChild(s);\n",
       "      }\n",
       "    };var element = document.getElementById(\"8e52bacd-c9b2-4bcc-9025-8a1b2fab4500\");\n",
       "    if (element == null) {\n",
       "      console.log(\"Bokeh: ERROR: autoload.js configured with elementid '8e52bacd-c9b2-4bcc-9025-8a1b2fab4500' but no matching script tag was found. \")\n",
       "      return false;\n",
       "    }\n",
       "  \n",
       "    var js_urls = [];\n",
       "  \n",
       "    var inline_js = [\n",
       "      function(Bokeh) {\n",
       "        Bokeh.$(function() {\n",
       "            var docs_json = {\"a6b5f2d7-3cb8-48f5-970b-d96b1166be9b\":{\"roots\":{\"references\":[{\"attributes\":{\"data_source\":{\"id\":\"e18e25bc-5abc-4460-a480-794d742dd65c\",\"type\":\"ColumnDataSource\"},\"glyph\":{\"id\":\"898f9660-6cd1-4624-9411-49f13e84e764\",\"type\":\"Circle\"},\"hover_glyph\":null,\"nonselection_glyph\":{\"id\":\"eeb52ec0-81a8-4236-90c0-087cb9f4faa8\",\"type\":\"Circle\"},\"selection_glyph\":null},\"id\":\"786a9e1a-a062-4101-998a-3d35f3968082\",\"type\":\"GlyphRenderer\"},{\"attributes\":{\"data_source\":{\"id\":\"754c47bf-25bc-4834-bc5f-99ac5483cbc7\",\"type\":\"ColumnDataSource\"},\"glyph\":{\"id\":\"e1150ed1-7006-4343-88b9-9c2b6ad8cb84\",\"type\":\"Circle\"},\"hover_glyph\":null,\"nonselection_glyph\":{\"id\":\"7e80fd73-a864-4fc8-9e99-d2f7a43caef7\",\"type\":\"Circle\"},\"selection_glyph\":null},\"id\":\"10b6c7bd-fd85-4659-b9c4-b7757fca6422\",\"type\":\"GlyphRenderer\"},{\"attributes\":{\"plot\":{\"id\":\"dcd1d8b5-e0aa-4a1f-ae91-0c8a50fabb01\",\"subtype\":\"Figure\",\"type\":\"Plot\"},\"ticker\":{\"id\":\"af22d204-a11c-4a24-b7a3-b7dec41ce7e6\",\"type\":\"BasicTicker\"}},\"id\":\"5967a76c-b680-41df-868f-ab6e379ece96\",\"type\":\"Grid\"},{\"attributes\":{\"plot\":{\"id\":\"b3c7f24f-7e8a-449b-abf0-1d7b1fbe6005\",\"subtype\":\"Figure\",\"type\":\"Plot\"}},\"id\":\"44030659-e662-4f39-ac3c-268c874576ff\",\"type\":\"ResetTool\"},{\"attributes\":{},\"id\":\"f44f05eb-2261-41cf-ba1e-d3d35f0402e9\",\"type\":\"ToolEvents\"},{\"attributes\":{\"data_source\":{\"id\":\"dc6dffcc-78d3-4552-871f-c0c077e3c051\",\"type\":\"ColumnDataSource\"},\"glyph\":{\"id\":\"eb2d219f-d2bd-4e04-9eaa-790ca72a12be\",\"type\":\"Circle\"},\"hover_glyph\":null,\"nonselection_glyph\":{\"id\":\"0271b978-7a18-4d0a-bdf1-b9725f131753\",\"type\":\"Circle\"},\"selection_glyph\":null},\"id\":\"135bbd45-2b38-4d68-b35b-c96fad6c0dd2\",\"type\":\"GlyphRenderer\"},{\"attributes\":{},\"id\":\"af20d824-9b30-4ae7-ba6f-52a6d7fddc07\",\"type\":\"BasicTicker\"},{\"attributes\":{\"callback\":null},\"id\":\"81595931-53c6-408d-93fd-ff11292f1a40\",\"type\":\"ColumnDataSource\"},{\"attributes\":{\"callback\":null,\"column_names\":[\"x\",\"y\"],\"data\":{\"x\":[-10.0,-9.696969696969697,-9.393939393939394,-9.09090909090909,-8.787878787878787,-8.484848484848484,-8.181818181818182,-7.878787878787879,-7.575757575757576,-7.2727272727272725,-6.96969696969697,-6.666666666666666,-6.363636363636363,-6.0606060606060606,-5.757575757575758,-5.454545454545454,-5.151515151515151,-4.848484848484849,-4.545454545454545,-4.242424242424242,-3.9393939393939394,-3.636363636363636,-3.333333333333333,-3.0303030303030303,-2.7272727272727266,-2.424242424242424,-2.121212121212121,-1.8181818181818183,-1.5151515151515156,-1.212121212121211,-0.9090909090909083,-0.6060606060606055,-0.30303030303030276,0.0,0.30303030303030276,0.6060606060606055,0.9090909090909101,1.2121212121212128,1.5151515151515156,1.8181818181818183,2.121212121212121,2.424242424242424,2.7272727272727284,3.030303030303031,3.333333333333334,3.6363636363636367,3.9393939393939394,4.242424242424242,4.545454545454547,4.8484848484848495,5.151515151515152,5.454545454545455,5.757575757575758,6.060606060606062,6.363636363636363,6.666666666666668,6.969696969696969,7.272727272727273,7.575757575757578,7.878787878787879,8.181818181818183,8.484848484848484,8.787878787878789,9.09090909090909,9.393939393939394,9.696969696969699,10.0,10.303030303030305,10.606060606060606,10.90909090909091,11.212121212121211,11.515151515151516,11.81818181818182,12.121212121212121,12.424242424242426,12.727272727272727,13.030303030303031,13.333333333333336,13.636363636363637,13.939393939393941,14.242424242424242,14.545454545454547,14.848484848484848,15.151515151515152,15.454545454545457,15.757575757575758,16.060606060606062,16.363636363636363,16.666666666666668,16.96969696969697,17.272727272727273,17.575757575757578,17.87878787878788,18.181818181818183,18.484848484848484,18.78787878787879,19.090909090909093,19.393939393939394,19.6969696969697,20.0],\"y\":[165.0,157.21303948576679,149.6097337006428,142.19008264462806,134.95408631772267,127.90174471992653,121.03305785123968,114.34802571166207,107.84664830119377,101.5289256198347,95.39485766758494,89.44444444444443,83.67768595041322,78.09458218549128,72.69513314967861,67.47933884297521,62.44719926538108,57.59871441689624,52.93388429752065,48.45270890725436,44.15518824609734,40.04132231404958,36.11111111111111,32.364554637281906,28.801652892561975,25.422405876951327,22.226813590449954,19.214876033057852,16.386593204775025,13.74196510560146,11.280991735537183,9.003673094582181,6.910009182736454,5.0,3.2736455463728205,1.7309458218549154,0.37190082644627687,-0.8034894398530792,-1.7952249770431603,-2.6033057851239674,-3.2277318640954995,-3.6685032139577594,-3.9256198347107443,-3.9990817263544542,-3.8888888888888893,-3.5950413223140494,-3.1175390266299363,-2.4563820018365483,-1.61157024793388,-0.5831037649219439,0.6290174471992671,2.0247933884297495,3.6042240587695176,5.367309458218557,7.314049586776861,9.44444444444445,11.758494031221296,14.256198347107443,16.937557392102867,19.802571166207528,22.85123966942151,26.083562901744713,29.499540863177245,33.09917355371899,36.882460973370065,40.84940312213042,45.0,49.334251606978896,53.85215794306702,58.553719008264466,63.438934802571154,68.50780532598716,73.76033057851244,79.19651056014692,84.81634527089074,90.6198347107438,96.60697887970616,102.77777777777781,109.1322314049587,115.6703397612489,122.39210284664829,129.29752066115705,136.386593204775,143.65932047750232,151.1157024793389,158.75573921028467,166.57943067033983,174.58677685950414,182.77777777777783,191.15243342516067,199.71074380165294,208.45270890725445,217.37832874196508,226.4876033057852,235.78053259871442,245.25711662075298,254.9173553719009,264.76124885215796,274.7887970615244,285.0]}},\"id\":\"70dc5e61-3c2e-4c7f-b333-a53ba04301be\",\"type\":\"ColumnDataSource\"},{\"attributes\":{\"data_source\":{\"id\":\"cc586fdc-0923-4f88-b6f6-a4cbe4048b4d\",\"type\":\"ColumnDataSource\"},\"glyph\":{\"id\":\"f6cb77e6-cfc7-46ab-8b6c-60eb758b46c2\",\"type\":\"Line\"},\"hover_glyph\":null,\"nonselection_glyph\":{\"id\":\"40587fa5-5b53-4cee-b673-0ca0fe1a5bad\",\"type\":\"Line\"},\"selection_glyph\":null},\"id\":\"14725d95-4e2c-4f49-90f6-64de769dd496\",\"type\":\"GlyphRenderer\"},{\"attributes\":{},\"id\":\"63853867-9aae-4928-84f6-1052887e5c21\",\"type\":\"BasicTicker\"},{\"attributes\":{\"axis_label_text_font_size\":{\"value\":\"14pt\"},\"formatter\":{\"id\":\"a89ebedc-b107-4f1f-9b57-93a1900c0550\",\"type\":\"BasicTickFormatter\"},\"plot\":{\"id\":\"94a5ca5c-0292-48bc-afe0-1b3efa3f9ab7\",\"subtype\":\"Figure\",\"type\":\"Plot\"},\"ticker\":{\"id\":\"76a6a30f-acc8-4ecf-83be-74eee64f0f6e\",\"type\":\"BasicTicker\"}},\"id\":\"037e3376-82e3-438d-b26f-1740036e63e8\",\"type\":\"LinearAxis\"},{\"attributes\":{\"fill_color\":{\"value\":\"orange\"},\"line_color\":{\"value\":\"orange\"},\"size\":{\"units\":\"screen\",\"value\":10},\"x\":{\"value\":0},\"y\":{\"value\":0}},\"id\":\"19fc54c0-0997-4b20-aaee-6def83d35156\",\"type\":\"Circle\"},{\"attributes\":{\"callback\":null},\"id\":\"d9e41e06-ed9b-4cdc-94e7-8f22c31cac56\",\"type\":\"DataRange1d\"},{\"attributes\":{\"plot\":{\"id\":\"94a5ca5c-0292-48bc-afe0-1b3efa3f9ab7\",\"subtype\":\"Figure\",\"type\":\"Plot\"}},\"id\":\"388b3569-7051-4bb9-b2c1-d52fd7839919\",\"type\":\"ResetTool\"},{\"attributes\":{\"callback\":null},\"id\":\"cb4389c1-ac10-4e61-814f-563f498aba4a\",\"type\":\"DataRange1d\"},{\"attributes\":{\"dimension\":1,\"plot\":{\"id\":\"dcd1d8b5-e0aa-4a1f-ae91-0c8a50fabb01\",\"subtype\":\"Figure\",\"type\":\"Plot\"},\"ticker\":{\"id\":\"af20d824-9b30-4ae7-ba6f-52a6d7fddc07\",\"type\":\"BasicTicker\"}},\"id\":\"03520f6f-e102-4d29-8f75-f6e854ce89cc\",\"type\":\"Grid\"},{\"attributes\":{\"plot\":{\"id\":\"b3c7f24f-7e8a-449b-abf0-1d7b1fbe6005\",\"subtype\":\"Figure\",\"type\":\"Plot\"},\"ticker\":{\"id\":\"ace60afd-ae8d-45b3-8231-38d76aa7c863\",\"type\":\"BasicTicker\"}},\"id\":\"8e731374-c300-4952-b4f5-00998ec2f3ee\",\"type\":\"Grid\"},{\"attributes\":{\"plot\":{\"id\":\"69ad5276-f29a-4e15-b279-3cc96ae12623\",\"subtype\":\"Figure\",\"type\":\"Plot\"},\"ticker\":{\"id\":\"63853867-9aae-4928-84f6-1052887e5c21\",\"type\":\"BasicTicker\"}},\"id\":\"12da5cc1-d6fb-4315-9589-8fc3314ee3c5\",\"type\":\"Grid\"},{\"attributes\":{\"fill_alpha\":{\"value\":0.1},\"fill_color\":{\"value\":\"#1f77b4\"},\"line_alpha\":{\"value\":0.1},\"line_color\":{\"value\":\"#1f77b4\"},\"size\":{\"units\":\"screen\",\"value\":10},\"x\":{\"value\":0},\"y\":{\"value\":0}},\"id\":\"eeb52ec0-81a8-4236-90c0-087cb9f4faa8\",\"type\":\"Circle\"},{\"attributes\":{\"line_alpha\":{\"value\":0.5},\"line_color\":{\"value\":\"navy\"},\"line_width\":{\"value\":3},\"x\":{\"field\":\"x\"},\"y\":{\"field\":\"y\"}},\"id\":\"eb37e89b-6099-4d07-8b69-934158b2d1ae\",\"type\":\"Line\"},{\"attributes\":{\"plot\":{\"id\":\"8264275a-b390-4442-bb4c-bf5c2d7d4544\",\"subtype\":\"Figure\",\"type\":\"Plot\"}},\"id\":\"d3a8b4d6-7ba5-4b51-939a-480d4e921890\",\"type\":\"WheelZoomTool\"},{\"attributes\":{\"callback\":null},\"id\":\"2891479f-b0c3-4e2e-b665-4f8d95fb75e0\",\"type\":\"DataRange1d\"},{\"attributes\":{},\"id\":\"7d70e9fb-42ab-4858-9a04-2a1a70fa7b7e\",\"type\":\"ToolEvents\"},{\"attributes\":{\"callback\":null},\"id\":\"4d599ee9-4953-485f-9d52-d284898423e1\",\"type\":\"DataRange1d\"},{\"attributes\":{},\"id\":\"c569ddf3-75bc-4cb8-9d19-c0131038d05f\",\"type\":\"ToolEvents\"},{\"attributes\":{\"fill_color\":{\"value\":\"red\"},\"line_color\":{\"value\":\"red\"},\"size\":{\"units\":\"screen\",\"value\":10},\"x\":{\"value\":-9},\"y\":{\"value\":140}},\"id\":\"eb2d219f-d2bd-4e04-9eaa-790ca72a12be\",\"type\":\"Circle\"},{\"attributes\":{\"line_alpha\":{\"value\":0.1},\"line_color\":{\"value\":\"#1f77b4\"},\"line_width\":{\"value\":3},\"x\":{\"field\":\"x\"},\"y\":{\"field\":\"y\"}},\"id\":\"1c40b622-a919-4f3e-b7ed-960da1ca927d\",\"type\":\"Line\"},{\"attributes\":{\"callback\":null},\"id\":\"b3225a98-728b-42ac-9de2-f929e7fb7f31\",\"type\":\"ColumnDataSource\"},{\"attributes\":{\"plot\":{\"id\":\"8264275a-b390-4442-bb4c-bf5c2d7d4544\",\"subtype\":\"Figure\",\"type\":\"Plot\"}},\"id\":\"dd7ad3e5-cb8c-448a-9aa0-354377f4285d\",\"type\":\"PanTool\"},{\"attributes\":{\"axis_label_text_font_size\":{\"value\":\"14pt\"},\"formatter\":{\"id\":\"e513cd27-d097-44d9-b7a3-7540567aa4b8\",\"type\":\"BasicTickFormatter\"},\"plot\":{\"id\":\"94a5ca5c-0292-48bc-afe0-1b3efa3f9ab7\",\"subtype\":\"Figure\",\"type\":\"Plot\"},\"ticker\":{\"id\":\"17343b18-4cc0-4ca6-b440-153f1188cc9d\",\"type\":\"BasicTicker\"}},\"id\":\"5909ce60-e0e1-47ad-ba1f-cc4bb8679428\",\"type\":\"LinearAxis\"},{\"attributes\":{},\"id\":\"478aeb47-9bde-434c-81ac-feb078642e9a\",\"type\":\"BasicTickFormatter\"},{\"attributes\":{\"line_alpha\":{\"value\":0.5},\"line_color\":{\"value\":\"navy\"},\"line_width\":{\"value\":3},\"x\":{\"field\":\"x\"},\"y\":{\"field\":\"y\"}},\"id\":\"f6cb77e6-cfc7-46ab-8b6c-60eb758b46c2\",\"type\":\"Line\"},{\"attributes\":{\"fill_color\":{\"value\":\"orange\"},\"line_color\":{\"value\":\"orange\"},\"size\":{\"units\":\"screen\",\"value\":10},\"x\":{\"value\":0},\"y\":{\"value\":0}},\"id\":\"898f9660-6cd1-4624-9411-49f13e84e764\",\"type\":\"Circle\"},{\"attributes\":{},\"id\":\"e9afce5c-172d-4cdf-985b-ea065451086d\",\"type\":\"BasicTicker\"},{\"attributes\":{\"below\":[{\"id\":\"037e3376-82e3-438d-b26f-1740036e63e8\",\"type\":\"LinearAxis\"}],\"left\":[{\"id\":\"5909ce60-e0e1-47ad-ba1f-cc4bb8679428\",\"type\":\"LinearAxis\"}],\"plot_height\":250,\"plot_width\":400,\"renderers\":[{\"id\":\"037e3376-82e3-438d-b26f-1740036e63e8\",\"type\":\"LinearAxis\"},{\"id\":\"02e256a7-c401-44e2-9406-2e80ea40e88f\",\"type\":\"Grid\"},{\"id\":\"5909ce60-e0e1-47ad-ba1f-cc4bb8679428\",\"type\":\"LinearAxis\"},{\"id\":\"e43bf927-b8b3-4056-8c20-e8f5bb3acb57\",\"type\":\"Grid\"},{\"id\":\"ef7d61ca-ac01-48c9-b0d3-f79a9628152f\",\"type\":\"GlyphRenderer\"},{\"id\":\"84e191d6-bccb-421c-ab61-1a8f109e9a9e\",\"type\":\"GlyphRenderer\"},{\"id\":\"135bbd45-2b38-4d68-b35b-c96fad6c0dd2\",\"type\":\"GlyphRenderer\"}],\"title_text_font_size\":{\"value\":\"12pt\"},\"tool_events\":{\"id\":\"c85ed670-24d0-44b4-87b5-06d155711e48\",\"type\":\"ToolEvents\"},\"tools\":[{\"id\":\"6ed2a29f-115f-4aa5-9e17-8da287adf23c\",\"type\":\"WheelZoomTool\"},{\"id\":\"388b3569-7051-4bb9-b2c1-d52fd7839919\",\"type\":\"ResetTool\"},{\"id\":\"ea42a068-a75a-4f1e-9f98-c27b61cc6aa2\",\"type\":\"PanTool\"}],\"x_range\":{\"id\":\"d5bc39fc-05a3-4a64-b73c-d6e21e8e0a25\",\"type\":\"DataRange1d\"},\"y_range\":{\"id\":\"0cab9fbb-bb26-4b1b-b2fc-4ac67242b14f\",\"type\":\"DataRange1d\"}},\"id\":\"94a5ca5c-0292-48bc-afe0-1b3efa3f9ab7\",\"subtype\":\"Figure\",\"type\":\"Plot\"},{\"attributes\":{\"axis_label_text_font_size\":{\"value\":\"14pt\"},\"formatter\":{\"id\":\"45b3a37e-5549-4a4f-becf-2ada5016b8bd\",\"type\":\"BasicTickFormatter\"},\"plot\":{\"id\":\"69ad5276-f29a-4e15-b279-3cc96ae12623\",\"subtype\":\"Figure\",\"type\":\"Plot\"},\"ticker\":{\"id\":\"63853867-9aae-4928-84f6-1052887e5c21\",\"type\":\"BasicTicker\"}},\"id\":\"e508f65d-021f-4d67-88da-91ddbd1df5b9\",\"type\":\"LinearAxis\"},{\"attributes\":{\"plot\":{\"id\":\"69ad5276-f29a-4e15-b279-3cc96ae12623\",\"subtype\":\"Figure\",\"type\":\"Plot\"}},\"id\":\"93ed511d-344f-4e3d-a79a-853a20bf1b72\",\"type\":\"ResetTool\"},{\"attributes\":{\"callback\":null,\"column_names\":[\"x\",\"y\"],\"data\":{\"x\":[-15.0,-14.696969696969697,-14.393939393939394,-14.09090909090909,-13.787878787878787,-13.484848484848484,-13.181818181818182,-12.878787878787879,-12.575757575757576,-12.272727272727273,-11.969696969696969,-11.666666666666666,-11.363636363636363,-11.06060606060606,-10.757575757575758,-10.454545454545453,-10.151515151515152,-9.848484848484848,-9.545454545454545,-9.242424242424242,-8.93939393939394,-8.636363636363637,-8.333333333333332,-8.030303030303031,-7.727272727272727,-7.424242424242424,-7.121212121212121,-6.818181818181818,-6.515151515151516,-6.212121212121211,-5.909090909090908,-5.6060606060606055,-5.303030303030303,-5.0,-4.696969696969697,-4.3939393939393945,-4.09090909090909,-3.787878787878787,-3.4848484848484844,-3.1818181818181817,-2.878787878787879,-2.575757575757576,-2.2727272727272716,-1.9696969696969688,-1.666666666666666,-1.3636363636363633,-1.0606060606060606,-0.7575757575757578,-0.45454545454545325,-0.1515151515151505,0.15151515151515227,0.45454545454545503,0.7575757575757578,1.0606060606060623,1.3636363636363633,1.6666666666666679,1.9696969696969688,2.2727272727272734,2.575757575757578,2.878787878787879,3.1818181818181834,3.4848484848484844,3.787878787878789,4.09090909090909,4.3939393939393945,4.696969696969699,5.0,5.3030303030303045,5.6060606060606055,5.90909090909091,6.212121212121211,6.515151515151516,6.81818181818182,7.121212121212121,7.424242424242426,7.727272727272727,8.030303030303031,8.333333333333336,8.636363636363637,8.939393939393941,9.242424242424242,9.545454545454547,9.848484848484848,10.151515151515152,10.454545454545457,10.757575757575758,11.060606060606062,11.363636363636363,11.666666666666668,11.969696969696969,12.272727272727273,12.575757575757578,12.878787878787879,13.181818181818183,13.484848484848484,13.787878787878789,14.090909090909093,14.393939393939394,14.696969696969699,15.0],\"y\":[-3375.0,-3174.5589503853967,-2982.2154047360664,-2797.802404207362,-2621.1529899546426,-2452.100203133261,-2290.4770848985722,-2136.1166764059326,-1988.8520188106966,-1848.5161532682196,-1714.9421209338561,-1587.9629629629628,-1467.411720510894,-1353.121434733005,-1244.925146784651,-1142.6558978211867,-1046.146728997969,-955.2306814703506,-869.7407963936888,-789.510114923338,-714.3716782146535,-644.1585274229903,-578.7037037037035,-517.8402482121492,-461.4012021036813,-409.2196065336561,-361.12850265742827,-316.9609316303531,-276.54993460778593,-239.72855274508154,-206.3298271975957,-176.18679912068336,-149.13250966969974,-125.0,-103.62231126693938,-84.8324846258731,-68.46356123215622,-54.34858224114419,-42.3205888081921,-32.212622088655145,-23.85772323788853,-17.088933411247467,-11.739293764087135,-7.641845451762797,-4.629629629629624,-2.535687453042823,-1.193060077357598,-0.43478865792915417,-0.09391435011269642,-0.00347830926343316,0.0034783092634332823,0.09391435011269753,0.43478865792915417,1.1930600773576039,2.535687453042823,4.6296296296296395,7.641845451762797,11.739293764087163,17.088933411247503,23.85772323788853,32.212622088655195,42.3205888081921,54.34858224114427,68.46356123215622,84.8324846258731,103.6223112669395,125.0,149.13250966969989,176.18679912068336,206.3298271975959,239.72855274508154,276.54993460778593,316.9609316303534,361.12850265742827,409.21960653365636,461.4012021036813,517.8402482121492,578.7037037037042,644.1585274229903,714.3716782146539,789.510114923338,869.7407963936893,955.2306814703506,1046.146728997969,1142.6558978211879,1244.925146784651,1353.1214347330056,1467.411720510894,1587.9629629629635,1714.9421209338561,1848.5161532682196,1988.8520188106975,2136.1166764059326,2290.477084898573,2452.100203133261,2621.1529899546435,2797.8024042073644,2982.2154047360664,3174.558950385398,3375.0]}},\"id\":\"75e9a280-bac1-487b-bd8d-79e69b84819b\",\"type\":\"ColumnDataSource\"},{\"attributes\":{\"line_alpha\":{\"value\":0.5},\"line_color\":{\"value\":\"navy\"},\"line_width\":{\"value\":3},\"x\":{\"field\":\"x\"},\"y\":{\"field\":\"y\"}},\"id\":\"a7708b2d-b899-460b-9b6e-abeee1d1f166\",\"type\":\"Line\"},{\"attributes\":{\"fill_alpha\":{\"value\":0.1},\"fill_color\":{\"value\":\"#1f77b4\"},\"line_alpha\":{\"value\":0.1},\"line_color\":{\"value\":\"#1f77b4\"},\"size\":{\"units\":\"screen\",\"value\":10},\"x\":{\"value\":0},\"y\":{\"value\":0}},\"id\":\"cb24636e-47f3-4dbf-ad89-8f8a0f00b081\",\"type\":\"Circle\"},{\"attributes\":{},\"id\":\"ef680ef2-7026-40bf-8d7d-0280b5c9140b\",\"type\":\"BasicTickFormatter\"},{\"attributes\":{\"callback\":null},\"id\":\"cfb57749-8962-401e-8655-4cadd7b4e8cc\",\"type\":\"DataRange1d\"},{\"attributes\":{\"data_source\":{\"id\":\"0038b08c-2b20-49be-ba1f-5a678e37eba4\",\"type\":\"ColumnDataSource\"},\"glyph\":{\"id\":\"a7708b2d-b899-460b-9b6e-abeee1d1f166\",\"type\":\"Line\"},\"hover_glyph\":null,\"nonselection_glyph\":{\"id\":\"8ab6ad89-d817-4399-81b6-833bf615de5e\",\"type\":\"Line\"},\"selection_glyph\":null},\"id\":\"495828d9-feb6-470e-b771-63933a422f20\",\"type\":\"GlyphRenderer\"},{\"attributes\":{\"callback\":null},\"id\":\"e18e25bc-5abc-4460-a480-794d742dd65c\",\"type\":\"ColumnDataSource\"},{\"attributes\":{\"line_alpha\":{\"value\":0.5},\"line_color\":{\"value\":\"navy\"},\"line_width\":{\"value\":3},\"x\":{\"field\":\"x\"},\"y\":{\"field\":\"y\"}},\"id\":\"547c4976-d370-48eb-84b9-1fcce6965517\",\"type\":\"Line\"},{\"attributes\":{\"axis_label_text_font_size\":{\"value\":\"14pt\"},\"formatter\":{\"id\":\"27f677ce-32ea-461f-bcdc-a1554e622fb0\",\"type\":\"BasicTickFormatter\"},\"plot\":{\"id\":\"8264275a-b390-4442-bb4c-bf5c2d7d4544\",\"subtype\":\"Figure\",\"type\":\"Plot\"},\"ticker\":{\"id\":\"e9afce5c-172d-4cdf-985b-ea065451086d\",\"type\":\"BasicTicker\"}},\"id\":\"06060d9e-da3e-4422-bc77-c3f307c39ff4\",\"type\":\"LinearAxis\"},{\"attributes\":{},\"id\":\"8f588507-12b8-420c-bdc3-0d0be698afd8\",\"type\":\"ToolEvents\"},{\"attributes\":{\"plot\":{\"id\":\"b3c7f24f-7e8a-449b-abf0-1d7b1fbe6005\",\"subtype\":\"Figure\",\"type\":\"Plot\"}},\"id\":\"67b1fc25-47fe-4525-b093-683bbbf72bf3\",\"type\":\"WheelZoomTool\"},{\"attributes\":{},\"id\":\"e2c4cbfc-a1e0-4819-a82d-66885021f7aa\",\"type\":\"BasicTickFormatter\"},{\"attributes\":{\"line_alpha\":{\"value\":0.1},\"line_color\":{\"value\":\"#1f77b4\"},\"line_width\":{\"value\":3},\"x\":{\"field\":\"x\"},\"y\":{\"field\":\"y\"}},\"id\":\"8ab6ad89-d817-4399-81b6-833bf615de5e\",\"type\":\"Line\"},{\"attributes\":{\"data_source\":{\"id\":\"81595931-53c6-408d-93fd-ff11292f1a40\",\"type\":\"ColumnDataSource\"},\"glyph\":{\"id\":\"7555d007-1fe6-49be-bc57-5297f324e7d5\",\"type\":\"Circle\"},\"hover_glyph\":null,\"nonselection_glyph\":{\"id\":\"54f52dad-3213-4383-a27b-11bec3384dca\",\"type\":\"Circle\"},\"selection_glyph\":null},\"id\":\"a3c34fdb-07c0-4e35-96ec-edb93b089dea\",\"type\":\"GlyphRenderer\"},{\"attributes\":{},\"id\":\"a89ebedc-b107-4f1f-9b57-93a1900c0550\",\"type\":\"BasicTickFormatter\"},{\"attributes\":{\"plot\":{\"id\":\"8264275a-b390-4442-bb4c-bf5c2d7d4544\",\"subtype\":\"Figure\",\"type\":\"Plot\"}},\"id\":\"332d3a32-5e88-4047-bd55-e93e64423f64\",\"type\":\"ResetTool\"},{\"attributes\":{\"fill_alpha\":{\"value\":0.1},\"fill_color\":{\"value\":\"#1f77b4\"},\"line_alpha\":{\"value\":0.1},\"line_color\":{\"value\":\"#1f77b4\"},\"size\":{\"units\":\"screen\",\"value\":10},\"x\":{\"value\":-9},\"y\":{\"value\":140}},\"id\":\"0271b978-7a18-4d0a-bdf1-b9725f131753\",\"type\":\"Circle\"},{\"attributes\":{\"axis_label_text_font_size\":{\"value\":\"14pt\"},\"formatter\":{\"id\":\"e2c4cbfc-a1e0-4819-a82d-66885021f7aa\",\"type\":\"BasicTickFormatter\"},\"plot\":{\"id\":\"dcd1d8b5-e0aa-4a1f-ae91-0c8a50fabb01\",\"subtype\":\"Figure\",\"type\":\"Plot\"},\"ticker\":{\"id\":\"af22d204-a11c-4a24-b7a3-b7dec41ce7e6\",\"type\":\"BasicTicker\"}},\"id\":\"d879ab90-609f-44e0-bd0a-5bd039e6f5b2\",\"type\":\"LinearAxis\"},{\"attributes\":{\"callback\":null,\"column_names\":[\"x\",\"y\"],\"data\":{\"x\":[-10.0,-9.696969696969697,-9.393939393939394,-9.09090909090909,-8.787878787878787,-8.484848484848484,-8.181818181818182,-7.878787878787879,-7.575757575757576,-7.2727272727272725,-6.96969696969697,-6.666666666666666,-6.363636363636363,-6.0606060606060606,-5.757575757575758,-5.454545454545454,-5.151515151515151,-4.848484848484849,-4.545454545454545,-4.242424242424242,-3.9393939393939394,-3.636363636363636,-3.333333333333333,-3.0303030303030303,-2.7272727272727266,-2.424242424242424,-2.121212121212121,-1.8181818181818183,-1.5151515151515156,-1.212121212121211,-0.9090909090909083,-0.6060606060606055,-0.30303030303030276,0.0,0.30303030303030276,0.6060606060606055,0.9090909090909101,1.2121212121212128,1.5151515151515156,1.8181818181818183,2.121212121212121,2.424242424242424,2.7272727272727284,3.030303030303031,3.333333333333334,3.6363636363636367,3.9393939393939394,4.242424242424242,4.545454545454547,4.8484848484848495,5.151515151515152,5.454545454545455,5.757575757575758,6.060606060606062,6.363636363636363,6.666666666666668,6.969696969696969,7.272727272727273,7.575757575757578,7.878787878787879,8.181818181818183,8.484848484848484,8.787878787878789,9.09090909090909,9.393939393939394,9.696969696969699,10.0,10.303030303030305,10.606060606060606,10.90909090909091,11.212121212121211,11.515151515151516,11.81818181818182,12.121212121212121,12.424242424242426,12.727272727272727,13.030303030303031,13.333333333333336,13.636363636363637,13.939393939393941,14.242424242424242,14.545454545454547,14.848484848484848,15.151515151515152,15.454545454545457,15.757575757575758,16.060606060606062,16.363636363636363,16.666666666666668,16.96969696969697,17.272727272727273,17.575757575757578,17.87878787878788,18.181818181818183,18.484848484848484,18.78787878787879,19.090909090909093,19.393939393939394,19.6969696969697,20.0],\"y\":[165.0,157.21303948576679,149.6097337006428,142.19008264462806,134.95408631772267,127.90174471992653,121.03305785123968,114.34802571166207,107.84664830119377,101.5289256198347,95.39485766758494,89.44444444444443,83.67768595041322,78.09458218549128,72.69513314967861,67.47933884297521,62.44719926538108,57.59871441689624,52.93388429752065,48.45270890725436,44.15518824609734,40.04132231404958,36.11111111111111,32.364554637281906,28.801652892561975,25.422405876951327,22.226813590449954,19.214876033057852,16.386593204775025,13.74196510560146,11.280991735537183,9.003673094582181,6.910009182736454,5.0,3.2736455463728205,1.7309458218549154,0.37190082644627687,-0.8034894398530792,-1.7952249770431603,-2.6033057851239674,-3.2277318640954995,-3.6685032139577594,-3.9256198347107443,-3.9990817263544542,-3.8888888888888893,-3.5950413223140494,-3.1175390266299363,-2.4563820018365483,-1.61157024793388,-0.5831037649219439,0.6290174471992671,2.0247933884297495,3.6042240587695176,5.367309458218557,7.314049586776861,9.44444444444445,11.758494031221296,14.256198347107443,16.937557392102867,19.802571166207528,22.85123966942151,26.083562901744713,29.499540863177245,33.09917355371899,36.882460973370065,40.84940312213042,45.0,49.334251606978896,53.85215794306702,58.553719008264466,63.438934802571154,68.50780532598716,73.76033057851244,79.19651056014692,84.81634527089074,90.6198347107438,96.60697887970616,102.77777777777781,109.1322314049587,115.6703397612489,122.39210284664829,129.29752066115705,136.386593204775,143.65932047750232,151.1157024793389,158.75573921028467,166.57943067033983,174.58677685950414,182.77777777777783,191.15243342516067,199.71074380165294,208.45270890725445,217.37832874196508,226.4876033057852,235.78053259871442,245.25711662075298,254.9173553719009,264.76124885215796,274.7887970615244,285.0]}},\"id\":\"cc586fdc-0923-4f88-b6f6-a4cbe4048b4d\",\"type\":\"ColumnDataSource\"},{\"attributes\":{\"plot\":{\"id\":\"94a5ca5c-0292-48bc-afe0-1b3efa3f9ab7\",\"subtype\":\"Figure\",\"type\":\"Plot\"}},\"id\":\"6ed2a29f-115f-4aa5-9e17-8da287adf23c\",\"type\":\"WheelZoomTool\"},{\"attributes\":{\"dimension\":1,\"plot\":{\"id\":\"69ad5276-f29a-4e15-b279-3cc96ae12623\",\"subtype\":\"Figure\",\"type\":\"Plot\"},\"ticker\":{\"id\":\"3733e797-8980-4006-a1ef-f18e979bf3da\",\"type\":\"BasicTicker\"}},\"id\":\"1bdd881f-dc26-4d4e-b1bd-73b2cb946798\",\"type\":\"Grid\"},{\"attributes\":{},\"id\":\"1bf7ba6b-5466-499e-adf4-7cf6ac70e6c9\",\"type\":\"BasicTicker\"},{\"attributes\":{\"plot\":{\"id\":\"69ad5276-f29a-4e15-b279-3cc96ae12623\",\"subtype\":\"Figure\",\"type\":\"Plot\"}},\"id\":\"da6da0e5-2e7a-493a-ac44-98bce3779e0e\",\"type\":\"PanTool\"},{\"attributes\":{\"dimension\":1,\"plot\":{\"id\":\"94a5ca5c-0292-48bc-afe0-1b3efa3f9ab7\",\"subtype\":\"Figure\",\"type\":\"Plot\"},\"ticker\":{\"id\":\"17343b18-4cc0-4ca6-b440-153f1188cc9d\",\"type\":\"BasicTicker\"}},\"id\":\"e43bf927-b8b3-4056-8c20-e8f5bb3acb57\",\"type\":\"Grid\"},{\"attributes\":{\"below\":[{\"id\":\"53d62889-30d7-46d3-97ab-74f1342c1d09\",\"type\":\"LinearAxis\"}],\"left\":[{\"id\":\"75eb2202-ddcb-4e3f-a85e-1729f9a4c1c2\",\"type\":\"LinearAxis\"}],\"plot_height\":250,\"plot_width\":400,\"renderers\":[{\"id\":\"53d62889-30d7-46d3-97ab-74f1342c1d09\",\"type\":\"LinearAxis\"},{\"id\":\"8e731374-c300-4952-b4f5-00998ec2f3ee\",\"type\":\"Grid\"},{\"id\":\"75eb2202-ddcb-4e3f-a85e-1729f9a4c1c2\",\"type\":\"LinearAxis\"},{\"id\":\"0cf1090c-d2c8-4b6c-ab1d-2b3eff60e8dc\",\"type\":\"Grid\"},{\"id\":\"7832a325-af8d-453e-894d-d896e6f54760\",\"type\":\"GlyphRenderer\"},{\"id\":\"786a9e1a-a062-4101-998a-3d35f3968082\",\"type\":\"GlyphRenderer\"}],\"title\":\"Saddle point of function\",\"title_text_font_size\":{\"value\":\"12pt\"},\"tool_events\":{\"id\":\"c569ddf3-75bc-4cb8-9d19-c0131038d05f\",\"type\":\"ToolEvents\"},\"tools\":[{\"id\":\"67b1fc25-47fe-4525-b093-683bbbf72bf3\",\"type\":\"WheelZoomTool\"},{\"id\":\"44030659-e662-4f39-ac3c-268c874576ff\",\"type\":\"ResetTool\"},{\"id\":\"db0a73f5-2461-4442-a9ab-e1627ce01992\",\"type\":\"PanTool\"}],\"x_range\":{\"id\":\"2891479f-b0c3-4e2e-b665-4f8d95fb75e0\",\"type\":\"DataRange1d\"},\"y_range\":{\"id\":\"cb4389c1-ac10-4e61-814f-563f498aba4a\",\"type\":\"DataRange1d\"}},\"id\":\"b3c7f24f-7e8a-449b-abf0-1d7b1fbe6005\",\"subtype\":\"Figure\",\"type\":\"Plot\"},{\"attributes\":{\"data_source\":{\"id\":\"75e9a280-bac1-487b-bd8d-79e69b84819b\",\"type\":\"ColumnDataSource\"},\"glyph\":{\"id\":\"eb37e89b-6099-4d07-8b69-934158b2d1ae\",\"type\":\"Line\"},\"hover_glyph\":null,\"nonselection_glyph\":{\"id\":\"359fcdd8-76ff-40a3-95b0-482c565f816d\",\"type\":\"Line\"},\"selection_glyph\":null},\"id\":\"7832a325-af8d-453e-894d-d896e6f54760\",\"type\":\"GlyphRenderer\"},{\"attributes\":{\"data_source\":{\"id\":\"e33d1db5-278e-480e-aaad-6d89f0c8ec12\",\"type\":\"ColumnDataSource\"},\"glyph\":{\"id\":\"547c4976-d370-48eb-84b9-1fcce6965517\",\"type\":\"Line\"},\"hover_glyph\":null,\"nonselection_glyph\":{\"id\":\"1c40b622-a919-4f3e-b7ed-960da1ca927d\",\"type\":\"Line\"},\"selection_glyph\":null},\"id\":\"cd407637-0bf6-4627-9c15-aa955d4bbd7b\",\"type\":\"GlyphRenderer\"},{\"attributes\":{\"axis_label_text_font_size\":{\"value\":\"14pt\"},\"formatter\":{\"id\":\"478aeb47-9bde-434c-81ac-feb078642e9a\",\"type\":\"BasicTickFormatter\"},\"plot\":{\"id\":\"dcd1d8b5-e0aa-4a1f-ae91-0c8a50fabb01\",\"subtype\":\"Figure\",\"type\":\"Plot\"},\"ticker\":{\"id\":\"af20d824-9b30-4ae7-ba6f-52a6d7fddc07\",\"type\":\"BasicTicker\"}},\"id\":\"a62f2b63-6350-4b54-b59f-49f44baba190\",\"type\":\"LinearAxis\"},{\"attributes\":{\"callback\":null},\"id\":\"0cab9fbb-bb26-4b1b-b2fc-4ac67242b14f\",\"type\":\"DataRange1d\"},{\"attributes\":{},\"id\":\"76a6a30f-acc8-4ecf-83be-74eee64f0f6e\",\"type\":\"BasicTicker\"},{\"attributes\":{\"line_alpha\":{\"value\":0.1},\"line_color\":{\"value\":\"#1f77b4\"},\"line_width\":{\"value\":3},\"x\":{\"field\":\"x\"},\"y\":{\"field\":\"y\"}},\"id\":\"359fcdd8-76ff-40a3-95b0-482c565f816d\",\"type\":\"Line\"},{\"attributes\":{\"callback\":null,\"column_names\":[\"x\",\"y\"],\"data\":{\"x\":[-15.0,-14.696969696969697,-14.393939393939394,-14.09090909090909,-13.787878787878787,-13.484848484848484,-13.181818181818182,-12.878787878787879,-12.575757575757576,-12.272727272727273,-11.969696969696969,-11.666666666666666,-11.363636363636363,-11.06060606060606,-10.757575757575758,-10.454545454545453,-10.151515151515152,-9.848484848484848,-9.545454545454545,-9.242424242424242,-8.93939393939394,-8.636363636363637,-8.333333333333332,-8.030303030303031,-7.727272727272727,-7.424242424242424,-7.121212121212121,-6.818181818181818,-6.515151515151516,-6.212121212121211,-5.909090909090908,-5.6060606060606055,-5.303030303030303,-5.0,-4.696969696969697,-4.3939393939393945,-4.09090909090909,-3.787878787878787,-3.4848484848484844,-3.1818181818181817,-2.878787878787879,-2.575757575757576,-2.2727272727272716,-1.9696969696969688,-1.666666666666666,-1.3636363636363633,-1.0606060606060606,-0.7575757575757578,-0.45454545454545325,-0.1515151515151505,0.15151515151515227,0.45454545454545503,0.7575757575757578,1.0606060606060623,1.3636363636363633,1.6666666666666679,1.9696969696969688,2.2727272727272734,2.575757575757578,2.878787878787879,3.1818181818181834,3.4848484848484844,3.787878787878789,4.09090909090909,4.3939393939393945,4.696969696969699,5.0,5.3030303030303045,5.6060606060606055,5.90909090909091,6.212121212121211,6.515151515151516,6.81818181818182,7.121212121212121,7.424242424242426,7.727272727272727,8.030303030303031,8.333333333333336,8.636363636363637,8.939393939393941,9.242424242424242,9.545454545454547,9.848484848484848,10.151515151515152,10.454545454545457,10.757575757575758,11.060606060606062,11.363636363636363,11.666666666666668,11.969696969696969,12.272727272727273,12.575757575757578,12.878787878787879,13.181818181818183,13.484848484848484,13.787878787878789,14.090909090909093,14.393939393939394,14.696969696969699,15.0],\"y\":[225.0,216.00091827364557,207.18549127640037,198.55371900826444,190.10560146923783,181.84113865932048,173.7603305785124,165.8631772268136,158.14967860422408,150.61983471074382,143.2736455463728,136.1111111111111,129.13223140495867,122.33700642791551,115.72543617998164,109.297520661157,103.05325987144171,96.99265381083562,91.11570247933884,85.42240587695133,79.91276400367309,74.58677685950414,69.44444444444443,64.48576675849405,59.71074380165288,55.119375573921026,50.711662075298435,46.48760330578513,42.44719926538109,38.5904499540863,34.91735537190082,31.427915518824605,28.122130394857663,25.0,22.061524334251608,19.306703397612495,16.73553719008264,14.34802571166207,12.144168962350777,10.12396694214876,8.287419651056016,6.634527089072545,5.165289256198342,3.879706152433422,2.777777777777776,1.859504132231404,1.1248852157943066,0.5739210284664833,0.2066115702479327,0.02295684113865901,0.022956841138659548,0.20661157024793433,0.5739210284664833,1.1248852157943103,1.859504132231404,2.7777777777777817,3.879706152433422,5.16528925619835,6.634527089072555,8.287419651056016,10.12396694214877,12.144168962350777,14.348025711662084,16.73553719008264,19.306703397612495,22.061524334251626,25.0,28.122130394857685,31.427915518824605,34.91735537190084,38.5904499540863,42.44719926538109,46.48760330578515,50.711662075298435,55.11937557392105,59.71074380165288,64.48576675849405,69.44444444444449,74.58677685950414,79.91276400367313,85.42240587695133,91.11570247933886,96.99265381083562,103.05325987144171,109.29752066115707,115.72543617998164,122.33700642791555,129.13223140495867,136.11111111111114,143.2736455463728,150.61983471074382,158.1496786042241,165.8631772268136,173.76033057851245,181.84113865932048,190.10560146923785,198.55371900826452,207.18549127640037,216.0009182736456,225.0]}},\"id\":\"0038b08c-2b20-49be-ba1f-5a678e37eba4\",\"type\":\"ColumnDataSource\"},{\"attributes\":{\"axis_label_text_font_size\":{\"value\":\"14pt\"},\"formatter\":{\"id\":\"aa4f017f-fec0-4acc-9fab-1898b36165fa\",\"type\":\"BasicTickFormatter\"},\"plot\":{\"id\":\"b3c7f24f-7e8a-449b-abf0-1d7b1fbe6005\",\"subtype\":\"Figure\",\"type\":\"Plot\"},\"ticker\":{\"id\":\"d5133bfd-6ac8-48b5-9bff-88acd2fbe7f0\",\"type\":\"BasicTicker\"}},\"id\":\"75eb2202-ddcb-4e3f-a85e-1729f9a4c1c2\",\"type\":\"LinearAxis\"},{\"attributes\":{\"fill_color\":{\"value\":\"orange\"},\"line_color\":{\"value\":\"orange\"},\"size\":{\"units\":\"screen\",\"value\":10},\"x\":{\"value\":3},\"y\":{\"value\":-4}},\"id\":\"e1150ed1-7006-4343-88b9-9c2b6ad8cb84\",\"type\":\"Circle\"},{\"attributes\":{\"callback\":null},\"id\":\"da1e756c-ce30-41fb-b8df-16a4e1f0e02b\",\"type\":\"DataRange1d\"},{\"attributes\":{},\"id\":\"e0bc0d96-87d1-42c3-9ae3-3e9981b1aaee\",\"type\":\"BasicTickFormatter\"},{\"attributes\":{\"callback\":null},\"id\":\"dc6dffcc-78d3-4552-871f-c0c077e3c051\",\"type\":\"ColumnDataSource\"},{\"attributes\":{\"axis_label_text_font_size\":{\"value\":\"14pt\"},\"formatter\":{\"id\":\"8997dfd5-e9ab-458f-b58a-0c0080e3d151\",\"type\":\"BasicTickFormatter\"},\"plot\":{\"id\":\"69ad5276-f29a-4e15-b279-3cc96ae12623\",\"subtype\":\"Figure\",\"type\":\"Plot\"},\"ticker\":{\"id\":\"3733e797-8980-4006-a1ef-f18e979bf3da\",\"type\":\"BasicTicker\"}},\"id\":\"fdf28e9e-c390-4606-9010-cfc7f7ed6caa\",\"type\":\"LinearAxis\"},{\"attributes\":{},\"id\":\"c85ed670-24d0-44b4-87b5-06d155711e48\",\"type\":\"ToolEvents\"},{\"attributes\":{\"plot\":{\"id\":\"dcd1d8b5-e0aa-4a1f-ae91-0c8a50fabb01\",\"subtype\":\"Figure\",\"type\":\"Plot\"}},\"id\":\"78299cde-ba74-4fa0-afc1-ec3aa8732940\",\"type\":\"ResetTool\"},{\"attributes\":{},\"id\":\"27f677ce-32ea-461f-bcdc-a1554e622fb0\",\"type\":\"BasicTickFormatter\"},{\"attributes\":{},\"id\":\"3733e797-8980-4006-a1ef-f18e979bf3da\",\"type\":\"BasicTicker\"},{\"attributes\":{\"plot\":{\"id\":\"b3c7f24f-7e8a-449b-abf0-1d7b1fbe6005\",\"subtype\":\"Figure\",\"type\":\"Plot\"}},\"id\":\"db0a73f5-2461-4442-a9ab-e1627ce01992\",\"type\":\"PanTool\"},{\"attributes\":{\"data_source\":{\"id\":\"d6910218-0d67-4520-8ea6-7d472d22b933\",\"type\":\"ColumnDataSource\"},\"glyph\":{\"id\":\"4bc09de2-1ad3-47af-8eeb-f58fa563cdd7\",\"type\":\"Circle\"},\"hover_glyph\":null,\"nonselection_glyph\":{\"id\":\"e3c254b8-520d-4f46-8b6a-be9c4314e404\",\"type\":\"Circle\"},\"selection_glyph\":null},\"id\":\"84e191d6-bccb-421c-ab61-1a8f109e9a9e\",\"type\":\"GlyphRenderer\"},{\"attributes\":{\"below\":[{\"id\":\"e508f65d-021f-4d67-88da-91ddbd1df5b9\",\"type\":\"LinearAxis\"}],\"left\":[{\"id\":\"fdf28e9e-c390-4606-9010-cfc7f7ed6caa\",\"type\":\"LinearAxis\"}],\"plot_height\":250,\"plot_width\":400,\"renderers\":[{\"id\":\"e508f65d-021f-4d67-88da-91ddbd1df5b9\",\"type\":\"LinearAxis\"},{\"id\":\"12da5cc1-d6fb-4315-9589-8fc3314ee3c5\",\"type\":\"Grid\"},{\"id\":\"fdf28e9e-c390-4606-9010-cfc7f7ed6caa\",\"type\":\"LinearAxis\"},{\"id\":\"1bdd881f-dc26-4d4e-b1bd-73b2cb946798\",\"type\":\"Grid\"},{\"id\":\"14725d95-4e2c-4f49-90f6-64de769dd496\",\"type\":\"GlyphRenderer\"},{\"id\":\"10b6c7bd-fd85-4659-b9c4-b7757fca6422\",\"type\":\"GlyphRenderer\"}],\"title_text_font_size\":{\"value\":\"12pt\"},\"tool_events\":{\"id\":\"7d70e9fb-42ab-4858-9a04-2a1a70fa7b7e\",\"type\":\"ToolEvents\"},\"tools\":[{\"id\":\"a3162cce-d0ab-44e2-b0cb-4b7b4ee36b5a\",\"type\":\"WheelZoomTool\"},{\"id\":\"93ed511d-344f-4e3d-a79a-853a20bf1b72\",\"type\":\"ResetTool\"},{\"id\":\"da6da0e5-2e7a-493a-ac44-98bce3779e0e\",\"type\":\"PanTool\"}],\"x_range\":{\"id\":\"8125705b-e710-4af1-a96c-030e88f30a09\",\"type\":\"DataRange1d\"},\"y_range\":{\"id\":\"da1e756c-ce30-41fb-b8df-16a4e1f0e02b\",\"type\":\"DataRange1d\"}},\"id\":\"69ad5276-f29a-4e15-b279-3cc96ae12623\",\"subtype\":\"Figure\",\"type\":\"Plot\"},{\"attributes\":{\"callback\":null},\"id\":\"d5bc39fc-05a3-4a64-b73c-d6e21e8e0a25\",\"type\":\"DataRange1d\"},{\"attributes\":{\"plot\":{\"id\":\"dcd1d8b5-e0aa-4a1f-ae91-0c8a50fabb01\",\"subtype\":\"Figure\",\"type\":\"Plot\"}},\"id\":\"708baf6d-5c48-4121-a0b2-9d477dbea908\",\"type\":\"WheelZoomTool\"},{\"attributes\":{\"callback\":null},\"id\":\"1ae1bbec-15ea-480d-9f66-648aa4fee149\",\"type\":\"DataRange1d\"},{\"attributes\":{\"fill_alpha\":{\"value\":0.1},\"fill_color\":{\"value\":\"#1f77b4\"},\"line_alpha\":{\"value\":0.1},\"line_color\":{\"value\":\"#1f77b4\"},\"size\":{\"units\":\"screen\",\"value\":10},\"x\":{\"value\":3},\"y\":{\"value\":-4}},\"id\":\"7e80fd73-a864-4fc8-9e99-d2f7a43caef7\",\"type\":\"Circle\"},{\"attributes\":{\"callback\":null},\"id\":\"d6910218-0d67-4520-8ea6-7d472d22b933\",\"type\":\"ColumnDataSource\"},{\"attributes\":{\"axis_label_text_font_size\":{\"value\":\"14pt\"},\"formatter\":{\"id\":\"ef680ef2-7026-40bf-8d7d-0280b5c9140b\",\"type\":\"BasicTickFormatter\"},\"plot\":{\"id\":\"b3c7f24f-7e8a-449b-abf0-1d7b1fbe6005\",\"subtype\":\"Figure\",\"type\":\"Plot\"},\"ticker\":{\"id\":\"ace60afd-ae8d-45b3-8231-38d76aa7c863\",\"type\":\"BasicTicker\"}},\"id\":\"53d62889-30d7-46d3-97ab-74f1342c1d09\",\"type\":\"LinearAxis\"},{\"attributes\":{\"below\":[{\"id\":\"d879ab90-609f-44e0-bd0a-5bd039e6f5b2\",\"type\":\"LinearAxis\"}],\"left\":[{\"id\":\"a62f2b63-6350-4b54-b59f-49f44baba190\",\"type\":\"LinearAxis\"}],\"plot_height\":250,\"plot_width\":400,\"renderers\":[{\"id\":\"d879ab90-609f-44e0-bd0a-5bd039e6f5b2\",\"type\":\"LinearAxis\"},{\"id\":\"5967a76c-b680-41df-868f-ab6e379ece96\",\"type\":\"Grid\"},{\"id\":\"a62f2b63-6350-4b54-b59f-49f44baba190\",\"type\":\"LinearAxis\"},{\"id\":\"03520f6f-e102-4d29-8f75-f6e854ce89cc\",\"type\":\"Grid\"},{\"id\":\"cd407637-0bf6-4627-9c15-aa955d4bbd7b\",\"type\":\"GlyphRenderer\"},{\"id\":\"a3c34fdb-07c0-4e35-96ec-edb93b089dea\",\"type\":\"GlyphRenderer\"}],\"title\":\"Local maximum of function\",\"title_text_font_size\":{\"value\":\"12pt\"},\"tool_events\":{\"id\":\"f44f05eb-2261-41cf-ba1e-d3d35f0402e9\",\"type\":\"ToolEvents\"},\"tools\":[{\"id\":\"708baf6d-5c48-4121-a0b2-9d477dbea908\",\"type\":\"WheelZoomTool\"},{\"id\":\"78299cde-ba74-4fa0-afc1-ec3aa8732940\",\"type\":\"ResetTool\"},{\"id\":\"569b8fe6-3f0a-4cbc-941d-ce8d7c72bca0\",\"type\":\"PanTool\"}],\"x_range\":{\"id\":\"d9e41e06-ed9b-4cdc-94e7-8f22c31cac56\",\"type\":\"DataRange1d\"},\"y_range\":{\"id\":\"4d599ee9-4953-485f-9d52-d284898423e1\",\"type\":\"DataRange1d\"}},\"id\":\"dcd1d8b5-e0aa-4a1f-ae91-0c8a50fabb01\",\"subtype\":\"Figure\",\"type\":\"Plot\"},{\"attributes\":{\"plot\":{\"id\":\"8264275a-b390-4442-bb4c-bf5c2d7d4544\",\"subtype\":\"Figure\",\"type\":\"Plot\"},\"ticker\":{\"id\":\"1bf7ba6b-5466-499e-adf4-7cf6ac70e6c9\",\"type\":\"BasicTicker\"}},\"id\":\"c0713088-150e-4574-8e73-eacd2eb24f6b\",\"type\":\"Grid\"},{\"attributes\":{\"plot\":{\"id\":\"94a5ca5c-0292-48bc-afe0-1b3efa3f9ab7\",\"subtype\":\"Figure\",\"type\":\"Plot\"},\"ticker\":{\"id\":\"76a6a30f-acc8-4ecf-83be-74eee64f0f6e\",\"type\":\"BasicTicker\"}},\"id\":\"02e256a7-c401-44e2-9406-2e80ea40e88f\",\"type\":\"Grid\"},{\"attributes\":{\"data_source\":{\"id\":\"70dc5e61-3c2e-4c7f-b333-a53ba04301be\",\"type\":\"ColumnDataSource\"},\"glyph\":{\"id\":\"eb9257d4-67ca-451b-b882-083e7456de5a\",\"type\":\"Line\"},\"hover_glyph\":null,\"nonselection_glyph\":{\"id\":\"ff94da21-5369-40b3-abdc-289b2212e285\",\"type\":\"Line\"},\"selection_glyph\":null},\"id\":\"ef7d61ca-ac01-48c9-b0d3-f79a9628152f\",\"type\":\"GlyphRenderer\"},{\"attributes\":{\"fill_color\":{\"value\":\"orange\"},\"line_color\":{\"value\":\"orange\"},\"size\":{\"units\":\"screen\",\"value\":10},\"x\":{\"value\":15},\"y\":{\"value\":140}},\"id\":\"4bc09de2-1ad3-47af-8eeb-f58fa563cdd7\",\"type\":\"Circle\"},{\"attributes\":{\"fill_alpha\":{\"value\":0.1},\"fill_color\":{\"value\":\"#1f77b4\"},\"line_alpha\":{\"value\":0.1},\"line_color\":{\"value\":\"#1f77b4\"},\"size\":{\"units\":\"screen\",\"value\":10},\"x\":{\"value\":15},\"y\":{\"value\":140}},\"id\":\"e3c254b8-520d-4f46-8b6a-be9c4314e404\",\"type\":\"Circle\"},{\"attributes\":{\"dimension\":1,\"plot\":{\"id\":\"8264275a-b390-4442-bb4c-bf5c2d7d4544\",\"subtype\":\"Figure\",\"type\":\"Plot\"},\"ticker\":{\"id\":\"e9afce5c-172d-4cdf-985b-ea065451086d\",\"type\":\"BasicTicker\"}},\"id\":\"732b2540-ad09-4864-8b05-3b1650d9d094\",\"type\":\"Grid\"},{\"attributes\":{},\"id\":\"45b3a37e-5549-4a4f-becf-2ada5016b8bd\",\"type\":\"BasicTickFormatter\"},{\"attributes\":{\"callback\":null},\"id\":\"754c47bf-25bc-4834-bc5f-99ac5483cbc7\",\"type\":\"ColumnDataSource\"},{\"attributes\":{\"plot\":{\"id\":\"69ad5276-f29a-4e15-b279-3cc96ae12623\",\"subtype\":\"Figure\",\"type\":\"Plot\"}},\"id\":\"a3162cce-d0ab-44e2-b0cb-4b7b4ee36b5a\",\"type\":\"WheelZoomTool\"},{\"attributes\":{\"axis_label_text_font_size\":{\"value\":\"14pt\"},\"formatter\":{\"id\":\"e0bc0d96-87d1-42c3-9ae3-3e9981b1aaee\",\"type\":\"BasicTickFormatter\"},\"plot\":{\"id\":\"8264275a-b390-4442-bb4c-bf5c2d7d4544\",\"subtype\":\"Figure\",\"type\":\"Plot\"},\"ticker\":{\"id\":\"1bf7ba6b-5466-499e-adf4-7cf6ac70e6c9\",\"type\":\"BasicTicker\"}},\"id\":\"bdca23c1-f57b-422a-b916-a1c931c61a4a\",\"type\":\"LinearAxis\"},{\"attributes\":{},\"id\":\"17343b18-4cc0-4ca6-b440-153f1188cc9d\",\"type\":\"BasicTicker\"},{\"attributes\":{\"plot\":{\"id\":\"dcd1d8b5-e0aa-4a1f-ae91-0c8a50fabb01\",\"subtype\":\"Figure\",\"type\":\"Plot\"}},\"id\":\"569b8fe6-3f0a-4cbc-941d-ce8d7c72bca0\",\"type\":\"PanTool\"},{\"attributes\":{\"callback\":null},\"id\":\"8125705b-e710-4af1-a96c-030e88f30a09\",\"type\":\"DataRange1d\"},{\"attributes\":{\"dimension\":1,\"plot\":{\"id\":\"b3c7f24f-7e8a-449b-abf0-1d7b1fbe6005\",\"subtype\":\"Figure\",\"type\":\"Plot\"},\"ticker\":{\"id\":\"d5133bfd-6ac8-48b5-9bff-88acd2fbe7f0\",\"type\":\"BasicTicker\"}},\"id\":\"0cf1090c-d2c8-4b6c-ab1d-2b3eff60e8dc\",\"type\":\"Grid\"},{\"attributes\":{\"line_alpha\":{\"value\":0.1},\"line_color\":{\"value\":\"#1f77b4\"},\"line_width\":{\"value\":3},\"x\":{\"field\":\"x\"},\"y\":{\"field\":\"y\"}},\"id\":\"ff94da21-5369-40b3-abdc-289b2212e285\",\"type\":\"Line\"},{\"attributes\":{\"line_alpha\":{\"value\":0.5},\"line_color\":{\"value\":\"navy\"},\"line_width\":{\"value\":3},\"x\":{\"field\":\"x\"},\"y\":{\"field\":\"y\"}},\"id\":\"eb9257d4-67ca-451b-b882-083e7456de5a\",\"type\":\"Line\"},{\"attributes\":{\"fill_color\":{\"value\":\"orange\"},\"line_color\":{\"value\":\"orange\"},\"size\":{\"units\":\"screen\",\"value\":10},\"x\":{\"value\":0},\"y\":{\"value\":0}},\"id\":\"7555d007-1fe6-49be-bc57-5297f324e7d5\",\"type\":\"Circle\"},{\"attributes\":{},\"id\":\"d5133bfd-6ac8-48b5-9bff-88acd2fbe7f0\",\"type\":\"BasicTicker\"},{\"attributes\":{\"data_source\":{\"id\":\"b3225a98-728b-42ac-9de2-f929e7fb7f31\",\"type\":\"ColumnDataSource\"},\"glyph\":{\"id\":\"19fc54c0-0997-4b20-aaee-6def83d35156\",\"type\":\"Circle\"},\"hover_glyph\":null,\"nonselection_glyph\":{\"id\":\"cb24636e-47f3-4dbf-ad89-8f8a0f00b081\",\"type\":\"Circle\"},\"selection_glyph\":null},\"id\":\"af573154-9bb6-4ee7-a3e4-4ba25e86364b\",\"type\":\"GlyphRenderer\"},{\"attributes\":{\"plot\":{\"id\":\"94a5ca5c-0292-48bc-afe0-1b3efa3f9ab7\",\"subtype\":\"Figure\",\"type\":\"Plot\"}},\"id\":\"ea42a068-a75a-4f1e-9f98-c27b61cc6aa2\",\"type\":\"PanTool\"},{\"attributes\":{},\"id\":\"e513cd27-d097-44d9-b7a3-7540567aa4b8\",\"type\":\"BasicTickFormatter\"},{\"attributes\":{\"fill_alpha\":{\"value\":0.1},\"fill_color\":{\"value\":\"#1f77b4\"},\"line_alpha\":{\"value\":0.1},\"line_color\":{\"value\":\"#1f77b4\"},\"size\":{\"units\":\"screen\",\"value\":10},\"x\":{\"value\":0},\"y\":{\"value\":0}},\"id\":\"54f52dad-3213-4383-a27b-11bec3384dca\",\"type\":\"Circle\"},{\"attributes\":{\"line_alpha\":{\"value\":0.1},\"line_color\":{\"value\":\"#1f77b4\"},\"line_width\":{\"value\":3},\"x\":{\"field\":\"x\"},\"y\":{\"field\":\"y\"}},\"id\":\"40587fa5-5b53-4cee-b673-0ca0fe1a5bad\",\"type\":\"Line\"},{\"attributes\":{},\"id\":\"ace60afd-ae8d-45b3-8231-38d76aa7c863\",\"type\":\"BasicTicker\"},{\"attributes\":{},\"id\":\"aa4f017f-fec0-4acc-9fab-1898b36165fa\",\"type\":\"BasicTickFormatter\"},{\"attributes\":{},\"id\":\"8997dfd5-e9ab-458f-b58a-0c0080e3d151\",\"type\":\"BasicTickFormatter\"},{\"attributes\":{},\"id\":\"af22d204-a11c-4a24-b7a3-b7dec41ce7e6\",\"type\":\"BasicTicker\"},{\"attributes\":{\"below\":[{\"id\":\"bdca23c1-f57b-422a-b916-a1c931c61a4a\",\"type\":\"LinearAxis\"}],\"left\":[{\"id\":\"06060d9e-da3e-4422-bc77-c3f307c39ff4\",\"type\":\"LinearAxis\"}],\"plot_height\":250,\"plot_width\":400,\"renderers\":[{\"id\":\"bdca23c1-f57b-422a-b916-a1c931c61a4a\",\"type\":\"LinearAxis\"},{\"id\":\"c0713088-150e-4574-8e73-eacd2eb24f6b\",\"type\":\"Grid\"},{\"id\":\"06060d9e-da3e-4422-bc77-c3f307c39ff4\",\"type\":\"LinearAxis\"},{\"id\":\"732b2540-ad09-4864-8b05-3b1650d9d094\",\"type\":\"Grid\"},{\"id\":\"495828d9-feb6-470e-b771-63933a422f20\",\"type\":\"GlyphRenderer\"},{\"id\":\"af573154-9bb6-4ee7-a3e4-4ba25e86364b\",\"type\":\"GlyphRenderer\"}],\"title\":\"Local minimum of function\",\"title_text_font_size\":{\"value\":\"12pt\"},\"tool_events\":{\"id\":\"8f588507-12b8-420c-bdc3-0d0be698afd8\",\"type\":\"ToolEvents\"},\"tools\":[{\"id\":\"d3a8b4d6-7ba5-4b51-939a-480d4e921890\",\"type\":\"WheelZoomTool\"},{\"id\":\"332d3a32-5e88-4047-bd55-e93e64423f64\",\"type\":\"ResetTool\"},{\"id\":\"dd7ad3e5-cb8c-448a-9aa0-354377f4285d\",\"type\":\"PanTool\"}],\"x_range\":{\"id\":\"1ae1bbec-15ea-480d-9f66-648aa4fee149\",\"type\":\"DataRange1d\"},\"y_range\":{\"id\":\"cfb57749-8962-401e-8655-4cadd7b4e8cc\",\"type\":\"DataRange1d\"}},\"id\":\"8264275a-b390-4442-bb4c-bf5c2d7d4544\",\"subtype\":\"Figure\",\"type\":\"Plot\"},{\"attributes\":{\"callback\":null,\"column_names\":[\"x\",\"y\"],\"data\":{\"x\":[-15.0,-14.696969696969697,-14.393939393939394,-14.09090909090909,-13.787878787878787,-13.484848484848484,-13.181818181818182,-12.878787878787879,-12.575757575757576,-12.272727272727273,-11.969696969696969,-11.666666666666666,-11.363636363636363,-11.06060606060606,-10.757575757575758,-10.454545454545453,-10.151515151515152,-9.848484848484848,-9.545454545454545,-9.242424242424242,-8.93939393939394,-8.636363636363637,-8.333333333333332,-8.030303030303031,-7.727272727272727,-7.424242424242424,-7.121212121212121,-6.818181818181818,-6.515151515151516,-6.212121212121211,-5.909090909090908,-5.6060606060606055,-5.303030303030303,-5.0,-4.696969696969697,-4.3939393939393945,-4.09090909090909,-3.787878787878787,-3.4848484848484844,-3.1818181818181817,-2.878787878787879,-2.575757575757576,-2.2727272727272716,-1.9696969696969688,-1.666666666666666,-1.3636363636363633,-1.0606060606060606,-0.7575757575757578,-0.45454545454545325,-0.1515151515151505,0.15151515151515227,0.45454545454545503,0.7575757575757578,1.0606060606060623,1.3636363636363633,1.6666666666666679,1.9696969696969688,2.2727272727272734,2.575757575757578,2.878787878787879,3.1818181818181834,3.4848484848484844,3.787878787878789,4.09090909090909,4.3939393939393945,4.696969696969699,5.0,5.3030303030303045,5.6060606060606055,5.90909090909091,6.212121212121211,6.515151515151516,6.81818181818182,7.121212121212121,7.424242424242426,7.727272727272727,8.030303030303031,8.333333333333336,8.636363636363637,8.939393939393941,9.242424242424242,9.545454545454547,9.848484848484848,10.151515151515152,10.454545454545457,10.757575757575758,11.060606060606062,11.363636363636363,11.666666666666668,11.969696969696969,12.272727272727273,12.575757575757578,12.878787878787879,13.181818181818183,13.484848484848484,13.787878787878789,14.090909090909093,14.393939393939394,14.696969696969699,15.0],\"y\":[-225.0,-216.00091827364557,-207.18549127640037,-198.55371900826444,-190.10560146923783,-181.84113865932048,-173.7603305785124,-165.8631772268136,-158.14967860422408,-150.61983471074382,-143.2736455463728,-136.1111111111111,-129.13223140495867,-122.33700642791551,-115.72543617998164,-109.297520661157,-103.05325987144171,-96.99265381083562,-91.11570247933884,-85.42240587695133,-79.91276400367309,-74.58677685950414,-69.44444444444443,-64.48576675849405,-59.71074380165288,-55.119375573921026,-50.711662075298435,-46.48760330578513,-42.44719926538109,-38.5904499540863,-34.91735537190082,-31.427915518824605,-28.122130394857663,-25.0,-22.061524334251608,-19.306703397612495,-16.73553719008264,-14.34802571166207,-12.144168962350777,-10.12396694214876,-8.287419651056016,-6.634527089072545,-5.165289256198342,-3.879706152433422,-2.777777777777776,-1.859504132231404,-1.1248852157943066,-0.5739210284664833,-0.2066115702479327,-0.02295684113865901,-0.022956841138659548,-0.20661157024793433,-0.5739210284664833,-1.1248852157943103,-1.859504132231404,-2.7777777777777817,-3.879706152433422,-5.16528925619835,-6.634527089072555,-8.287419651056016,-10.12396694214877,-12.144168962350777,-14.348025711662084,-16.73553719008264,-19.306703397612495,-22.061524334251626,-25.0,-28.122130394857685,-31.427915518824605,-34.91735537190084,-38.5904499540863,-42.44719926538109,-46.48760330578515,-50.711662075298435,-55.11937557392105,-59.71074380165288,-64.48576675849405,-69.44444444444449,-74.58677685950414,-79.91276400367313,-85.42240587695133,-91.11570247933886,-96.99265381083562,-103.05325987144171,-109.29752066115707,-115.72543617998164,-122.33700642791555,-129.13223140495867,-136.11111111111114,-143.2736455463728,-150.61983471074382,-158.1496786042241,-165.8631772268136,-173.76033057851245,-181.84113865932048,-190.10560146923785,-198.55371900826452,-207.18549127640037,-216.0009182736456,-225.0]}},\"id\":\"e33d1db5-278e-480e-aaad-6d89f0c8ec12\",\"type\":\"ColumnDataSource\"}],\"root_ids\":[\"8264275a-b390-4442-bb4c-bf5c2d7d4544\",\"dcd1d8b5-e0aa-4a1f-ae91-0c8a50fabb01\",\"b3c7f24f-7e8a-449b-abf0-1d7b1fbe6005\",\"69ad5276-f29a-4e15-b279-3cc96ae12623\",\"94a5ca5c-0292-48bc-afe0-1b3efa3f9ab7\"]},\"title\":\"Bokeh Application\",\"version\":\"0.11.1\"}};\n",
       "            var render_items = [{\"docid\":\"a6b5f2d7-3cb8-48f5-970b-d96b1166be9b\",\"elementid\":\"8e52bacd-c9b2-4bcc-9025-8a1b2fab4500\",\"modelid\":\"94a5ca5c-0292-48bc-afe0-1b3efa3f9ab7\",\"notebook_comms_target\":\"d57fdfdd-41f7-4994-85c3-28adcdb1adab\"}];\n",
       "            \n",
       "            Bokeh.embed.embed_items(docs_json, render_items);\n",
       "        });\n",
       "      },\n",
       "      function(Bokeh) {\n",
       "      }\n",
       "    ];\n",
       "  \n",
       "    function run_inline_js() {\n",
       "      for (var i = 0; i < inline_js.length; i++) {\n",
       "        inline_js[i](window.Bokeh);\n",
       "      }\n",
       "    }\n",
       "  \n",
       "    if (window._bokeh_is_loading === 0) {\n",
       "      console.log(\"Bokeh: BokehJS loaded, going straight to plotting\");\n",
       "      run_inline_js();\n",
       "    } else {\n",
       "      load_libs(js_urls, function() {\n",
       "        console.log(\"Bokeh: BokehJS plotting callback run at\", now());\n",
       "        run_inline_js();\n",
       "      });\n",
       "    }\n",
       "  }(this));\n",
       "</script>"
      ]
     },
     "metadata": {},
     "output_type": "display_data"
    },
    {
     "data": {
      "text/html": [
       "<p><code>&lt;Bokeh Notebook handle for <strong>In[11]</strong>&gt;</code></p>"
      ],
      "text/plain": [
       "<bokeh.io._CommsHandle at 0x1180c3f90>"
      ]
     },
     "execution_count": 11,
     "metadata": {},
     "output_type": "execute_result"
    }
   ],
   "source": [
    "x = np.linspace(-10,20,100)\n",
    "y = x**2 - 6*x + 5\n",
    "start = 15\n",
    "\n",
    "TOOLS = [WheelZoomTool(), ResetTool(), PanTool()]\n",
    "\n",
    "\n",
    "s1 = bp.figure(width=W, plot_height=H, \n",
    "               tools=TOOLS)\n",
    "s1.line(x, y, color=\"navy\", alpha=0.5, line_width=3)\n",
    "s1.circle(start, start**2 - 6*start + 5, size =10, color=\"orange\")\n",
    "\n",
    "d = 2 * start - 6\n",
    "end = start - d\n",
    "\n",
    "s1.circle(end, end**2 - 6*end + 5, size =10, color=\"red\")\n",
    "s1.title_text_font_size = '12pt'\n",
    "s1.yaxis.axis_label_text_font_size = \"14pt\"\n",
    "s1.xaxis.axis_label_text_font_size = \"14pt\"\n",
    "\n",
    "bp.show(s1)"
   ]
  },
  {
   "cell_type": "markdown",
   "metadata": {},
   "source": [
    "To fix this, we multiply the gradient by a step size. This step size (often called **alpha**) has to be chosen carefully, as a value too small will result in a long computation time, while a value too large will not give you the right result (by overshooting) or even fail to converge. \n",
    "\n",
    "In this example, we'll set the step size to 0.01, which means we'll subtract $24×0.01$ from $15$, which is $14.76$. \n",
    "\n",
    "This is now our new temporary local minimum: We continue this method until we either don't see a change after we subtracted the derivative step size, or until we've completed a pre-set number of iterations."
   ]
  },
  {
   "cell_type": "code",
   "execution_count": 12,
   "metadata": {
    "collapsed": false
   },
   "outputs": [
    {
     "name": "stdout",
     "output_type": "stream",
     "text": [
      "Local minimum occurs at 3.00.\n"
     ]
    }
   ],
   "source": [
    "old_min = 0\n",
    "temp_min = 15\n",
    "step_size = 0.01\n",
    "precision = 0.0001\n",
    " \n",
    "def f_derivative(x):\n",
    "    return 2*x -6\n",
    "\n",
    "mins = []\n",
    "cost = []\n",
    "\n",
    "while abs(temp_min - old_min) > precision:\n",
    "    old_min = temp_min \n",
    "    gradient = f_derivative(old_min) \n",
    "    move = gradient * step_size\n",
    "    temp_min = old_min - move\n",
    "    cost.append((3-temp_min)**2)\n",
    "    mins.append(temp_min)\n",
    "\n",
    "# rounding the result to 2 digits because of the step size\n",
    "print \"Local minimum occurs at {:3.2f}.\".format(round(temp_min,2))"
   ]
  },
  {
   "cell_type": "markdown",
   "metadata": {},
   "source": [
    "An important feature of gradient descent is that **there should be a visible improvement over time**: In this example, we simply plotted the squared distance from the local minima calculated by gradient descent and the true local minimum,  ``cost``, against the iteration during which it was calculated. As we can see, the distance gets smaller over time, but barely changes in later iterations. "
   ]
  },
  {
   "cell_type": "code",
   "execution_count": 13,
   "metadata": {
    "collapsed": false
   },
   "outputs": [
    {
     "data": {
      "text/html": [
       "\n",
       "\n",
       "    <div class=\"plotdiv\" id=\"4461e7a8-bf33-4ff5-9fd1-7682bdff6b44\"></div>\n",
       "<script type=\"text/javascript\">\n",
       "  \n",
       "  (function(global) {\n",
       "    function now() {\n",
       "      return new Date();\n",
       "    }\n",
       "  \n",
       "    if (typeof (window._bokeh_onload_callbacks) === \"undefined\") {\n",
       "      window._bokeh_onload_callbacks = [];\n",
       "    }\n",
       "  \n",
       "    function run_callbacks() {\n",
       "      window._bokeh_onload_callbacks.forEach(function(callback) { callback() });\n",
       "      delete window._bokeh_onload_callbacks\n",
       "      console.info(\"Bokeh: all callbacks have finished\");\n",
       "    }\n",
       "  \n",
       "    function load_libs(js_urls, callback) {\n",
       "      window._bokeh_onload_callbacks.push(callback);\n",
       "      if (window._bokeh_is_loading > 0) {\n",
       "        console.log(\"Bokeh: BokehJS is being loaded, scheduling callback at\", now());\n",
       "        return null;\n",
       "      }\n",
       "      if (js_urls == null || js_urls.length === 0) {\n",
       "        run_callbacks();\n",
       "        return null;\n",
       "      }\n",
       "      console.log(\"Bokeh: BokehJS not loaded, scheduling load and callback at\", now());\n",
       "      window._bokeh_is_loading = js_urls.length;\n",
       "      for (var i = 0; i < js_urls.length; i++) {\n",
       "        var url = js_urls[i];\n",
       "        var s = document.createElement('script');\n",
       "        s.src = url;\n",
       "        s.async = false;\n",
       "        s.onreadystatechange = s.onload = function() {\n",
       "          window._bokeh_is_loading--;\n",
       "          if (window._bokeh_is_loading === 0) {\n",
       "            console.log(\"Bokeh: all BokehJS libraries loaded\");\n",
       "            run_callbacks()\n",
       "          }\n",
       "        };\n",
       "        s.onerror = function() {\n",
       "          console.warn(\"failed to load library \" + url);\n",
       "        };\n",
       "        console.log(\"Bokeh: injecting script tag for BokehJS library: \", url);\n",
       "        document.getElementsByTagName(\"head\")[0].appendChild(s);\n",
       "      }\n",
       "    };var element = document.getElementById(\"4461e7a8-bf33-4ff5-9fd1-7682bdff6b44\");\n",
       "    if (element == null) {\n",
       "      console.log(\"Bokeh: ERROR: autoload.js configured with elementid '4461e7a8-bf33-4ff5-9fd1-7682bdff6b44' but no matching script tag was found. \")\n",
       "      return false;\n",
       "    }\n",
       "  \n",
       "    var js_urls = [];\n",
       "  \n",
       "    var inline_js = [\n",
       "      function(Bokeh) {\n",
       "        Bokeh.$(function() {\n",
       "            var docs_json = {\"44d20646-b5da-4de2-b34b-7c3b8eef7bed\":{\"roots\":{\"references\":[{\"attributes\":{\"data_source\":{\"id\":\"e18e25bc-5abc-4460-a480-794d742dd65c\",\"type\":\"ColumnDataSource\"},\"glyph\":{\"id\":\"898f9660-6cd1-4624-9411-49f13e84e764\",\"type\":\"Circle\"},\"hover_glyph\":null,\"nonselection_glyph\":{\"id\":\"eeb52ec0-81a8-4236-90c0-087cb9f4faa8\",\"type\":\"Circle\"},\"selection_glyph\":null},\"id\":\"786a9e1a-a062-4101-998a-3d35f3968082\",\"type\":\"GlyphRenderer\"},{\"attributes\":{\"data_source\":{\"id\":\"754c47bf-25bc-4834-bc5f-99ac5483cbc7\",\"type\":\"ColumnDataSource\"},\"glyph\":{\"id\":\"e1150ed1-7006-4343-88b9-9c2b6ad8cb84\",\"type\":\"Circle\"},\"hover_glyph\":null,\"nonselection_glyph\":{\"id\":\"7e80fd73-a864-4fc8-9e99-d2f7a43caef7\",\"type\":\"Circle\"},\"selection_glyph\":null},\"id\":\"10b6c7bd-fd85-4659-b9c4-b7757fca6422\",\"type\":\"GlyphRenderer\"},{\"attributes\":{\"plot\":{\"id\":\"dcd1d8b5-e0aa-4a1f-ae91-0c8a50fabb01\",\"subtype\":\"Figure\",\"type\":\"Plot\"},\"ticker\":{\"id\":\"af22d204-a11c-4a24-b7a3-b7dec41ce7e6\",\"type\":\"BasicTicker\"}},\"id\":\"5967a76c-b680-41df-868f-ab6e379ece96\",\"type\":\"Grid\"},{\"attributes\":{\"plot\":{\"id\":\"b3c7f24f-7e8a-449b-abf0-1d7b1fbe6005\",\"subtype\":\"Figure\",\"type\":\"Plot\"}},\"id\":\"44030659-e662-4f39-ac3c-268c874576ff\",\"type\":\"ResetTool\"},{\"attributes\":{},\"id\":\"f44f05eb-2261-41cf-ba1e-d3d35f0402e9\",\"type\":\"ToolEvents\"},{\"attributes\":{\"data_source\":{\"id\":\"dc6dffcc-78d3-4552-871f-c0c077e3c051\",\"type\":\"ColumnDataSource\"},\"glyph\":{\"id\":\"eb2d219f-d2bd-4e04-9eaa-790ca72a12be\",\"type\":\"Circle\"},\"hover_glyph\":null,\"nonselection_glyph\":{\"id\":\"0271b978-7a18-4d0a-bdf1-b9725f131753\",\"type\":\"Circle\"},\"selection_glyph\":null},\"id\":\"135bbd45-2b38-4d68-b35b-c96fad6c0dd2\",\"type\":\"GlyphRenderer\"},{\"attributes\":{},\"id\":\"4024f6ff-5c43-4d2d-92fe-d621917ef38f\",\"type\":\"BasicTickFormatter\"},{\"attributes\":{},\"id\":\"17343b18-4cc0-4ca6-b440-153f1188cc9d\",\"type\":\"BasicTicker\"},{\"attributes\":{},\"id\":\"af20d824-9b30-4ae7-ba6f-52a6d7fddc07\",\"type\":\"BasicTicker\"},{\"attributes\":{\"callback\":null},\"id\":\"81595931-53c6-408d-93fd-ff11292f1a40\",\"type\":\"ColumnDataSource\"},{\"attributes\":{\"callback\":null,\"column_names\":[\"x\",\"y\"],\"data\":{\"x\":[-10.0,-9.696969696969697,-9.393939393939394,-9.09090909090909,-8.787878787878787,-8.484848484848484,-8.181818181818182,-7.878787878787879,-7.575757575757576,-7.2727272727272725,-6.96969696969697,-6.666666666666666,-6.363636363636363,-6.0606060606060606,-5.757575757575758,-5.454545454545454,-5.151515151515151,-4.848484848484849,-4.545454545454545,-4.242424242424242,-3.9393939393939394,-3.636363636363636,-3.333333333333333,-3.0303030303030303,-2.7272727272727266,-2.424242424242424,-2.121212121212121,-1.8181818181818183,-1.5151515151515156,-1.212121212121211,-0.9090909090909083,-0.6060606060606055,-0.30303030303030276,0.0,0.30303030303030276,0.6060606060606055,0.9090909090909101,1.2121212121212128,1.5151515151515156,1.8181818181818183,2.121212121212121,2.424242424242424,2.7272727272727284,3.030303030303031,3.333333333333334,3.6363636363636367,3.9393939393939394,4.242424242424242,4.545454545454547,4.8484848484848495,5.151515151515152,5.454545454545455,5.757575757575758,6.060606060606062,6.363636363636363,6.666666666666668,6.969696969696969,7.272727272727273,7.575757575757578,7.878787878787879,8.181818181818183,8.484848484848484,8.787878787878789,9.09090909090909,9.393939393939394,9.696969696969699,10.0,10.303030303030305,10.606060606060606,10.90909090909091,11.212121212121211,11.515151515151516,11.81818181818182,12.121212121212121,12.424242424242426,12.727272727272727,13.030303030303031,13.333333333333336,13.636363636363637,13.939393939393941,14.242424242424242,14.545454545454547,14.848484848484848,15.151515151515152,15.454545454545457,15.757575757575758,16.060606060606062,16.363636363636363,16.666666666666668,16.96969696969697,17.272727272727273,17.575757575757578,17.87878787878788,18.181818181818183,18.484848484848484,18.78787878787879,19.090909090909093,19.393939393939394,19.6969696969697,20.0],\"y\":[165.0,157.21303948576679,149.6097337006428,142.19008264462806,134.95408631772267,127.90174471992653,121.03305785123968,114.34802571166207,107.84664830119377,101.5289256198347,95.39485766758494,89.44444444444443,83.67768595041322,78.09458218549128,72.69513314967861,67.47933884297521,62.44719926538108,57.59871441689624,52.93388429752065,48.45270890725436,44.15518824609734,40.04132231404958,36.11111111111111,32.364554637281906,28.801652892561975,25.422405876951327,22.226813590449954,19.214876033057852,16.386593204775025,13.74196510560146,11.280991735537183,9.003673094582181,6.910009182736454,5.0,3.2736455463728205,1.7309458218549154,0.37190082644627687,-0.8034894398530792,-1.7952249770431603,-2.6033057851239674,-3.2277318640954995,-3.6685032139577594,-3.9256198347107443,-3.9990817263544542,-3.8888888888888893,-3.5950413223140494,-3.1175390266299363,-2.4563820018365483,-1.61157024793388,-0.5831037649219439,0.6290174471992671,2.0247933884297495,3.6042240587695176,5.367309458218557,7.314049586776861,9.44444444444445,11.758494031221296,14.256198347107443,16.937557392102867,19.802571166207528,22.85123966942151,26.083562901744713,29.499540863177245,33.09917355371899,36.882460973370065,40.84940312213042,45.0,49.334251606978896,53.85215794306702,58.553719008264466,63.438934802571154,68.50780532598716,73.76033057851244,79.19651056014692,84.81634527089074,90.6198347107438,96.60697887970616,102.77777777777781,109.1322314049587,115.6703397612489,122.39210284664829,129.29752066115705,136.386593204775,143.65932047750232,151.1157024793389,158.75573921028467,166.57943067033983,174.58677685950414,182.77777777777783,191.15243342516067,199.71074380165294,208.45270890725445,217.37832874196508,226.4876033057852,235.78053259871442,245.25711662075298,254.9173553719009,264.76124885215796,274.7887970615244,285.0]}},\"id\":\"70dc5e61-3c2e-4c7f-b333-a53ba04301be\",\"type\":\"ColumnDataSource\"},{\"attributes\":{\"data_source\":{\"id\":\"cc586fdc-0923-4f88-b6f6-a4cbe4048b4d\",\"type\":\"ColumnDataSource\"},\"glyph\":{\"id\":\"f6cb77e6-cfc7-46ab-8b6c-60eb758b46c2\",\"type\":\"Line\"},\"hover_glyph\":null,\"nonselection_glyph\":{\"id\":\"40587fa5-5b53-4cee-b673-0ca0fe1a5bad\",\"type\":\"Line\"},\"selection_glyph\":null},\"id\":\"14725d95-4e2c-4f49-90f6-64de769dd496\",\"type\":\"GlyphRenderer\"},{\"attributes\":{},\"id\":\"63853867-9aae-4928-84f6-1052887e5c21\",\"type\":\"BasicTicker\"},{\"attributes\":{\"below\":[{\"id\":\"5176d949-9622-48bb-a7c1-be8c41ec71c2\",\"type\":\"LinearAxis\"}],\"left\":[{\"id\":\"d8d45ba1-4d94-40da-813b-db0bd9863925\",\"type\":\"LinearAxis\"}],\"plot_height\":250,\"plot_width\":400,\"renderers\":[{\"id\":\"5176d949-9622-48bb-a7c1-be8c41ec71c2\",\"type\":\"LinearAxis\"},{\"id\":\"09aa9382-f28c-421e-b284-6c0eaf3c254f\",\"type\":\"Grid\"},{\"id\":\"d8d45ba1-4d94-40da-813b-db0bd9863925\",\"type\":\"LinearAxis\"},{\"id\":\"52975323-57a3-4bbb-804a-8a1ce507deea\",\"type\":\"Grid\"},{\"id\":\"c44b8f54-70fe-4d86-911a-392c8479c98b\",\"type\":\"GlyphRenderer\"}],\"title\":\"Squared distance to true local minimum\",\"title_text_font_size\":{\"value\":\"16pt\"},\"tool_events\":{\"id\":\"365724c6-8d3a-4300-83ea-cb03e6004f52\",\"type\":\"ToolEvents\"},\"tools\":[{\"id\":\"4bd53e90-57f8-46ad-ba4b-2ce85e685a8f\",\"type\":\"WheelZoomTool\"},{\"id\":\"5c263f9f-e6b3-4df5-b345-542b2bcbce78\",\"type\":\"ResetTool\"},{\"id\":\"d6e147ff-9c5a-45e7-b4ef-dce7d4d5b2b0\",\"type\":\"PanTool\"}],\"x_range\":{\"id\":\"d3fa8a2f-9612-4619-81d8-e607abbeb3f5\",\"type\":\"DataRange1d\"},\"y_range\":{\"id\":\"f92d6f2c-613c-44ed-9904-9e95d7ad59b7\",\"type\":\"DataRange1d\"}},\"id\":\"d65405ca-9d76-429f-8fee-dfcdb2792379\",\"subtype\":\"Figure\",\"type\":\"Plot\"},{\"attributes\":{\"axis_label_text_font_size\":{\"value\":\"14pt\"},\"formatter\":{\"id\":\"a89ebedc-b107-4f1f-9b57-93a1900c0550\",\"type\":\"BasicTickFormatter\"},\"plot\":{\"id\":\"94a5ca5c-0292-48bc-afe0-1b3efa3f9ab7\",\"subtype\":\"Figure\",\"type\":\"Plot\"},\"ticker\":{\"id\":\"76a6a30f-acc8-4ecf-83be-74eee64f0f6e\",\"type\":\"BasicTicker\"}},\"id\":\"037e3376-82e3-438d-b26f-1740036e63e8\",\"type\":\"LinearAxis\"},{\"attributes\":{\"fill_color\":{\"value\":\"orange\"},\"line_color\":{\"value\":\"orange\"},\"size\":{\"units\":\"screen\",\"value\":10},\"x\":{\"value\":0},\"y\":{\"value\":0}},\"id\":\"19fc54c0-0997-4b20-aaee-6def83d35156\",\"type\":\"Circle\"},{\"attributes\":{\"callback\":null},\"id\":\"d9e41e06-ed9b-4cdc-94e7-8f22c31cac56\",\"type\":\"DataRange1d\"},{\"attributes\":{\"plot\":{\"id\":\"94a5ca5c-0292-48bc-afe0-1b3efa3f9ab7\",\"subtype\":\"Figure\",\"type\":\"Plot\"}},\"id\":\"388b3569-7051-4bb9-b2c1-d52fd7839919\",\"type\":\"ResetTool\"},{\"attributes\":{\"callback\":null},\"id\":\"cb4389c1-ac10-4e61-814f-563f498aba4a\",\"type\":\"DataRange1d\"},{\"attributes\":{\"plot\":{\"id\":\"b3c7f24f-7e8a-449b-abf0-1d7b1fbe6005\",\"subtype\":\"Figure\",\"type\":\"Plot\"},\"ticker\":{\"id\":\"ace60afd-ae8d-45b3-8231-38d76aa7c863\",\"type\":\"BasicTicker\"}},\"id\":\"8e731374-c300-4952-b4f5-00998ec2f3ee\",\"type\":\"Grid\"},{\"attributes\":{\"plot\":{\"id\":\"69ad5276-f29a-4e15-b279-3cc96ae12623\",\"subtype\":\"Figure\",\"type\":\"Plot\"},\"ticker\":{\"id\":\"63853867-9aae-4928-84f6-1052887e5c21\",\"type\":\"BasicTicker\"}},\"id\":\"12da5cc1-d6fb-4315-9589-8fc3314ee3c5\",\"type\":\"Grid\"},{\"attributes\":{\"plot\":{\"id\":\"d65405ca-9d76-429f-8fee-dfcdb2792379\",\"subtype\":\"Figure\",\"type\":\"Plot\"}},\"id\":\"d6e147ff-9c5a-45e7-b4ef-dce7d4d5b2b0\",\"type\":\"PanTool\"},{\"attributes\":{\"data_source\":{\"id\":\"e1531301-5aff-4cc4-922b-61deac125e07\",\"type\":\"ColumnDataSource\"},\"glyph\":{\"id\":\"3394802b-2d48-480c-aea7-77d95760f511\",\"type\":\"Line\"},\"hover_glyph\":null,\"nonselection_glyph\":{\"id\":\"63eeb0e2-7092-48e4-afda-e9339a4b0b48\",\"type\":\"Line\"},\"selection_glyph\":null},\"id\":\"c44b8f54-70fe-4d86-911a-392c8479c98b\",\"type\":\"GlyphRenderer\"},{\"attributes\":{\"line_alpha\":{\"value\":0.5},\"line_color\":{\"value\":\"navy\"},\"line_width\":{\"value\":3},\"x\":{\"field\":\"x\"},\"y\":{\"field\":\"y\"}},\"id\":\"eb37e89b-6099-4d07-8b69-934158b2d1ae\",\"type\":\"Line\"},{\"attributes\":{\"plot\":{\"id\":\"8264275a-b390-4442-bb4c-bf5c2d7d4544\",\"subtype\":\"Figure\",\"type\":\"Plot\"}},\"id\":\"d3a8b4d6-7ba5-4b51-939a-480d4e921890\",\"type\":\"WheelZoomTool\"},{\"attributes\":{\"callback\":null},\"id\":\"2891479f-b0c3-4e2e-b665-4f8d95fb75e0\",\"type\":\"DataRange1d\"},{\"attributes\":{},\"id\":\"7d70e9fb-42ab-4858-9a04-2a1a70fa7b7e\",\"type\":\"ToolEvents\"},{\"attributes\":{\"line_alpha\":{\"value\":0.1},\"line_color\":{\"value\":\"#1f77b4\"},\"line_width\":{\"value\":3},\"x\":{\"field\":\"x\"},\"y\":{\"field\":\"y\"}},\"id\":\"63eeb0e2-7092-48e4-afda-e9339a4b0b48\",\"type\":\"Line\"},{\"attributes\":{\"callback\":null},\"id\":\"4d599ee9-4953-485f-9d52-d284898423e1\",\"type\":\"DataRange1d\"},{\"attributes\":{},\"id\":\"016ef6a0-2d25-4954-9b25-9792f1373f2d\",\"type\":\"BasicTicker\"},{\"attributes\":{},\"id\":\"c569ddf3-75bc-4cb8-9d19-c0131038d05f\",\"type\":\"ToolEvents\"},{\"attributes\":{\"fill_color\":{\"value\":\"red\"},\"line_color\":{\"value\":\"red\"},\"size\":{\"units\":\"screen\",\"value\":10},\"x\":{\"value\":-9},\"y\":{\"value\":140}},\"id\":\"eb2d219f-d2bd-4e04-9eaa-790ca72a12be\",\"type\":\"Circle\"},{\"attributes\":{\"line_alpha\":{\"value\":0.1},\"line_color\":{\"value\":\"#1f77b4\"},\"line_width\":{\"value\":3},\"x\":{\"field\":\"x\"},\"y\":{\"field\":\"y\"}},\"id\":\"1c40b622-a919-4f3e-b7ed-960da1ca927d\",\"type\":\"Line\"},{\"attributes\":{\"callback\":null},\"id\":\"b3225a98-728b-42ac-9de2-f929e7fb7f31\",\"type\":\"ColumnDataSource\"},{\"attributes\":{\"dimension\":1,\"plot\":{\"id\":\"d65405ca-9d76-429f-8fee-dfcdb2792379\",\"subtype\":\"Figure\",\"type\":\"Plot\"},\"ticker\":{\"id\":\"016ef6a0-2d25-4954-9b25-9792f1373f2d\",\"type\":\"BasicTicker\"}},\"id\":\"52975323-57a3-4bbb-804a-8a1ce507deea\",\"type\":\"Grid\"},{\"attributes\":{\"plot\":{\"id\":\"8264275a-b390-4442-bb4c-bf5c2d7d4544\",\"subtype\":\"Figure\",\"type\":\"Plot\"}},\"id\":\"dd7ad3e5-cb8c-448a-9aa0-354377f4285d\",\"type\":\"PanTool\"},{\"attributes\":{\"plot\":{\"id\":\"94a5ca5c-0292-48bc-afe0-1b3efa3f9ab7\",\"subtype\":\"Figure\",\"type\":\"Plot\"}},\"id\":\"6ed2a29f-115f-4aa5-9e17-8da287adf23c\",\"type\":\"WheelZoomTool\"},{\"attributes\":{\"axis_label_text_font_size\":{\"value\":\"14pt\"},\"formatter\":{\"id\":\"e513cd27-d097-44d9-b7a3-7540567aa4b8\",\"type\":\"BasicTickFormatter\"},\"plot\":{\"id\":\"94a5ca5c-0292-48bc-afe0-1b3efa3f9ab7\",\"subtype\":\"Figure\",\"type\":\"Plot\"},\"ticker\":{\"id\":\"17343b18-4cc0-4ca6-b440-153f1188cc9d\",\"type\":\"BasicTicker\"}},\"id\":\"5909ce60-e0e1-47ad-ba1f-cc4bb8679428\",\"type\":\"LinearAxis\"},{\"attributes\":{},\"id\":\"478aeb47-9bde-434c-81ac-feb078642e9a\",\"type\":\"BasicTickFormatter\"},{\"attributes\":{\"callback\":null},\"id\":\"f92d6f2c-613c-44ed-9904-9e95d7ad59b7\",\"type\":\"DataRange1d\"},{\"attributes\":{\"line_alpha\":{\"value\":0.5},\"line_color\":{\"value\":\"navy\"},\"line_width\":{\"value\":3},\"x\":{\"field\":\"x\"},\"y\":{\"field\":\"y\"}},\"id\":\"f6cb77e6-cfc7-46ab-8b6c-60eb758b46c2\",\"type\":\"Line\"},{\"attributes\":{\"fill_color\":{\"value\":\"orange\"},\"line_color\":{\"value\":\"orange\"},\"size\":{\"units\":\"screen\",\"value\":10},\"x\":{\"value\":0},\"y\":{\"value\":0}},\"id\":\"898f9660-6cd1-4624-9411-49f13e84e764\",\"type\":\"Circle\"},{\"attributes\":{},\"id\":\"e9afce5c-172d-4cdf-985b-ea065451086d\",\"type\":\"BasicTicker\"},{\"attributes\":{\"below\":[{\"id\":\"037e3376-82e3-438d-b26f-1740036e63e8\",\"type\":\"LinearAxis\"}],\"left\":[{\"id\":\"5909ce60-e0e1-47ad-ba1f-cc4bb8679428\",\"type\":\"LinearAxis\"}],\"plot_height\":250,\"plot_width\":400,\"renderers\":[{\"id\":\"037e3376-82e3-438d-b26f-1740036e63e8\",\"type\":\"LinearAxis\"},{\"id\":\"02e256a7-c401-44e2-9406-2e80ea40e88f\",\"type\":\"Grid\"},{\"id\":\"5909ce60-e0e1-47ad-ba1f-cc4bb8679428\",\"type\":\"LinearAxis\"},{\"id\":\"e43bf927-b8b3-4056-8c20-e8f5bb3acb57\",\"type\":\"Grid\"},{\"id\":\"ef7d61ca-ac01-48c9-b0d3-f79a9628152f\",\"type\":\"GlyphRenderer\"},{\"id\":\"84e191d6-bccb-421c-ab61-1a8f109e9a9e\",\"type\":\"GlyphRenderer\"},{\"id\":\"135bbd45-2b38-4d68-b35b-c96fad6c0dd2\",\"type\":\"GlyphRenderer\"}],\"title_text_font_size\":{\"value\":\"12pt\"},\"tool_events\":{\"id\":\"c85ed670-24d0-44b4-87b5-06d155711e48\",\"type\":\"ToolEvents\"},\"tools\":[{\"id\":\"6ed2a29f-115f-4aa5-9e17-8da287adf23c\",\"type\":\"WheelZoomTool\"},{\"id\":\"388b3569-7051-4bb9-b2c1-d52fd7839919\",\"type\":\"ResetTool\"},{\"id\":\"ea42a068-a75a-4f1e-9f98-c27b61cc6aa2\",\"type\":\"PanTool\"}],\"x_range\":{\"id\":\"d5bc39fc-05a3-4a64-b73c-d6e21e8e0a25\",\"type\":\"DataRange1d\"},\"y_range\":{\"id\":\"0cab9fbb-bb26-4b1b-b2fc-4ac67242b14f\",\"type\":\"DataRange1d\"}},\"id\":\"94a5ca5c-0292-48bc-afe0-1b3efa3f9ab7\",\"subtype\":\"Figure\",\"type\":\"Plot\"},{\"attributes\":{\"fill_alpha\":{\"value\":0.1},\"fill_color\":{\"value\":\"#1f77b4\"},\"line_alpha\":{\"value\":0.1},\"line_color\":{\"value\":\"#1f77b4\"},\"size\":{\"units\":\"screen\",\"value\":10},\"x\":{\"value\":3},\"y\":{\"value\":-4}},\"id\":\"7e80fd73-a864-4fc8-9e99-d2f7a43caef7\",\"type\":\"Circle\"},{\"attributes\":{\"plot\":{\"id\":\"69ad5276-f29a-4e15-b279-3cc96ae12623\",\"subtype\":\"Figure\",\"type\":\"Plot\"}},\"id\":\"93ed511d-344f-4e3d-a79a-853a20bf1b72\",\"type\":\"ResetTool\"},{\"attributes\":{\"callback\":null,\"column_names\":[\"x\",\"y\"],\"data\":{\"x\":[-15.0,-14.696969696969697,-14.393939393939394,-14.09090909090909,-13.787878787878787,-13.484848484848484,-13.181818181818182,-12.878787878787879,-12.575757575757576,-12.272727272727273,-11.969696969696969,-11.666666666666666,-11.363636363636363,-11.06060606060606,-10.757575757575758,-10.454545454545453,-10.151515151515152,-9.848484848484848,-9.545454545454545,-9.242424242424242,-8.93939393939394,-8.636363636363637,-8.333333333333332,-8.030303030303031,-7.727272727272727,-7.424242424242424,-7.121212121212121,-6.818181818181818,-6.515151515151516,-6.212121212121211,-5.909090909090908,-5.6060606060606055,-5.303030303030303,-5.0,-4.696969696969697,-4.3939393939393945,-4.09090909090909,-3.787878787878787,-3.4848484848484844,-3.1818181818181817,-2.878787878787879,-2.575757575757576,-2.2727272727272716,-1.9696969696969688,-1.666666666666666,-1.3636363636363633,-1.0606060606060606,-0.7575757575757578,-0.45454545454545325,-0.1515151515151505,0.15151515151515227,0.45454545454545503,0.7575757575757578,1.0606060606060623,1.3636363636363633,1.6666666666666679,1.9696969696969688,2.2727272727272734,2.575757575757578,2.878787878787879,3.1818181818181834,3.4848484848484844,3.787878787878789,4.09090909090909,4.3939393939393945,4.696969696969699,5.0,5.3030303030303045,5.6060606060606055,5.90909090909091,6.212121212121211,6.515151515151516,6.81818181818182,7.121212121212121,7.424242424242426,7.727272727272727,8.030303030303031,8.333333333333336,8.636363636363637,8.939393939393941,9.242424242424242,9.545454545454547,9.848484848484848,10.151515151515152,10.454545454545457,10.757575757575758,11.060606060606062,11.363636363636363,11.666666666666668,11.969696969696969,12.272727272727273,12.575757575757578,12.878787878787879,13.181818181818183,13.484848484848484,13.787878787878789,14.090909090909093,14.393939393939394,14.696969696969699,15.0],\"y\":[-3375.0,-3174.5589503853967,-2982.2154047360664,-2797.802404207362,-2621.1529899546426,-2452.100203133261,-2290.4770848985722,-2136.1166764059326,-1988.8520188106966,-1848.5161532682196,-1714.9421209338561,-1587.9629629629628,-1467.411720510894,-1353.121434733005,-1244.925146784651,-1142.6558978211867,-1046.146728997969,-955.2306814703506,-869.7407963936888,-789.510114923338,-714.3716782146535,-644.1585274229903,-578.7037037037035,-517.8402482121492,-461.4012021036813,-409.2196065336561,-361.12850265742827,-316.9609316303531,-276.54993460778593,-239.72855274508154,-206.3298271975957,-176.18679912068336,-149.13250966969974,-125.0,-103.62231126693938,-84.8324846258731,-68.46356123215622,-54.34858224114419,-42.3205888081921,-32.212622088655145,-23.85772323788853,-17.088933411247467,-11.739293764087135,-7.641845451762797,-4.629629629629624,-2.535687453042823,-1.193060077357598,-0.43478865792915417,-0.09391435011269642,-0.00347830926343316,0.0034783092634332823,0.09391435011269753,0.43478865792915417,1.1930600773576039,2.535687453042823,4.6296296296296395,7.641845451762797,11.739293764087163,17.088933411247503,23.85772323788853,32.212622088655195,42.3205888081921,54.34858224114427,68.46356123215622,84.8324846258731,103.6223112669395,125.0,149.13250966969989,176.18679912068336,206.3298271975959,239.72855274508154,276.54993460778593,316.9609316303534,361.12850265742827,409.21960653365636,461.4012021036813,517.8402482121492,578.7037037037042,644.1585274229903,714.3716782146539,789.510114923338,869.7407963936893,955.2306814703506,1046.146728997969,1142.6558978211879,1244.925146784651,1353.1214347330056,1467.411720510894,1587.9629629629635,1714.9421209338561,1848.5161532682196,1988.8520188106975,2136.1166764059326,2290.477084898573,2452.100203133261,2621.1529899546435,2797.8024042073644,2982.2154047360664,3174.558950385398,3375.0]}},\"id\":\"75e9a280-bac1-487b-bd8d-79e69b84819b\",\"type\":\"ColumnDataSource\"},{\"attributes\":{\"line_alpha\":{\"value\":0.5},\"line_color\":{\"value\":\"navy\"},\"line_width\":{\"value\":3},\"x\":{\"field\":\"x\"},\"y\":{\"field\":\"y\"}},\"id\":\"a7708b2d-b899-460b-9b6e-abeee1d1f166\",\"type\":\"Line\"},{\"attributes\":{\"fill_alpha\":{\"value\":0.1},\"fill_color\":{\"value\":\"#1f77b4\"},\"line_alpha\":{\"value\":0.1},\"line_color\":{\"value\":\"#1f77b4\"},\"size\":{\"units\":\"screen\",\"value\":10},\"x\":{\"value\":0},\"y\":{\"value\":0}},\"id\":\"cb24636e-47f3-4dbf-ad89-8f8a0f00b081\",\"type\":\"Circle\"},{\"attributes\":{\"callback\":null},\"id\":\"dc6dffcc-78d3-4552-871f-c0c077e3c051\",\"type\":\"ColumnDataSource\"},{\"attributes\":{},\"id\":\"d5133bfd-6ac8-48b5-9bff-88acd2fbe7f0\",\"type\":\"BasicTicker\"},{\"attributes\":{\"data_source\":{\"id\":\"0038b08c-2b20-49be-ba1f-5a678e37eba4\",\"type\":\"ColumnDataSource\"},\"glyph\":{\"id\":\"a7708b2d-b899-460b-9b6e-abeee1d1f166\",\"type\":\"Line\"},\"hover_glyph\":null,\"nonselection_glyph\":{\"id\":\"8ab6ad89-d817-4399-81b6-833bf615de5e\",\"type\":\"Line\"},\"selection_glyph\":null},\"id\":\"495828d9-feb6-470e-b771-63933a422f20\",\"type\":\"GlyphRenderer\"},{\"attributes\":{},\"id\":\"003a10a7-8ebe-4dc9-8245-0cacc87b662b\",\"type\":\"BasicTicker\"},{\"attributes\":{\"callback\":null},\"id\":\"e18e25bc-5abc-4460-a480-794d742dd65c\",\"type\":\"ColumnDataSource\"},{\"attributes\":{\"line_alpha\":{\"value\":0.5},\"line_color\":{\"value\":\"navy\"},\"line_width\":{\"value\":3},\"x\":{\"field\":\"x\"},\"y\":{\"field\":\"y\"}},\"id\":\"547c4976-d370-48eb-84b9-1fcce6965517\",\"type\":\"Line\"},{\"attributes\":{\"axis_label_text_font_size\":{\"value\":\"14pt\"},\"formatter\":{\"id\":\"27f677ce-32ea-461f-bcdc-a1554e622fb0\",\"type\":\"BasicTickFormatter\"},\"plot\":{\"id\":\"8264275a-b390-4442-bb4c-bf5c2d7d4544\",\"subtype\":\"Figure\",\"type\":\"Plot\"},\"ticker\":{\"id\":\"e9afce5c-172d-4cdf-985b-ea065451086d\",\"type\":\"BasicTicker\"}},\"id\":\"06060d9e-da3e-4422-bc77-c3f307c39ff4\",\"type\":\"LinearAxis\"},{\"attributes\":{},\"id\":\"8f588507-12b8-420c-bdc3-0d0be698afd8\",\"type\":\"ToolEvents\"},{\"attributes\":{\"plot\":{\"id\":\"b3c7f24f-7e8a-449b-abf0-1d7b1fbe6005\",\"subtype\":\"Figure\",\"type\":\"Plot\"}},\"id\":\"67b1fc25-47fe-4525-b093-683bbbf72bf3\",\"type\":\"WheelZoomTool\"},{\"attributes\":{},\"id\":\"e2c4cbfc-a1e0-4819-a82d-66885021f7aa\",\"type\":\"BasicTickFormatter\"},{\"attributes\":{\"line_alpha\":{\"value\":0.1},\"line_color\":{\"value\":\"#1f77b4\"},\"line_width\":{\"value\":3},\"x\":{\"field\":\"x\"},\"y\":{\"field\":\"y\"}},\"id\":\"8ab6ad89-d817-4399-81b6-833bf615de5e\",\"type\":\"Line\"},{\"attributes\":{\"callback\":null,\"column_names\":[\"x\",\"y\"],\"data\":{\"x\":[0,1,2,3,4,5,6,7,8,9,10,11,12,13,14,15,16,17,18,19,20,21,22,23,24,25,26,27,28,29,30,31,32,33,34,35,36,37,38,39,40,41,42,43,44,45,46,47,48,49,50,51,52,53,54,55,56,57,58,59,60,61,62,63,64,65,66,67,68,69,70,71,72,73,74,75,76,77,78,79,80,81,82,83,84,85,86,87,88,89,90,91,92,93,94,95,96,97,98,99,100,101,102,103,104,105,106,107,108,109,110,111,112,113,114,115,116,117,118,119,120,121,122,123,124,125,126,127,128,129,130,131,132,133,134,135,136,137,138,139,140,141,142,143,144,145,146,147,148,149,150,151,152,153,154,155,156,157,158,159,160,161,162,163,164,165,166,167,168,169,170,171,172,173,174,175,176,177,178,179,180,181,182,183,184,185,186,187,188,189,190,191,192,193,194,195,196,197,198,199,200,201,202,203,204,205,206,207,208,209,210,211,212,213,214,215,216,217,218,219,220,221,222,223,224,225,226,227,228,229,230,231,232,233,234,235,236,237,238,239,240,241,242,243,244,245,246,247,248,249,250,251,252,253,254,255,256,257,258,259,260,261,262,263,264,265,266,267,268,269,270,271,272,273,274,275,276,277,278,279,280,281,282,283,284,285,286,287,288,289,290,291,292,293,294,295,296,297,298,299,300,301,302,303,304,305,306,307,308,309,310,311,312,313,314,315,316,317,318,319,320,321,322,323,324,325,326,327,328,329,330,331,332,333,334,335,336,337,338,339,340,341,342,343,344,345,346,347,348,349,350,351,352,353,354,355,356,357,358,359,360,361,362,363,364,365,366,367,368,369,370,371,372,373,374,375,376,377,378,379,380,381,382,383,384,385,386],\"y\":[138.2976,132.82101504,127.56130284441596,122.50987525177709,117.65848419180672,112.99920821781116,108.52443957238584,104.22687176531937,100.09948764341271,96.13554793273357,92.32858023459731,88.67236845730724,85.16094266639789,81.78856933680854,78.54974199107092,75.43917220822452,72.45178098877884,69.5826904616232,66.82721591934292,64.18085816893694,61.63929618544705,59.19838005650335,56.85412420626583,54.602700887697694,52.44043393254486,50.363792748816095,48.36938655596298,46.45395884834685,44.61438207795232,42.847652547665405,41.150885506777854,39.52131044070946,37.95626654725737,36.45319839198597,35.009651735663326,33.623269526931054,32.29178805366458,31.013033246739468,29.784917130168587,28.605434411813913,27.47265920910609,26.384741904425493,25.339906125010252,24.33644584245985,23.37272258709844,22.447162772649346,21.558255126852433,20.70454822382908,19.884648114165447,19.097216048844494,18.340966293310256,17.614664028095167,16.9171233325826,16.24720524861233,15.603815920767282,14.9859048103049,14.392462979816825,13.82252144581608,13.275149596561764,12.749453672537921,12.244575307105423,11.759690124944047,11.294006395996263,10.846763742714812,10.417231898503305,10.004709515322572,9.6085230185158,9.228025506982577,8.862595696906066,8.511636907308587,8.17457608577917,7.850862872782312,7.5399687030201346,7.241385942380537,6.9546270590622665,6.679223827523399,6.414726563953471,6.160703392020914,5.916739537696885,5.682436652004089,5.457412160584729,5.241298639025574,5.033743212920159,4.834406981688522,4.642964465213656,4.459103072391195,4.282522590724503,4.112934696131812,3.950062482164994,3.793640007871259,3.6434118635595563,3.4991327537625976,3.3605670967135968,3.227488639683738,3.0996800895522636,2.976932758005995,2.859046220788956,2.7458279904457137,2.6370932020240643,2.532664311223913,2.4323708044994463,2.3360489206412667,2.243541383383873,2.154697144601873,2.06937113767564,1.9874240406236843,1.908722048614986,1.8331366554898325,1.7605444439324343,1.6908268839527094,1.6238701393481811,1.5595648818299928,1.4978061125095254,1.438492990454149,1.3815286680321655,1.326820132778092,1.2742780555200803,1.223816644521486,1.175353505398435,1.1288095065846564,1.084108650123904,1.041177947578997,0.9999473008548686,0.9603493877410162,0.922319551986472,0.8857956977278079,0.8507181880977869,0.8170297478491146,0.7846753698342896,0.753602225188852,0.7237595770713737,0.6950986978193471,0.6675727893857012,0.6411369069260276,0.6157478854117571,0.5913642691494515,0.5679462440911331,0.5454555728251245,0.5238555321412492,0.5031108530684557,0.4831876632869446,0.46405343182078185,0.4456769159206791,0.4280281100502202,0.41107819689223146,0.394799500295299,0.37916544008360503,0.36415048865629435,0.34973012930550496,0.3358808161850071,0.3225799358640808,0.3098057704038634,0.2975374618958705,0.2857549784047942,0.2744390812599644,0.26357129364206994,0.25313387041384383,0.24310976914545543,0.23348262228729552,0.22423671044471846,0.21535693671110764,0.20682880201734793,0.19863838145746088,0.19077230155174527,0.1832177184102961,0.17596229676124825,0.16899418980950295,0.16230201989304646,0.15587485990528174,0.1497022154530327,0.14377400772109267,0.13808055701533753,0.13261256695753015,0.12736110930601183,0.12231760937749361,0.11747383204614495,0.11282186829711771,0.10835412231255186,0.10406329906897471,0.09994239242584338,0.09598467368578008,0.09218368060782316,0.08853320685575337,0.08502729186426546,0.08166021110644062,0.07842646674662562,0.07532077866345935,0.07233807582838633,0.06947348802558212,0.0667223378997691,0.06408013331893819,0.061542560039508136,0.05910547466194355,0.05676489786533057,0.05451700790986344,0.05235813439663294,0.05028475227452621,0.048293476084454924,0.04638105443151051,0.044544364676022644,0.04278040783485211,0.04108630368459204,0.03945928605868228,0.03789669833075845,0.036395989076860424,0.0349547079094167,0.03357050147620379,0.03224110961774605,0.030964361676883365,0.029738172954478826,0.02856054130548147,0.02742954386978439,0.026343333932540878,0.0253001379088123,0.02429825244762332,0.023336041650697432,0.022411934401329856,0.021524421799037186,0.020672054695795323,0.019853441329841872,0.01906724505318016,0.018312182149074176,0.017587019735970853,0.01689057375442637,0.016221707033751052,0.015579327435214537,0.014962386068779998,0.014369875580456286,0.013800828507470213,0.013254315698574414,0.012729444796910875,0.012225358782953163,0.011741234575148205,0.011276281685972315,0.010829740931207825,0.01040088319033197,0.009989008215994818,0.009593443490641394,0.009213543128412004,0.008848686820526926,0.008498278822434067,0.008161746981065702,0.007838541800615469,0.007528135545311106,0.007230021377716757,0.006943712531159139,0.006668741514925241,0.006404659350934206,0.0061510348406372045,0.005907453860947992,0.005673518688054472,0.005448847348007531,0.00523307299302644,0.005025843302502585,0.004826819907723486,0.004635677839377625,0.004452104996938265,0.004275801639059537,0.004106479894152784,0.003943863290344308,0.003787686304046658,0.0036376939264064255,0.0034936412469207152,0.0033552930535426352,0.003222423448622334,0.003094815480056905,0.0029722607870466392,0.0028545592598796113,0.002741518713188359,0.002632954572146122,0.0025286895710891553,0.0024285534640740044,0.0023323827468966617,0.002240020390119555,0.002151315582670809,0.0020661234855970634,0.0019843049955674315,0.001905726517742946,0.0018302597476403276,0.0017577814616337682,0.0016881733157530566,0.0016213216524492298,0.001557117315012248,0.001495455469337754,0.001436235432751991,0.0013793605096150089,0.001324737833434243,0.0012722782152302628,0.0012218959979071505,0.0011735089163900305,0.0011270379633009746,0.001082407259954253,0.0010395439324600727,0.0009983779927346542,0.0009588422242223499,0.0009208720721431362,0.0008844055380862775,0.0008493830787780708,0.0008157475088584526,0.0007834439075076593,0.0007524195287703575,0.0007226237154310561,0.0006940078162999835,0.000666525106774511,0.0006401307125462489,0.0006147815363294157,0.0005904361874907601,0.0005670549144661352,0.0005445995398532812,0.0005230333980750885,0.0005023212755113062,0.0004824293530010503,0.00046332515062221446,0.000444977474657583,0.00042735636666114014,0.00041043305454135324,0.00039417990558152126,0.00037857038132049477,0.0003635789942202052,0.0003491812660490897,0.0003353536879135461,0.00032207368187216423,0.00030931956407002903,0.00029707050933285744,0.0002853065171632715,0.0002740083790836024,0.00026315764727188797,0.00025273660443992377,0.00024272823490410555,0.00023311619680189646,0.0002238847954085443,0.0002150189575103688,0.00020650420679296254,0.00019832664020396447,0.00019047290525189017,0.00018293017820391125,0.00017568614314703447,0.00016872897187840776,0.0001620473045920176,0.00015563023133017482,0.0001494672741694999,0.0001435483701123858,0.00013786385465593405,0.0001324044460115615,0.0001271612299495051,0.00012212564524350587,0.00011728946969186438,0.0001126448066920656,0.00010818407234705704,0.00010389998308211502,9.978554375206416e-05,9.583403621948137e-05,9.203900838518701e-05,8.839426365313227e-05,8.489385081246905e-05,8.153205432029848e-05,7.830338496921765e-05,7.520257092443309e-05,7.222454911582282e-05,6.936445697083476e-05,6.66176244747868e-05,6.397956654558382e-05,6.14459757103794e-05,5.901271507225083e-05,5.667581155538863e-05,5.4431449417794715e-05,5.2275964020849276e-05,5.02058358456244e-05,4.821768474614076e-05,4.630826443019503e-05,4.447445715875907e-05,4.271326865527488e-05,4.102182321652452e-05,3.9397359017149034e-05,3.7837223600069935e-05,3.633886954550877e-05,3.4899850311507565e-05,3.351781623917063e-05,3.219051071609837e-05,3.091576649174107e-05,2.969150213866764e-05,2.8515718653974123e-05,2.7386496195279074e-05,2.6301990945944016e-05,2.5260432104483652e-05,2.4260118993147937e-05,2.3299418281017392e-05]}},\"id\":\"e1531301-5aff-4cc4-922b-61deac125e07\",\"type\":\"ColumnDataSource\"},{\"attributes\":{\"data_source\":{\"id\":\"81595931-53c6-408d-93fd-ff11292f1a40\",\"type\":\"ColumnDataSource\"},\"glyph\":{\"id\":\"7555d007-1fe6-49be-bc57-5297f324e7d5\",\"type\":\"Circle\"},\"hover_glyph\":null,\"nonselection_glyph\":{\"id\":\"54f52dad-3213-4383-a27b-11bec3384dca\",\"type\":\"Circle\"},\"selection_glyph\":null},\"id\":\"a3c34fdb-07c0-4e35-96ec-edb93b089dea\",\"type\":\"GlyphRenderer\"},{\"attributes\":{},\"id\":\"a89ebedc-b107-4f1f-9b57-93a1900c0550\",\"type\":\"BasicTickFormatter\"},{\"attributes\":{\"plot\":{\"id\":\"8264275a-b390-4442-bb4c-bf5c2d7d4544\",\"subtype\":\"Figure\",\"type\":\"Plot\"}},\"id\":\"332d3a32-5e88-4047-bd55-e93e64423f64\",\"type\":\"ResetTool\"},{\"attributes\":{\"fill_alpha\":{\"value\":0.1},\"fill_color\":{\"value\":\"#1f77b4\"},\"line_alpha\":{\"value\":0.1},\"line_color\":{\"value\":\"#1f77b4\"},\"size\":{\"units\":\"screen\",\"value\":10},\"x\":{\"value\":-9},\"y\":{\"value\":140}},\"id\":\"0271b978-7a18-4d0a-bdf1-b9725f131753\",\"type\":\"Circle\"},{\"attributes\":{\"plot\":{\"id\":\"d65405ca-9d76-429f-8fee-dfcdb2792379\",\"subtype\":\"Figure\",\"type\":\"Plot\"}},\"id\":\"5c263f9f-e6b3-4df5-b345-542b2bcbce78\",\"type\":\"ResetTool\"},{\"attributes\":{\"axis_label_text_font_size\":{\"value\":\"14pt\"},\"formatter\":{\"id\":\"e2c4cbfc-a1e0-4819-a82d-66885021f7aa\",\"type\":\"BasicTickFormatter\"},\"plot\":{\"id\":\"dcd1d8b5-e0aa-4a1f-ae91-0c8a50fabb01\",\"subtype\":\"Figure\",\"type\":\"Plot\"},\"ticker\":{\"id\":\"af22d204-a11c-4a24-b7a3-b7dec41ce7e6\",\"type\":\"BasicTicker\"}},\"id\":\"d879ab90-609f-44e0-bd0a-5bd039e6f5b2\",\"type\":\"LinearAxis\"},{\"attributes\":{\"callback\":null,\"column_names\":[\"x\",\"y\"],\"data\":{\"x\":[-10.0,-9.696969696969697,-9.393939393939394,-9.09090909090909,-8.787878787878787,-8.484848484848484,-8.181818181818182,-7.878787878787879,-7.575757575757576,-7.2727272727272725,-6.96969696969697,-6.666666666666666,-6.363636363636363,-6.0606060606060606,-5.757575757575758,-5.454545454545454,-5.151515151515151,-4.848484848484849,-4.545454545454545,-4.242424242424242,-3.9393939393939394,-3.636363636363636,-3.333333333333333,-3.0303030303030303,-2.7272727272727266,-2.424242424242424,-2.121212121212121,-1.8181818181818183,-1.5151515151515156,-1.212121212121211,-0.9090909090909083,-0.6060606060606055,-0.30303030303030276,0.0,0.30303030303030276,0.6060606060606055,0.9090909090909101,1.2121212121212128,1.5151515151515156,1.8181818181818183,2.121212121212121,2.424242424242424,2.7272727272727284,3.030303030303031,3.333333333333334,3.6363636363636367,3.9393939393939394,4.242424242424242,4.545454545454547,4.8484848484848495,5.151515151515152,5.454545454545455,5.757575757575758,6.060606060606062,6.363636363636363,6.666666666666668,6.969696969696969,7.272727272727273,7.575757575757578,7.878787878787879,8.181818181818183,8.484848484848484,8.787878787878789,9.09090909090909,9.393939393939394,9.696969696969699,10.0,10.303030303030305,10.606060606060606,10.90909090909091,11.212121212121211,11.515151515151516,11.81818181818182,12.121212121212121,12.424242424242426,12.727272727272727,13.030303030303031,13.333333333333336,13.636363636363637,13.939393939393941,14.242424242424242,14.545454545454547,14.848484848484848,15.151515151515152,15.454545454545457,15.757575757575758,16.060606060606062,16.363636363636363,16.666666666666668,16.96969696969697,17.272727272727273,17.575757575757578,17.87878787878788,18.181818181818183,18.484848484848484,18.78787878787879,19.090909090909093,19.393939393939394,19.6969696969697,20.0],\"y\":[165.0,157.21303948576679,149.6097337006428,142.19008264462806,134.95408631772267,127.90174471992653,121.03305785123968,114.34802571166207,107.84664830119377,101.5289256198347,95.39485766758494,89.44444444444443,83.67768595041322,78.09458218549128,72.69513314967861,67.47933884297521,62.44719926538108,57.59871441689624,52.93388429752065,48.45270890725436,44.15518824609734,40.04132231404958,36.11111111111111,32.364554637281906,28.801652892561975,25.422405876951327,22.226813590449954,19.214876033057852,16.386593204775025,13.74196510560146,11.280991735537183,9.003673094582181,6.910009182736454,5.0,3.2736455463728205,1.7309458218549154,0.37190082644627687,-0.8034894398530792,-1.7952249770431603,-2.6033057851239674,-3.2277318640954995,-3.6685032139577594,-3.9256198347107443,-3.9990817263544542,-3.8888888888888893,-3.5950413223140494,-3.1175390266299363,-2.4563820018365483,-1.61157024793388,-0.5831037649219439,0.6290174471992671,2.0247933884297495,3.6042240587695176,5.367309458218557,7.314049586776861,9.44444444444445,11.758494031221296,14.256198347107443,16.937557392102867,19.802571166207528,22.85123966942151,26.083562901744713,29.499540863177245,33.09917355371899,36.882460973370065,40.84940312213042,45.0,49.334251606978896,53.85215794306702,58.553719008264466,63.438934802571154,68.50780532598716,73.76033057851244,79.19651056014692,84.81634527089074,90.6198347107438,96.60697887970616,102.77777777777781,109.1322314049587,115.6703397612489,122.39210284664829,129.29752066115705,136.386593204775,143.65932047750232,151.1157024793389,158.75573921028467,166.57943067033983,174.58677685950414,182.77777777777783,191.15243342516067,199.71074380165294,208.45270890725445,217.37832874196508,226.4876033057852,235.78053259871442,245.25711662075298,254.9173553719009,264.76124885215796,274.7887970615244,285.0]}},\"id\":\"cc586fdc-0923-4f88-b6f6-a4cbe4048b4d\",\"type\":\"ColumnDataSource\"},{\"attributes\":{\"plot\":{\"id\":\"d65405ca-9d76-429f-8fee-dfcdb2792379\",\"subtype\":\"Figure\",\"type\":\"Plot\"},\"ticker\":{\"id\":\"003a10a7-8ebe-4dc9-8245-0cacc87b662b\",\"type\":\"BasicTicker\"}},\"id\":\"09aa9382-f28c-421e-b284-6c0eaf3c254f\",\"type\":\"Grid\"},{\"attributes\":{\"dimension\":1,\"plot\":{\"id\":\"69ad5276-f29a-4e15-b279-3cc96ae12623\",\"subtype\":\"Figure\",\"type\":\"Plot\"},\"ticker\":{\"id\":\"3733e797-8980-4006-a1ef-f18e979bf3da\",\"type\":\"BasicTicker\"}},\"id\":\"1bdd881f-dc26-4d4e-b1bd-73b2cb946798\",\"type\":\"Grid\"},{\"attributes\":{\"axis_label\":\"Distance\",\"axis_label_text_font_size\":{\"value\":\"14pt\"},\"formatter\":{\"id\":\"4024f6ff-5c43-4d2d-92fe-d621917ef38f\",\"type\":\"BasicTickFormatter\"},\"plot\":{\"id\":\"d65405ca-9d76-429f-8fee-dfcdb2792379\",\"subtype\":\"Figure\",\"type\":\"Plot\"},\"ticker\":{\"id\":\"016ef6a0-2d25-4954-9b25-9792f1373f2d\",\"type\":\"BasicTicker\"}},\"id\":\"d8d45ba1-4d94-40da-813b-db0bd9863925\",\"type\":\"LinearAxis\"},{\"attributes\":{},\"id\":\"1bf7ba6b-5466-499e-adf4-7cf6ac70e6c9\",\"type\":\"BasicTicker\"},{\"attributes\":{\"plot\":{\"id\":\"69ad5276-f29a-4e15-b279-3cc96ae12623\",\"subtype\":\"Figure\",\"type\":\"Plot\"}},\"id\":\"da6da0e5-2e7a-493a-ac44-98bce3779e0e\",\"type\":\"PanTool\"},{\"attributes\":{\"dimension\":1,\"plot\":{\"id\":\"94a5ca5c-0292-48bc-afe0-1b3efa3f9ab7\",\"subtype\":\"Figure\",\"type\":\"Plot\"},\"ticker\":{\"id\":\"17343b18-4cc0-4ca6-b440-153f1188cc9d\",\"type\":\"BasicTicker\"}},\"id\":\"e43bf927-b8b3-4056-8c20-e8f5bb3acb57\",\"type\":\"Grid\"},{\"attributes\":{\"below\":[{\"id\":\"53d62889-30d7-46d3-97ab-74f1342c1d09\",\"type\":\"LinearAxis\"}],\"left\":[{\"id\":\"75eb2202-ddcb-4e3f-a85e-1729f9a4c1c2\",\"type\":\"LinearAxis\"}],\"plot_height\":250,\"plot_width\":400,\"renderers\":[{\"id\":\"53d62889-30d7-46d3-97ab-74f1342c1d09\",\"type\":\"LinearAxis\"},{\"id\":\"8e731374-c300-4952-b4f5-00998ec2f3ee\",\"type\":\"Grid\"},{\"id\":\"75eb2202-ddcb-4e3f-a85e-1729f9a4c1c2\",\"type\":\"LinearAxis\"},{\"id\":\"0cf1090c-d2c8-4b6c-ab1d-2b3eff60e8dc\",\"type\":\"Grid\"},{\"id\":\"7832a325-af8d-453e-894d-d896e6f54760\",\"type\":\"GlyphRenderer\"},{\"id\":\"786a9e1a-a062-4101-998a-3d35f3968082\",\"type\":\"GlyphRenderer\"}],\"title\":\"Saddle point of function\",\"title_text_font_size\":{\"value\":\"12pt\"},\"tool_events\":{\"id\":\"c569ddf3-75bc-4cb8-9d19-c0131038d05f\",\"type\":\"ToolEvents\"},\"tools\":[{\"id\":\"67b1fc25-47fe-4525-b093-683bbbf72bf3\",\"type\":\"WheelZoomTool\"},{\"id\":\"44030659-e662-4f39-ac3c-268c874576ff\",\"type\":\"ResetTool\"},{\"id\":\"db0a73f5-2461-4442-a9ab-e1627ce01992\",\"type\":\"PanTool\"}],\"x_range\":{\"id\":\"2891479f-b0c3-4e2e-b665-4f8d95fb75e0\",\"type\":\"DataRange1d\"},\"y_range\":{\"id\":\"cb4389c1-ac10-4e61-814f-563f498aba4a\",\"type\":\"DataRange1d\"}},\"id\":\"b3c7f24f-7e8a-449b-abf0-1d7b1fbe6005\",\"subtype\":\"Figure\",\"type\":\"Plot\"},{\"attributes\":{\"data_source\":{\"id\":\"75e9a280-bac1-487b-bd8d-79e69b84819b\",\"type\":\"ColumnDataSource\"},\"glyph\":{\"id\":\"eb37e89b-6099-4d07-8b69-934158b2d1ae\",\"type\":\"Line\"},\"hover_glyph\":null,\"nonselection_glyph\":{\"id\":\"359fcdd8-76ff-40a3-95b0-482c565f816d\",\"type\":\"Line\"},\"selection_glyph\":null},\"id\":\"7832a325-af8d-453e-894d-d896e6f54760\",\"type\":\"GlyphRenderer\"},{\"attributes\":{\"data_source\":{\"id\":\"e33d1db5-278e-480e-aaad-6d89f0c8ec12\",\"type\":\"ColumnDataSource\"},\"glyph\":{\"id\":\"547c4976-d370-48eb-84b9-1fcce6965517\",\"type\":\"Line\"},\"hover_glyph\":null,\"nonselection_glyph\":{\"id\":\"1c40b622-a919-4f3e-b7ed-960da1ca927d\",\"type\":\"Line\"},\"selection_glyph\":null},\"id\":\"cd407637-0bf6-4627-9c15-aa955d4bbd7b\",\"type\":\"GlyphRenderer\"},{\"attributes\":{\"axis_label_text_font_size\":{\"value\":\"14pt\"},\"formatter\":{\"id\":\"478aeb47-9bde-434c-81ac-feb078642e9a\",\"type\":\"BasicTickFormatter\"},\"plot\":{\"id\":\"dcd1d8b5-e0aa-4a1f-ae91-0c8a50fabb01\",\"subtype\":\"Figure\",\"type\":\"Plot\"},\"ticker\":{\"id\":\"af20d824-9b30-4ae7-ba6f-52a6d7fddc07\",\"type\":\"BasicTicker\"}},\"id\":\"a62f2b63-6350-4b54-b59f-49f44baba190\",\"type\":\"LinearAxis\"},{\"attributes\":{\"callback\":null},\"id\":\"0cab9fbb-bb26-4b1b-b2fc-4ac67242b14f\",\"type\":\"DataRange1d\"},{\"attributes\":{},\"id\":\"76a6a30f-acc8-4ecf-83be-74eee64f0f6e\",\"type\":\"BasicTicker\"},{\"attributes\":{\"line_alpha\":{\"value\":0.1},\"line_color\":{\"value\":\"#1f77b4\"},\"line_width\":{\"value\":3},\"x\":{\"field\":\"x\"},\"y\":{\"field\":\"y\"}},\"id\":\"359fcdd8-76ff-40a3-95b0-482c565f816d\",\"type\":\"Line\"},{\"attributes\":{\"callback\":null,\"column_names\":[\"x\",\"y\"],\"data\":{\"x\":[-15.0,-14.696969696969697,-14.393939393939394,-14.09090909090909,-13.787878787878787,-13.484848484848484,-13.181818181818182,-12.878787878787879,-12.575757575757576,-12.272727272727273,-11.969696969696969,-11.666666666666666,-11.363636363636363,-11.06060606060606,-10.757575757575758,-10.454545454545453,-10.151515151515152,-9.848484848484848,-9.545454545454545,-9.242424242424242,-8.93939393939394,-8.636363636363637,-8.333333333333332,-8.030303030303031,-7.727272727272727,-7.424242424242424,-7.121212121212121,-6.818181818181818,-6.515151515151516,-6.212121212121211,-5.909090909090908,-5.6060606060606055,-5.303030303030303,-5.0,-4.696969696969697,-4.3939393939393945,-4.09090909090909,-3.787878787878787,-3.4848484848484844,-3.1818181818181817,-2.878787878787879,-2.575757575757576,-2.2727272727272716,-1.9696969696969688,-1.666666666666666,-1.3636363636363633,-1.0606060606060606,-0.7575757575757578,-0.45454545454545325,-0.1515151515151505,0.15151515151515227,0.45454545454545503,0.7575757575757578,1.0606060606060623,1.3636363636363633,1.6666666666666679,1.9696969696969688,2.2727272727272734,2.575757575757578,2.878787878787879,3.1818181818181834,3.4848484848484844,3.787878787878789,4.09090909090909,4.3939393939393945,4.696969696969699,5.0,5.3030303030303045,5.6060606060606055,5.90909090909091,6.212121212121211,6.515151515151516,6.81818181818182,7.121212121212121,7.424242424242426,7.727272727272727,8.030303030303031,8.333333333333336,8.636363636363637,8.939393939393941,9.242424242424242,9.545454545454547,9.848484848484848,10.151515151515152,10.454545454545457,10.757575757575758,11.060606060606062,11.363636363636363,11.666666666666668,11.969696969696969,12.272727272727273,12.575757575757578,12.878787878787879,13.181818181818183,13.484848484848484,13.787878787878789,14.090909090909093,14.393939393939394,14.696969696969699,15.0],\"y\":[225.0,216.00091827364557,207.18549127640037,198.55371900826444,190.10560146923783,181.84113865932048,173.7603305785124,165.8631772268136,158.14967860422408,150.61983471074382,143.2736455463728,136.1111111111111,129.13223140495867,122.33700642791551,115.72543617998164,109.297520661157,103.05325987144171,96.99265381083562,91.11570247933884,85.42240587695133,79.91276400367309,74.58677685950414,69.44444444444443,64.48576675849405,59.71074380165288,55.119375573921026,50.711662075298435,46.48760330578513,42.44719926538109,38.5904499540863,34.91735537190082,31.427915518824605,28.122130394857663,25.0,22.061524334251608,19.306703397612495,16.73553719008264,14.34802571166207,12.144168962350777,10.12396694214876,8.287419651056016,6.634527089072545,5.165289256198342,3.879706152433422,2.777777777777776,1.859504132231404,1.1248852157943066,0.5739210284664833,0.2066115702479327,0.02295684113865901,0.022956841138659548,0.20661157024793433,0.5739210284664833,1.1248852157943103,1.859504132231404,2.7777777777777817,3.879706152433422,5.16528925619835,6.634527089072555,8.287419651056016,10.12396694214877,12.144168962350777,14.348025711662084,16.73553719008264,19.306703397612495,22.061524334251626,25.0,28.122130394857685,31.427915518824605,34.91735537190084,38.5904499540863,42.44719926538109,46.48760330578515,50.711662075298435,55.11937557392105,59.71074380165288,64.48576675849405,69.44444444444449,74.58677685950414,79.91276400367313,85.42240587695133,91.11570247933886,96.99265381083562,103.05325987144171,109.29752066115707,115.72543617998164,122.33700642791555,129.13223140495867,136.11111111111114,143.2736455463728,150.61983471074382,158.1496786042241,165.8631772268136,173.76033057851245,181.84113865932048,190.10560146923785,198.55371900826452,207.18549127640037,216.0009182736456,225.0]}},\"id\":\"0038b08c-2b20-49be-ba1f-5a678e37eba4\",\"type\":\"ColumnDataSource\"},{\"attributes\":{\"axis_label_text_font_size\":{\"value\":\"14pt\"},\"formatter\":{\"id\":\"aa4f017f-fec0-4acc-9fab-1898b36165fa\",\"type\":\"BasicTickFormatter\"},\"plot\":{\"id\":\"b3c7f24f-7e8a-449b-abf0-1d7b1fbe6005\",\"subtype\":\"Figure\",\"type\":\"Plot\"},\"ticker\":{\"id\":\"d5133bfd-6ac8-48b5-9bff-88acd2fbe7f0\",\"type\":\"BasicTicker\"}},\"id\":\"75eb2202-ddcb-4e3f-a85e-1729f9a4c1c2\",\"type\":\"LinearAxis\"},{\"attributes\":{\"fill_color\":{\"value\":\"orange\"},\"line_color\":{\"value\":\"orange\"},\"size\":{\"units\":\"screen\",\"value\":10},\"x\":{\"value\":3},\"y\":{\"value\":-4}},\"id\":\"e1150ed1-7006-4343-88b9-9c2b6ad8cb84\",\"type\":\"Circle\"},{\"attributes\":{\"callback\":null},\"id\":\"da1e756c-ce30-41fb-b8df-16a4e1f0e02b\",\"type\":\"DataRange1d\"},{\"attributes\":{},\"id\":\"e0bc0d96-87d1-42c3-9ae3-3e9981b1aaee\",\"type\":\"BasicTickFormatter\"},{\"attributes\":{},\"id\":\"ef680ef2-7026-40bf-8d7d-0280b5c9140b\",\"type\":\"BasicTickFormatter\"},{\"attributes\":{\"axis_label_text_font_size\":{\"value\":\"14pt\"},\"formatter\":{\"id\":\"8997dfd5-e9ab-458f-b58a-0c0080e3d151\",\"type\":\"BasicTickFormatter\"},\"plot\":{\"id\":\"69ad5276-f29a-4e15-b279-3cc96ae12623\",\"subtype\":\"Figure\",\"type\":\"Plot\"},\"ticker\":{\"id\":\"3733e797-8980-4006-a1ef-f18e979bf3da\",\"type\":\"BasicTicker\"}},\"id\":\"fdf28e9e-c390-4606-9010-cfc7f7ed6caa\",\"type\":\"LinearAxis\"},{\"attributes\":{},\"id\":\"c85ed670-24d0-44b4-87b5-06d155711e48\",\"type\":\"ToolEvents\"},{\"attributes\":{\"plot\":{\"id\":\"dcd1d8b5-e0aa-4a1f-ae91-0c8a50fabb01\",\"subtype\":\"Figure\",\"type\":\"Plot\"}},\"id\":\"78299cde-ba74-4fa0-afc1-ec3aa8732940\",\"type\":\"ResetTool\"},{\"attributes\":{},\"id\":\"27f677ce-32ea-461f-bcdc-a1554e622fb0\",\"type\":\"BasicTickFormatter\"},{\"attributes\":{},\"id\":\"3733e797-8980-4006-a1ef-f18e979bf3da\",\"type\":\"BasicTicker\"},{\"attributes\":{\"plot\":{\"id\":\"b3c7f24f-7e8a-449b-abf0-1d7b1fbe6005\",\"subtype\":\"Figure\",\"type\":\"Plot\"}},\"id\":\"db0a73f5-2461-4442-a9ab-e1627ce01992\",\"type\":\"PanTool\"},{\"attributes\":{\"data_source\":{\"id\":\"d6910218-0d67-4520-8ea6-7d472d22b933\",\"type\":\"ColumnDataSource\"},\"glyph\":{\"id\":\"4bc09de2-1ad3-47af-8eeb-f58fa563cdd7\",\"type\":\"Circle\"},\"hover_glyph\":null,\"nonselection_glyph\":{\"id\":\"e3c254b8-520d-4f46-8b6a-be9c4314e404\",\"type\":\"Circle\"},\"selection_glyph\":null},\"id\":\"84e191d6-bccb-421c-ab61-1a8f109e9a9e\",\"type\":\"GlyphRenderer\"},{\"attributes\":{\"below\":[{\"id\":\"e508f65d-021f-4d67-88da-91ddbd1df5b9\",\"type\":\"LinearAxis\"}],\"left\":[{\"id\":\"fdf28e9e-c390-4606-9010-cfc7f7ed6caa\",\"type\":\"LinearAxis\"}],\"plot_height\":250,\"plot_width\":400,\"renderers\":[{\"id\":\"e508f65d-021f-4d67-88da-91ddbd1df5b9\",\"type\":\"LinearAxis\"},{\"id\":\"12da5cc1-d6fb-4315-9589-8fc3314ee3c5\",\"type\":\"Grid\"},{\"id\":\"fdf28e9e-c390-4606-9010-cfc7f7ed6caa\",\"type\":\"LinearAxis\"},{\"id\":\"1bdd881f-dc26-4d4e-b1bd-73b2cb946798\",\"type\":\"Grid\"},{\"id\":\"14725d95-4e2c-4f49-90f6-64de769dd496\",\"type\":\"GlyphRenderer\"},{\"id\":\"10b6c7bd-fd85-4659-b9c4-b7757fca6422\",\"type\":\"GlyphRenderer\"}],\"title_text_font_size\":{\"value\":\"12pt\"},\"tool_events\":{\"id\":\"7d70e9fb-42ab-4858-9a04-2a1a70fa7b7e\",\"type\":\"ToolEvents\"},\"tools\":[{\"id\":\"a3162cce-d0ab-44e2-b0cb-4b7b4ee36b5a\",\"type\":\"WheelZoomTool\"},{\"id\":\"93ed511d-344f-4e3d-a79a-853a20bf1b72\",\"type\":\"ResetTool\"},{\"id\":\"da6da0e5-2e7a-493a-ac44-98bce3779e0e\",\"type\":\"PanTool\"}],\"x_range\":{\"id\":\"8125705b-e710-4af1-a96c-030e88f30a09\",\"type\":\"DataRange1d\"},\"y_range\":{\"id\":\"da1e756c-ce30-41fb-b8df-16a4e1f0e02b\",\"type\":\"DataRange1d\"}},\"id\":\"69ad5276-f29a-4e15-b279-3cc96ae12623\",\"subtype\":\"Figure\",\"type\":\"Plot\"},{\"attributes\":{\"axis_label\":\"Iteration\",\"axis_label_text_font_size\":{\"value\":\"14pt\"},\"formatter\":{\"id\":\"98980426-e998-4b02-a622-830afa76273a\",\"type\":\"BasicTickFormatter\"},\"plot\":{\"id\":\"d65405ca-9d76-429f-8fee-dfcdb2792379\",\"subtype\":\"Figure\",\"type\":\"Plot\"},\"ticker\":{\"id\":\"003a10a7-8ebe-4dc9-8245-0cacc87b662b\",\"type\":\"BasicTicker\"}},\"id\":\"5176d949-9622-48bb-a7c1-be8c41ec71c2\",\"type\":\"LinearAxis\"},{\"attributes\":{\"callback\":null},\"id\":\"d5bc39fc-05a3-4a64-b73c-d6e21e8e0a25\",\"type\":\"DataRange1d\"},{\"attributes\":{\"plot\":{\"id\":\"dcd1d8b5-e0aa-4a1f-ae91-0c8a50fabb01\",\"subtype\":\"Figure\",\"type\":\"Plot\"}},\"id\":\"708baf6d-5c48-4121-a0b2-9d477dbea908\",\"type\":\"WheelZoomTool\"},{\"attributes\":{\"callback\":null},\"id\":\"1ae1bbec-15ea-480d-9f66-648aa4fee149\",\"type\":\"DataRange1d\"},{\"attributes\":{\"axis_label_text_font_size\":{\"value\":\"14pt\"},\"formatter\":{\"id\":\"45b3a37e-5549-4a4f-becf-2ada5016b8bd\",\"type\":\"BasicTickFormatter\"},\"plot\":{\"id\":\"69ad5276-f29a-4e15-b279-3cc96ae12623\",\"subtype\":\"Figure\",\"type\":\"Plot\"},\"ticker\":{\"id\":\"63853867-9aae-4928-84f6-1052887e5c21\",\"type\":\"BasicTicker\"}},\"id\":\"e508f65d-021f-4d67-88da-91ddbd1df5b9\",\"type\":\"LinearAxis\"},{\"attributes\":{\"callback\":null},\"id\":\"d6910218-0d67-4520-8ea6-7d472d22b933\",\"type\":\"ColumnDataSource\"},{\"attributes\":{\"axis_label_text_font_size\":{\"value\":\"14pt\"},\"formatter\":{\"id\":\"ef680ef2-7026-40bf-8d7d-0280b5c9140b\",\"type\":\"BasicTickFormatter\"},\"plot\":{\"id\":\"b3c7f24f-7e8a-449b-abf0-1d7b1fbe6005\",\"subtype\":\"Figure\",\"type\":\"Plot\"},\"ticker\":{\"id\":\"ace60afd-ae8d-45b3-8231-38d76aa7c863\",\"type\":\"BasicTicker\"}},\"id\":\"53d62889-30d7-46d3-97ab-74f1342c1d09\",\"type\":\"LinearAxis\"},{\"attributes\":{},\"id\":\"98980426-e998-4b02-a622-830afa76273a\",\"type\":\"BasicTickFormatter\"},{\"attributes\":{\"below\":[{\"id\":\"d879ab90-609f-44e0-bd0a-5bd039e6f5b2\",\"type\":\"LinearAxis\"}],\"left\":[{\"id\":\"a62f2b63-6350-4b54-b59f-49f44baba190\",\"type\":\"LinearAxis\"}],\"plot_height\":250,\"plot_width\":400,\"renderers\":[{\"id\":\"d879ab90-609f-44e0-bd0a-5bd039e6f5b2\",\"type\":\"LinearAxis\"},{\"id\":\"5967a76c-b680-41df-868f-ab6e379ece96\",\"type\":\"Grid\"},{\"id\":\"a62f2b63-6350-4b54-b59f-49f44baba190\",\"type\":\"LinearAxis\"},{\"id\":\"03520f6f-e102-4d29-8f75-f6e854ce89cc\",\"type\":\"Grid\"},{\"id\":\"cd407637-0bf6-4627-9c15-aa955d4bbd7b\",\"type\":\"GlyphRenderer\"},{\"id\":\"a3c34fdb-07c0-4e35-96ec-edb93b089dea\",\"type\":\"GlyphRenderer\"}],\"title\":\"Local maximum of function\",\"title_text_font_size\":{\"value\":\"12pt\"},\"tool_events\":{\"id\":\"f44f05eb-2261-41cf-ba1e-d3d35f0402e9\",\"type\":\"ToolEvents\"},\"tools\":[{\"id\":\"708baf6d-5c48-4121-a0b2-9d477dbea908\",\"type\":\"WheelZoomTool\"},{\"id\":\"78299cde-ba74-4fa0-afc1-ec3aa8732940\",\"type\":\"ResetTool\"},{\"id\":\"569b8fe6-3f0a-4cbc-941d-ce8d7c72bca0\",\"type\":\"PanTool\"}],\"x_range\":{\"id\":\"d9e41e06-ed9b-4cdc-94e7-8f22c31cac56\",\"type\":\"DataRange1d\"},\"y_range\":{\"id\":\"4d599ee9-4953-485f-9d52-d284898423e1\",\"type\":\"DataRange1d\"}},\"id\":\"dcd1d8b5-e0aa-4a1f-ae91-0c8a50fabb01\",\"subtype\":\"Figure\",\"type\":\"Plot\"},{\"attributes\":{\"plot\":{\"id\":\"8264275a-b390-4442-bb4c-bf5c2d7d4544\",\"subtype\":\"Figure\",\"type\":\"Plot\"},\"ticker\":{\"id\":\"1bf7ba6b-5466-499e-adf4-7cf6ac70e6c9\",\"type\":\"BasicTicker\"}},\"id\":\"c0713088-150e-4574-8e73-eacd2eb24f6b\",\"type\":\"Grid\"},{\"attributes\":{\"plot\":{\"id\":\"94a5ca5c-0292-48bc-afe0-1b3efa3f9ab7\",\"subtype\":\"Figure\",\"type\":\"Plot\"},\"ticker\":{\"id\":\"76a6a30f-acc8-4ecf-83be-74eee64f0f6e\",\"type\":\"BasicTicker\"}},\"id\":\"02e256a7-c401-44e2-9406-2e80ea40e88f\",\"type\":\"Grid\"},{\"attributes\":{\"dimension\":1,\"plot\":{\"id\":\"dcd1d8b5-e0aa-4a1f-ae91-0c8a50fabb01\",\"subtype\":\"Figure\",\"type\":\"Plot\"},\"ticker\":{\"id\":\"af20d824-9b30-4ae7-ba6f-52a6d7fddc07\",\"type\":\"BasicTicker\"}},\"id\":\"03520f6f-e102-4d29-8f75-f6e854ce89cc\",\"type\":\"Grid\"},{\"attributes\":{\"fill_color\":{\"value\":\"orange\"},\"line_color\":{\"value\":\"orange\"},\"size\":{\"units\":\"screen\",\"value\":10},\"x\":{\"value\":15},\"y\":{\"value\":140}},\"id\":\"4bc09de2-1ad3-47af-8eeb-f58fa563cdd7\",\"type\":\"Circle\"},{\"attributes\":{\"fill_alpha\":{\"value\":0.1},\"fill_color\":{\"value\":\"#1f77b4\"},\"line_alpha\":{\"value\":0.1},\"line_color\":{\"value\":\"#1f77b4\"},\"size\":{\"units\":\"screen\",\"value\":10},\"x\":{\"value\":15},\"y\":{\"value\":140}},\"id\":\"e3c254b8-520d-4f46-8b6a-be9c4314e404\",\"type\":\"Circle\"},{\"attributes\":{\"dimension\":1,\"plot\":{\"id\":\"8264275a-b390-4442-bb4c-bf5c2d7d4544\",\"subtype\":\"Figure\",\"type\":\"Plot\"},\"ticker\":{\"id\":\"e9afce5c-172d-4cdf-985b-ea065451086d\",\"type\":\"BasicTicker\"}},\"id\":\"732b2540-ad09-4864-8b05-3b1650d9d094\",\"type\":\"Grid\"},{\"attributes\":{},\"id\":\"45b3a37e-5549-4a4f-becf-2ada5016b8bd\",\"type\":\"BasicTickFormatter\"},{\"attributes\":{\"data_source\":{\"id\":\"70dc5e61-3c2e-4c7f-b333-a53ba04301be\",\"type\":\"ColumnDataSource\"},\"glyph\":{\"id\":\"eb9257d4-67ca-451b-b882-083e7456de5a\",\"type\":\"Line\"},\"hover_glyph\":null,\"nonselection_glyph\":{\"id\":\"ff94da21-5369-40b3-abdc-289b2212e285\",\"type\":\"Line\"},\"selection_glyph\":null},\"id\":\"ef7d61ca-ac01-48c9-b0d3-f79a9628152f\",\"type\":\"GlyphRenderer\"},{\"attributes\":{\"callback\":null},\"id\":\"754c47bf-25bc-4834-bc5f-99ac5483cbc7\",\"type\":\"ColumnDataSource\"},{\"attributes\":{\"plot\":{\"id\":\"69ad5276-f29a-4e15-b279-3cc96ae12623\",\"subtype\":\"Figure\",\"type\":\"Plot\"}},\"id\":\"a3162cce-d0ab-44e2-b0cb-4b7b4ee36b5a\",\"type\":\"WheelZoomTool\"},{\"attributes\":{\"axis_label_text_font_size\":{\"value\":\"14pt\"},\"formatter\":{\"id\":\"e0bc0d96-87d1-42c3-9ae3-3e9981b1aaee\",\"type\":\"BasicTickFormatter\"},\"plot\":{\"id\":\"8264275a-b390-4442-bb4c-bf5c2d7d4544\",\"subtype\":\"Figure\",\"type\":\"Plot\"},\"ticker\":{\"id\":\"1bf7ba6b-5466-499e-adf4-7cf6ac70e6c9\",\"type\":\"BasicTicker\"}},\"id\":\"bdca23c1-f57b-422a-b916-a1c931c61a4a\",\"type\":\"LinearAxis\"},{\"attributes\":{},\"id\":\"365724c6-8d3a-4300-83ea-cb03e6004f52\",\"type\":\"ToolEvents\"},{\"attributes\":{\"fill_alpha\":{\"value\":0.1},\"fill_color\":{\"value\":\"#1f77b4\"},\"line_alpha\":{\"value\":0.1},\"line_color\":{\"value\":\"#1f77b4\"},\"size\":{\"units\":\"screen\",\"value\":10},\"x\":{\"value\":0},\"y\":{\"value\":0}},\"id\":\"eeb52ec0-81a8-4236-90c0-087cb9f4faa8\",\"type\":\"Circle\"},{\"attributes\":{\"plot\":{\"id\":\"dcd1d8b5-e0aa-4a1f-ae91-0c8a50fabb01\",\"subtype\":\"Figure\",\"type\":\"Plot\"}},\"id\":\"569b8fe6-3f0a-4cbc-941d-ce8d7c72bca0\",\"type\":\"PanTool\"},{\"attributes\":{\"callback\":null},\"id\":\"8125705b-e710-4af1-a96c-030e88f30a09\",\"type\":\"DataRange1d\"},{\"attributes\":{\"dimension\":1,\"plot\":{\"id\":\"b3c7f24f-7e8a-449b-abf0-1d7b1fbe6005\",\"subtype\":\"Figure\",\"type\":\"Plot\"},\"ticker\":{\"id\":\"d5133bfd-6ac8-48b5-9bff-88acd2fbe7f0\",\"type\":\"BasicTicker\"}},\"id\":\"0cf1090c-d2c8-4b6c-ab1d-2b3eff60e8dc\",\"type\":\"Grid\"},{\"attributes\":{\"line_alpha\":{\"value\":0.1},\"line_color\":{\"value\":\"#1f77b4\"},\"line_width\":{\"value\":3},\"x\":{\"field\":\"x\"},\"y\":{\"field\":\"y\"}},\"id\":\"ff94da21-5369-40b3-abdc-289b2212e285\",\"type\":\"Line\"},{\"attributes\":{\"line_alpha\":{\"value\":0.5},\"line_color\":{\"value\":\"navy\"},\"line_width\":{\"value\":3},\"x\":{\"field\":\"x\"},\"y\":{\"field\":\"y\"}},\"id\":\"eb9257d4-67ca-451b-b882-083e7456de5a\",\"type\":\"Line\"},{\"attributes\":{\"fill_color\":{\"value\":\"orange\"},\"line_color\":{\"value\":\"orange\"},\"size\":{\"units\":\"screen\",\"value\":10},\"x\":{\"value\":0},\"y\":{\"value\":0}},\"id\":\"7555d007-1fe6-49be-bc57-5297f324e7d5\",\"type\":\"Circle\"},{\"attributes\":{\"callback\":null},\"id\":\"cfb57749-8962-401e-8655-4cadd7b4e8cc\",\"type\":\"DataRange1d\"},{\"attributes\":{\"data_source\":{\"id\":\"b3225a98-728b-42ac-9de2-f929e7fb7f31\",\"type\":\"ColumnDataSource\"},\"glyph\":{\"id\":\"19fc54c0-0997-4b20-aaee-6def83d35156\",\"type\":\"Circle\"},\"hover_glyph\":null,\"nonselection_glyph\":{\"id\":\"cb24636e-47f3-4dbf-ad89-8f8a0f00b081\",\"type\":\"Circle\"},\"selection_glyph\":null},\"id\":\"af573154-9bb6-4ee7-a3e4-4ba25e86364b\",\"type\":\"GlyphRenderer\"},{\"attributes\":{\"line_alpha\":{\"value\":0.5},\"line_color\":{\"value\":\"navy\"},\"line_width\":{\"value\":3},\"x\":{\"field\":\"x\"},\"y\":{\"field\":\"y\"}},\"id\":\"3394802b-2d48-480c-aea7-77d95760f511\",\"type\":\"Line\"},{\"attributes\":{\"plot\":{\"id\":\"94a5ca5c-0292-48bc-afe0-1b3efa3f9ab7\",\"subtype\":\"Figure\",\"type\":\"Plot\"}},\"id\":\"ea42a068-a75a-4f1e-9f98-c27b61cc6aa2\",\"type\":\"PanTool\"},{\"attributes\":{},\"id\":\"e513cd27-d097-44d9-b7a3-7540567aa4b8\",\"type\":\"BasicTickFormatter\"},{\"attributes\":{\"fill_alpha\":{\"value\":0.1},\"fill_color\":{\"value\":\"#1f77b4\"},\"line_alpha\":{\"value\":0.1},\"line_color\":{\"value\":\"#1f77b4\"},\"size\":{\"units\":\"screen\",\"value\":10},\"x\":{\"value\":0},\"y\":{\"value\":0}},\"id\":\"54f52dad-3213-4383-a27b-11bec3384dca\",\"type\":\"Circle\"},{\"attributes\":{\"callback\":null},\"id\":\"d3fa8a2f-9612-4619-81d8-e607abbeb3f5\",\"type\":\"DataRange1d\"},{\"attributes\":{\"line_alpha\":{\"value\":0.1},\"line_color\":{\"value\":\"#1f77b4\"},\"line_width\":{\"value\":3},\"x\":{\"field\":\"x\"},\"y\":{\"field\":\"y\"}},\"id\":\"40587fa5-5b53-4cee-b673-0ca0fe1a5bad\",\"type\":\"Line\"},{\"attributes\":{},\"id\":\"ace60afd-ae8d-45b3-8231-38d76aa7c863\",\"type\":\"BasicTicker\"},{\"attributes\":{},\"id\":\"aa4f017f-fec0-4acc-9fab-1898b36165fa\",\"type\":\"BasicTickFormatter\"},{\"attributes\":{\"plot\":{\"id\":\"d65405ca-9d76-429f-8fee-dfcdb2792379\",\"subtype\":\"Figure\",\"type\":\"Plot\"}},\"id\":\"4bd53e90-57f8-46ad-ba4b-2ce85e685a8f\",\"type\":\"WheelZoomTool\"},{\"attributes\":{},\"id\":\"8997dfd5-e9ab-458f-b58a-0c0080e3d151\",\"type\":\"BasicTickFormatter\"},{\"attributes\":{},\"id\":\"af22d204-a11c-4a24-b7a3-b7dec41ce7e6\",\"type\":\"BasicTicker\"},{\"attributes\":{\"below\":[{\"id\":\"bdca23c1-f57b-422a-b916-a1c931c61a4a\",\"type\":\"LinearAxis\"}],\"left\":[{\"id\":\"06060d9e-da3e-4422-bc77-c3f307c39ff4\",\"type\":\"LinearAxis\"}],\"plot_height\":250,\"plot_width\":400,\"renderers\":[{\"id\":\"bdca23c1-f57b-422a-b916-a1c931c61a4a\",\"type\":\"LinearAxis\"},{\"id\":\"c0713088-150e-4574-8e73-eacd2eb24f6b\",\"type\":\"Grid\"},{\"id\":\"06060d9e-da3e-4422-bc77-c3f307c39ff4\",\"type\":\"LinearAxis\"},{\"id\":\"732b2540-ad09-4864-8b05-3b1650d9d094\",\"type\":\"Grid\"},{\"id\":\"495828d9-feb6-470e-b771-63933a422f20\",\"type\":\"GlyphRenderer\"},{\"id\":\"af573154-9bb6-4ee7-a3e4-4ba25e86364b\",\"type\":\"GlyphRenderer\"}],\"title\":\"Local minimum of function\",\"title_text_font_size\":{\"value\":\"12pt\"},\"tool_events\":{\"id\":\"8f588507-12b8-420c-bdc3-0d0be698afd8\",\"type\":\"ToolEvents\"},\"tools\":[{\"id\":\"d3a8b4d6-7ba5-4b51-939a-480d4e921890\",\"type\":\"WheelZoomTool\"},{\"id\":\"332d3a32-5e88-4047-bd55-e93e64423f64\",\"type\":\"ResetTool\"},{\"id\":\"dd7ad3e5-cb8c-448a-9aa0-354377f4285d\",\"type\":\"PanTool\"}],\"x_range\":{\"id\":\"1ae1bbec-15ea-480d-9f66-648aa4fee149\",\"type\":\"DataRange1d\"},\"y_range\":{\"id\":\"cfb57749-8962-401e-8655-4cadd7b4e8cc\",\"type\":\"DataRange1d\"}},\"id\":\"8264275a-b390-4442-bb4c-bf5c2d7d4544\",\"subtype\":\"Figure\",\"type\":\"Plot\"},{\"attributes\":{\"callback\":null,\"column_names\":[\"x\",\"y\"],\"data\":{\"x\":[-15.0,-14.696969696969697,-14.393939393939394,-14.09090909090909,-13.787878787878787,-13.484848484848484,-13.181818181818182,-12.878787878787879,-12.575757575757576,-12.272727272727273,-11.969696969696969,-11.666666666666666,-11.363636363636363,-11.06060606060606,-10.757575757575758,-10.454545454545453,-10.151515151515152,-9.848484848484848,-9.545454545454545,-9.242424242424242,-8.93939393939394,-8.636363636363637,-8.333333333333332,-8.030303030303031,-7.727272727272727,-7.424242424242424,-7.121212121212121,-6.818181818181818,-6.515151515151516,-6.212121212121211,-5.909090909090908,-5.6060606060606055,-5.303030303030303,-5.0,-4.696969696969697,-4.3939393939393945,-4.09090909090909,-3.787878787878787,-3.4848484848484844,-3.1818181818181817,-2.878787878787879,-2.575757575757576,-2.2727272727272716,-1.9696969696969688,-1.666666666666666,-1.3636363636363633,-1.0606060606060606,-0.7575757575757578,-0.45454545454545325,-0.1515151515151505,0.15151515151515227,0.45454545454545503,0.7575757575757578,1.0606060606060623,1.3636363636363633,1.6666666666666679,1.9696969696969688,2.2727272727272734,2.575757575757578,2.878787878787879,3.1818181818181834,3.4848484848484844,3.787878787878789,4.09090909090909,4.3939393939393945,4.696969696969699,5.0,5.3030303030303045,5.6060606060606055,5.90909090909091,6.212121212121211,6.515151515151516,6.81818181818182,7.121212121212121,7.424242424242426,7.727272727272727,8.030303030303031,8.333333333333336,8.636363636363637,8.939393939393941,9.242424242424242,9.545454545454547,9.848484848484848,10.151515151515152,10.454545454545457,10.757575757575758,11.060606060606062,11.363636363636363,11.666666666666668,11.969696969696969,12.272727272727273,12.575757575757578,12.878787878787879,13.181818181818183,13.484848484848484,13.787878787878789,14.090909090909093,14.393939393939394,14.696969696969699,15.0],\"y\":[-225.0,-216.00091827364557,-207.18549127640037,-198.55371900826444,-190.10560146923783,-181.84113865932048,-173.7603305785124,-165.8631772268136,-158.14967860422408,-150.61983471074382,-143.2736455463728,-136.1111111111111,-129.13223140495867,-122.33700642791551,-115.72543617998164,-109.297520661157,-103.05325987144171,-96.99265381083562,-91.11570247933884,-85.42240587695133,-79.91276400367309,-74.58677685950414,-69.44444444444443,-64.48576675849405,-59.71074380165288,-55.119375573921026,-50.711662075298435,-46.48760330578513,-42.44719926538109,-38.5904499540863,-34.91735537190082,-31.427915518824605,-28.122130394857663,-25.0,-22.061524334251608,-19.306703397612495,-16.73553719008264,-14.34802571166207,-12.144168962350777,-10.12396694214876,-8.287419651056016,-6.634527089072545,-5.165289256198342,-3.879706152433422,-2.777777777777776,-1.859504132231404,-1.1248852157943066,-0.5739210284664833,-0.2066115702479327,-0.02295684113865901,-0.022956841138659548,-0.20661157024793433,-0.5739210284664833,-1.1248852157943103,-1.859504132231404,-2.7777777777777817,-3.879706152433422,-5.16528925619835,-6.634527089072555,-8.287419651056016,-10.12396694214877,-12.144168962350777,-14.348025711662084,-16.73553719008264,-19.306703397612495,-22.061524334251626,-25.0,-28.122130394857685,-31.427915518824605,-34.91735537190084,-38.5904499540863,-42.44719926538109,-46.48760330578515,-50.711662075298435,-55.11937557392105,-59.71074380165288,-64.48576675849405,-69.44444444444449,-74.58677685950414,-79.91276400367313,-85.42240587695133,-91.11570247933886,-96.99265381083562,-103.05325987144171,-109.29752066115707,-115.72543617998164,-122.33700642791555,-129.13223140495867,-136.11111111111114,-143.2736455463728,-150.61983471074382,-158.1496786042241,-165.8631772268136,-173.76033057851245,-181.84113865932048,-190.10560146923785,-198.55371900826452,-207.18549127640037,-216.0009182736456,-225.0]}},\"id\":\"e33d1db5-278e-480e-aaad-6d89f0c8ec12\",\"type\":\"ColumnDataSource\"}],\"root_ids\":[\"8264275a-b390-4442-bb4c-bf5c2d7d4544\",\"dcd1d8b5-e0aa-4a1f-ae91-0c8a50fabb01\",\"b3c7f24f-7e8a-449b-abf0-1d7b1fbe6005\",\"69ad5276-f29a-4e15-b279-3cc96ae12623\",\"94a5ca5c-0292-48bc-afe0-1b3efa3f9ab7\",\"d65405ca-9d76-429f-8fee-dfcdb2792379\"]},\"title\":\"Bokeh Application\",\"version\":\"0.11.1\"}};\n",
       "            var render_items = [{\"docid\":\"44d20646-b5da-4de2-b34b-7c3b8eef7bed\",\"elementid\":\"4461e7a8-bf33-4ff5-9fd1-7682bdff6b44\",\"modelid\":\"d65405ca-9d76-429f-8fee-dfcdb2792379\",\"notebook_comms_target\":\"436c434e-abad-4096-9de7-c93f53c984b6\"}];\n",
       "            \n",
       "            Bokeh.embed.embed_items(docs_json, render_items);\n",
       "        });\n",
       "      },\n",
       "      function(Bokeh) {\n",
       "      }\n",
       "    ];\n",
       "  \n",
       "    function run_inline_js() {\n",
       "      for (var i = 0; i < inline_js.length; i++) {\n",
       "        inline_js[i](window.Bokeh);\n",
       "      }\n",
       "    }\n",
       "  \n",
       "    if (window._bokeh_is_loading === 0) {\n",
       "      console.log(\"Bokeh: BokehJS loaded, going straight to plotting\");\n",
       "      run_inline_js();\n",
       "    } else {\n",
       "      load_libs(js_urls, function() {\n",
       "        console.log(\"Bokeh: BokehJS plotting callback run at\", now());\n",
       "        run_inline_js();\n",
       "      });\n",
       "    }\n",
       "  }(this));\n",
       "</script>"
      ]
     },
     "metadata": {},
     "output_type": "display_data"
    },
    {
     "data": {
      "text/html": [
       "<p><code>&lt;Bokeh Notebook handle for <strong>In[13]</strong>&gt;</code></p>"
      ],
      "text/plain": [
       "<bokeh.io._CommsHandle at 0x117c52f90>"
      ]
     },
     "execution_count": 13,
     "metadata": {},
     "output_type": "execute_result"
    }
   ],
   "source": [
    "TOOLS = [WheelZoomTool(), ResetTool(), PanTool()]\n",
    "\n",
    "\n",
    "x, y = (zip(*enumerate(cost)))\n",
    "s1 = bp.figure(width=W, \n",
    "               height=H, \n",
    "               title='Squared distance to true local minimum',  \n",
    "#                title_text_font_size='14pt', \n",
    "               tools=TOOLS,\n",
    "               x_axis_label = 'Iteration',\n",
    "               y_axis_label = 'Distance'\n",
    ")\n",
    "s1.line(x, y, color=\"navy\", alpha=0.5, line_width=3)\n",
    "s1.title_text_font_size = '16pt'\n",
    "s1.yaxis.axis_label_text_font_size = \"14pt\"\n",
    "s1.xaxis.axis_label_text_font_size = \"14pt\"\n",
    "\n",
    "\n",
    "bp.show(s1)"
   ]
  },
  {
   "cell_type": "markdown",
   "metadata": {},
   "source": [
    "## From derivatives to gradient: $n$-dimensional function minimization.\n",
    "\n",
    "Let's consider a $n$-dimensional function $f: \\Re^n \\rightarrow \\Re$. For example: \n",
    "\n",
    "$$f(\\mathbf{x}) = \\sum_{n} x_n^2$$\n",
    "\n",
    "Our objective is to find the argument  $\\mathbf{x}$ that minimizes this function.\n",
    "\n",
    "The **gradient** of $f$ is the vector whose components are the $n$ partial derivatives of $f$. It is thus a vector-valued function. \n",
    "\n",
    "The gradient points in the direction of the greatest rate of **increase** of the function.\n",
    "\n",
    "$$\\nabla {f} = (\\frac{\\partial f}{\\partial x_1}, \\dots, \\frac{\\partial f}{\\partial x_n})$$"
   ]
  },
  {
   "cell_type": "code",
   "execution_count": 14,
   "metadata": {
    "collapsed": false
   },
   "outputs": [
    {
     "name": "stdout",
     "output_type": "stream",
     "text": [
      "3.0 [2.0000000001, 2.0000000001, 2.0000000001]\n",
      "3.0 [2.0000009999, 2.0000009999, 2.0000009999]\n"
     ]
    }
   ],
   "source": [
    "def f(x):\n",
    "    return sum(x_i**2 for x_i in x)\n",
    "\n",
    "def fin_dif_partial_centered(x, f, i, h=1e-6):\n",
    "    w1 = [x_j + (h if j==i else 0) for j, x_j in enumerate(x)]\n",
    "    w2 = [x_j - (h if j==i else 0) for j, x_j in enumerate(x)]\n",
    "    return (f(w1) - f(w2))/(2*h)\n",
    "\n",
    "def fin_dif_partial_old(x, f, i, h=1e-6):\n",
    "    w1 = [x_j + (h if j==i else 0) for j, x_j in enumerate(x)]\n",
    "    return (f(w1) - f(x))/h\n",
    "\n",
    "def gradient_centered(x, f, h=1e-6):\n",
    "    return[round(fin_dif_partial_centered(x,f,i,h), 10) for i,_ in enumerate(x)]\n",
    "\n",
    "def gradient_old(x, f, h=1e-6):\n",
    "    return[round(fin_dif_partial_old(x,f,i,h), 10) for i,_ in enumerate(x)]\n",
    "\n",
    "x = [1.0,1.0,1.0]\n",
    "\n",
    "print f(x), gradient_centered(x,f)\n",
    "print f(x), gradient_old(x,f) "
   ]
  },
  {
   "cell_type": "markdown",
   "metadata": {},
   "source": [
    "The function we have evaluated, $f({\\mathbf x}) = x_1^2+x_2^2+x_3^2$, is $3$ at $(1,1,1)$ and the gradient vector at this point is $(2,2,2)$. \n",
    "\n",
    "Then, we can follow this steps to maximize (or minimize) the function:\n",
    "\n",
    "+ Start from a random $\\mathbf{x}$ vector.\n",
    "+ Compute the gradient vector.\n",
    "+ Walk a small step in the opposite direction of the gradient vector."
   ]
  },
  {
   "cell_type": "markdown",
   "metadata": {},
   "source": [
    "> It is important to be aware that this gradient computation is very expensive: if $\\mathbf{x}$ has dimension $n$, we have to evaluate $f$ at $2*n$ points.\n",
    "\n",
    "\n",
    "### How to use the gradient.\n",
    "\n",
    "$f(x) = \\sum_i x_i^2$, takes its mimimum value when all $x$ are 0. \n",
    "\n",
    "Let's check it for $n=3$: "
   ]
  },
  {
   "cell_type": "code",
   "execution_count": 15,
   "metadata": {
    "collapsed": true
   },
   "outputs": [],
   "source": [
    "def euc_dist(v1,v2):\n",
    "    import numpy as np\n",
    "    import math\n",
    "    v = np.array(v1)-np.array(v2)\n",
    "    return math.sqrt(sum(v_i ** 2 for v_i in v))"
   ]
  },
  {
   "cell_type": "markdown",
   "metadata": {},
   "source": [
    "Let's start by choosing a random vector and then walking a step in the opposite direction of the gradient vector. We will stop when the difference between the new solution and the old solution is less than a tolerance value."
   ]
  },
  {
   "cell_type": "code",
   "execution_count": 16,
   "metadata": {
    "collapsed": false
   },
   "outputs": [
    {
     "data": {
      "text/plain": [
       "[10, 3, -9]"
      ]
     },
     "execution_count": 16,
     "metadata": {},
     "output_type": "execute_result"
    }
   ],
   "source": [
    "# choosing a random vector\n",
    "\n",
    "import random\n",
    "import numpy as np\n",
    "\n",
    "x = [random.randint(-10,10) for i in range(3)]\n",
    "x"
   ]
  },
  {
   "cell_type": "code",
   "execution_count": 17,
   "metadata": {
    "collapsed": false
   },
   "outputs": [
    {
     "name": "stdout",
     "output_type": "stream",
     "text": [
      "[0.0, 0.0, -0.0]\n"
     ]
    }
   ],
   "source": [
    "def step(x,grad,alpha):\n",
    "    return [x_i - alpha * grad_i for x_i, grad_i in zip(x,grad)]\n",
    "\n",
    "tol = 1e-15\n",
    "alpha = 0.01\n",
    "while True:\n",
    "    grad = gradient_centered(x,f)\n",
    "    next_x = step(x,grad,alpha)\n",
    "    if euc_dist(next_x,x) < tol:\n",
    "        break\n",
    "    x = next_x\n",
    "print [round(i,10) for i in x]"
   ]
  },
  {
   "cell_type": "markdown",
   "metadata": {},
   "source": [
    "### Alpha\n",
    "\n",
    "The step size, **alpha**, is a slippy concept: if it is too small we will slowly converge to the solution, if it is too large we can diverge from the solution. \n",
    "\n",
    "There are several policies to follow when selecting the step size:\n",
    "\n",
    "+ Constant size steps. In this case, the size step determines the precision of the solution.\n",
    "+ Decreasing step sizes.\n",
    "+ At each step, select the optimal step.\n",
    "\n",
    "The last policy is good, but too expensive. In this case we will consider a fiexd set of values:"
   ]
  },
  {
   "cell_type": "code",
   "execution_count": 18,
   "metadata": {
    "collapsed": true
   },
   "outputs": [],
   "source": [
    "step_size = [100, 10, 1, 0.1, 0.01, 0.001, 0.0001, 0.00001]"
   ]
  },
  {
   "cell_type": "markdown",
   "metadata": {},
   "source": [
    "## Learning from data\n",
    "\n",
    "In general, we have:\n",
    "\n",
    "+ A dataset $(\\mathbf{x},y)$. \n",
    "+ A target function $f_\\mathbf{w}$, that we want to minimize, representing the discrepancy between our data and the model we want to fit. The model is represented by a set of parameters $\\mathbf{w}$. \n",
    "+ The gradient of the target function, $g_f$. \n",
    "\n",
    "\n",
    "In the most common case $f$ represents the errors from a data representation model $M$. To fit the model is to find the optimal parameters $\\mathbf{w}$ that minimize the following expression:\n",
    "\n",
    "$$ f_\\mathbf{w} = \\sum_{i} (y_i - M(\\mathbf{x}_i,\\mathbf{w}))^2 $$\n",
    "\n",
    "For example, $(\\mathbf{x},y)$ can represent:\n",
    "\n",
    "+ $\\mathbf{x}$: the behavior of a \"Candy Crush\" player; $y$: monthly payments. \n",
    "+ $\\mathbf{x}$: sensor data about your car engine; $y$: probability of engine error.\n",
    "+ $\\mathbf{x}$: finantial data of a bank customer; $y$: customer rating.\n",
    "\n",
    "> If $y$ is a real value, it is called a *regression* problem.\n",
    "\n",
    "> If $y$ is binary/categorical, it is called a *classification* problem. \n",
    "\n",
    "Let's suppose that $M(x_i,\\mathbf{w}) = w * x_i$. \n",
    "\n",
    "### Batch gradient descend\n",
    "\n",
    "We can implement **gradient descend** in the following way (*batch gradient descend*):"
   ]
  },
  {
   "cell_type": "code",
   "execution_count": 19,
   "metadata": {
    "collapsed": false
   },
   "outputs": [
    {
     "name": "stdout",
     "output_type": "stream",
     "text": [
      "First w: 0.157129459395 First Val: 967.908971388 \n",
      "\n",
      "1 w: 0.1676 Val:967.9090 Gradient: -1050.43620815\n",
      "2 w: 1.2121 Val:178.9664 Gradient: -451.687569502\n",
      "3 w: 1.6612 Val:33.0909 Gradient: -194.225654886\n",
      "4 w: 1.8543 Val:6.1185 Gradient: -83.517031601\n",
      "5 w: 1.9374 Val:1.1313 Gradient: -35.9123235884\n",
      "6 w: 1.9731 Val:0.2092 Gradient: -15.442299143\n",
      "7 w: 1.9884 Val:0.0387 Gradient: -6.6401886315\n",
      "8 w: 1.9950 Val:0.0072 Gradient: -2.85528111154\n",
      "9 w: 1.9979 Val:0.0013 Gradient: -1.22777087796\n",
      "10 w: 1.9991 Val:0.0002 Gradient: -0.527941477525\n",
      "11 w: 1.9996 Val:0.0000 Gradient: -0.227014835336\n",
      "12 w: 1.9998 Val:0.0000 Gradient: -0.0976163791942\n",
      "13 w: 1.9999 Val:0.0000 Gradient: -0.0419750430536\n",
      "14 w: 2.0000 Val:0.0000 Gradient: -0.0180492685131\n"
     ]
    },
    {
     "data": {
      "text/plain": [
       "1.9999685151093287"
      ]
     },
     "execution_count": 19,
     "metadata": {},
     "output_type": "execute_result"
    }
   ],
   "source": [
    "# f = 2x\n",
    "\n",
    "x = range(10)\n",
    "y = [2*i for i in x]\n",
    "\n",
    "# f_target = Sum (y - wx)**2\n",
    "def target_f(x,y,w):\n",
    "    import numpy as np\n",
    "    return np.sum((np.array(y) - np.array(x) * w)**2.0)\n",
    "\n",
    "# gradient_f = Sum 2wx**2 - 2xy\n",
    "def gradient_f(x,y,w):\n",
    "    import numpy as np\n",
    "    return np.sum(2*w*(np.array(x)**2) - 2*np.array(x)*np.array(y))\n",
    "\n",
    "def step(w,grad,alpha):\n",
    "    return w - alpha * grad\n",
    "\n",
    "def min_batch(target_f, gradient_f, x, y, toler = 1e-6):\n",
    "    import random\n",
    "    alphas = [100, 10, 1, 0.1, 0.001, 0.00001]\n",
    "    w = random.random()\n",
    "    val = target_f(x,y,w)\n",
    "    print \"First w:\", w, \"First Val:\", val, \"\\n\"\n",
    "    i = 0\n",
    "    while True:\n",
    "        i += 1\n",
    "        gradient = gradient_f(x,y,w)\n",
    "        next_ws = [step(w, gradient, alpha) for alpha in alphas]\n",
    "        next_vals = [target_f(x,y,w) for w in next_ws]\n",
    "        min_val = min(next_vals)\n",
    "        next_w = next_ws[next_vals.index(min_val)]   \n",
    "        next_val = target_f(x,y,next_w)\n",
    "        print i, \"w: {:4.4f}\".format(w), \"Val:{:4.4f}\".format(val), \"Gradient:\", gradient        \n",
    "        if (abs(val - next_val) < toler) or (i>200):\n",
    "            return w\n",
    "        else:\n",
    "            w, val = next_w, next_val\n",
    "            \n",
    "min_batch(target_f, gradient_f, x, y)"
   ]
  },
  {
   "cell_type": "code",
   "execution_count": 20,
   "metadata": {
    "collapsed": false
   },
   "outputs": [
    {
     "name": "stdout",
     "output_type": "stream",
     "text": [
      "First w: 0.708282984648 First Val: 547862.760559 \n",
      "\n",
      "1 w: 0.7931 Val:547862.7606 Gradient: -8482.70563982\n",
      "2 w: 0.8724 Val:478269.1505 Gradient: -7925.64636045\n",
      "3 w: 0.9464 Val:417515.8394 Gradient: -7405.16916396\n",
      "4 w: 1.0156 Val:364479.8665 Gradient: -6918.87170496\n",
      "5 w: 1.0803 Val:318180.9181 Gradient: -6464.5094001\n",
      "6 w: 1.1407 Val:277763.2071 Gradient: -6039.98506779\n",
      "7 w: 1.1971 Val:242479.6549 Gradient: -5643.33924839\n",
      "8 w: 1.2498 Val:211678.0824 Gradient: -5272.74115995\n",
      "9 w: 1.2991 Val:184789.1551 Gradient: -4926.48024798\n",
      "10 w: 1.3451 Val:161315.8598 Gradient: -4602.95829009\n",
      "11 w: 1.3881 Val:140824.3173 Gradient: -4300.68201918\n",
      "12 w: 1.4283 Val:122935.7632 Gradient: -4018.25623098\n",
      "13 w: 1.4658 Val:107319.5465 Gradient: -3754.37734429\n",
      "14 w: 1.5009 Val:93687.0181 Gradient: -3507.82738409\n",
      "15 w: 1.5337 Val:81786.1950 Gradient: -3277.46835978\n",
      "16 w: 1.5643 Val:71397.1031 Gradient: -3062.23701259\n",
      "17 w: 1.5929 Val:62327.7111 Gradient: -2861.13990798\n",
      "18 w: 1.6197 Val:54410.3808 Gradient: -2673.24885022\n",
      "19 w: 1.6446 Val:47498.7688 Gradient: -2497.69659823\n",
      "20 w: 1.6680 Val:41465.1213 Gradient: -2333.67286262\n",
      "21 w: 1.6898 Val:36197.9126 Gradient: -2180.42056573\n",
      "22 w: 1.7101 Val:31599.7840 Gradient: -2037.23234718\n",
      "23 w: 1.7292 Val:27585.7440 Gradient: -1903.44729894\n",
      "24 w: 1.7470 Val:24081.5973 Gradient: -1778.44791482\n",
      "25 w: 1.7636 Val:21022.5734 Gradient: -1661.65724025\n",
      "26 w: 1.7791 Val:18352.1294 Gradient: -1552.53620929\n",
      "27 w: 1.7936 Val:16020.9052 Gradient: -1450.58115642\n",
      "28 w: 1.8072 Val:13985.8105 Gradient: -1355.32149188\n",
      "29 w: 1.8198 Val:12209.2286 Gradient: -1266.31752951\n",
      "30 w: 1.8317 Val:10658.3214 Gradient: -1183.15845735\n",
      "31 w: 1.8427 Val:9304.4220 Gradient: -1105.46044145\n",
      "32 w: 1.8530 Val:8122.5050 Gradient: -1032.86485426\n",
      "33 w: 1.8627 Val:7090.7239 Gradient: -965.036619282\n",
      "34 w: 1.8717 Val:6190.0073 Gradient: -901.662664494\n",
      "35 w: 1.8801 Val:5403.7065 Gradient: -842.450477316\n",
      "36 w: 1.8880 Val:4717.2874 Gradient: -787.126754471\n",
      "37 w: 1.8954 Val:4118.0624 Gradient: -735.436140505\n",
      "38 w: 1.9022 Val:3594.9554 Gradient: -687.140049158\n",
      "39 w: 1.9087 Val:3138.2974 Gradient: -642.01556213\n",
      "40 w: 1.9147 Val:2739.6475 Gradient: -599.854400165\n",
      "41 w: 1.9203 Val:2391.6371 Gradient: -560.461961706\n",
      "42 w: 1.9255 Val:2087.8335 Gradient: -523.656424681\n",
      "43 w: 1.9304 Val:1822.6213 Gradient: -489.267907272\n",
      "44 w: 1.9350 Val:1591.0984 Gradient: -457.137683801\n",
      "45 w: 1.9392 Val:1388.9852 Gradient: -427.117452106\n",
      "46 w: 1.9432 Val:1212.5460 Gradient: -399.068649026\n",
      "47 w: 1.9470 Val:1058.5193 Gradient: -372.861810845\n",
      "48 w: 1.9504 Val:924.0583 Gradient: -348.375975726\n",
      "49 w: 1.9537 Val:806.6776 Gradient: -325.498125401\n",
      "50 w: 1.9567 Val:704.2074 Gradient: -304.122663505\n",
      "51 w: 1.9596 Val:614.7537 Gradient: -284.150928193\n",
      "52 w: 1.9622 Val:536.6631 Gradient: -265.490736739\n",
      "53 w: 1.9647 Val:468.4922 Gradient: -248.055960057\n",
      "54 w: 1.9670 Val:408.9808 Gradient: -231.76612516\n",
      "55 w: 1.9692 Val:357.0290 Gradient: -216.546043721\n",
      "56 w: 1.9712 Val:311.6765 Gradient: -202.32546503\n",
      "57 w: 1.9731 Val:272.0850 Gradient: -189.038751741\n",
      "58 w: 1.9749 Val:237.5228 Gradient: -176.624576914\n",
      "59 w: 1.9765 Val:207.3509 Gradient: -165.025640948\n",
      "60 w: 1.9781 Val:181.0116 Gradient: -154.188407107\n",
      "61 w: 1.9795 Val:158.0182 Gradient: -144.062854413\n",
      "62 w: 1.9808 Val:137.9455 Gradient: -134.602246763\n",
      "63 w: 1.9821 Val:120.4227 Gradient: -125.762917218\n",
      "64 w: 1.9833 Val:105.1257 Gradient: -117.504066445\n",
      "65 w: 1.9844 Val:91.7718 Gradient: -109.787574401\n",
      "66 w: 1.9854 Val:80.1143 Gradient: -102.57782439\n",
      "67 w: 1.9864 Val:69.9376 Gradient: -95.8415386625\n",
      "68 w: 1.9873 Val:61.0536 Gradient: -89.5476248186\n",
      "69 w: 1.9881 Val:53.2981 Gradient: -83.6670322967\n",
      "70 w: 1.9889 Val:46.5278 Gradient: -78.1726182858\n",
      "71 w: 1.9896 Val:40.6175 Gradient: -73.039022443\n",
      "72 w: 1.9903 Val:35.4579 Gradient: -68.2425498392\n",
      "73 w: 1.9909 Val:30.9538 Gradient: -63.7610615912\n",
      "74 w: 1.9915 Val:27.0218 Gradient: -59.5738726765\n",
      "75 w: 1.9921 Val:23.5893 Gradient: -55.6616564579\n",
      "76 w: 1.9926 Val:20.5928 Gradient: -52.0063554783\n",
      "77 w: 1.9931 Val:17.9770 Gradient: -48.591098114\n",
      "78 w: 1.9935 Val:15.6934 Gradient: -45.4001207009\n",
      "79 w: 1.9940 Val:13.6999 Gradient: -42.4186947744\n",
      "80 w: 1.9944 Val:11.9596 Gradient: -39.6330590886\n",
      "81 w: 1.9947 Val:10.4404 Gradient: -37.0303560983\n",
      "82 w: 1.9951 Val:9.1142 Gradient: -34.5985726133\n",
      "83 w: 1.9954 Val:7.9565 Gradient: -32.3264843498\n",
      "84 w: 1.9957 Val:6.9458 Gradient: -30.2036041225\n",
      "85 w: 1.9960 Val:6.0635 Gradient: -28.2201334398\n",
      "86 w: 1.9962 Val:5.2932 Gradient: -26.3669172768\n",
      "87 w: 1.9965 Val:4.6209 Gradient: -24.6354018192\n",
      "88 w: 1.9967 Val:4.0339 Gradient: -23.0175949818\n",
      "89 w: 1.9969 Val:3.5215 Gradient: -21.5060295193\n",
      "90 w: 1.9971 Val:3.0741 Gradient: -20.0937285608\n",
      "91 w: 1.9973 Val:2.6836 Gradient: -18.7741734062\n",
      "92 w: 1.9975 Val:2.3427 Gradient: -17.5412734386\n",
      "93 w: 1.9977 Val:2.0452 Gradient: -16.3893380119\n",
      "94 w: 1.9978 Val:1.7854 Gradient: -15.3130501847\n",
      "95 w: 1.9980 Val:1.5586 Gradient: -14.307442179\n",
      "96 w: 1.9981 Val:1.3606 Gradient: -13.3678724511\n",
      "97 w: 1.9982 Val:1.1878 Gradient: -12.4900042673\n",
      "98 w: 1.9983 Val:1.0369 Gradient: -11.669785687\n",
      "99 w: 1.9984 Val:0.9052 Gradient: -10.903430861\n",
      "100 w: 1.9986 Val:0.7902 Gradient: -10.1874025563\n",
      "101 w: 1.9986 Val:0.6898 Gradient: -9.51839583045\n",
      "102 w: 1.9987 Val:0.6022 Gradient: -8.89332277627\n",
      "103 w: 1.9988 Val:0.5257 Gradient: -8.30929826955\n",
      "104 w: 1.9989 Val:0.4589 Gradient: -7.76362665219\n",
      "105 w: 1.9990 Val:0.4006 Gradient: -7.25378928994\n",
      "106 w: 1.9990 Val:0.3497 Gradient: -6.77743294727\n",
      "107 w: 1.9991 Val:0.3053 Gradient: -6.33235892562\n",
      "108 w: 1.9992 Val:0.2665 Gradient: -5.91651291498\n",
      "109 w: 1.9992 Val:0.2327 Gradient: -5.52797551185\n",
      "110 w: 1.9993 Val:0.2031 Gradient: -5.16495335999\n",
      "111 w: 1.9993 Val:0.1773 Gradient: -4.82577087284\n",
      "112 w: 1.9994 Val:0.1548 Gradient: -4.50886249962\n",
      "113 w: 1.9994 Val:0.1351 Gradient: -4.21276549927\n",
      "114 w: 1.9994 Val:0.1180 Gradient: -3.93611318893\n",
      "115 w: 1.9995 Val:0.1030 Gradient: -3.67762863581\n",
      "116 w: 1.9995 Val:0.0899 Gradient: -3.4361187633\n",
      "117 w: 1.9995 Val:0.0785 Gradient: -3.21046884411\n",
      "118 w: 1.9996 Val:0.0685 Gradient: -2.99963735512\n",
      "119 w: 1.9996 Val:0.0598 Gradient: -2.80265117001\n",
      "120 w: 1.9996 Val:0.0522 Gradient: -2.61860106767\n",
      "121 w: 1.9997 Val:0.0456 Gradient: -2.44663753556\n",
      "122 w: 1.9997 Val:0.0398 Gradient: -2.2859668486\n",
      "123 w: 1.9997 Val:0.0347 Gradient: -2.13584740565\n",
      "124 w: 1.9997 Val:0.0303 Gradient: -1.99558630652\n",
      "125 w: 1.9997 Val:0.0265 Gradient: -1.86453615377\n",
      "126 w: 1.9998 Val:0.0231 Gradient: -1.74209206456\n",
      "127 w: 1.9998 Val:0.0202 Gradient: -1.62768887868\n",
      "128 w: 1.9998 Val:0.0176 Gradient: -1.52079855001\n",
      "129 w: 1.9998 Val:0.0154 Gradient: -1.42092770923\n",
      "130 w: 1.9998 Val:0.0134 Gradient: -1.32761538657\n",
      "131 w: 1.9998 Val:0.0117 Gradient: -1.24043088413\n",
      "132 w: 1.9998 Val:0.0102 Gradient: -1.15897178797\n",
      "133 w: 1.9998 Val:0.0089 Gradient: -1.08286211066\n",
      "134 w: 1.9999 Val:0.0078 Gradient: -1.01175055585\n",
      "135 w: 1.9999 Val:0.0068 Gradient: -0.945308896847\n",
      "136 w: 1.9999 Val:0.0059 Gradient: -0.883230461591\n",
      "137 w: 1.9999 Val:0.0052 Gradient: -0.825228717179\n",
      "138 w: 1.9999 Val:0.0045 Gradient: -0.771035947321\n",
      "139 w: 1.9999 Val:0.0040 Gradient: -0.720402016661\n",
      "140 w: 1.9999 Val:0.0034 Gradient: -0.673093216227\n",
      "141 w: 1.9999 Val:0.0030 Gradient: -0.628891184717\n",
      "142 w: 1.9999 Val:0.0026 Gradient: -0.587591900617\n",
      "143 w: 1.9999 Val:0.0023 Gradient: -0.549004740504\n",
      "144 w: 1.9999 Val:0.0020 Gradient: -0.512951599194\n",
      "145 w: 1.9999 Val:0.0017 Gradient: -0.479266067675\n",
      "146 w: 1.9999 Val:0.0015 Gradient: -0.44779266501\n",
      "147 w: 1.9999 Val:0.0013 Gradient: -0.418386120699\n",
      "148 w: 1.9999 Val:0.0012 Gradient: -0.390910704152\n",
      "149 w: 1.9999 Val:0.0010 Gradient: -0.36523959821\n",
      "150 w: 2.0000 Val:0.0009 Gradient: -0.341254313795\n",
      "151 w: 2.0000 Val:0.0008 Gradient: -0.318844143009\n",
      "152 w: 2.0000 Val:0.0007 Gradient: -0.297905648139\n",
      "153 w: 2.0000 Val:0.0006 Gradient: -0.278342184226\n",
      "154 w: 2.0000 Val:0.0005 Gradient: -0.260063452987\n",
      "155 w: 2.0000 Val:0.0004 Gradient: -0.242985086029\n",
      "156 w: 2.0000 Val:0.0004 Gradient: -0.227028255429\n",
      "157 w: 2.0000 Val:0.0003 Gradient: -0.212119309895\n",
      "158 w: 2.0000 Val:0.0003 Gradient: -0.198189434814\n",
      "159 w: 2.0000 Val:0.0003 Gradient: -0.185174334629\n",
      "160 w: 2.0000 Val:0.0002 Gradient: -0.173013936075\n",
      "161 w: 2.0000 Val:0.0002 Gradient: -0.161652110893\n",
      "162 w: 2.0000 Val:0.0002 Gradient: -0.15103641677\n",
      "163 w: 2.0000 Val:0.0002 Gradient: -0.141117855281\n",
      "164 w: 2.0000 Val:0.0001 Gradient: -0.131850645724\n",
      "165 w: 2.0000 Val:0.0001 Gradient: -0.123192013819\n",
      "166 w: 2.0000 Val:0.0001 Gradient: -0.115101994272\n",
      "167 w: 2.0000 Val:0.0001 Gradient: -0.107543246308\n",
      "168 w: 2.0000 Val:0.0001 Gradient: -0.100480881323\n",
      "169 w: 2.0000 Val:0.0001 Gradient: -0.0938823018464\n",
      "170 w: 2.0000 Val:0.0001 Gradient: -0.0877170510841\n",
      "171 w: 2.0000 Val:0.0001 Gradient: -0.0819566723392\n",
      "172 w: 2.0000 Val:0.0000 Gradient: -0.0765745776668\n",
      "173 w: 2.0000 Val:0.0000 Gradient: -0.0715459251519\n",
      "174 w: 2.0000 Val:0.0000 Gradient: -0.0668475042466\n",
      "175 w: 2.0000 Val:0.0000 Gradient: -0.062457628643\n",
      "176 w: 2.0000 Val:0.0000 Gradient: -0.0583560361699\n",
      "177 w: 2.0000 Val:0.0000 Gradient: -0.0545237952754\n",
      "178 w: 2.0000 Val:0.0000 Gradient: -0.0509432176394\n",
      "179 w: 2.0000 Val:0.0000 Gradient: -0.0475977765366\n",
      "180 w: 2.0000 Val:0.0000 Gradient: -0.0444720305511\n",
      "181 w: 2.0000 Val:0.0000 Gradient: -0.041551552305\n",
      "182 w: 2.0000 Val:0.0000 Gradient: -0.0388228618647\n",
      "183 w: 2.0000 Val:0.0000 Gradient: -0.0362733645266\n",
      "184 w: 2.0000 Val:0.0000 Gradient: -0.0338912926777\n",
      "185 w: 2.0000 Val:0.0000 Gradient: -0.031665651487\n"
     ]
    },
    {
     "data": {
      "text/plain": [
       "1.9999954947208536"
      ]
     },
     "execution_count": 20,
     "metadata": {},
     "output_type": "execute_result"
    }
   ],
   "source": [
    "# Exercise: \n",
    "# 1. Consider a set of 100 data points and explain the behavior of the algorithm. \n",
    "# 2. How could we fix this behavior?\n",
    "\n",
    "x = range(100)\n",
    "y = [2*i for i in x]\n",
    "\n",
    "# f_target = Sum (y - wx)**2\n",
    "def target_f(x,y,w):\n",
    "    import numpy as np\n",
    "    return np.sum((np.array(y) - np.array(x) * w)**2.0)\n",
    "\n",
    "# gradient_f = Sum 2wx**2 - 2xy\n",
    "def gradient_f(x,y,w):\n",
    "    import numpy as np\n",
    "    g = np.sum(2*w*(np.array(x)**2) - 2*np.array(x)*np.array(y))\n",
    "    return g/len(x)\n",
    "\n",
    "def step(w,grad,alpha):\n",
    "    return w - alpha * grad\n",
    "\n",
    "def min_batch(target_f, gradient_f, x, y, toler = 1e-6):\n",
    "    import random\n",
    "    alphas = [100, 10, 1, 0.1, 0.001, 0.00001]\n",
    "    w = random.random()\n",
    "    val = target_f(x,y,w)\n",
    "    print \"First w:\", w, \"First Val:\", val, \"\\n\"\n",
    "    i = 0\n",
    "    while True:\n",
    "        i += 1\n",
    "        gradient = gradient_f(x,y,w)\n",
    "        next_ws = [step(w, gradient, alpha) for alpha in alphas]\n",
    "        next_vals = [target_f(x,y,w) for w in next_ws]\n",
    "        min_val = min(next_vals)\n",
    "        next_w = next_ws[next_vals.index(min_val)]   \n",
    "        next_val = target_f(x,y,next_w)\n",
    "        print i, \"w: {:4.4f}\".format(w), \"Val:{:4.4f}\".format(val), \"Gradient:\", gradient        \n",
    "        if (abs(val - next_val) < toler) or (i>200):\n",
    "            return w\n",
    "        else:\n",
    "            w, val = next_w, next_val\n",
    "            \n",
    "min_batch(target_f, gradient_f, x, y)"
   ]
  },
  {
   "cell_type": "markdown",
   "metadata": {},
   "source": [
    "This function evals the whole dataset $(\\mathbf{x}_i,y_i)$ at every step. \n",
    "\n",
    "If the dataset is large, this strategy is too costly. In this case we will use a strategy called **SGD** (*Stochastic Gradient Descend*).\n",
    "\n",
    "\n",
    "### Stochastic Gradient Descend\n",
    "\n",
    "When learning from data, the cost function is additive: it is computed by adding sample reconstruction errors. \n",
    "\n",
    "Then, we can compute the estimate the gradient (and move towards the minimum) by using only **one data sample** (or a small data sample).\n",
    "\n",
    "Thus, we will find the minimum by iterating this gradient estimation over the dataset.\n",
    "\n",
    "A full iteration over the dataset is called **epoch**. During an epoch, data must be used in a random order.\n",
    "\n",
    "If we apply this method we have some guarantees to find the minimum. "
   ]
  },
  {
   "cell_type": "code",
   "execution_count": 21,
   "metadata": {
    "collapsed": false
   },
   "outputs": [
    {
     "name": "stdout",
     "output_type": "stream",
     "text": [
      "8 16\n",
      "9 18\n",
      "2 4\n",
      "0 0\n",
      "5 10\n",
      "1 2\n",
      "6 12\n",
      "4 8\n",
      "3 6\n",
      "7 14\n"
     ]
    }
   ],
   "source": [
    "import numpy as np\n",
    "x = range(10)\n",
    "y = [2*i for i in x]\n",
    "data = zip(x,y)\n",
    "\n",
    "def in_random_order(data):\n",
    "    import random\n",
    "    indexes = [i for i,_ in enumerate(data)]\n",
    "    random.shuffle(indexes)\n",
    "    for i in indexes:\n",
    "        yield data[i]\n",
    "        \n",
    "for (x_i,y_i) in in_random_order(data):\n",
    "    print x_i,y_i "
   ]
  },
  {
   "cell_type": "code",
   "execution_count": 22,
   "metadata": {
    "collapsed": true
   },
   "outputs": [],
   "source": [
    "def gradient_f_SGD(x,y,w):\n",
    "    import numpy as np\n",
    "    return 2*w*(np.array(x)**2) - 2*np.array(x)*np.array(y)\n",
    "\n",
    "def SGD(target_f, gradient_f, x, y, alpha_0=0.01):\n",
    "    import numpy as np\n",
    "    import random\n",
    "    data = zip(x,y)\n",
    "    w = random.random()\n",
    "    alpha = alpha_0\n",
    "    min_w, min_val = float('inf'), float('inf')\n",
    "    iteration_no_increase = 0\n",
    "    while iteration_no_increase < 100:\n",
    "        val = sum(target_f(x_i, y_i, w) for x_i,y_i in data)\n",
    "        if val < min_val:\n",
    "            min_w, min_val = w, val\n",
    "            iteration_no_increase = 0\n",
    "            alpha = alpha_0\n",
    "        else:\n",
    "            iteration_no_increase += 1\n",
    "            alpha *= 0.9\n",
    "        for x_i, y_i in in_random_order(data):\n",
    "            gradient_i = gradient_f(x_i, y_i, w)\n",
    "            w = np.array(w) - (alpha *  np.array(gradient_i))\n",
    "    return min_w"
   ]
  },
  {
   "cell_type": "code",
   "execution_count": 23,
   "metadata": {
    "collapsed": false
   },
   "outputs": [
    {
     "name": "stdout",
     "output_type": "stream",
     "text": [
      "w: 2.0\n"
     ]
    }
   ],
   "source": [
    "print \"w:\", SGD(target_f, gradient_f_SGD, x, y, 0.01)"
   ]
  },
  {
   "cell_type": "markdown",
   "metadata": {},
   "source": [
    "## Exercise: Gradient Descent and Linear Regression\n",
    "\n",
    "The linear regression model assumes a linear relationship between data:\n",
    "\n",
    "$$ y_i = w_1 x_i + w_0 $$\n",
    "\n",
    "Let's generate a more realistic dataset (with noise), where $w_1 = 2$ and $w_0 = 0$:"
   ]
  },
  {
   "cell_type": "code",
   "execution_count": 24,
   "metadata": {
    "collapsed": false
   },
   "outputs": [
    {
     "data": {
      "image/png": "[encoded data removed]",
      "text/plain": [
       "<matplotlib.figure.Figure at 0x1178592d0>"
      ]
     },
     "metadata": {},
     "output_type": "display_data"
    }
   ],
   "source": [
    "import numpy as np\n",
    "x = np.random.uniform(0,1,20)\n",
    "\n",
    "def f(x): return x*2\n",
    "\n",
    "noise_variance =0.2\n",
    "noise = np.random.randn(x.shape[0])*noise_variance\n",
    "y = f(x) + noise\n",
    "\n",
    "plt.plot(x, y, 'o', label='y')\n",
    "plt.plot([0, 1], [f(0), f(1)], 'b-', label='f(x)')\n",
    "plt.xlabel('$x$', fontsize=15)\n",
    "plt.ylabel('$t$', fontsize=15)\n",
    "plt.ylim([0,2])\n",
    "plt.title('inputs (x) vs targets (y)')\n",
    "plt.grid()\n",
    "plt.legend(loc=2)\n",
    "plt.gcf().set_size_inches((10,6))\n",
    "plt.show()"
   ]
  },
  {
   "cell_type": "code",
   "execution_count": 25,
   "metadata": {
    "collapsed": false
   },
   "outputs": [
    {
     "data": {
      "image/png": "[encoded data removed]",
      "text/plain": [
       "<matplotlib.figure.Figure at 0x11821a8d0>"
      ]
     },
     "metadata": {},
     "output_type": "display_data"
    }
   ],
   "source": [
    "# Our model y = x * w\n",
    "def nn(x, w): return x * w\n",
    "\n",
    "# Our cost function\n",
    "def cost(y, t): return ((t - y)**2).sum()\n",
    "\n",
    "ws = np.linspace(0, 4, num=100)  \n",
    "cost_ws = np.vectorize(lambda w: cost(nn(x, w) , y))(ws)  \n",
    "\n",
    "# Ploting the cost function\n",
    "plt.plot(ws, cost_ws, 'r-')\n",
    "plt.xlabel('$w$', fontsize=15)\n",
    "plt.ylabel('Cost', fontsize=15)\n",
    "plt.title('Cost vs. $w$')\n",
    "plt.grid()\n",
    "plt.gcf().set_size_inches((10,6))\n",
    "plt.show()"
   ]
  },
  {
   "cell_type": "markdown",
   "metadata": {},
   "source": [
    "Complete the following code and look at the plot of the first gradient descent updates. Explore the behavior of the proposed learning rates."
   ]
  },
  {
   "cell_type": "code",
   "execution_count": 26,
   "metadata": {
    "collapsed": false
   },
   "outputs": [
    {
     "name": "stdout",
     "output_type": "stream",
     "text": [
      "w(0): 0.1000 \t cost: 26.9839\n",
      "w(1): 0.6835 \t cost: 12.7042\n",
      "w(2): 1.0789 \t cost: 6.1445\n",
      "w(3): 1.3470 \t cost: 3.1313\n",
      "w(4): 1.5286 \t cost: 1.7471\n",
      "w(5): 1.6518 \t cost: 1.1112\n",
      "w(6): 1.7352 \t cost: 0.8192\n",
      "w(7): 1.7918 \t cost: 0.6850\n",
      "w(8): 1.8301 \t cost: 0.6233\n",
      "w(9): 1.8561 \t cost: 0.5950\n",
      "w(10): 1.8737 \t cost: 0.5820\n",
      "w(11): 1.8856 \t cost: 0.5761\n",
      "w(12): 1.8937 \t cost: 0.5733\n",
      "w(13): 1.8992 \t cost: 0.5720\n",
      "w(14): 1.9029 \t cost: 0.5715\n",
      "w(15): 1.9054 \t cost: 0.5712\n",
      "w(16): 1.9071 \t cost: 0.5711\n",
      "w(17): 1.9083 \t cost: 0.5710\n",
      "w(18): 1.9091 \t cost: 0.5710\n",
      "w(19): 1.9096 \t cost: 0.5710\n",
      "w(20): 1.9100 \t cost: 0.5710\n"
     ]
    }
   ],
   "source": [
    "def gradient(w, x, y): \n",
    "    return 2 * x * (nn(x, w) - y)\n",
    "\n",
    "def step(w_k, x, y, learning_rate):\n",
    "    return learning_rate * gradient(w_k, x, y).sum()\n",
    "\n",
    "w = 0.1\n",
    "\n",
    "#learning_rate = 0.1\n",
    "learning_rate = 0.02\n",
    "#learning_rate = 0.001\n",
    "\n",
    "\n",
    "nb_of_iterations = 20  \n",
    "w_cost = [(w, cost(nn(x, w), y))] \n",
    "for i in range(nb_of_iterations):\n",
    "    dw = step(w, x, y, learning_rate)  \n",
    "    w = w - dw  \n",
    "    w_cost.append((w, cost(nn(x, w), y)))  \n",
    "    \n",
    "#   Here your code\n",
    "\n",
    "for i in range(0, len(w_cost)):\n",
    "    print('w({}): {:.4f} \\t cost: {:.4f}'.format(i, w_cost[i][0], w_cost[i][1]))"
   ]
  },
  {
   "cell_type": "code",
   "execution_count": 27,
   "metadata": {
    "collapsed": false
   },
   "outputs": [
    {
     "data": {
      "image/png": "[encoded data removed]",
      "text/plain": [
       "<matplotlib.figure.Figure at 0x11821a190>"
      ]
     },
     "metadata": {},
     "output_type": "display_data"
    }
   ],
   "source": [
    "# Plotting the first gradient descent updates\n",
    "plt.plot(ws, cost_ws, 'r-')  # Plot the error curve\n",
    "# Plot the updates\n",
    "for i in range(1, len(w_cost)-2):\n",
    "    w1, c1 = w_cost[i-1]\n",
    "    w2, c2 = w_cost[i]\n",
    "    plt.plot(w1, c1, 'bo')\n",
    "    plt.plot([w1, w2],[c1, c2], 'b-')\n",
    "    plt.text(w1, c1+0.5, '$w({})$'.format(i)) \n",
    "# Plot the last weight, axis, and show figure\n",
    "w1, c1 = w_cost[len(w_cost)-3]\n",
    "plt.plot(w1, c1, 'bo')\n",
    "plt.text(w1, c1+0.5, '$w({})$'.format(nb_of_iterations))  \n",
    "plt.xlabel('$w$', fontsize=15)\n",
    "plt.ylabel('$\\\\xi$', fontsize=15)\n",
    "plt.title('Gradient descent updates plotted on cost function')\n",
    "plt.grid()\n",
    "plt.gcf().set_size_inches((10,6))\n",
    "plt.show()"
   ]
  },
  {
   "cell_type": "code",
   "execution_count": 29,
   "metadata": {
    "collapsed": false
   },
   "outputs": [
    {
     "data": {
      "image/png": "[encoded data removed]",
      "text/plain": [
       "<matplotlib.figure.Figure at 0x1188ba350>"
      ]
     },
     "metadata": {},
     "output_type": "display_data"
    }
   ],
   "source": [
    "w = 0\n",
    "nb_of_iterations = 10  \n",
    "for i in range(nb_of_iterations):\n",
    "    dw = step(w, x, y, learning_rate)  \n",
    "    w = w - dw  \n",
    "    \n",
    "\n",
    "plt.plot(x, y, 'o', label='t')\n",
    "plt.plot([0, 1], [f(0), f(1)], 'b-', label='f(x)')\n",
    "plt.plot([0, 1], [0*w, 1*w], 'r-', label='fitted line')\n",
    "plt.xlabel('input x')\n",
    "plt.ylabel('target t')\n",
    "plt.ylim([0,2])\n",
    "plt.title('input vs. target')\n",
    "plt.grid()\n",
    "plt.legend(loc=2)\n",
    "plt.gcf().set_size_inches((10,6))\n",
    "plt.show()"
   ]
  },
  {
   "cell_type": "markdown",
   "metadata": {},
   "source": [
    "## Mini-batch Gradient Descent"
   ]
  },
  {
   "cell_type": "markdown",
   "metadata": {},
   "source": [
    "In code, general batch gradient descent looks something like this:\n",
    "\n",
    "```python\n",
    "nb_epochs = 100\n",
    "for i in range(nb_epochs):\n",
    "    grad = evaluate_gradient(target_f, data, w)\n",
    "    w = w - learning_rate * grad\n",
    "```\n",
    "\n",
    "For a pre-defined number of epochs, we first compute the gradient vector of the target function for the whole dataset w.r.t. our parameter vector. \n",
    "\n",
    "Stochastic gradient descent (SGD) in contrast performs a parameter update for each training example and label:\n",
    "\n",
    "```python\n",
    "nb_epochs = 100\n",
    "for i in range(nb_epochs):\n",
    "    np.random.shuffle(data)\n",
    "    for example in data:\n",
    "        grad = evaluate_gradient(target_f, example, w)\n",
    "        w = w - learning_rate * grad\n",
    "```\n",
    "\n",
    "Mini-batch gradient descent finally takes the best of both worlds and performs an update for every mini-batch of $n$ training examples:\n",
    "\n",
    "```python\n",
    "nb_epochs = 100\n",
    "for i in range(nb_epochs):\n",
    "  np.random.shuffle(data)\n",
    "  for batch in get_batches(data, batch_size=50):\n",
    "    grad = evaluate_gradient(target_f, batch, w)\n",
    "    w = w - learning_rate * grad\n",
    "```\n",
    "\n",
    "Minibatch SGD has the advantage that it works with a slightly less noisy estimate of the gradient. However, as the minibatch size increases, the number of updates done per computation done decreases (eventually it becomes very inefficient, like batch gradient descent). \n",
    "\n",
    "There is an optimal trade-off (in terms of computational efficiency) that may vary depending on the data distribution and the particulars of the class of function considered, as well as how computations are implemented."
   ]
  },
  {
   "cell_type": "markdown",
   "metadata": {},
   "source": [
    "## Loss Funtions\n",
    "\n",
    "Loss functions $L(y, f(\\mathbf{x})) = \\sum_i \\ell(y_i, f(\\mathbf{x_i}))$ represent the price paid for inaccuracy of predictions in classification/regression problems.\n",
    "\n",
    "In classification this function is often the **zero-one loss**, that is, $ \\ell(y_i, f(\\mathbf{x_i}))$ is zero when $y_i = f(\\mathbf{x}_i)$ and one otherwise.\n",
    "\n",
    "This function is discontinuous with flat regions and is thus extremely hard to optimize using gradient-based methods. For this reason it is usual to consider a proxy to the loss called a *surrogate loss function*. For computational reasons this is usually convex function. Here we have som eexamples:\n",
    "\n",
    "### Square / Euclidean Loss (Linear Regression)\n",
    "\n",
    "In regression problems, the most common loss function is the square loss function:\n",
    "\n",
    "$$ L(y, f(\\mathbf{x})) = \\sum_i (y_i - f(\\mathbf{x}_i))^2  $$\n",
    "\n",
    "\n",
    "The square loss function can be re-written and utilized for classification:\n",
    "\n",
    "$$ L(y, f(\\mathbf{x})) = \\sum_i (1 - y_i f(\\mathbf{x}_i))^2  $$\n",
    "\n",
    "\n",
    "\n",
    "### Hinge / Margin Loss Suport Vector Machines)\n",
    "\n",
    "The hinge loss function is defined as:\n",
    "\n",
    "$$ L(y, f(\\mathbf{x})) = \\sum_i \\mbox{max}(0, 1 - y_i f(\\mathbf{x}_i))  $$\n",
    "\n",
    "The hinge loss provides a relatively tight, convex upper bound on the 0–1 Loss.\n",
    "\n",
    "\n",
    "<img src=\"images/loss_functions.png\">\n",
    "\n",
    "\n",
    "### Logistic Loss (Logistic Regression)\n",
    "\n",
    "This function displays a similar convergence rate to the hinge loss function, and since it is continuous, gradient descent methods can be utilized. \n",
    "\n",
    "$$ L(y, f(\\mathbf{x})) = log(1 + exp(-y_i f(\\mathbf{x}_i))) $$"
   ]
  },
  {
   "cell_type": "markdown",
   "metadata": {},
   "source": [
    "### Sigmoid Cross-Entropy Loss (Softmax classifier)\n",
    "\n",
    "Cross-Entropy is a loss function that is very used for training multiclass problems. We'll focus on models that assume that classes are mutually exclusive. In this case, our labels have this form $\\mathbf{y}_i =(1.0,0.0,0.0)$. If our model predicts a different distribution, say  $ f(\\mathbf{x}_i)=(0.4,0.1,0.5)$, then we'd like to nudge the parameters so that $f(\\mathbf{x}_i)$ gets closer to $\\mathbf{y}_i$.\n",
    "\n",
    "C.Shannon showeed that if you want to send a series of messages composed of symbols from an alphabet with distribution $y$ ($y_j$  is the probability of the  $j$-th symbol), then to use the smallest number of bits on average, you should assign  $\\log(\\frac{1}{y_j})$  bits to the  $j$-th symbol. \n",
    "\n",
    "The optimal number of bits is known as **entropy**:\n",
    "\n",
    "$$ H(\\mathbf{y}) = \\sum_j y_j \\log\\frac{1}{y_j} = - \\sum_j y_j \\log y_j$$\n",
    "\n",
    "**Cross entropy** is the number of bits we'll need if we encode symbols by using a wrong distribution $\\hat y$:\n",
    "\n",
    "$$ H(y, \\hat y) =   - \\sum_j y_j \\log \\hat y_j $$ \n",
    "\n",
    "In our case, the real distribution is $\\mathbf{y}$ and the \"wrong\" one is $f(\\mathbf{x}_i)$. So, minimizing **cross entropy** with respect our model parameters will result in the model that best approximates our labels if considered as a probabilistic distribution. \n",
    "\n",
    "Cross entropy is used in combination with **Softmax** classifier. In order to classify $\\mathbf{x}_i$ we could take the index corresponding to the max value of $f(\\mathbf{x}_i)$, but Softmax gives a slightly more intuitive output (normalized class probabilities) and also has a probabilistic interpretation:\n",
    "\n",
    "$$ P(\\mathbf{y}_i = j \\mid \\mathbf{x_i}) = - log \\left( \\frac{e^{f_j(\\mathbf{x_i})}}{\\sum_k e^{f_k(\\mathbf{x_i})} } \\right) $$\n",
    "\n",
    "where $f_k$ is a linear classifier. \n"
   ]
  },
  {
   "cell_type": "markdown",
   "metadata": {},
   "source": [
    "## Advanced gradient descend\n",
    "\n",
    "\n",
    "### Momentum\n",
    "\n",
    "SGD has trouble navigating ravines, i.e. areas where the surface curves much more steeply in one dimension than in another, which are common around local optima. In these scenarios, SGD oscillates across the slopes of the ravine while only making hesitant progress along the bottom towards the local optimum.\n",
    "\n",
    "<img src=\"images/ridge2.png\">\n",
    "\n",
    "Momentum is a method that helps accelerate SGD in the relevant direction and dampens oscillations. It does this by adding a fraction of the update vector of the past time step to the current update vector:\n",
    "\n",
    "$$ v_t = m v_{t-1} + \\alpha \\nabla_w f $$\n",
    "$$ w = w - v_t    $$\n",
    "\n",
    "The momentum $m$ is commonly set to $0.9$.\n",
    "\n",
    "### Nesterov\n",
    "\n",
    "However, a ball that rolls down a hill, blindly following the slope, is highly unsatisfactory. We'd like to have a smarter ball, a ball that has a notion of where it is going so that it knows to slow down before the hill slopes up again.\n",
    "\n",
    "Nesterov accelerated gradient (NAG) is a way to give our momentum term this kind of prescience. We know that we will use our momentum term $m v_{t-1}$ to move the parameters $w$. Computing \n",
    "$w - m v_{t-1}$ thus gives us an approximation of the next position of the parameters (the gradient is missing for the full update), a rough idea where our parameters are going to be. We can now effectively look ahead by calculating the gradient not w.r.t. to our current parameters $w$ but w.r.t. the approximate future position of our parameters:\n",
    "\n",
    "$$ w_{new} = w + m v_{t-1} $$\n",
    "$$ v_t = m v_{t-1} + \\alpha \\nabla_{w_{new}} f $$\n",
    "$$ w = w - v_t $$\n",
    "\n",
    "### Adagrad\n",
    "\n",
    "All previous approaches manipulated the learning rate globally and equally for all parameters. Tuning the learning rates is an expensive process, so much work has gone into devising methods that can adaptively tune the learning rates, and even do so per parameter. \n",
    "\n",
    "Adagrad is an algorithm for gradient-based optimization that does just this: It adapts the learning rate to the parameters, performing larger updates for infrequent and smaller updates for frequent parameters.\n",
    "\n",
    "$$ c = c + (\\nabla_w f)^2 $$\n",
    "$$ w = w - \\frac{\\alpha}{\\sqrt{c}} $$ \n",
    "\n",
    "\n",
    "### RMProp\n",
    "\n",
    "RMSProp update adjusts the Adagrad method in a very simple way in an attempt to reduce its aggressive, monotonically decreasing learning rate. In particular, it uses a moving average of squared gradients instead, giving:\n",
    "\n",
    "$$ c = \\beta c + (1 - \\beta)(\\nabla_w f)^2 $$\n",
    "$$ w = w - \\frac{\\alpha}{\\sqrt{c}} $$ \n",
    "\n",
    "where $\\beta$ is a decay rate that controls the size of the moving average.\n",
    "\n",
    "\n",
    "<img src=\"images/g1.gif\">\n",
    "\n",
    "(Image credit: Alec Radford) \n",
    "\n",
    "<img src=\"images/g2.gif\">\n",
    "\n",
    "(Image credit: Alec Radford) \n"
   ]
  }
 ],
 "metadata": {
  "kernelspec": {
   "display_name": "Python 2",
   "language": "python",
   "name": "python2"
  },
  "language_info": {
   "codemirror_mode": {
    "name": "ipython",
    "version": 2
   },
   "file_extension": ".py",
   "mimetype": "text/x-python",
   "name": "python",
   "nbconvert_exporter": "python",
   "pygments_lexer": "ipython2",
   "version": "2.7.11"
  }
 },
 "nbformat": 4,
 "nbformat_minor": 0
}
