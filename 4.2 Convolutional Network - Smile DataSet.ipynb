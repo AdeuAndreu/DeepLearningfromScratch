{
 "cells": [
  {
   "cell_type": "markdown",
   "metadata": {},
   "source": [
    "# Smile Detection using Convolutional Neural Networks"
   ]
  },
  {
   "cell_type": "code",
   "execution_count": 1,
   "metadata": {
    "collapsed": true
   },
   "outputs": [],
   "source": [
    "# Inspired work from Kyle McDonald\n",
    "# Project: https://github.com/kylemcdonald/SmileCNN"
   ]
  },
  {
   "cell_type": "code",
   "execution_count": 8,
   "metadata": {
    "collapsed": false
   },
   "outputs": [
    {
     "name": "stdout",
     "output_type": "stream",
     "text": [
      "--2016-06-14 12:47:16--  https://github.com/hromi/SMILEsmileD/archive/master.zip\n",
      "Resolent github.com (github.com)... 192.30.252.129\n",
      "S'està connectant a github.com (github.com)|192.30.252.129|:443... conectat.\n",
      "HTTP: Petició enviada, esperant resposta... 302 Found\n",
      "Localització: https://codeload.github.com/hromi/SMILEsmileD/zip/master [el següent]\n",
      "--2016-06-14 12:47:16--  https://codeload.github.com/hromi/SMILEsmileD/zip/master\n",
      "Resolent codeload.github.com (codeload.github.com)... 192.30.253.121\n",
      "S'està connectant a codeload.github.com (codeload.github.com)|192.30.253.121|:443... conectat.\n",
      "HTTP: Petició enviada, esperant resposta... 200 OK\n",
      "Longitud: 41620712 (40M) [application/zip]\n",
      "S'està desant a: «master.zip»\n",
      "\n",
      "100%[======================================>] 41.620.712  5,06MB/s   en 16s    \n",
      "\n",
      "2016-06-14 12:47:33 (2,45 MB/s) - s'ha desat «master.zip» [41620712/41620712]\n",
      "\n"
     ]
    }
   ],
   "source": [
    "#Download dataset\n",
    "!wget https://github.com/hromi/SMILEsmileD/archive/master.zip\n",
    "!unzip -q master.zip\n",
    "!rm master.zip"
   ]
  },
  {
   "cell_type": "code",
   "execution_count": 9,
   "metadata": {
    "collapsed": false
   },
   "outputs": [],
   "source": [
    "#util and imports\n",
    "import os\n",
    "import fnmatch\n",
    "from cStringIO import StringIO\n",
    "import numpy as np\n",
    "import PIL.Image\n",
    "import IPython.display\n",
    "import shutil\n",
    "\n",
    "\n",
    "def list_all_files(directory, extensions=None):\n",
    "    for root, dirnames, filenames in os.walk(directory):\n",
    "        for filename in filenames:\n",
    "            base, ext = os.path.splitext(filename)\n",
    "            joined = os.path.join(root, filename)\n",
    "            if extensions is None or ext.lower() in extensions:\n",
    "                yield joined\n",
    "\n",
    "\n",
    "def show_array(a, fmt='png', filename=None):\n",
    "    a = np.uint8(np.clip(a, 0, 255))\n",
    "    image_data = StringIO()\n",
    "    PIL.Image.fromarray(a).save(image_data, fmt)\n",
    "    if filename is None:\n",
    "        IPython.display.display(IPython.display.Image(data=image_data.getvalue()))\n",
    "    else:\n",
    "        with open(filename, 'w') as f:\n",
    "            image_data.seek(0)\n",
    "            shutil.copyfileobj(image_data, f)\n",
    "\n",
    "def find_rectangle(n, max_ratio=2):\n",
    "    sides = []\n",
    "    square = int(math.sqrt(n))\n",
    "    for w in range(square, max_ratio * square):\n",
    "        h = n / w\n",
    "        used = w * h\n",
    "        leftover = n - used\n",
    "        sides.append((leftover, (w, h)))\n",
    "    return sorted(sides)[0][1]\n",
    "\n",
    "# should work for 1d and 2d images, assumes images are square but can be overriden\n",
    "def make_mosaic(images, n=None, nx=None, ny=None, w=None, h=None):\n",
    "    if n is None and nx is None and ny is None:\n",
    "        nx, ny = find_rectangle(len(images))\n",
    "    else:\n",
    "        nx = n if nx is None else nx\n",
    "        ny = n if ny is None else ny\n",
    "    images = np.array(images)\n",
    "    if images.ndim == 2:\n",
    "        side = int(np.sqrt(len(images[0])))\n",
    "        h = side if h is None else h\n",
    "        w = side if w is None else w\n",
    "        images = images.reshape(-1, h, w)\n",
    "    else:\n",
    "        h = images.shape[1]\n",
    "        w = images.shape[2]\n",
    "    image_gen = iter(images)\n",
    "    mosaic = np.empty((h*ny, w*nx))\n",
    "    for i in range(ny):\n",
    "        ia = (i)*h\n",
    "        ib = (i+1)*h\n",
    "        for j in range(nx):\n",
    "            ja = j*w\n",
    "            jb = (j+1)*w\n",
    "            mosaic[ia:ib, ja:jb] = next(image_gen)\n",
    "    return mosaic"
   ]
  },
  {
   "cell_type": "code",
   "execution_count": 10,
   "metadata": {
    "collapsed": false
   },
   "outputs": [
    {
     "name": "stdout",
     "output_type": "stream",
     "text": [
      "loaded 9475 negative examples\n",
      "loaded 3690 positive examples\n"
     ]
    }
   ],
   "source": [
    "negative_paths = list(list_all_files('SMILEsmileD-master/SMILEs/negatives/negatives7/', ['.jpg']))\n",
    "print 'loaded', len(negative_paths), 'negative examples'\n",
    "positive_paths = list(list_all_files('SMILEsmileD-master/SMILEs/positives/positives7/', ['.jpg']))\n",
    "print 'loaded', len(positive_paths), 'positive examples'\n",
    "examples = [(path, 0) for path in negative_paths] + [(path, 1) for path in positive_paths]"
   ]
  },
  {
   "cell_type": "code",
   "execution_count": 11,
   "metadata": {
    "collapsed": false
   },
   "outputs": [
    {
     "name": "stdout",
     "output_type": "stream",
     "text": [
      "float32 0.0 1.0 (13165, 1024)\n"
     ]
    }
   ],
   "source": [
    "import numpy as np\n",
    "from skimage.measure import block_reduce\n",
    "from skimage.io import imread\n",
    "\n",
    "def examples_to_dataset(examples, block_size=2):\n",
    "    X = []\n",
    "    y = []\n",
    "    for path, label in examples:\n",
    "        img = imread(path, as_grey=True)\n",
    "        img = block_reduce(img, block_size=(block_size, block_size), func=np.mean)\n",
    "        img = img.reshape((32*32))\n",
    "        X.append(img)\n",
    "        if(label==0):\n",
    "            y.append((1,0))\n",
    "        else:\n",
    "            y.append((0,1))\n",
    "    return np.asarray(X), np.asarray(y)\n",
    "\n",
    "X, Y = examples_to_dataset(examples)\n",
    "X = np.asarray(X,dtype=np.float32)/ 255.\n",
    "Y = np.asarray(Y,dtype=np.int32)\n",
    "print X.dtype, X.min(), X.max(), X.shape"
   ]
  },
  {
   "cell_type": "code",
   "execution_count": 12,
   "metadata": {
    "collapsed": false
   },
   "outputs": [],
   "source": [
    "# Split data into train and test set\n",
    "from sklearn.cross_validation import train_test_split\n",
    "X_train, X_test, y_train, y_test = train_test_split(X, Y, test_size=0.1, random_state=2)"
   ]
  },
  {
   "cell_type": "code",
   "execution_count": 13,
   "metadata": {
    "collapsed": false
   },
   "outputs": [
    {
     "data": {
      "image/jpeg": "[encoded data removed]",
      "text/plain": [
       "<IPython.core.display.Image object>"
      ]
     },
     "metadata": {},
     "output_type": "display_data"
    }
   ],
   "source": [
    "#show Negative images\n",
    "show_array(255 * make_mosaic(X[:len(negative_paths)], 8), fmt='jpeg') # negative at the beginning"
   ]
  },
  {
   "cell_type": "code",
   "execution_count": 14,
   "metadata": {
    "collapsed": false
   },
   "outputs": [
    {
     "data": {
      "image/jpeg": "[encoded data removed]",
      "text/plain": [
       "<IPython.core.display.Image object>"
      ]
     },
     "metadata": {},
     "output_type": "display_data"
    }
   ],
   "source": [
    "#show Positive images\n",
    "show_array(255 * make_mosaic(X[-len(positive_paths):], 8), fmt='jpeg') # positive at the end"
   ]
  },
  {
   "cell_type": "code",
   "execution_count": 15,
   "metadata": {
    "collapsed": false
   },
   "outputs": [],
   "source": [
    "import tensorflow as tf"
   ]
  },
  {
   "cell_type": "code",
   "execution_count": 16,
   "metadata": {
    "collapsed": false
   },
   "outputs": [],
   "source": [
    "# Network Parameters\n",
    "n_input = X.shape[1]\n",
    "n_classes = 2 # (Smile vs. No Smile)\n",
    "dropout = 0.75 # Dropout, probability to keep units"
   ]
  },
  {
   "cell_type": "code",
   "execution_count": 17,
   "metadata": {
    "collapsed": true
   },
   "outputs": [],
   "source": [
    "# Parameters\n",
    "learning_rate = 0.001\n",
    "training_iters = 8820\n",
    "batch_size = 128\n",
    "display_step = 10\n",
    "training_epochs=200"
   ]
  },
  {
   "cell_type": "code",
   "execution_count": 18,
   "metadata": {
    "collapsed": false
   },
   "outputs": [],
   "source": [
    "# tf Graph input\n",
    "x = tf.placeholder(tf.float32, [None, n_input])\n",
    "y = tf.placeholder(tf.float32, [None, n_classes])\n",
    "keep_prob = tf.placeholder(tf.float32) #dropout (keep probability)"
   ]
  },
  {
   "cell_type": "code",
   "execution_count": 19,
   "metadata": {
    "collapsed": true
   },
   "outputs": [],
   "source": [
    "# Create model\n",
    "def conv2d(img, w, b):\n",
    "    return tf.nn.relu(tf.nn.bias_add(tf.nn.conv2d(img, w, strides=[1, 1, 1, 1], \n",
    "                                                  padding='SAME'),b))\n",
    "\n",
    "def max_pool(img, k):\n",
    "    return tf.nn.max_pool(img, ksize=[1, k, k, 1], strides=[1, k, k, 1], padding='SAME')\n",
    "\n",
    "def conv_net(_X, _weights, _biases, _dropout):\n",
    "    # Reshape input picture\n",
    "    _X = tf.reshape(_X, shape=[-1, 32, 32, 1])\n",
    "\n",
    "    # Convolution Layer\n",
    "    conv1 = conv2d(_X, _weights['wc1'], _biases['bc1'])\n",
    "    \n",
    "    # Convolution Layer\n",
    "    conv2 = conv2d(conv1, _weights['wc2'], _biases['bc2'])\n",
    "    # Max Pooling (down-sampling)\n",
    "    conv2 = max_pool(conv2, k=2)\n",
    "    # Apply Dropout\n",
    "    conv2 = tf.nn.dropout(conv2, _dropout)\n",
    "\n",
    "    # Fully connected layer\n",
    "    # Reshape conv2 output to fit dense layer input\n",
    "    dense1 = tf.reshape(conv2, [-1, _weights['wd1'].get_shape().as_list()[0]]) \n",
    "    # Relu activation\n",
    "    dense1 = tf.nn.relu(tf.add(tf.matmul(dense1, _weights['wd1']), _biases['bd1']))\n",
    "    # Apply Dropout\n",
    "    dense1 = tf.nn.dropout(dense1, _dropout) # Apply Dropout\n",
    "\n",
    "    # Output, class prediction\n",
    "    out = tf.add(tf.matmul(dense1, _weights['out']), _biases['out'])\n",
    "    return out"
   ]
  },
  {
   "cell_type": "code",
   "execution_count": 20,
   "metadata": {
    "collapsed": false
   },
   "outputs": [],
   "source": [
    "# Store layers weight & bias\n",
    "weights = {\n",
    "    # 5x5 conv, 1 input, 32 outputs\n",
    "    'wc1': tf.Variable(tf.random_normal([5, 5, 1, 9],stddev=0.01)), \n",
    "    # 5x5 conv, 32 inputs, 32 outputs\n",
    "    'wc2': tf.Variable(tf.truncated_normal([3, 3, 9, 9],stddev=0.01)), \n",
    "    # fully connected, 16*16*32 inputs, 1024 outputs\n",
    "    'wd1': tf.Variable(tf.truncated_normal([16*16*9, 16],stddev=0.01)), \n",
    "    # 128 inputs, 2 outputs (class prediction)\n",
    "    'out': tf.Variable(tf.truncated_normal([16, n_classes])) \n",
    "}\n",
    "\n",
    "biases = {\n",
    "    'bc1': tf.Variable(tf.random_normal([9])),\n",
    "    'bc2': tf.Variable(tf.random_normal([9])),\n",
    "    'bd1': tf.Variable(tf.random_normal([16])),\n",
    "    'out': tf.Variable(tf.random_normal([n_classes]))\n",
    "}"
   ]
  },
  {
   "cell_type": "code",
   "execution_count": 21,
   "metadata": {
    "collapsed": false
   },
   "outputs": [],
   "source": [
    "# Construct model\n",
    "pred = conv_net(x, weights, biases, keep_prob)"
   ]
  },
  {
   "cell_type": "code",
   "execution_count": 22,
   "metadata": {
    "collapsed": false
   },
   "outputs": [],
   "source": [
    "# Define loss and optimizer\n",
    "cost = tf.reduce_mean(tf.nn.softmax_cross_entropy_with_logits(pred, y))\n",
    "cost = tf.reduce_mean(tf.nn.weighted_cross_entropy_with_logits(pred, y,pos_weight=10))\n",
    "#optimizer = tf.train.AdamOptimizer(learning_rate=learning_rate).minimize(cost)\n",
    "optimizer = tf.train.AdamOptimizer(learning_rate=learning_rate).minimize(cost)"
   ]
  },
  {
   "cell_type": "code",
   "execution_count": 23,
   "metadata": {
    "collapsed": true
   },
   "outputs": [],
   "source": [
    "# Evaluate model\n",
    "correct_pred = tf.equal(tf.argmax(pred,1), tf.argmax(y,1))\n",
    "accuracy = tf.reduce_mean(tf.cast(correct_pred, tf.float32))"
   ]
  },
  {
   "cell_type": "code",
   "execution_count": 24,
   "metadata": {
    "collapsed": true
   },
   "outputs": [],
   "source": [
    "# Initializing the variables\n",
    "init = tf.initialize_all_variables()"
   ]
  },
  {
   "cell_type": "code",
   "execution_count": 25,
   "metadata": {
    "collapsed": false,
    "scrolled": false
   },
   "outputs": [
    {
     "name": "stdout",
     "output_type": "stream",
     "text": [
      "Epoch 0, Minibatch Loss= 1.513630, Training Accuracy= 0.71094\n"
     ]
    },
    {
     "data": {
      "text/plain": [
       "<matplotlib.figure.Figure at 0x7fde485fc250>"
      ]
     },
     "metadata": {},
     "output_type": "display_data"
    },
    {
     "data": {
      "image/png": "[encoded data removed]",
      "text/plain": [
       "<matplotlib.figure.Figure at 0x7fde5026d850>"
      ]
     },
     "metadata": {},
     "output_type": "display_data"
    },
    {
     "name": "stdout",
     "output_type": "stream",
     "text": [
      "Epoch 1, Minibatch Loss= 1.559660, Training Accuracy= 0.71094\n",
      "Epoch 2, Minibatch Loss= 1.483717, Training Accuracy= 0.71094\n",
      "Epoch 3, Minibatch Loss= 1.478282, Training Accuracy= 0.71094\n",
      "Epoch 4, Minibatch Loss= 1.406869, Training Accuracy= 0.71094\n",
      "Epoch 5, Minibatch Loss= 1.324301, Training Accuracy= 0.77344\n",
      "Epoch 6, Minibatch Loss= 1.254013, Training Accuracy= 0.79688\n",
      "Epoch 7, Minibatch Loss= 1.215106, Training Accuracy= 0.81250\n",
      "Epoch 8, Minibatch Loss= 1.148481, Training Accuracy= 0.81250\n",
      "Epoch 9, Minibatch Loss= 1.164232, Training Accuracy= 0.82031\n",
      "Epoch 10, Minibatch Loss= 1.103023, Training Accuracy= 0.82812\n",
      "Epoch 11, Minibatch Loss= 1.093677, Training Accuracy= 0.82812\n",
      "Epoch 12, Minibatch Loss= 1.070979, Training Accuracy= 0.82031\n",
      "Epoch 13, Minibatch Loss= 1.045373, Training Accuracy= 0.84375\n",
      "Epoch 14, Minibatch Loss= 1.064869, Training Accuracy= 0.82812\n",
      "Epoch 15, Minibatch Loss= 1.038268, Training Accuracy= 0.84375\n",
      "Epoch 16, Minibatch Loss= 1.017904, Training Accuracy= 0.84375\n",
      "Epoch 17, Minibatch Loss= 1.034213, Training Accuracy= 0.85156\n",
      "Epoch 18, Minibatch Loss= 1.036623, Training Accuracy= 0.85156\n",
      "Epoch 19, Minibatch Loss= 1.029039, Training Accuracy= 0.85156\n",
      "Epoch 20, Minibatch Loss= 1.022332, Training Accuracy= 0.84375\n",
      "Epoch 21, Minibatch Loss= 0.975187, Training Accuracy= 0.86719\n",
      "Epoch 22, Minibatch Loss= 0.987338, Training Accuracy= 0.86719\n",
      "Epoch 23, Minibatch Loss= 0.946468, Training Accuracy= 0.86719\n",
      "Epoch 24, Minibatch Loss= 0.962665, Training Accuracy= 0.85938\n",
      "Epoch 25, Minibatch Loss= 0.962689, Training Accuracy= 0.85938\n",
      "Epoch 26, Minibatch Loss= 0.985980, Training Accuracy= 0.86719\n",
      "Epoch 27, Minibatch Loss= 0.956583, Training Accuracy= 0.85938\n",
      "Epoch 28, Minibatch Loss= 0.939463, Training Accuracy= 0.85938\n",
      "Epoch 29, Minibatch Loss= 0.952086, Training Accuracy= 0.86719\n",
      "Epoch 30, Minibatch Loss= 0.936970, Training Accuracy= 0.85156\n",
      "Epoch 31, Minibatch Loss= 0.939259, Training Accuracy= 0.85938\n",
      "Epoch 32, Minibatch Loss= 0.939764, Training Accuracy= 0.86719\n",
      "Epoch 33, Minibatch Loss= 0.923304, Training Accuracy= 0.85156\n",
      "Epoch 34, Minibatch Loss= 0.929501, Training Accuracy= 0.85156\n",
      "Epoch 35, Minibatch Loss= 0.952402, Training Accuracy= 0.86719\n",
      "Epoch 36, Minibatch Loss= 0.933949, Training Accuracy= 0.86719\n",
      "Epoch 37, Minibatch Loss= 0.931482, Training Accuracy= 0.85938\n",
      "Epoch 38, Minibatch Loss= 0.919585, Training Accuracy= 0.85938\n",
      "Epoch 39, Minibatch Loss= 0.932978, Training Accuracy= 0.85156\n",
      "Epoch 40, Minibatch Loss= 0.924721, Training Accuracy= 0.85938\n",
      "Epoch 41, Minibatch Loss= 0.913138, Training Accuracy= 0.85938\n",
      "Epoch 42, Minibatch Loss= 0.947155, Training Accuracy= 0.85938\n",
      "Epoch 43, Minibatch Loss= 0.927368, Training Accuracy= 0.86719\n",
      "Epoch 44, Minibatch Loss= 0.897747, Training Accuracy= 0.85938\n",
      "Epoch 45, Minibatch Loss= 0.964828, Training Accuracy= 0.86719\n",
      "Epoch 46, Minibatch Loss= 0.957048, Training Accuracy= 0.86719\n",
      "Epoch 47, Minibatch Loss= 0.904384, Training Accuracy= 0.86719\n",
      "Epoch 48, Minibatch Loss= 0.893945, Training Accuracy= 0.87500\n",
      "Epoch 49, Minibatch Loss= 0.906844, Training Accuracy= 0.85938\n",
      "Epoch 50, Minibatch Loss= 0.900298, Training Accuracy= 0.87500\n"
     ]
    },
    {
     "data": {
      "text/plain": [
       "<matplotlib.figure.Figure at 0x7fde241ca550>"
      ]
     },
     "metadata": {},
     "output_type": "display_data"
    },
    {
     "data": {
      "image/png": "[encoded data removed]",
      "text/plain": [
       "<matplotlib.figure.Figure at 0x7fde24041050>"
      ]
     },
     "metadata": {},
     "output_type": "display_data"
    },
    {
     "name": "stdout",
     "output_type": "stream",
     "text": [
      "Epoch 51, Minibatch Loss= 0.907561, Training Accuracy= 0.86719\n",
      "Epoch 52, Minibatch Loss= 0.913714, Training Accuracy= 0.86719\n",
      "Epoch 53, Minibatch Loss= 0.895266, Training Accuracy= 0.86719\n",
      "Epoch 54, Minibatch Loss= 0.894722, Training Accuracy= 0.87500\n",
      "Epoch 55, Minibatch Loss= 0.879385, Training Accuracy= 0.86719\n",
      "Epoch 56, Minibatch Loss= 0.893341, Training Accuracy= 0.87500\n",
      "Epoch 57, Minibatch Loss= 0.870475, Training Accuracy= 0.87500\n",
      "Epoch 58, Minibatch Loss= 0.887642, Training Accuracy= 0.87500\n",
      "Epoch 59, Minibatch Loss= 0.865484, Training Accuracy= 0.87500\n",
      "Epoch 60, Minibatch Loss= 0.877098, Training Accuracy= 0.88281\n",
      "Epoch 61, Minibatch Loss= 0.850586, Training Accuracy= 0.87500\n",
      "Epoch 62, Minibatch Loss= 0.842274, Training Accuracy= 0.88281\n",
      "Epoch 63, Minibatch Loss= 0.840926, Training Accuracy= 0.86719\n",
      "Epoch 64, Minibatch Loss= 0.833015, Training Accuracy= 0.87500\n",
      "Epoch 65, Minibatch Loss= 0.851462, Training Accuracy= 0.85938\n",
      "Epoch 66, Minibatch Loss= 0.806686, Training Accuracy= 0.88281\n",
      "Epoch 67, Minibatch Loss= 0.806869, Training Accuracy= 0.89062\n",
      "Epoch 68, Minibatch Loss= 0.829385, Training Accuracy= 0.89062\n",
      "Epoch 69, Minibatch Loss= 0.819862, Training Accuracy= 0.89844\n",
      "Epoch 70, Minibatch Loss= 0.802242, Training Accuracy= 0.89844\n",
      "Epoch 71, Minibatch Loss= 0.804006, Training Accuracy= 0.89844\n",
      "Epoch 72, Minibatch Loss= 0.819782, Training Accuracy= 0.89844\n",
      "Epoch 73, Minibatch Loss= 0.786045, Training Accuracy= 0.89062\n",
      "Epoch 74, Minibatch Loss= 0.773679, Training Accuracy= 0.89844\n",
      "Epoch 75, Minibatch Loss= 0.759334, Training Accuracy= 0.89844\n",
      "Epoch 76, Minibatch Loss= 0.768403, Training Accuracy= 0.89844\n",
      "Epoch 77, Minibatch Loss= 0.738763, Training Accuracy= 0.87500\n",
      "Epoch 78, Minibatch Loss= 0.761024, Training Accuracy= 0.89062\n",
      "Epoch 79, Minibatch Loss= 0.747558, Training Accuracy= 0.88281\n",
      "Epoch 80, Minibatch Loss= 0.748092, Training Accuracy= 0.89844\n",
      "Epoch 81, Minibatch Loss= 0.733944, Training Accuracy= 0.89844\n",
      "Epoch 82, Minibatch Loss= 0.735272, Training Accuracy= 0.89844\n",
      "Epoch 83, Minibatch Loss= 0.725658, Training Accuracy= 0.89844\n",
      "Epoch 84, Minibatch Loss= 0.750622, Training Accuracy= 0.89844\n",
      "Epoch 85, Minibatch Loss= 0.754701, Training Accuracy= 0.89062\n",
      "Epoch 86, Minibatch Loss= 0.772534, Training Accuracy= 0.89062\n",
      "Epoch 87, Minibatch Loss= 0.723552, Training Accuracy= 0.89062\n",
      "Epoch 88, Minibatch Loss= 0.732880, Training Accuracy= 0.89062\n",
      "Epoch 89, Minibatch Loss= 0.734025, Training Accuracy= 0.89062\n",
      "Epoch 90, Minibatch Loss= 0.704486, Training Accuracy= 0.88281\n",
      "Epoch 91, Minibatch Loss= 0.752480, Training Accuracy= 0.89062\n",
      "Epoch 92, Minibatch Loss= 0.701305, Training Accuracy= 0.88281\n",
      "Epoch 93, Minibatch Loss= 0.688372, Training Accuracy= 0.88281\n",
      "Epoch 94, Minibatch Loss= 0.696790, Training Accuracy= 0.88281\n",
      "Epoch 95, Minibatch Loss= 0.670277, Training Accuracy= 0.88281\n",
      "Epoch 96, Minibatch Loss= 0.688193, Training Accuracy= 0.89062\n",
      "Epoch 97, Minibatch Loss= 0.711642, Training Accuracy= 0.89062\n",
      "Epoch 98, Minibatch Loss= 0.672819, Training Accuracy= 0.89062\n",
      "Epoch 99, Minibatch Loss= 0.650143, Training Accuracy= 0.89844\n",
      "Epoch 100, Minibatch Loss= 0.695263, Training Accuracy= 0.88281\n"
     ]
    },
    {
     "data": {
      "text/plain": [
       "<matplotlib.figure.Figure at 0x7fde2411e290>"
      ]
     },
     "metadata": {},
     "output_type": "display_data"
    },
    {
     "data": {
      "image/png": "[encoded data removed]",
      "text/plain": [
       "<matplotlib.figure.Figure at 0x7fde24147350>"
      ]
     },
     "metadata": {},
     "output_type": "display_data"
    },
    {
     "name": "stdout",
     "output_type": "stream",
     "text": [
      "Epoch 101, Minibatch Loss= 0.715137, Training Accuracy= 0.89062\n",
      "Epoch 102, Minibatch Loss= 0.692035, Training Accuracy= 0.89062\n",
      "Epoch 103, Minibatch Loss= 0.668129, Training Accuracy= 0.89844\n",
      "Epoch 104, Minibatch Loss= 0.640137, Training Accuracy= 0.90625\n",
      "Epoch 105, Minibatch Loss= 0.659148, Training Accuracy= 0.86719\n",
      "Epoch 106, Minibatch Loss= 0.644499, Training Accuracy= 0.89844\n",
      "Epoch 107, Minibatch Loss= 0.668547, Training Accuracy= 0.88281\n",
      "Epoch 108, Minibatch Loss= 0.652818, Training Accuracy= 0.89062\n",
      "Epoch 109, Minibatch Loss= 0.643170, Training Accuracy= 0.89062\n",
      "Epoch 110, Minibatch Loss= 0.651622, Training Accuracy= 0.89844\n",
      "Epoch 111, Minibatch Loss= 0.634752, Training Accuracy= 0.88281\n",
      "Epoch 112, Minibatch Loss= 0.630420, Training Accuracy= 0.89844\n",
      "Epoch 113, Minibatch Loss= 0.668513, Training Accuracy= 0.88281\n",
      "Epoch 114, Minibatch Loss= 0.654196, Training Accuracy= 0.90625\n",
      "Epoch 115, Minibatch Loss= 0.659743, Training Accuracy= 0.89062\n",
      "Epoch 116, Minibatch Loss= 0.645165, Training Accuracy= 0.88281\n",
      "Epoch 117, Minibatch Loss= 0.637021, Training Accuracy= 0.88281\n",
      "Epoch 118, Minibatch Loss= 0.629249, Training Accuracy= 0.89844\n",
      "Epoch 119, Minibatch Loss= 0.633707, Training Accuracy= 0.90625\n",
      "Epoch 120, Minibatch Loss= 0.626304, Training Accuracy= 0.88281\n",
      "Epoch 121, Minibatch Loss= 0.630936, Training Accuracy= 0.89844\n",
      "Epoch 122, Minibatch Loss= 0.592155, Training Accuracy= 0.90625\n",
      "Epoch 123, Minibatch Loss= 0.602749, Training Accuracy= 0.89062\n",
      "Epoch 124, Minibatch Loss= 0.612797, Training Accuracy= 0.89844\n",
      "Epoch 125, Minibatch Loss= 0.583261, Training Accuracy= 0.92969\n",
      "Epoch 126, Minibatch Loss= 0.615325, Training Accuracy= 0.92188\n",
      "Epoch 127, Minibatch Loss= 0.597969, Training Accuracy= 0.90625\n",
      "Epoch 128, Minibatch Loss= 0.600426, Training Accuracy= 0.91406\n",
      "Epoch 129, Minibatch Loss= 0.591130, Training Accuracy= 0.90625\n",
      "Epoch 130, Minibatch Loss= 0.570315, Training Accuracy= 0.92969\n",
      "Epoch 131, Minibatch Loss= 0.590400, Training Accuracy= 0.89844\n",
      "Epoch 132, Minibatch Loss= 0.606327, Training Accuracy= 0.91406\n",
      "Epoch 133, Minibatch Loss= 0.616434, Training Accuracy= 0.92188\n",
      "Epoch 134, Minibatch Loss= 0.588565, Training Accuracy= 0.92188\n",
      "Epoch 135, Minibatch Loss= 0.618031, Training Accuracy= 0.92188\n",
      "Epoch 136, Minibatch Loss= 0.591325, Training Accuracy= 0.91406\n",
      "Epoch 137, Minibatch Loss= 0.602977, Training Accuracy= 0.89844\n",
      "Epoch 138, Minibatch Loss= 0.575012, Training Accuracy= 0.92969\n",
      "Epoch 139, Minibatch Loss= 0.577427, Training Accuracy= 0.89844\n",
      "Epoch 140, Minibatch Loss= 0.581169, Training Accuracy= 0.90625\n",
      "Epoch 141, Minibatch Loss= 0.611625, Training Accuracy= 0.91406\n",
      "Epoch 142, Minibatch Loss= 0.572390, Training Accuracy= 0.90625\n",
      "Epoch 143, Minibatch Loss= 0.604207, Training Accuracy= 0.92188\n",
      "Epoch 144, Minibatch Loss= 0.593475, Training Accuracy= 0.92188\n",
      "Epoch 145, Minibatch Loss= 0.540560, Training Accuracy= 0.91406\n",
      "Epoch 146, Minibatch Loss= 0.563498, Training Accuracy= 0.93750\n",
      "Epoch 147, Minibatch Loss= 0.552248, Training Accuracy= 0.93750\n",
      "Epoch 148, Minibatch Loss= 0.556845, Training Accuracy= 0.91406\n",
      "Epoch 149, Minibatch Loss= 0.561980, Training Accuracy= 0.90625\n",
      "Epoch 150, Minibatch Loss= 0.555340, Training Accuracy= 0.90625\n"
     ]
    },
    {
     "data": {
      "text/plain": [
       "<matplotlib.figure.Figure at 0x7fde2415d5d0>"
      ]
     },
     "metadata": {},
     "output_type": "display_data"
    },
    {
     "data": {
      "image/png": "[encoded data removed]",
      "text/plain": [
       "<matplotlib.figure.Figure at 0x7fde24169c50>"
      ]
     },
     "metadata": {},
     "output_type": "display_data"
    },
    {
     "name": "stdout",
     "output_type": "stream",
     "text": [
      "Epoch 151, Minibatch Loss= 0.538965, Training Accuracy= 0.91406\n",
      "Epoch 152, Minibatch Loss= 0.557346, Training Accuracy= 0.90625\n",
      "Epoch 153, Minibatch Loss= 0.560946, Training Accuracy= 0.91406\n",
      "Epoch 154, Minibatch Loss= 0.550614, Training Accuracy= 0.92969\n",
      "Epoch 155, Minibatch Loss= 0.555634, Training Accuracy= 0.92188\n",
      "Epoch 156, Minibatch Loss= 0.588275, Training Accuracy= 0.92188\n",
      "Epoch 157, Minibatch Loss= 0.543597, Training Accuracy= 0.92969\n",
      "Epoch 158, Minibatch Loss= 0.546793, Training Accuracy= 0.92188\n",
      "Epoch 159, Minibatch Loss= 0.549577, Training Accuracy= 0.92969\n",
      "Epoch 160, Minibatch Loss= 0.545699, Training Accuracy= 0.91406\n",
      "Epoch 161, Minibatch Loss= 0.544243, Training Accuracy= 0.92969\n",
      "Epoch 162, Minibatch Loss= 0.546162, Training Accuracy= 0.91406\n",
      "Epoch 163, Minibatch Loss= 0.542206, Training Accuracy= 0.91406\n",
      "Epoch 164, Minibatch Loss= 0.527874, Training Accuracy= 0.90625\n",
      "Epoch 165, Minibatch Loss= 0.533248, Training Accuracy= 0.92969\n",
      "Epoch 166, Minibatch Loss= 0.565103, Training Accuracy= 0.92188\n",
      "Epoch 167, Minibatch Loss= 0.528924, Training Accuracy= 0.93750\n",
      "Epoch 168, Minibatch Loss= 0.543328, Training Accuracy= 0.94531\n",
      "Epoch 169, Minibatch Loss= 0.528090, Training Accuracy= 0.93750\n",
      "Epoch 170, Minibatch Loss= 0.593734, Training Accuracy= 0.91406\n",
      "Epoch 171, Minibatch Loss= 0.546152, Training Accuracy= 0.91406\n",
      "Epoch 172, Minibatch Loss= 0.531084, Training Accuracy= 0.92188\n",
      "Epoch 173, Minibatch Loss= 0.519476, Training Accuracy= 0.92188\n",
      "Epoch 174, Minibatch Loss= 0.530130, Training Accuracy= 0.92188\n",
      "Epoch 175, Minibatch Loss= 0.535577, Training Accuracy= 0.93750\n",
      "Epoch 176, Minibatch Loss= 0.531110, Training Accuracy= 0.93750\n",
      "Epoch 177, Minibatch Loss= 0.510351, Training Accuracy= 0.93750\n",
      "Epoch 178, Minibatch Loss= 0.482838, Training Accuracy= 0.95312\n",
      "Epoch 179, Minibatch Loss= 0.508330, Training Accuracy= 0.92188\n",
      "Epoch 180, Minibatch Loss= 0.547311, Training Accuracy= 0.93750\n",
      "Epoch 181, Minibatch Loss= 0.552897, Training Accuracy= 0.94531\n",
      "Epoch 182, Minibatch Loss= 0.540363, Training Accuracy= 0.92188\n",
      "Epoch 183, Minibatch Loss= 0.551149, Training Accuracy= 0.93750\n",
      "Epoch 184, Minibatch Loss= 0.539052, Training Accuracy= 0.95312\n",
      "Epoch 185, Minibatch Loss= 0.522497, Training Accuracy= 0.92969\n",
      "Epoch 186, Minibatch Loss= 0.520842, Training Accuracy= 0.94531\n",
      "Epoch 187, Minibatch Loss= 0.499961, Training Accuracy= 0.93750\n",
      "Epoch 188, Minibatch Loss= 0.477854, Training Accuracy= 0.94531\n",
      "Epoch 189, Minibatch Loss= 0.499319, Training Accuracy= 0.92969\n",
      "Epoch 190, Minibatch Loss= 0.488989, Training Accuracy= 0.93750\n",
      "Epoch 191, Minibatch Loss= 0.489263, Training Accuracy= 0.92188\n",
      "Epoch 192, Minibatch Loss= 0.509833, Training Accuracy= 0.92188\n",
      "Epoch 193, Minibatch Loss= 0.498686, Training Accuracy= 0.93750\n",
      "Epoch 194, Minibatch Loss= 0.492727, Training Accuracy= 0.95312\n",
      "Epoch 195, Minibatch Loss= 0.500979, Training Accuracy= 0.92969\n",
      "Epoch 196, Minibatch Loss= 0.480418, Training Accuracy= 0.94531\n",
      "Epoch 197, Minibatch Loss= 0.474190, Training Accuracy= 0.95312\n",
      "Epoch 198, Minibatch Loss= 0.514539, Training Accuracy= 0.93750\n",
      "Epoch 199, Minibatch Loss= 0.517044, Training Accuracy= 0.92188\n",
      "Optimization Finished!\n",
      "Testing Accuracy: 0.892179\n"
     ]
    }
   ],
   "source": [
    "import matplotlib.pyplot as plt\n",
    "%matplotlib inline\n",
    "X_train = X_train.reshape(X_train.shape[0],1024)\n",
    "\n",
    "# Launch the graph\n",
    "with tf.Session() as sess:\n",
    "    sess.run(init)\n",
    "  \n",
    "    for epoch in range(training_epochs):\n",
    "        step = 1\n",
    "        # Keep training until reach max iterations\n",
    "        while step * batch_size < training_iters:\n",
    "            batch_xs, batch_ys = X_train[(batch_size*(step-1)):batch_size*(step)],y_train[(batch_size*(step-1)):batch_size*(step)]\n",
    "            # Fit training using batch data\n",
    "            sess.run(optimizer, feed_dict={x: batch_xs, y: batch_ys, keep_prob: dropout})\n",
    "            step += 1\n",
    "        # Calculate batch accuracy\n",
    "        if(epoch%1 == 0):\n",
    "            # Calculate batch loss\n",
    "            acc,conv1filter = sess.run([accuracy,weights['wc1']], feed_dict={x: batch_xs, y: batch_ys, keep_prob: 1.})\n",
    "            loss = sess.run(cost, feed_dict={x: batch_xs, y: batch_ys, keep_prob: 1.})\n",
    "            print \"Epoch \" + str(epoch) + \", Minibatch Loss= \" + \\\n",
    "                          \"{:.6f}\".format(loss) + \", Training Accuracy= \" + \"{:.5f}\".format(acc)\n",
    "        if(epoch%50 == 0):\n",
    "            #acc = sess.run(accuracy, feed_dict={x: batch_xs, y: batch_ys, keep_prob: 1.})\n",
    "            plt.figure()\n",
    "            #plt.matshow(make_mosaic(conv1filter.reshape(9,32).T, 4),cmap=\"gray\")\n",
    "            plt.matshow(conv1filter[:,:,0,1],cmap=\"gray\")\n",
    "            plt.show()\n",
    "            \n",
    "            \n",
    "    print \"Optimization Finished!\"\n",
    "    # Calculate accuracy for 256 mnist test images\n",
    "    print \"Testing Accuracy:\", sess.run(accuracy, feed_dict={x: X_test, \n",
    "                                                                 y: y_test, \n",
    "                                                                 keep_prob: 1.})"
   ]
  },
  {
   "cell_type": "code",
   "execution_count": 26,
   "metadata": {
    "collapsed": false
   },
   "outputs": [
    {
     "data": {
      "text/plain": [
       "<matplotlib.figure.Figure at 0x7fde48641f50>"
      ]
     },
     "metadata": {},
     "output_type": "display_data"
    },
    {
     "data": {
      "image/png": "[encoded data removed]",
      "text/plain": [
       "<matplotlib.figure.Figure at 0x7fde48641f10>"
      ]
     },
     "metadata": {},
     "output_type": "display_data"
    }
   ],
   "source": [
    "plt.figure()\n",
    "plt.matshow(make_mosaic(conv1filter.reshape(25,9).T, 3),cmap=\"gray\")\n",
    "plt.show()"
   ]
  },
  {
   "cell_type": "code",
   "execution_count": null,
   "metadata": {
    "collapsed": true
   },
   "outputs": [],
   "source": []
  }
 ],
 "metadata": {
  "kernelspec": {
   "display_name": "Python 2",
   "language": "python",
   "name": "python2"
  },
  "language_info": {
   "codemirror_mode": {
    "name": "ipython",
    "version": 2
   },
   "file_extension": ".py",
   "mimetype": "text/x-python",
   "name": "python",
   "nbconvert_exporter": "python",
   "pygments_lexer": "ipython2",
   "version": "2.7.11"
  }
 },
 "nbformat": 4,
 "nbformat_minor": 0
}
